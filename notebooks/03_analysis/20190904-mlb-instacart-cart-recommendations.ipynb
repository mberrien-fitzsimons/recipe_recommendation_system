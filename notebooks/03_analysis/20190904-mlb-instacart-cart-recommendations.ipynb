{
 "cells": [
  {
   "cell_type": "markdown",
   "metadata": {},
   "source": [
    "# Instacart Product Recommendation"
   ]
  },
  {
   "cell_type": "markdown",
   "metadata": {},
   "source": [
    "**Source**:\n",
    "\n",
    "* https://medium.com/datadriveninvestor/how-to-build-a-recommendation-system-for-purchase-data-step-by-step-d6d7a78800b6\n",
    "* http://www.moorissatjokro.com/#home\n",
    "* https://towardsdatascience.com/how-to-build-a-simple-recommender-system-in-python-375093c3fb7d\n",
    "* **Possible Algorithm to use**: https://surprise.readthedocs.io/en/stable/co_clustering.html#surprise.prediction_algorithms.co_clustering.CoClustering\n",
    "* **Similairity Models**: https://surprise.readthedocs.io/en/stable/similarities.html\n",
    "* **Association Rule Learning**: https://en.wikipedia.org/wiki/Association_rule_learning"
   ]
  },
  {
   "cell_type": "code",
   "execution_count": 1,
   "metadata": {},
   "outputs": [],
   "source": [
    "%load_ext autoreload\n",
    "%autoreload 2\n",
    "\n",
    "import numpy as np\n",
    "import pandas as pd\n",
    "import time\n",
    "\n",
    "from sklearn.model_selection import train_test_split"
   ]
  },
  {
   "cell_type": "markdown",
   "metadata": {},
   "source": [
    "**Memory-based methods**\n",
    "1. **User-based collaborative filtering**: In this model products are recommended to a user based on the fact that the products have been liked by users similar to the user. For example if Derrick and Dennis like the same movies and a new movie comes out that Derick likes,then we can recommend that movie to Dennis because Derrick and Dennis seem to like the same movies.\n",
    "1. **Item-based collaborative filtering**: These systems identify similar items based on users’ previous ratings. For example if users A,B and C gave a 5 star rating to books X and Y then when a user D buys book Y they also get a recommendation to purchase book X because the system identifies book X and Y as similar based on the ratings of users A,B and C."
   ]
  },
  {
   "cell_type": "markdown",
   "metadata": {},
   "source": [
    "### Let's get the data into a way that can handle it. "
   ]
  },
  {
   "cell_type": "code",
   "execution_count": 2,
   "metadata": {},
   "outputs": [],
   "source": [
    "products = pd.read_csv('../../data/01_raw/instacart_2017_05_01/products.csv')\n",
    "aisles = pd.read_csv('../../data/01_raw/instacart_2017_05_01/aisles.csv')\n",
    "departments = pd.read_csv('../../data/01_raw/instacart_2017_05_01/departments.csv')\n",
    "\n",
    "order_products__prior = pd.read_csv('../../data/01_raw/instacart_2017_05_01/order_products__prior.csv')\n",
    "order_products__train = pd.read_csv('../../data/01_raw/instacart_2017_05_01/order_products__train.csv')\n",
    "order_test = pd.read_csv('../../data/01_raw/instacart_2017_05_01/orders.csv')"
   ]
  },
  {
   "cell_type": "code",
   "execution_count": 3,
   "metadata": {},
   "outputs": [
    {
     "data": {
      "text/plain": [
       "32434489"
      ]
     },
     "execution_count": 3,
     "metadata": {},
     "output_type": "execute_result"
    }
   ],
   "source": [
    "len(order_products__prior)"
   ]
  },
  {
   "cell_type": "code",
   "execution_count": 4,
   "metadata": {},
   "outputs": [],
   "source": [
    "prod_ailes = products.merge(aisles, \n",
    "              how='outer', \n",
    "              on='aisle_id', \n",
    "               suffixes=('_x', '_y')\n",
    "              )"
   ]
  },
  {
   "cell_type": "code",
   "execution_count": 5,
   "metadata": {},
   "outputs": [],
   "source": [
    "product_dataset = prod_ailes.merge(departments, \n",
    "                how='outer', \n",
    "                on='department_id')"
   ]
  },
  {
   "cell_type": "code",
   "execution_count": 6,
   "metadata": {},
   "outputs": [
    {
     "data": {
      "text/html": [
       "<div>\n",
       "<style scoped>\n",
       "    .dataframe tbody tr th:only-of-type {\n",
       "        vertical-align: middle;\n",
       "    }\n",
       "\n",
       "    .dataframe tbody tr th {\n",
       "        vertical-align: top;\n",
       "    }\n",
       "\n",
       "    .dataframe thead th {\n",
       "        text-align: right;\n",
       "    }\n",
       "</style>\n",
       "<table border=\"1\" class=\"dataframe\">\n",
       "  <thead>\n",
       "    <tr style=\"text-align: right;\">\n",
       "      <th></th>\n",
       "      <th>product_id</th>\n",
       "      <th>product_name</th>\n",
       "      <th>aisle_id</th>\n",
       "      <th>department_id</th>\n",
       "      <th>aisle</th>\n",
       "      <th>department</th>\n",
       "    </tr>\n",
       "  </thead>\n",
       "  <tbody>\n",
       "    <tr>\n",
       "      <td>0</td>\n",
       "      <td>1</td>\n",
       "      <td>Chocolate Sandwich Cookies</td>\n",
       "      <td>61</td>\n",
       "      <td>19</td>\n",
       "      <td>cookies cakes</td>\n",
       "      <td>snacks</td>\n",
       "    </tr>\n",
       "    <tr>\n",
       "      <td>1</td>\n",
       "      <td>78</td>\n",
       "      <td>Nutter Butter Cookie Bites Go-Pak</td>\n",
       "      <td>61</td>\n",
       "      <td>19</td>\n",
       "      <td>cookies cakes</td>\n",
       "      <td>snacks</td>\n",
       "    </tr>\n",
       "    <tr>\n",
       "      <td>2</td>\n",
       "      <td>102</td>\n",
       "      <td>Danish Butter Cookies</td>\n",
       "      <td>61</td>\n",
       "      <td>19</td>\n",
       "      <td>cookies cakes</td>\n",
       "      <td>snacks</td>\n",
       "    </tr>\n",
       "    <tr>\n",
       "      <td>3</td>\n",
       "      <td>172</td>\n",
       "      <td>Gluten Free All Natural Chocolate Chip Cookies</td>\n",
       "      <td>61</td>\n",
       "      <td>19</td>\n",
       "      <td>cookies cakes</td>\n",
       "      <td>snacks</td>\n",
       "    </tr>\n",
       "    <tr>\n",
       "      <td>4</td>\n",
       "      <td>285</td>\n",
       "      <td>Mini Nilla Wafers Munch Pack</td>\n",
       "      <td>61</td>\n",
       "      <td>19</td>\n",
       "      <td>cookies cakes</td>\n",
       "      <td>snacks</td>\n",
       "    </tr>\n",
       "  </tbody>\n",
       "</table>\n",
       "</div>"
      ],
      "text/plain": [
       "   product_id                                    product_name  aisle_id  \\\n",
       "0           1                      Chocolate Sandwich Cookies        61   \n",
       "1          78               Nutter Butter Cookie Bites Go-Pak        61   \n",
       "2         102                           Danish Butter Cookies        61   \n",
       "3         172  Gluten Free All Natural Chocolate Chip Cookies        61   \n",
       "4         285                    Mini Nilla Wafers Munch Pack        61   \n",
       "\n",
       "   department_id          aisle department  \n",
       "0             19  cookies cakes     snacks  \n",
       "1             19  cookies cakes     snacks  \n",
       "2             19  cookies cakes     snacks  \n",
       "3             19  cookies cakes     snacks  \n",
       "4             19  cookies cakes     snacks  "
      ]
     },
     "execution_count": 6,
     "metadata": {},
     "output_type": "execute_result"
    }
   ],
   "source": [
    "product_dataset.head()"
   ]
  },
  {
   "cell_type": "markdown",
   "metadata": {},
   "source": [
    "Let's make a dataset that allows us to see what items go with what orders "
   ]
  },
  {
   "cell_type": "code",
   "execution_count": 7,
   "metadata": {},
   "outputs": [],
   "source": [
    "specific_orders = order_products__prior.merge(product_dataset, \n",
    "                how='left', \n",
    "                on='product_id')"
   ]
  },
  {
   "cell_type": "markdown",
   "metadata": {},
   "source": [
    "Now let's add user id information"
   ]
  },
  {
   "cell_type": "code",
   "execution_count": 8,
   "metadata": {},
   "outputs": [],
   "source": [
    "baskets = specific_orders.merge(order_test, \n",
    "                     how='left', \n",
    "                     on='order_id')"
   ]
  },
  {
   "cell_type": "markdown",
   "metadata": {},
   "source": [
    "This dataset is prohibitively large to work with. for right now, let's take a 30% sample and see if it makes the time faster. "
   ]
  },
  {
   "cell_type": "code",
   "execution_count": 9,
   "metadata": {},
   "outputs": [],
   "source": [
    "baskets_samp = baskets.sample(frac=0.3, replace=True, random_state=1)"
   ]
  },
  {
   "cell_type": "markdown",
   "metadata": {},
   "source": [
    "Great, now let's see what we have! "
   ]
  },
  {
   "cell_type": "code",
   "execution_count": 10,
   "metadata": {},
   "outputs": [
    {
     "data": {
      "text/html": [
       "<div>\n",
       "<style scoped>\n",
       "    .dataframe tbody tr th:only-of-type {\n",
       "        vertical-align: middle;\n",
       "    }\n",
       "\n",
       "    .dataframe tbody tr th {\n",
       "        vertical-align: top;\n",
       "    }\n",
       "\n",
       "    .dataframe thead th {\n",
       "        text-align: right;\n",
       "    }\n",
       "</style>\n",
       "<table border=\"1\" class=\"dataframe\">\n",
       "  <thead>\n",
       "    <tr style=\"text-align: right;\">\n",
       "      <th></th>\n",
       "      <th>order_id</th>\n",
       "      <th>product_id</th>\n",
       "      <th>add_to_cart_order</th>\n",
       "      <th>reordered</th>\n",
       "      <th>product_name</th>\n",
       "      <th>aisle_id</th>\n",
       "      <th>department_id</th>\n",
       "      <th>aisle</th>\n",
       "      <th>department</th>\n",
       "      <th>user_id</th>\n",
       "      <th>eval_set</th>\n",
       "      <th>order_number</th>\n",
       "      <th>order_dow</th>\n",
       "      <th>order_hour_of_day</th>\n",
       "      <th>days_since_prior_order</th>\n",
       "    </tr>\n",
       "  </thead>\n",
       "  <tbody>\n",
       "    <tr>\n",
       "      <td>12710949</td>\n",
       "      <td>1341545</td>\n",
       "      <td>5451</td>\n",
       "      <td>14</td>\n",
       "      <td>1</td>\n",
       "      <td>Organic Zucchini Spirals</td>\n",
       "      <td>83</td>\n",
       "      <td>4</td>\n",
       "      <td>fresh vegetables</td>\n",
       "      <td>produce</td>\n",
       "      <td>33844</td>\n",
       "      <td>prior</td>\n",
       "      <td>16</td>\n",
       "      <td>3</td>\n",
       "      <td>14</td>\n",
       "      <td>12.0</td>\n",
       "    </tr>\n",
       "    <tr>\n",
       "      <td>21463275</td>\n",
       "      <td>2263894</td>\n",
       "      <td>16185</td>\n",
       "      <td>4</td>\n",
       "      <td>1</td>\n",
       "      <td>Sharp Cheddar Cheese</td>\n",
       "      <td>21</td>\n",
       "      <td>16</td>\n",
       "      <td>packaged cheese</td>\n",
       "      <td>dairy eggs</td>\n",
       "      <td>171554</td>\n",
       "      <td>prior</td>\n",
       "      <td>5</td>\n",
       "      <td>1</td>\n",
       "      <td>15</td>\n",
       "      <td>5.0</td>\n",
       "    </tr>\n",
       "    <tr>\n",
       "      <td>6762380</td>\n",
       "      <td>713824</td>\n",
       "      <td>5876</td>\n",
       "      <td>3</td>\n",
       "      <td>1</td>\n",
       "      <td>Organic Lemon</td>\n",
       "      <td>24</td>\n",
       "      <td>4</td>\n",
       "      <td>fresh fruits</td>\n",
       "      <td>produce</td>\n",
       "      <td>129024</td>\n",
       "      <td>prior</td>\n",
       "      <td>10</td>\n",
       "      <td>6</td>\n",
       "      <td>9</td>\n",
       "      <td>3.0</td>\n",
       "    </tr>\n",
       "    <tr>\n",
       "      <td>12325960</td>\n",
       "      <td>1301066</td>\n",
       "      <td>6615</td>\n",
       "      <td>9</td>\n",
       "      <td>0</td>\n",
       "      <td>Mozzarella Cheese</td>\n",
       "      <td>21</td>\n",
       "      <td>16</td>\n",
       "      <td>packaged cheese</td>\n",
       "      <td>dairy eggs</td>\n",
       "      <td>164042</td>\n",
       "      <td>prior</td>\n",
       "      <td>4</td>\n",
       "      <td>0</td>\n",
       "      <td>21</td>\n",
       "      <td>30.0</td>\n",
       "    </tr>\n",
       "    <tr>\n",
       "      <td>491263</td>\n",
       "      <td>51941</td>\n",
       "      <td>18465</td>\n",
       "      <td>18</td>\n",
       "      <td>0</td>\n",
       "      <td>Organic Grade A Free Range Large Brown Eggs</td>\n",
       "      <td>86</td>\n",
       "      <td>16</td>\n",
       "      <td>eggs</td>\n",
       "      <td>dairy eggs</td>\n",
       "      <td>158657</td>\n",
       "      <td>prior</td>\n",
       "      <td>1</td>\n",
       "      <td>1</td>\n",
       "      <td>11</td>\n",
       "      <td>NaN</td>\n",
       "    </tr>\n",
       "  </tbody>\n",
       "</table>\n",
       "</div>"
      ],
      "text/plain": [
       "          order_id  product_id  add_to_cart_order  reordered  \\\n",
       "12710949   1341545        5451                 14          1   \n",
       "21463275   2263894       16185                  4          1   \n",
       "6762380     713824        5876                  3          1   \n",
       "12325960   1301066        6615                  9          0   \n",
       "491263       51941       18465                 18          0   \n",
       "\n",
       "                                         product_name  aisle_id  \\\n",
       "12710949                     Organic Zucchini Spirals        83   \n",
       "21463275                         Sharp Cheddar Cheese        21   \n",
       "6762380                                 Organic Lemon        24   \n",
       "12325960                            Mozzarella Cheese        21   \n",
       "491263    Organic Grade A Free Range Large Brown Eggs        86   \n",
       "\n",
       "          department_id             aisle  department  user_id eval_set  \\\n",
       "12710949              4  fresh vegetables     produce    33844    prior   \n",
       "21463275             16   packaged cheese  dairy eggs   171554    prior   \n",
       "6762380               4      fresh fruits     produce   129024    prior   \n",
       "12325960             16   packaged cheese  dairy eggs   164042    prior   \n",
       "491263               16              eggs  dairy eggs   158657    prior   \n",
       "\n",
       "          order_number  order_dow  order_hour_of_day  days_since_prior_order  \n",
       "12710949            16          3                 14                    12.0  \n",
       "21463275             5          1                 15                     5.0  \n",
       "6762380             10          6                  9                     3.0  \n",
       "12325960             4          0                 21                    30.0  \n",
       "491263               1          1                 11                     NaN  "
      ]
     },
     "execution_count": 10,
     "metadata": {},
     "output_type": "execute_result"
    }
   ],
   "source": [
    "baskets_samp.head()"
   ]
  },
  {
   "cell_type": "markdown",
   "metadata": {},
   "source": [
    "Our data consists of over 200K unique users making orders and over 3 million unique orders. "
   ]
  },
  {
   "cell_type": "code",
   "execution_count": 11,
   "metadata": {},
   "outputs": [
    {
     "data": {
      "text/plain": [
       "205091"
      ]
     },
     "execution_count": 11,
     "metadata": {},
     "output_type": "execute_result"
    }
   ],
   "source": [
    "baskets_samp.user_id.nunique()"
   ]
  },
  {
   "cell_type": "code",
   "execution_count": 12,
   "metadata": {},
   "outputs": [
    {
     "data": {
      "text/plain": [
       "2674092"
      ]
     },
     "execution_count": 12,
     "metadata": {},
     "output_type": "execute_result"
    }
   ],
   "source": [
    "baskets_samp.order_id.nunique()"
   ]
  },
  {
   "cell_type": "markdown",
   "metadata": {},
   "source": [
    "Let's take a look at the types of products we have"
   ]
  },
  {
   "cell_type": "code",
   "execution_count": 13,
   "metadata": {},
   "outputs": [
    {
     "data": {
      "text/plain": [
       "47973"
      ]
     },
     "execution_count": 13,
     "metadata": {},
     "output_type": "execute_result"
    }
   ],
   "source": [
    "# 50k unique products\n",
    "baskets_samp.product_name.nunique()"
   ]
  },
  {
   "cell_type": "markdown",
   "metadata": {},
   "source": [
    "How many times does each user appear in the dataset? "
   ]
  },
  {
   "cell_type": "code",
   "execution_count": 14,
   "metadata": {},
   "outputs": [
    {
     "data": {
      "text/plain": [
       "Index(['order_id', 'product_id', 'add_to_cart_order', 'reordered',\n",
       "       'product_name', 'aisle_id', 'department_id', 'aisle', 'department',\n",
       "       'user_id', 'eval_set', 'order_number', 'order_dow', 'order_hour_of_day',\n",
       "       'days_since_prior_order'],\n",
       "      dtype='object')"
      ]
     },
     "execution_count": 14,
     "metadata": {},
     "output_type": "execute_result"
    }
   ],
   "source": [
    "baskets_samp.columns"
   ]
  },
  {
   "cell_type": "markdown",
   "metadata": {},
   "source": [
    "As we can see, we have over 200K different people making purchases at different frequencies and different amounts. "
   ]
  },
  {
   "cell_type": "code",
   "execution_count": 15,
   "metadata": {},
   "outputs": [
    {
     "data": {
      "text/html": [
       "<div>\n",
       "<style scoped>\n",
       "    .dataframe tbody tr th:only-of-type {\n",
       "        vertical-align: middle;\n",
       "    }\n",
       "\n",
       "    .dataframe tbody tr th {\n",
       "        vertical-align: top;\n",
       "    }\n",
       "\n",
       "    .dataframe thead th {\n",
       "        text-align: right;\n",
       "    }\n",
       "</style>\n",
       "<table border=\"1\" class=\"dataframe\">\n",
       "  <thead>\n",
       "    <tr style=\"text-align: right;\">\n",
       "      <th></th>\n",
       "      <th></th>\n",
       "      <th>product_id</th>\n",
       "      <th>add_to_cart_order</th>\n",
       "      <th>reordered</th>\n",
       "      <th>product_name</th>\n",
       "      <th>aisle_id</th>\n",
       "      <th>department_id</th>\n",
       "      <th>aisle</th>\n",
       "      <th>department</th>\n",
       "      <th>eval_set</th>\n",
       "      <th>order_number</th>\n",
       "      <th>order_dow</th>\n",
       "      <th>order_hour_of_day</th>\n",
       "      <th>days_since_prior_order</th>\n",
       "    </tr>\n",
       "    <tr>\n",
       "      <th>user_id</th>\n",
       "      <th>order_id</th>\n",
       "      <th></th>\n",
       "      <th></th>\n",
       "      <th></th>\n",
       "      <th></th>\n",
       "      <th></th>\n",
       "      <th></th>\n",
       "      <th></th>\n",
       "      <th></th>\n",
       "      <th></th>\n",
       "      <th></th>\n",
       "      <th></th>\n",
       "      <th></th>\n",
       "      <th></th>\n",
       "    </tr>\n",
       "  </thead>\n",
       "  <tbody>\n",
       "    <tr>\n",
       "      <td rowspan=\"5\" valign=\"top\">1</td>\n",
       "      <td>431534</td>\n",
       "      <td>2</td>\n",
       "      <td>2</td>\n",
       "      <td>2</td>\n",
       "      <td>2</td>\n",
       "      <td>2</td>\n",
       "      <td>2</td>\n",
       "      <td>2</td>\n",
       "      <td>2</td>\n",
       "      <td>2</td>\n",
       "      <td>2</td>\n",
       "      <td>2</td>\n",
       "      <td>2</td>\n",
       "      <td>2</td>\n",
       "    </tr>\n",
       "    <tr>\n",
       "      <td>473747</td>\n",
       "      <td>1</td>\n",
       "      <td>1</td>\n",
       "      <td>1</td>\n",
       "      <td>1</td>\n",
       "      <td>1</td>\n",
       "      <td>1</td>\n",
       "      <td>1</td>\n",
       "      <td>1</td>\n",
       "      <td>1</td>\n",
       "      <td>1</td>\n",
       "      <td>1</td>\n",
       "      <td>1</td>\n",
       "      <td>1</td>\n",
       "    </tr>\n",
       "    <tr>\n",
       "      <td>550135</td>\n",
       "      <td>3</td>\n",
       "      <td>3</td>\n",
       "      <td>3</td>\n",
       "      <td>3</td>\n",
       "      <td>3</td>\n",
       "      <td>3</td>\n",
       "      <td>3</td>\n",
       "      <td>3</td>\n",
       "      <td>3</td>\n",
       "      <td>3</td>\n",
       "      <td>3</td>\n",
       "      <td>3</td>\n",
       "      <td>3</td>\n",
       "    </tr>\n",
       "    <tr>\n",
       "      <td>2254736</td>\n",
       "      <td>1</td>\n",
       "      <td>1</td>\n",
       "      <td>1</td>\n",
       "      <td>1</td>\n",
       "      <td>1</td>\n",
       "      <td>1</td>\n",
       "      <td>1</td>\n",
       "      <td>1</td>\n",
       "      <td>1</td>\n",
       "      <td>1</td>\n",
       "      <td>1</td>\n",
       "      <td>1</td>\n",
       "      <td>1</td>\n",
       "    </tr>\n",
       "    <tr>\n",
       "      <td>2295261</td>\n",
       "      <td>1</td>\n",
       "      <td>1</td>\n",
       "      <td>1</td>\n",
       "      <td>1</td>\n",
       "      <td>1</td>\n",
       "      <td>1</td>\n",
       "      <td>1</td>\n",
       "      <td>1</td>\n",
       "      <td>1</td>\n",
       "      <td>1</td>\n",
       "      <td>1</td>\n",
       "      <td>1</td>\n",
       "      <td>1</td>\n",
       "    </tr>\n",
       "    <tr>\n",
       "      <td>...</td>\n",
       "      <td>...</td>\n",
       "      <td>...</td>\n",
       "      <td>...</td>\n",
       "      <td>...</td>\n",
       "      <td>...</td>\n",
       "      <td>...</td>\n",
       "      <td>...</td>\n",
       "      <td>...</td>\n",
       "      <td>...</td>\n",
       "      <td>...</td>\n",
       "      <td>...</td>\n",
       "      <td>...</td>\n",
       "      <td>...</td>\n",
       "      <td>...</td>\n",
       "    </tr>\n",
       "    <tr>\n",
       "      <td rowspan=\"5\" valign=\"top\">206209</td>\n",
       "      <td>2129269</td>\n",
       "      <td>4</td>\n",
       "      <td>4</td>\n",
       "      <td>4</td>\n",
       "      <td>4</td>\n",
       "      <td>4</td>\n",
       "      <td>4</td>\n",
       "      <td>4</td>\n",
       "      <td>4</td>\n",
       "      <td>4</td>\n",
       "      <td>4</td>\n",
       "      <td>4</td>\n",
       "      <td>4</td>\n",
       "      <td>4</td>\n",
       "    </tr>\n",
       "    <tr>\n",
       "      <td>2266710</td>\n",
       "      <td>4</td>\n",
       "      <td>4</td>\n",
       "      <td>4</td>\n",
       "      <td>4</td>\n",
       "      <td>4</td>\n",
       "      <td>4</td>\n",
       "      <td>4</td>\n",
       "      <td>4</td>\n",
       "      <td>4</td>\n",
       "      <td>4</td>\n",
       "      <td>4</td>\n",
       "      <td>4</td>\n",
       "      <td>4</td>\n",
       "    </tr>\n",
       "    <tr>\n",
       "      <td>2558525</td>\n",
       "      <td>3</td>\n",
       "      <td>3</td>\n",
       "      <td>3</td>\n",
       "      <td>3</td>\n",
       "      <td>3</td>\n",
       "      <td>3</td>\n",
       "      <td>3</td>\n",
       "      <td>3</td>\n",
       "      <td>3</td>\n",
       "      <td>3</td>\n",
       "      <td>3</td>\n",
       "      <td>3</td>\n",
       "      <td>3</td>\n",
       "    </tr>\n",
       "    <tr>\n",
       "      <td>2977660</td>\n",
       "      <td>1</td>\n",
       "      <td>1</td>\n",
       "      <td>1</td>\n",
       "      <td>1</td>\n",
       "      <td>1</td>\n",
       "      <td>1</td>\n",
       "      <td>1</td>\n",
       "      <td>1</td>\n",
       "      <td>1</td>\n",
       "      <td>1</td>\n",
       "      <td>1</td>\n",
       "      <td>1</td>\n",
       "      <td>1</td>\n",
       "    </tr>\n",
       "    <tr>\n",
       "      <td>3154581</td>\n",
       "      <td>2</td>\n",
       "      <td>2</td>\n",
       "      <td>2</td>\n",
       "      <td>2</td>\n",
       "      <td>2</td>\n",
       "      <td>2</td>\n",
       "      <td>2</td>\n",
       "      <td>2</td>\n",
       "      <td>2</td>\n",
       "      <td>2</td>\n",
       "      <td>2</td>\n",
       "      <td>2</td>\n",
       "      <td>0</td>\n",
       "    </tr>\n",
       "  </tbody>\n",
       "</table>\n",
       "<p>2674092 rows × 13 columns</p>\n",
       "</div>"
      ],
      "text/plain": [
       "                  product_id  add_to_cart_order  reordered  product_name  \\\n",
       "user_id order_id                                                           \n",
       "1       431534             2                  2          2             2   \n",
       "        473747             1                  1          1             1   \n",
       "        550135             3                  3          3             3   \n",
       "        2254736            1                  1          1             1   \n",
       "        2295261            1                  1          1             1   \n",
       "...                      ...                ...        ...           ...   \n",
       "206209  2129269            4                  4          4             4   \n",
       "        2266710            4                  4          4             4   \n",
       "        2558525            3                  3          3             3   \n",
       "        2977660            1                  1          1             1   \n",
       "        3154581            2                  2          2             2   \n",
       "\n",
       "                  aisle_id  department_id  aisle  department  eval_set  \\\n",
       "user_id order_id                                                         \n",
       "1       431534           2              2      2           2         2   \n",
       "        473747           1              1      1           1         1   \n",
       "        550135           3              3      3           3         3   \n",
       "        2254736          1              1      1           1         1   \n",
       "        2295261          1              1      1           1         1   \n",
       "...                    ...            ...    ...         ...       ...   \n",
       "206209  2129269          4              4      4           4         4   \n",
       "        2266710          4              4      4           4         4   \n",
       "        2558525          3              3      3           3         3   \n",
       "        2977660          1              1      1           1         1   \n",
       "        3154581          2              2      2           2         2   \n",
       "\n",
       "                  order_number  order_dow  order_hour_of_day  \\\n",
       "user_id order_id                                               \n",
       "1       431534               2          2                  2   \n",
       "        473747               1          1                  1   \n",
       "        550135               3          3                  3   \n",
       "        2254736              1          1                  1   \n",
       "        2295261              1          1                  1   \n",
       "...                        ...        ...                ...   \n",
       "206209  2129269              4          4                  4   \n",
       "        2266710              4          4                  4   \n",
       "        2558525              3          3                  3   \n",
       "        2977660              1          1                  1   \n",
       "        3154581              2          2                  2   \n",
       "\n",
       "                  days_since_prior_order  \n",
       "user_id order_id                          \n",
       "1       431534                         2  \n",
       "        473747                         1  \n",
       "        550135                         3  \n",
       "        2254736                        1  \n",
       "        2295261                        1  \n",
       "...                                  ...  \n",
       "206209  2129269                        4  \n",
       "        2266710                        4  \n",
       "        2558525                        3  \n",
       "        2977660                        1  \n",
       "        3154581                        0  \n",
       "\n",
       "[2674092 rows x 13 columns]"
      ]
     },
     "execution_count": 15,
     "metadata": {},
     "output_type": "execute_result"
    }
   ],
   "source": [
    "baskets_samp.groupby(['user_id', 'order_id']).count()"
   ]
  },
  {
   "cell_type": "markdown",
   "metadata": {},
   "source": [
    "Let's re-arrange the columns in another order"
   ]
  },
  {
   "cell_type": "code",
   "execution_count": 16,
   "metadata": {},
   "outputs": [],
   "source": [
    "baskets_samp = baskets_samp[['user_id', 'order_id', 'product_name', \n",
    "                             'product_id', 'days_since_prior_order', \n",
    "                             'add_to_cart_order', 'reordered', 'aisle_id', \n",
    "                             'department_id', 'aisle', 'department', \n",
    "                             'eval_set', 'order_number', 'order_dow', \n",
    "                             'order_hour_of_day']]"
   ]
  },
  {
   "cell_type": "markdown",
   "metadata": {},
   "source": [
    "There are some interesting columns that we don't need\n",
    "1. add to cart order\n",
    "1. aile_id\n",
    "1. depaertment_id\n",
    "1. aisle\n",
    "1. eval_set\n",
    "1. order_number\n",
    "1. order_dow\n",
    "1. hour of the day\n",
    " "
   ]
  },
  {
   "cell_type": "code",
   "execution_count": 19,
   "metadata": {},
   "outputs": [
    {
     "name": "stderr",
     "output_type": "stream",
     "text": [
      "/Users/markishab/venv/capstone/lib/python3.7/site-packages/pandas/core/frame.py:4102: SettingWithCopyWarning: \n",
      "A value is trying to be set on a copy of a slice from a DataFrame\n",
      "\n",
      "See the caveats in the documentation: http://pandas.pydata.org/pandas-docs/stable/user_guide/indexing.html#returning-a-view-versus-a-copy\n",
      "  errors=errors,\n"
     ]
    }
   ],
   "source": [
    "baskets_samp.drop(columns = ['add_to_cart_order', 'reordered', 'aisle_id', \n",
    "                        'department_id', 'aisle', 'eval_set', 'order_number', \n",
    "                        'order_dow', 'order_hour_of_day'], inplace=True)"
   ]
  },
  {
   "cell_type": "code",
   "execution_count": 20,
   "metadata": {},
   "outputs": [
    {
     "name": "stderr",
     "output_type": "stream",
     "text": [
      "/Users/markishab/venv/capstone/lib/python3.7/site-packages/ipykernel_launcher.py:1: SettingWithCopyWarning: \n",
      "A value is trying to be set on a copy of a slice from a DataFrame\n",
      "\n",
      "See the caveats in the documentation: http://pandas.pydata.org/pandas-docs/stable/user_guide/indexing.html#returning-a-view-versus-a-copy\n",
      "  \"\"\"Entry point for launching an IPython kernel.\n"
     ]
    }
   ],
   "source": [
    "baskets_samp.sort_values(by=['order_id'], inplace=True)"
   ]
  },
  {
   "cell_type": "markdown",
   "metadata": {},
   "source": [
    "## Similarity Modules as Recommendation Engine"
   ]
  },
  {
   "cell_type": "markdown",
   "metadata": {},
   "source": [
    "Source: https://surprise.readthedocs.io/en/stable/similarities.html"
   ]
  },
  {
   "cell_type": "markdown",
   "metadata": {},
   "source": [
    "### Put the data in the correct format"
   ]
  },
  {
   "cell_type": "markdown",
   "metadata": {},
   "source": [
    "#### Get rid of all non-food items "
   ]
  },
  {
   "cell_type": "code",
   "execution_count": 21,
   "metadata": {},
   "outputs": [
    {
     "data": {
      "text/plain": [
       "array(['pantry', 'dairy eggs', 'meat seafood', 'breakfast', 'beverages',\n",
       "       'produce', 'deli', 'snacks', 'household', 'dry goods pasta',\n",
       "       'bakery', 'canned goods', 'frozen', 'personal care',\n",
       "       'international', 'bulk', 'pets', 'missing', 'babies', 'alcohol',\n",
       "       'other'], dtype=object)"
      ]
     },
     "execution_count": 21,
     "metadata": {},
     "output_type": "execute_result"
    }
   ],
   "source": [
    "baskets_samp.department.unique()"
   ]
  },
  {
   "cell_type": "markdown",
   "metadata": {},
   "source": [
    "Personal care, household, babies and pets are obvious ones we should get rid of. let's take a look at the categories \"other\" and \"missing\" before we drop them. "
   ]
  },
  {
   "cell_type": "code",
   "execution_count": 22,
   "metadata": {},
   "outputs": [
    {
     "data": {
      "text/html": [
       "<div>\n",
       "<style scoped>\n",
       "    .dataframe tbody tr th:only-of-type {\n",
       "        vertical-align: middle;\n",
       "    }\n",
       "\n",
       "    .dataframe tbody tr th {\n",
       "        vertical-align: top;\n",
       "    }\n",
       "\n",
       "    .dataframe thead th {\n",
       "        text-align: right;\n",
       "    }\n",
       "</style>\n",
       "<table border=\"1\" class=\"dataframe\">\n",
       "  <thead>\n",
       "    <tr style=\"text-align: right;\">\n",
       "      <th></th>\n",
       "      <th>user_id</th>\n",
       "      <th>order_id</th>\n",
       "      <th>product_name</th>\n",
       "      <th>product_id</th>\n",
       "      <th>days_since_prior_order</th>\n",
       "      <th>department</th>\n",
       "    </tr>\n",
       "  </thead>\n",
       "  <tbody>\n",
       "    <tr>\n",
       "      <td>11214</td>\n",
       "      <td>191063</td>\n",
       "      <td>1160</td>\n",
       "      <td>Detox, Bentonite, Great Plains</td>\n",
       "      <td>34907</td>\n",
       "      <td>3.0</td>\n",
       "      <td>other</td>\n",
       "    </tr>\n",
       "    <tr>\n",
       "      <td>11214</td>\n",
       "      <td>191063</td>\n",
       "      <td>1160</td>\n",
       "      <td>Detox, Bentonite, Great Plains</td>\n",
       "      <td>34907</td>\n",
       "      <td>3.0</td>\n",
       "      <td>other</td>\n",
       "    </tr>\n",
       "    <tr>\n",
       "      <td>11920</td>\n",
       "      <td>77115</td>\n",
       "      <td>1238</td>\n",
       "      <td>Max AAA Batteries</td>\n",
       "      <td>44931</td>\n",
       "      <td>8.0</td>\n",
       "      <td>other</td>\n",
       "    </tr>\n",
       "    <tr>\n",
       "      <td>14363</td>\n",
       "      <td>22698</td>\n",
       "      <td>1504</td>\n",
       "      <td>Tulips</td>\n",
       "      <td>45884</td>\n",
       "      <td>8.0</td>\n",
       "      <td>other</td>\n",
       "    </tr>\n",
       "    <tr>\n",
       "      <td>17817</td>\n",
       "      <td>99220</td>\n",
       "      <td>1876</td>\n",
       "      <td>Roasted Almond Butter</td>\n",
       "      <td>38662</td>\n",
       "      <td>30.0</td>\n",
       "      <td>other</td>\n",
       "    </tr>\n",
       "    <tr>\n",
       "      <td>...</td>\n",
       "      <td>...</td>\n",
       "      <td>...</td>\n",
       "      <td>...</td>\n",
       "      <td>...</td>\n",
       "      <td>...</td>\n",
       "      <td>...</td>\n",
       "    </tr>\n",
       "    <tr>\n",
       "      <td>32414533</td>\n",
       "      <td>158409</td>\n",
       "      <td>3419015</td>\n",
       "      <td>Cotes De Provence</td>\n",
       "      <td>3622</td>\n",
       "      <td>4.0</td>\n",
       "      <td>other</td>\n",
       "    </tr>\n",
       "    <tr>\n",
       "      <td>32414812</td>\n",
       "      <td>61455</td>\n",
       "      <td>3419048</td>\n",
       "      <td>Oral Electrolyte Powder Assorted Flavors</td>\n",
       "      <td>13608</td>\n",
       "      <td>1.0</td>\n",
       "      <td>other</td>\n",
       "    </tr>\n",
       "    <tr>\n",
       "      <td>32426211</td>\n",
       "      <td>190400</td>\n",
       "      <td>3420233</td>\n",
       "      <td>93/7 Ground Beef</td>\n",
       "      <td>32115</td>\n",
       "      <td>4.0</td>\n",
       "      <td>other</td>\n",
       "    </tr>\n",
       "    <tr>\n",
       "      <td>32426944</td>\n",
       "      <td>68487</td>\n",
       "      <td>3420306</td>\n",
       "      <td>Margarita Salt</td>\n",
       "      <td>27371</td>\n",
       "      <td>NaN</td>\n",
       "      <td>other</td>\n",
       "    </tr>\n",
       "    <tr>\n",
       "      <td>32433512</td>\n",
       "      <td>109561</td>\n",
       "      <td>3420977</td>\n",
       "      <td>Coffee Mate French Vanilla Creamer Packets</td>\n",
       "      <td>39461</td>\n",
       "      <td>16.0</td>\n",
       "      <td>other</td>\n",
       "    </tr>\n",
       "  </tbody>\n",
       "</table>\n",
       "<p>10821 rows × 6 columns</p>\n",
       "</div>"
      ],
      "text/plain": [
       "          user_id  order_id                                product_name  \\\n",
       "11214      191063      1160              Detox, Bentonite, Great Plains   \n",
       "11214      191063      1160              Detox, Bentonite, Great Plains   \n",
       "11920       77115      1238                           Max AAA Batteries   \n",
       "14363       22698      1504                                      Tulips   \n",
       "17817       99220      1876                       Roasted Almond Butter   \n",
       "...           ...       ...                                         ...   \n",
       "32414533   158409   3419015                           Cotes De Provence   \n",
       "32414812    61455   3419048    Oral Electrolyte Powder Assorted Flavors   \n",
       "32426211   190400   3420233                            93/7 Ground Beef   \n",
       "32426944    68487   3420306                              Margarita Salt   \n",
       "32433512   109561   3420977  Coffee Mate French Vanilla Creamer Packets   \n",
       "\n",
       "          product_id  days_since_prior_order department  \n",
       "11214          34907                     3.0      other  \n",
       "11214          34907                     3.0      other  \n",
       "11920          44931                     8.0      other  \n",
       "14363          45884                     8.0      other  \n",
       "17817          38662                    30.0      other  \n",
       "...              ...                     ...        ...  \n",
       "32414533        3622                     4.0      other  \n",
       "32414812       13608                     1.0      other  \n",
       "32426211       32115                     4.0      other  \n",
       "32426944       27371                     NaN      other  \n",
       "32433512       39461                    16.0      other  \n",
       "\n",
       "[10821 rows x 6 columns]"
      ]
     },
     "execution_count": 22,
     "metadata": {},
     "output_type": "execute_result"
    }
   ],
   "source": [
    "baskets_samp.loc[baskets_samp['department']=='other']"
   ]
  },
  {
   "cell_type": "code",
   "execution_count": 23,
   "metadata": {},
   "outputs": [
    {
     "data": {
      "text/html": [
       "<div>\n",
       "<style scoped>\n",
       "    .dataframe tbody tr th:only-of-type {\n",
       "        vertical-align: middle;\n",
       "    }\n",
       "\n",
       "    .dataframe tbody tr th {\n",
       "        vertical-align: top;\n",
       "    }\n",
       "\n",
       "    .dataframe thead th {\n",
       "        text-align: right;\n",
       "    }\n",
       "</style>\n",
       "<table border=\"1\" class=\"dataframe\">\n",
       "  <thead>\n",
       "    <tr style=\"text-align: right;\">\n",
       "      <th></th>\n",
       "      <th>user_id</th>\n",
       "      <th>order_id</th>\n",
       "      <th>product_name</th>\n",
       "      <th>product_id</th>\n",
       "      <th>days_since_prior_order</th>\n",
       "      <th>department</th>\n",
       "    </tr>\n",
       "  </thead>\n",
       "  <tbody>\n",
       "    <tr>\n",
       "      <td>1420</td>\n",
       "      <td>73310</td>\n",
       "      <td>154</td>\n",
       "      <td>Paleo Blueberry Muffin</td>\n",
       "      <td>11806</td>\n",
       "      <td>0.0</td>\n",
       "      <td>missing</td>\n",
       "    </tr>\n",
       "    <tr>\n",
       "      <td>3975</td>\n",
       "      <td>161762</td>\n",
       "      <td>420</td>\n",
       "      <td>Organic Poblano Pepper</td>\n",
       "      <td>7456</td>\n",
       "      <td>2.0</td>\n",
       "      <td>missing</td>\n",
       "    </tr>\n",
       "    <tr>\n",
       "      <td>8556</td>\n",
       "      <td>1264</td>\n",
       "      <td>889</td>\n",
       "      <td>Organic Pineapple Cottage Cheese</td>\n",
       "      <td>47105</td>\n",
       "      <td>4.0</td>\n",
       "      <td>missing</td>\n",
       "    </tr>\n",
       "    <tr>\n",
       "      <td>9978</td>\n",
       "      <td>136972</td>\n",
       "      <td>1019</td>\n",
       "      <td>Soft &amp; Chewy Strawberry Newtons</td>\n",
       "      <td>30052</td>\n",
       "      <td>9.0</td>\n",
       "      <td>missing</td>\n",
       "    </tr>\n",
       "    <tr>\n",
       "      <td>12585</td>\n",
       "      <td>125432</td>\n",
       "      <td>1301</td>\n",
       "      <td>Green Lemonade</td>\n",
       "      <td>48551</td>\n",
       "      <td>7.0</td>\n",
       "      <td>missing</td>\n",
       "    </tr>\n",
       "    <tr>\n",
       "      <td>...</td>\n",
       "      <td>...</td>\n",
       "      <td>...</td>\n",
       "      <td>...</td>\n",
       "      <td>...</td>\n",
       "      <td>...</td>\n",
       "      <td>...</td>\n",
       "    </tr>\n",
       "    <tr>\n",
       "      <td>32430726</td>\n",
       "      <td>31550</td>\n",
       "      <td>3420689</td>\n",
       "      <td>Fruit &amp; Nut Bar, Dark Chocolate &amp; Cherry Cashew</td>\n",
       "      <td>34347</td>\n",
       "      <td>2.0</td>\n",
       "      <td>missing</td>\n",
       "    </tr>\n",
       "    <tr>\n",
       "      <td>32430726</td>\n",
       "      <td>31550</td>\n",
       "      <td>3420689</td>\n",
       "      <td>Fruit &amp; Nut Bar, Dark Chocolate &amp; Cherry Cashew</td>\n",
       "      <td>34347</td>\n",
       "      <td>2.0</td>\n",
       "      <td>missing</td>\n",
       "    </tr>\n",
       "    <tr>\n",
       "      <td>32431312</td>\n",
       "      <td>149798</td>\n",
       "      <td>3420747</td>\n",
       "      <td>Plain Organic Grassmilk Yogurt Cup</td>\n",
       "      <td>27767</td>\n",
       "      <td>4.0</td>\n",
       "      <td>missing</td>\n",
       "    </tr>\n",
       "    <tr>\n",
       "      <td>32434240</td>\n",
       "      <td>206030</td>\n",
       "      <td>3421050</td>\n",
       "      <td>Organic Riced Cauliflower</td>\n",
       "      <td>41149</td>\n",
       "      <td>5.0</td>\n",
       "      <td>missing</td>\n",
       "    </tr>\n",
       "    <tr>\n",
       "      <td>32434315</td>\n",
       "      <td>79937</td>\n",
       "      <td>3421059</td>\n",
       "      <td>Organic Sweet Potato (Yam)</td>\n",
       "      <td>15795</td>\n",
       "      <td>30.0</td>\n",
       "      <td>missing</td>\n",
       "    </tr>\n",
       "  </tbody>\n",
       "</table>\n",
       "<p>20678 rows × 6 columns</p>\n",
       "</div>"
      ],
      "text/plain": [
       "          user_id  order_id                                     product_name  \\\n",
       "1420        73310       154                           Paleo Blueberry Muffin   \n",
       "3975       161762       420                           Organic Poblano Pepper   \n",
       "8556         1264       889                 Organic Pineapple Cottage Cheese   \n",
       "9978       136972      1019                  Soft & Chewy Strawberry Newtons   \n",
       "12585      125432      1301                                   Green Lemonade   \n",
       "...           ...       ...                                              ...   \n",
       "32430726    31550   3420689  Fruit & Nut Bar, Dark Chocolate & Cherry Cashew   \n",
       "32430726    31550   3420689  Fruit & Nut Bar, Dark Chocolate & Cherry Cashew   \n",
       "32431312   149798   3420747               Plain Organic Grassmilk Yogurt Cup   \n",
       "32434240   206030   3421050                        Organic Riced Cauliflower   \n",
       "32434315    79937   3421059                       Organic Sweet Potato (Yam)   \n",
       "\n",
       "          product_id  days_since_prior_order department  \n",
       "1420           11806                     0.0    missing  \n",
       "3975            7456                     2.0    missing  \n",
       "8556           47105                     4.0    missing  \n",
       "9978           30052                     9.0    missing  \n",
       "12585          48551                     7.0    missing  \n",
       "...              ...                     ...        ...  \n",
       "32430726       34347                     2.0    missing  \n",
       "32430726       34347                     2.0    missing  \n",
       "32431312       27767                     4.0    missing  \n",
       "32434240       41149                     5.0    missing  \n",
       "32434315       15795                    30.0    missing  \n",
       "\n",
       "[20678 rows x 6 columns]"
      ]
     },
     "execution_count": 23,
     "metadata": {},
     "output_type": "execute_result"
    }
   ],
   "source": [
    "baskets_samp.loc[baskets_samp['department']=='missing']"
   ]
  },
  {
   "cell_type": "markdown",
   "metadata": {},
   "source": [
    "Looks like the other and missing categories contain a lot of food items. Let's keep them for now and only drop the ones that we know we will not use. "
   ]
  },
  {
   "cell_type": "code",
   "execution_count": 26,
   "metadata": {},
   "outputs": [],
   "source": [
    "baskets_food_samp = baskets_samp.loc[(baskets_samp['department']!='personal care')|\n",
    "                                      (baskets_samp['department']!='household')|\n",
    "                                      (baskets_samp['department']!='babies')|\n",
    "                                      (baskets_samp['department']!='pets')|\n",
    "                                      (baskets_samp['department']!='other')]"
   ]
  },
  {
   "cell_type": "markdown",
   "metadata": {},
   "source": [
    "### Drop additional columns that are not needed for this algorithm "
   ]
  },
  {
   "cell_type": "code",
   "execution_count": 27,
   "metadata": {},
   "outputs": [
    {
     "data": {
      "text/html": [
       "<div>\n",
       "<style scoped>\n",
       "    .dataframe tbody tr th:only-of-type {\n",
       "        vertical-align: middle;\n",
       "    }\n",
       "\n",
       "    .dataframe tbody tr th {\n",
       "        vertical-align: top;\n",
       "    }\n",
       "\n",
       "    .dataframe thead th {\n",
       "        text-align: right;\n",
       "    }\n",
       "</style>\n",
       "<table border=\"1\" class=\"dataframe\">\n",
       "  <thead>\n",
       "    <tr style=\"text-align: right;\">\n",
       "      <th></th>\n",
       "      <th>user_id</th>\n",
       "      <th>order_id</th>\n",
       "      <th>product_name</th>\n",
       "      <th>product_id</th>\n",
       "      <th>days_since_prior_order</th>\n",
       "      <th>department</th>\n",
       "    </tr>\n",
       "  </thead>\n",
       "  <tbody>\n",
       "    <tr>\n",
       "      <td>4</td>\n",
       "      <td>202279</td>\n",
       "      <td>2</td>\n",
       "      <td>Natural Sweetener</td>\n",
       "      <td>30035</td>\n",
       "      <td>8.0</td>\n",
       "      <td>pantry</td>\n",
       "    </tr>\n",
       "    <tr>\n",
       "      <td>2</td>\n",
       "      <td>202279</td>\n",
       "      <td>2</td>\n",
       "      <td>Garlic Powder</td>\n",
       "      <td>9327</td>\n",
       "      <td>8.0</td>\n",
       "      <td>pantry</td>\n",
       "    </tr>\n",
       "    <tr>\n",
       "      <td>13</td>\n",
       "      <td>205970</td>\n",
       "      <td>3</td>\n",
       "      <td>Unsweetened Chocolate Almond Breeze Almond Milk</td>\n",
       "      <td>17668</td>\n",
       "      <td>12.0</td>\n",
       "      <td>dairy eggs</td>\n",
       "    </tr>\n",
       "    <tr>\n",
       "      <td>15</td>\n",
       "      <td>205970</td>\n",
       "      <td>3</td>\n",
       "      <td>Air Chilled Organic Boneless Skinless Chicken ...</td>\n",
       "      <td>17461</td>\n",
       "      <td>12.0</td>\n",
       "      <td>meat seafood</td>\n",
       "    </tr>\n",
       "    <tr>\n",
       "      <td>22</td>\n",
       "      <td>178520</td>\n",
       "      <td>4</td>\n",
       "      <td>Nutri-Grain Soft Baked Strawberry Cereal Break...</td>\n",
       "      <td>21351</td>\n",
       "      <td>7.0</td>\n",
       "      <td>breakfast</td>\n",
       "    </tr>\n",
       "  </tbody>\n",
       "</table>\n",
       "</div>"
      ],
      "text/plain": [
       "    user_id  order_id                                       product_name  \\\n",
       "4    202279         2                                  Natural Sweetener   \n",
       "2    202279         2                                      Garlic Powder   \n",
       "13   205970         3    Unsweetened Chocolate Almond Breeze Almond Milk   \n",
       "15   205970         3  Air Chilled Organic Boneless Skinless Chicken ...   \n",
       "22   178520         4  Nutri-Grain Soft Baked Strawberry Cereal Break...   \n",
       "\n",
       "    product_id  days_since_prior_order    department  \n",
       "4        30035                     8.0        pantry  \n",
       "2         9327                     8.0        pantry  \n",
       "13       17668                    12.0    dairy eggs  \n",
       "15       17461                    12.0  meat seafood  \n",
       "22       21351                     7.0     breakfast  "
      ]
     },
     "execution_count": 27,
     "metadata": {},
     "output_type": "execute_result"
    }
   ],
   "source": [
    "baskets_food_samp.head()"
   ]
  },
  {
   "cell_type": "code",
   "execution_count": 28,
   "metadata": {},
   "outputs": [],
   "source": [
    "baskets_food_samp.drop(columns=['product_id', 'days_since_prior_order', 'department'], inplace=True)"
   ]
  },
  {
   "cell_type": "code",
   "execution_count": 29,
   "metadata": {},
   "outputs": [
    {
     "data": {
      "text/html": [
       "<div>\n",
       "<style scoped>\n",
       "    .dataframe tbody tr th:only-of-type {\n",
       "        vertical-align: middle;\n",
       "    }\n",
       "\n",
       "    .dataframe tbody tr th {\n",
       "        vertical-align: top;\n",
       "    }\n",
       "\n",
       "    .dataframe thead th {\n",
       "        text-align: right;\n",
       "    }\n",
       "</style>\n",
       "<table border=\"1\" class=\"dataframe\">\n",
       "  <thead>\n",
       "    <tr style=\"text-align: right;\">\n",
       "      <th></th>\n",
       "      <th>user_id</th>\n",
       "      <th>order_id</th>\n",
       "      <th>product_name</th>\n",
       "    </tr>\n",
       "  </thead>\n",
       "  <tbody>\n",
       "    <tr>\n",
       "      <td>4</td>\n",
       "      <td>202279</td>\n",
       "      <td>2</td>\n",
       "      <td>Natural Sweetener</td>\n",
       "    </tr>\n",
       "    <tr>\n",
       "      <td>2</td>\n",
       "      <td>202279</td>\n",
       "      <td>2</td>\n",
       "      <td>Garlic Powder</td>\n",
       "    </tr>\n",
       "    <tr>\n",
       "      <td>13</td>\n",
       "      <td>205970</td>\n",
       "      <td>3</td>\n",
       "      <td>Unsweetened Chocolate Almond Breeze Almond Milk</td>\n",
       "    </tr>\n",
       "    <tr>\n",
       "      <td>15</td>\n",
       "      <td>205970</td>\n",
       "      <td>3</td>\n",
       "      <td>Air Chilled Organic Boneless Skinless Chicken ...</td>\n",
       "    </tr>\n",
       "    <tr>\n",
       "      <td>22</td>\n",
       "      <td>178520</td>\n",
       "      <td>4</td>\n",
       "      <td>Nutri-Grain Soft Baked Strawberry Cereal Break...</td>\n",
       "    </tr>\n",
       "    <tr>\n",
       "      <td>...</td>\n",
       "      <td>...</td>\n",
       "      <td>...</td>\n",
       "      <td>...</td>\n",
       "    </tr>\n",
       "    <tr>\n",
       "      <td>32434485</td>\n",
       "      <td>25247</td>\n",
       "      <td>3421083</td>\n",
       "      <td>Organic Mini Sandwich Crackers Peanut Butter</td>\n",
       "    </tr>\n",
       "    <tr>\n",
       "      <td>32434488</td>\n",
       "      <td>25247</td>\n",
       "      <td>3421083</td>\n",
       "      <td>Organic  Sweet &amp; Salty Peanut Pretzel Granola ...</td>\n",
       "    </tr>\n",
       "    <tr>\n",
       "      <td>32434484</td>\n",
       "      <td>25247</td>\n",
       "      <td>3421083</td>\n",
       "      <td>Free &amp; Clear Natural Dishwasher Detergent</td>\n",
       "    </tr>\n",
       "    <tr>\n",
       "      <td>32434479</td>\n",
       "      <td>25247</td>\n",
       "      <td>3421083</td>\n",
       "      <td>Freeze Dried Mango Slices</td>\n",
       "    </tr>\n",
       "    <tr>\n",
       "      <td>32434485</td>\n",
       "      <td>25247</td>\n",
       "      <td>3421083</td>\n",
       "      <td>Organic Mini Sandwich Crackers Peanut Butter</td>\n",
       "    </tr>\n",
       "  </tbody>\n",
       "</table>\n",
       "<p>9730347 rows × 3 columns</p>\n",
       "</div>"
      ],
      "text/plain": [
       "          user_id  order_id                                       product_name\n",
       "4          202279         2                                  Natural Sweetener\n",
       "2          202279         2                                      Garlic Powder\n",
       "13         205970         3    Unsweetened Chocolate Almond Breeze Almond Milk\n",
       "15         205970         3  Air Chilled Organic Boneless Skinless Chicken ...\n",
       "22         178520         4  Nutri-Grain Soft Baked Strawberry Cereal Break...\n",
       "...           ...       ...                                                ...\n",
       "32434485    25247   3421083       Organic Mini Sandwich Crackers Peanut Butter\n",
       "32434488    25247   3421083  Organic  Sweet & Salty Peanut Pretzel Granola ...\n",
       "32434484    25247   3421083          Free & Clear Natural Dishwasher Detergent\n",
       "32434479    25247   3421083                          Freeze Dried Mango Slices\n",
       "32434485    25247   3421083       Organic Mini Sandwich Crackers Peanut Butter\n",
       "\n",
       "[9730347 rows x 3 columns]"
      ]
     },
     "execution_count": 29,
     "metadata": {},
     "output_type": "execute_result"
    }
   ],
   "source": [
    "baskets_food_samp"
   ]
  },
  {
   "cell_type": "markdown",
   "metadata": {},
   "source": [
    "I now need rows of users and columns of all items. This means that all items that a user bought will be stored row-wise. If a user bought an item more than once then that will be reflected in the number in that column. "
   ]
  },
  {
   "cell_type": "code",
   "execution_count": null,
   "metadata": {},
   "outputs": [],
   "source": [
    "baskets_food_samp.drop(columns=['order_id'], inplace=True)"
   ]
  },
  {
   "cell_type": "code",
   "execution_count": null,
   "metadata": {},
   "outputs": [],
   "source": []
  },
  {
   "cell_type": "markdown",
   "metadata": {},
   "source": [
    "### Association Rule Machine Learning Algorithm "
   ]
  },
  {
   "cell_type": "markdown",
   "metadata": {},
   "source": [
    "**Sources**: \n",
    "\n",
    "1. How to build your own algorithm: https://surprise.readthedocs.io/en/stable/building_custom_algo.html\n",
    "1. Association Rule Wikipedia: https://en.wikipedia.org/wiki/Association_rule_learning\n",
    "1. Rule-based collaborative filtering: Recommendor Systems: The Textbook (pg. 160) "
   ]
  },
  {
   "cell_type": "code",
   "execution_count": null,
   "metadata": {},
   "outputs": [],
   "source": []
  }
 ],
 "metadata": {
  "kernelspec": {
   "display_name": "Python 3",
   "language": "python",
   "name": "python3"
  },
  "language_info": {
   "codemirror_mode": {
    "name": "ipython",
    "version": 3
   },
   "file_extension": ".py",
   "mimetype": "text/x-python",
   "name": "python",
   "nbconvert_exporter": "python",
   "pygments_lexer": "ipython3",
   "version": "3.7.1"
  },
  "toc": {
   "base_numbering": 1,
   "nav_menu": {},
   "number_sections": true,
   "sideBar": true,
   "skip_h1_title": false,
   "title_cell": "Table of Contents",
   "title_sidebar": "Contents",
   "toc_cell": false,
   "toc_position": {},
   "toc_section_display": true,
   "toc_window_display": false
  }
 },
 "nbformat": 4,
 "nbformat_minor": 2
}
