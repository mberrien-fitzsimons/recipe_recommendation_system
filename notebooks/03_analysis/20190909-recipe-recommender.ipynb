{
 "cells": [
  {
   "cell_type": "markdown",
   "metadata": {},
   "source": [
    "# Recipe Recommender System"
   ]
  },
  {
   "cell_type": "markdown",
   "metadata": {},
   "source": [
    "**Want a specific meal for within a certain budget for a specific number of people**"
   ]
  },
  {
   "cell_type": "code",
   "execution_count": 1,
   "metadata": {},
   "outputs": [],
   "source": [
    "import pandas as pd\n",
    "import numpy as np\n",
    "import pickle"
   ]
  },
  {
   "cell_type": "markdown",
   "metadata": {},
   "source": [
    "## Read in Files"
   ]
  },
  {
   "cell_type": "markdown",
   "metadata": {},
   "source": [
    "### Grocery Similarity Model"
   ]
  },
  {
   "cell_type": "code",
   "execution_count": 2,
   "metadata": {},
   "outputs": [],
   "source": [
    "grocery_similarities = pd.read_csv('../../data/05_model_output/data_matrix_sim.csv')"
   ]
  },
  {
   "cell_type": "code",
   "execution_count": null,
   "metadata": {},
   "outputs": [],
   "source": [
    "grocery_similarities.set_index('Unnamed: 0', inplace=True)"
   ]
  },
  {
   "cell_type": "markdown",
   "metadata": {},
   "source": [
    "### Recipe Database"
   ]
  },
  {
   "cell_type": "code",
   "execution_count": 3,
   "metadata": {},
   "outputs": [],
   "source": [
    "infile = open('../../data/03_processed/crf_ingred_dict','rb')\n",
    "recipe_dict = pickle.load(infile)\n",
    "infile.close()"
   ]
  },
  {
   "cell_type": "code",
   "execution_count": 4,
   "metadata": {},
   "outputs": [],
   "source": [
    "infile = open('../../data/03_processed/crf_links_dict','rb')\n",
    "recipe_links_dict = pickle.load(infile)\n",
    "infile.close()"
   ]
  },
  {
   "cell_type": "markdown",
   "metadata": {},
   "source": [
    "### Grocery Prices "
   ]
  },
  {
   "cell_type": "code",
   "execution_count": 33,
   "metadata": {},
   "outputs": [],
   "source": [
    "grocery_prices_marianos = pd.read_csv('../../data/03_processed/grocery_prices_marianos_final.csv')"
   ]
  },
  {
   "cell_type": "markdown",
   "metadata": {},
   "source": [
    "***"
   ]
  },
  {
   "cell_type": "code",
   "execution_count": 7,
   "metadata": {},
   "outputs": [],
   "source": [
    "def extract_ingredients(single_recipe_ing_list):\n",
    "    ret = []\n",
    "    for ingredient in single_recipe_ing_list:\n",
    "        ret.append(ingredient['name'])\n",
    "    return ret "
   ]
  },
  {
   "cell_type": "code",
   "execution_count": 8,
   "metadata": {},
   "outputs": [],
   "source": [
    "def find_recipe_by_ingredient(recipe_dict, search_item):\n",
    "    \n",
    "    listofkeys = []\n",
    "    listofitems = recipe_dict.items()\n",
    "\n",
    "    for item in listofitems:\n",
    "        lst = extract_ingredients(item[1])\n",
    "        subs = search_item\n",
    "        if any(subs in s for s in lst):\n",
    "            listofkeys.append(item[0])\n",
    "    return listofkeys"
   ]
  },
  {
   "cell_type": "code",
   "execution_count": 32,
   "metadata": {},
   "outputs": [
    {
     "name": "stdout",
     "output_type": "stream",
     "text": [
      "blueberries     1.000000\n",
      "strawberries    0.232235\n",
      "raspberries     0.195576\n",
      "spinach         0.152607\n",
      "avocado         0.145650\n",
      "banana          0.144528\n",
      "milk            0.144380\n",
      "blackberries    0.141411\n",
      "bananas         0.140091\n",
      "yogurt          0.138631\n",
      "cheese          0.132716\n",
      "Name: blueberries, dtype: float64\n"
     ]
    }
   ],
   "source": [
    "print(grocery_similarities.loc['blueberries'].nlargest(11))"
   ]
  },
  {
   "cell_type": "code",
   "execution_count": 23,
   "metadata": {
    "scrolled": true
   },
   "outputs": [
    {
     "data": {
      "text/plain": [
       "['hawaiian spam tacos with pineapple',\n",
       " 'chorizo and egg breakfast tacos',\n",
       " 'slow cooker mexican pulled pork tacos',\n",
       " 'pressure cooker mexican pulled pork (carnitas)',\n",
       " 'pozole rojo (mexican pork and hominy stew)',\n",
       " 'sheet pan chicken fajitas with peppers and onions',\n",
       " 'chicken tortilla soup',\n",
       " 'slow cooker shredded chicken chili',\n",
       " 'chicken and black bean tostadas',\n",
       " 'pressure cooker shredded chicken taco meat',\n",
       " 'chicken and avocado salad with buttermilk dressing',\n",
       " 'spicy grilled chicken tacos',\n",
       " 'grilled chicken nachos',\n",
       " 'slow cooker shredded chicken taco meat',\n",
       " 'chicken pozole salad',\n",
       " 'grilled lime chicken with black bean sauce',\n",
       " 'crispy chicken skin tacos with habanero salsa',\n",
       " 'chicken pozole',\n",
       " 'skillet shrimp fajitas',\n",
       " 'broccoli and cheddar quesadillas',\n",
       " 'skirt steak with avocado chimichurri',\n",
       " 'easy avocado and black bean quesadillas',\n",
       " 'edamame avocado dip',\n",
       " 'green goddess deviled eggs',\n",
       " 'loaded sheet pan nachos',\n",
       " '7 layer bean dip',\n",
       " 'buffalo cauliflower tacos with ranch sauce',\n",
       " 'grilled salmon with peach salsa',\n",
       " 'bbq pulled jackfruit tacos',\n",
       " 'texas stacked enchiladas with corn and black beans',\n",
       " 'avocado toasts with pan-seared corn, olives, and queso fresco',\n",
       " 'avocado toasts with fried egg, olives, and smoked paprika',\n",
       " 'pressure cooker turkey with dijon gravy',\n",
       " 'turkey taco salad',\n",
       " 'shrimp quesadilla',\n",
       " 'chipotle burger',\n",
       " 'easy no-bean chili',\n",
       " 'pressure cooker shepherd’s pie + first look at the ultimate instant pot cookbook!',\n",
       " 'steak salad',\n",
       " 'fish taco salad bowl',\n",
       " 'grilled shrimp taco bowl',\n",
       " 'shrimp, bacon, avocado pasta salad',\n",
       " 'salmon lettuce wraps with cucumber, jicama, and ginger',\n",
       " 'baked salmon with avocado mango salsa',\n",
       " 'pan seared salmon with avocado remoulade',\n",
       " 'sopa seca de fideo with tomatillos',\n",
       " 'quesadilla pie',\n",
       " 'vegan banana bread',\n",
       " 'mexican tostada',\n",
       " 'roasted sweet potato quinoa bowls',\n",
       " 'grilled shrimp tacos with mango avocado salsa',\n",
       " 'sustenance stew with sweet potatoes and swiss chard',\n",
       " 'avocado beet salad with citrus vinaigrette',\n",
       " 'easy vegetarian chili with mushrooms',\n",
       " 'sweet potato and black bean tacos',\n",
       " 'huevos motuleños']"
      ]
     },
     "execution_count": 23,
     "metadata": {},
     "output_type": "execute_result"
    }
   ],
   "source": [
    "find_recipe_by_ingredient(recipe_dict, 'avocado')"
   ]
  },
  {
   "cell_type": "code",
   "execution_count": 22,
   "metadata": {
    "scrolled": true
   },
   "outputs": [
    {
     "data": {
      "text/plain": [
       "[{'qty': '1', 'unit': '1/2  cups', 'name': 'barley', 'comment': ''},\n",
       " {'qty': '1',\n",
       "  'unit': '1/2  cups',\n",
       "  'name': 'chicken',\n",
       "  'comment': 'or veggie broth use veg broth for vegan version'},\n",
       " {'qty': '1', 'unit': '1/2  cups', 'name': 'water', 'comment': ''},\n",
       " {'qty': '1', 'unit': 'teaspoon', 'name': 'salt', 'comment': ''},\n",
       " {'qty': 'Extra', 'unit': '', 'name': 'virgin olive oil', 'comment': ''},\n",
       " {'qty': '1',\n",
       "  'unit': '15 ounce',\n",
       "  'name': 'can of chickpeas garbanzo beans',\n",
       "  'comment': ''},\n",
       " {'qty': 'rinsed', 'unit': '', 'name': 'and strained', 'comment': ''},\n",
       " {'qty': 'or', 'unit': '', 'name': '1 1/2  cups', 'comment': ''},\n",
       " {'qty': 'cooked', 'unit': '', 'name': '', 'comment': ''},\n",
       " {'qty': '1', 'unit': 'cup', 'name': 'shelled pistachio nuts', 'comment': ''},\n",
       " {'qty': '1', 'unit': 'cup', 'name': 'diced dried apricots', 'comment': ''},\n",
       " {'qty': '2',\n",
       "  'unit': '',\n",
       "  'name': '3 chopped green onions',\n",
       "  'comment': 'or scallions'},\n",
       " {'qty': '1', 'unit': 'cup', 'name': 'chopped parsley', 'comment': ''},\n",
       " {'qty': 'Zest', 'unit': '', 'name': 'and juice of a lemon', 'comment': ''},\n",
       " {'qty': '1',\n",
       "  'unit': 'tablespoon',\n",
       "  'name': 'of ras el hanout spice mix',\n",
       "  'comment': ''},\n",
       " {'qty': 'Salt', 'unit': '', 'name': 'to taste', 'comment': ''},\n",
       " {'qty': 'Ras', 'unit': '', 'name': 'El Hanout', 'comment': 'Spice Mix'},\n",
       " {'qty': '1', 'unit': 'teaspoon', 'name': 'black pepper', 'comment': ''},\n",
       " {'qty': '1', 'unit': 'teaspoon', 'name': 'cardamom', 'comment': ''},\n",
       " {'qty': '1/4 ', 'unit': 'teaspoon', 'name': 'cayenne', 'comment': ''},\n",
       " {'qty': '1/4 ', 'unit': 'teaspoon', 'name': 'ginger', 'comment': ''},\n",
       " {'qty': '1/4 ', 'unit': 'teaspoon', 'name': 'nutmeg', 'comment': ''},\n",
       " {'qty': '1/4 ', 'unit': 'teaspoon', 'name': 'cinnamon', 'comment': ''}]"
      ]
     },
     "execution_count": 22,
     "metadata": {},
     "output_type": "execute_result"
    }
   ],
   "source": [
    "recipe_dict['moroccan chickpea barley salad']"
   ]
  },
  {
   "cell_type": "markdown",
   "metadata": {},
   "source": [
    "## Recommendor System sudo-code"
   ]
  },
  {
   "cell_type": "markdown",
   "metadata": {},
   "source": [
    "```python\n",
    "\n",
    "\n",
    "```"
   ]
  },
  {
   "cell_type": "code",
   "execution_count": null,
   "metadata": {},
   "outputs": [],
   "source": []
  }
 ],
 "metadata": {
  "kernelspec": {
   "display_name": "Python 3",
   "language": "python",
   "name": "python3"
  },
  "language_info": {
   "codemirror_mode": {
    "name": "ipython",
    "version": 3
   },
   "file_extension": ".py",
   "mimetype": "text/x-python",
   "name": "python",
   "nbconvert_exporter": "python",
   "pygments_lexer": "ipython3",
   "version": "3.7.1"
  },
  "toc": {
   "base_numbering": 1,
   "nav_menu": {},
   "number_sections": true,
   "sideBar": true,
   "skip_h1_title": false,
   "title_cell": "Table of Contents",
   "title_sidebar": "Contents",
   "toc_cell": false,
   "toc_position": {},
   "toc_section_display": true,
   "toc_window_display": false
  }
 },
 "nbformat": 4,
 "nbformat_minor": 2
}
