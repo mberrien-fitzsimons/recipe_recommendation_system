{
 "cells": [
  {
   "cell_type": "code",
   "execution_count": 5,
   "metadata": {},
   "outputs": [],
   "source": [
    "import pandas\n",
    "import pickle"
   ]
  },
  {
   "cell_type": "code",
   "execution_count": 3,
   "metadata": {},
   "outputs": [],
   "source": [
    "infile = open('../../data/03_processed/crf_ingred_dict','rb')\n",
    "recipe_dict = pickle.load(infile)\n",
    "infile.close()"
   ]
  },
  {
   "cell_type": "code",
   "execution_count": 28,
   "metadata": {},
   "outputs": [],
   "source": [
    "def extract_ingredients(single_recipe_ing_list):\n",
    "    ret = []\n",
    "    for ingredient in single_recipe_ing_list:\n",
    "        ret.append(ingredient['name'])\n",
    "    return ret "
   ]
  },
  {
   "cell_type": "code",
   "execution_count": 62,
   "metadata": {},
   "outputs": [],
   "source": [
    "def find_recipe(recipe_dict, search_item):\n",
    "    \n",
    "    listofkeys = []\n",
    "    listofitems = recipe_dict.items()\n",
    "\n",
    "    for item in listofitems:\n",
    "        lst = extract_ingredients(item[1])\n",
    "        subs = search_item\n",
    "        if any(subs in s for s in lst):\n",
    "            listofkeys.append(item[0])\n",
    "    return listofkeys"
   ]
  },
  {
   "cell_type": "code",
   "execution_count": 69,
   "metadata": {},
   "outputs": [
    {
     "data": {
      "text/plain": [
       "['italian sausages with ratatouille',\n",
       " 'sheet pan chicken with roasted eggplant caponata',\n",
       " 'eggplant caponata pasta',\n",
       " 'weeknight pasta with zucchini, eggplant, and peppers',\n",
       " 'pasta with eggplant, feta, and mint',\n",
       " 'dad’s ratatouille',\n",
       " 'spicy vegetarian chili',\n",
       " 'eggplant dip (baba ganoush)',\n",
       " 'roasted eggplant\\\\xa0and butternut squash with tahini-yogurt sauce',\n",
       " 'eggplant caviar',\n",
       " 'stir fried japanese eggplant with ginger and miso',\n",
       " 'grilled japanese eggplant with tahini sauce',\n",
       " 'caponata',\n",
       " 'eggplant green curry',\n",
       " 'eggplant lentil stew with pomegranate molasses',\n",
       " 'roasted eggplant and tomato soup',\n",
       " 'eggplant parmesan']"
      ]
     },
     "execution_count": 69,
     "metadata": {},
     "output_type": "execute_result"
    }
   ],
   "source": [
    "find_recipe(recipe_dict, 'eggplant')"
   ]
  },
  {
   "cell_type": "code",
   "execution_count": null,
   "metadata": {},
   "outputs": [],
   "source": []
  }
 ],
 "metadata": {
  "kernelspec": {
   "display_name": "Python 3",
   "language": "python",
   "name": "python3"
  },
  "language_info": {
   "codemirror_mode": {
    "name": "ipython",
    "version": 3
   },
   "file_extension": ".py",
   "mimetype": "text/x-python",
   "name": "python",
   "nbconvert_exporter": "python",
   "pygments_lexer": "ipython3",
   "version": "3.7.1"
  },
  "toc": {
   "base_numbering": 1,
   "nav_menu": {},
   "number_sections": true,
   "sideBar": true,
   "skip_h1_title": false,
   "title_cell": "Table of Contents",
   "title_sidebar": "Contents",
   "toc_cell": false,
   "toc_position": {},
   "toc_section_display": true,
   "toc_window_display": false
  }
 },
 "nbformat": 4,
 "nbformat_minor": 2
}
