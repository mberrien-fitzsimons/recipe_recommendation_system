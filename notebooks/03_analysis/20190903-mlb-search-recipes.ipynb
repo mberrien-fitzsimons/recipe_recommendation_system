{
 "cells": [
  {
   "cell_type": "markdown",
   "metadata": {},
   "source": [
    "# Recipe Search"
   ]
  },
  {
   "cell_type": "code",
   "execution_count": 5,
   "metadata": {},
   "outputs": [],
   "source": [
    "import pandas\n",
    "import pickle"
   ]
  },
  {
   "cell_type": "code",
   "execution_count": 3,
   "metadata": {},
   "outputs": [],
   "source": [
    "infile = open('../../data/03_processed/crf_ingred_dict','rb')\n",
    "recipe_dict = pickle.load(infile)\n",
    "infile.close()"
   ]
  },
  {
   "cell_type": "code",
   "execution_count": 28,
   "metadata": {},
   "outputs": [],
   "source": [
    "def extract_ingredients(single_recipe_ing_list):\n",
    "    ret = []\n",
    "    for ingredient in single_recipe_ing_list:\n",
    "        ret.append(ingredient['name'])\n",
    "    return ret "
   ]
  },
  {
   "cell_type": "code",
   "execution_count": 92,
   "metadata": {},
   "outputs": [],
   "source": [
    "def find_recipe_by_ingredient(recipe_dict, search_item):\n",
    "    \n",
    "    listofkeys = []\n",
    "    listofitems = recipe_dict.items()\n",
    "\n",
    "    for item in listofitems:\n",
    "        lst = extract_ingredients(item[1])\n",
    "        subs = search_item\n",
    "        if any(subs in s for s in lst):\n",
    "            listofkeys.append(item[0])\n",
    "    return listofkeys"
   ]
  },
  {
   "cell_type": "code",
   "execution_count": 117,
   "metadata": {},
   "outputs": [
    {
     "data": {
      "text/plain": [
       "['chicken and dumplings',\n",
       " 'homemade pancake mix',\n",
       " 'beef goulash with dumplings',\n",
       " 'pumpkin ricotta gnocchi',\n",
       " 'angel food cake',\n",
       " 'pineapple upside down cake',\n",
       " 'homemade vanilla cake',\n",
       " 'tres leches cake',\n",
       " 'coconut cake with lemon curd and vanilla buttercream',\n",
       " 'cranberry upside down cake',\n",
       " 'walnut snowball cookies',\n",
       " 'asparagus soufflé']"
      ]
     },
     "execution_count": 117,
     "metadata": {},
     "output_type": "execute_result"
    }
   ],
   "source": [
    "find_recipe_by_ingredient(recipe_dict, 'cake')"
   ]
  },
  {
   "cell_type": "code",
   "execution_count": 125,
   "metadata": {},
   "outputs": [
    {
     "data": {
      "text/plain": [
       "{'qty': '1', 'unit': 'teaspoon', 'name': 'vanilla extract', 'comment': ''}"
      ]
     },
     "execution_count": 125,
     "metadata": {},
     "output_type": "execute_result"
    }
   ],
   "source": [
    "recipe_dict['tres leches cake'][3]"
   ]
  },
  {
   "cell_type": "code",
   "execution_count": null,
   "metadata": {},
   "outputs": [],
   "source": []
  }
 ],
 "metadata": {
  "kernelspec": {
   "display_name": "Python 3",
   "language": "python",
   "name": "python3"
  },
  "language_info": {
   "codemirror_mode": {
    "name": "ipython",
    "version": 3
   },
   "file_extension": ".py",
   "mimetype": "text/x-python",
   "name": "python",
   "nbconvert_exporter": "python",
   "pygments_lexer": "ipython3",
   "version": "3.7.1"
  },
  "toc": {
   "base_numbering": 1,
   "nav_menu": {},
   "number_sections": true,
   "sideBar": true,
   "skip_h1_title": false,
   "title_cell": "Table of Contents",
   "title_sidebar": "Contents",
   "toc_cell": false,
   "toc_position": {},
   "toc_section_display": true,
   "toc_window_display": false
  }
 },
 "nbformat": 4,
 "nbformat_minor": 2
}
