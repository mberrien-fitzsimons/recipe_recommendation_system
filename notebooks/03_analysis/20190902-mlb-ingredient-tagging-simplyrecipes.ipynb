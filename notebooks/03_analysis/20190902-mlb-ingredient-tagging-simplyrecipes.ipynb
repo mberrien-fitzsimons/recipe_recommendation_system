{
 "cells": [
  {
   "cell_type": "code",
   "execution_count": 1,
   "metadata": {},
   "outputs": [
    {
     "name": "stderr",
     "output_type": "stream",
     "text": [
      "[nltk_data] Downloading package averaged_perceptron_tagger to\n",
      "[nltk_data]     /Users/markishab/nltk_data...\n",
      "[nltk_data]   Package averaged_perceptron_tagger is already up-to-\n",
      "[nltk_data]       date!\n"
     ]
    },
    {
     "data": {
      "text/plain": [
       "True"
      ]
     },
     "execution_count": 1,
     "metadata": {},
     "output_type": "execute_result"
    }
   ],
   "source": [
    "import argparse\n",
    "import nltk\n",
    "import pandas as pd\n",
    "import pycrfsuite\n",
    "import numpy as np\n",
    "import re\n",
    "\n",
    "from sklearn.model_selection import train_test_split\n",
    "from sklearn.metrics import classification_report\n",
    "from sklearn.preprocessing import MultiLabelBinarizer\n",
    "from nltk.tokenize import sent_tokenize, word_tokenize, RegexpTokenizer\n",
    "\n",
    "nltk.download('averaged_perceptron_tagger')"
   ]
  },
  {
   "cell_type": "markdown",
   "metadata": {},
   "source": [
    "## Read in Simply Recipe and take a look at what we have"
   ]
  },
  {
   "cell_type": "code",
   "execution_count": 2,
   "metadata": {},
   "outputs": [],
   "source": [
    "recipe_sr = pd.read_pickle('../../data/02_intermediate/recipes_sr_final.pickle')"
   ]
  },
  {
   "cell_type": "code",
   "execution_count": 4,
   "metadata": {
    "scrolled": true
   },
   "outputs": [
    {
     "data": {
      "text/html": [
       "<div>\n",
       "<style scoped>\n",
       "    .dataframe tbody tr th:only-of-type {\n",
       "        vertical-align: middle;\n",
       "    }\n",
       "\n",
       "    .dataframe tbody tr th {\n",
       "        vertical-align: top;\n",
       "    }\n",
       "\n",
       "    .dataframe thead th {\n",
       "        text-align: right;\n",
       "    }\n",
       "</style>\n",
       "<table border=\"1\" class=\"dataframe\">\n",
       "  <thead>\n",
       "    <tr style=\"text-align: right;\">\n",
       "      <th></th>\n",
       "      <th>title</th>\n",
       "      <th>prep_time</th>\n",
       "      <th>cook_time</th>\n",
       "      <th>recipe_yield</th>\n",
       "      <th>tags</th>\n",
       "      <th>ingredients</th>\n",
       "      <th>entire_card</th>\n",
       "      <th>recipe_links</th>\n",
       "    </tr>\n",
       "  </thead>\n",
       "  <tbody>\n",
       "    <tr>\n",
       "      <th>0</th>\n",
       "      <td>Grilled Cheese BLT</td>\n",
       "      <td>10 minutes</td>\n",
       "      <td>10 minutes</td>\n",
       "      <td>4 sandwiches</td>\n",
       "      <td>'Dinner', 'Lunch', 'Sandwich', 'Favorite Summe...</td>\n",
       "      <td>[8 slices sourdough bread, 4 tablespoon unsalt...</td>\n",
       "      <td>['\\n\\n                    ', '\\n              ...</td>\n",
       "      <td>https://www.simplyrecipes.com/recipes/grilled_...</td>\n",
       "    </tr>\n",
       "    <tr>\n",
       "      <th>1</th>\n",
       "      <td>Pulled Pork Sandwich</td>\n",
       "      <td>10 minutes</td>\n",
       "      <td>2 hours, 45 minutes</td>\n",
       "      <td>Serves 6 to 8</td>\n",
       "      <td>'Dinner', 'Sandwich', 'Budget', 'Comfort Food'...</td>\n",
       "      <td>[1 large onion, chopped, 6 garlic cloves, peel...</td>\n",
       "      <td>['\\n\\n                    ', '\\n              ...</td>\n",
       "      <td>https://www.simplyrecipes.com/recipes/pulled_p...</td>\n",
       "    </tr>\n",
       "    <tr>\n",
       "      <th>2</th>\n",
       "      <td>How to Make Bacon in the Oven</td>\n",
       "      <td>5 minutes</td>\n",
       "      <td>20 minutes</td>\n",
       "      <td>12 strips</td>\n",
       "      <td>'Tips', 'Breakfast and Brunch', 'Baking', 'How...</td>\n",
       "      <td>[12 strips bacon, 1/2 teaspoon ground black pe...</td>\n",
       "      <td>['\\n\\n                    ', '\\n              ...</td>\n",
       "      <td>https://www.simplyrecipes.com/recipes/how_to_m...</td>\n",
       "    </tr>\n",
       "    <tr>\n",
       "      <th>3</th>\n",
       "      <td>Sausage Stuffed Zucchini</td>\n",
       "      <td>15 minutes</td>\n",
       "      <td>1 hour</td>\n",
       "      <td>Serves 4</td>\n",
       "      <td>'Dinner', 'Favorite Summer', 'Make-ahead', 'It...</td>\n",
       "      <td>[2 tablespoons extra virgin olive oil, 1/2 pou...</td>\n",
       "      <td>['\\n\\n                    ', '\\n              ...</td>\n",
       "      <td>https://www.simplyrecipes.com/recipes/italian_...</td>\n",
       "    </tr>\n",
       "    <tr>\n",
       "      <th>4</th>\n",
       "      <td>The Best Dry Rub for Ribs</td>\n",
       "      <td>5 minutes</td>\n",
       "      <td>NaN</td>\n",
       "      <td>NaN</td>\n",
       "      <td>'Favorite Fall', 'Favorite Summer', 'Game Day'...</td>\n",
       "      <td>[3/4 cup packed dark brown sugar (or 1/2 cup i...</td>\n",
       "      <td>['\\n\\n                    ', '\\n              ...</td>\n",
       "      <td>https://www.simplyrecipes.com/recipes/the_best...</td>\n",
       "    </tr>\n",
       "  </tbody>\n",
       "</table>\n",
       "</div>"
      ],
      "text/plain": [
       "                           title   prep_time            cook_time  \\\n",
       "0             Grilled Cheese BLT  10 minutes           10 minutes   \n",
       "1           Pulled Pork Sandwich  10 minutes  2 hours, 45 minutes   \n",
       "2  How to Make Bacon in the Oven   5 minutes           20 minutes   \n",
       "3       Sausage Stuffed Zucchini  15 minutes               1 hour   \n",
       "4      The Best Dry Rub for Ribs   5 minutes                  NaN   \n",
       "\n",
       "    recipe_yield                                               tags  \\\n",
       "0   4 sandwiches  'Dinner', 'Lunch', 'Sandwich', 'Favorite Summe...   \n",
       "1  Serves 6 to 8  'Dinner', 'Sandwich', 'Budget', 'Comfort Food'...   \n",
       "2      12 strips  'Tips', 'Breakfast and Brunch', 'Baking', 'How...   \n",
       "3       Serves 4  'Dinner', 'Favorite Summer', 'Make-ahead', 'It...   \n",
       "4            NaN  'Favorite Fall', 'Favorite Summer', 'Game Day'...   \n",
       "\n",
       "                                         ingredients  \\\n",
       "0  [8 slices sourdough bread, 4 tablespoon unsalt...   \n",
       "1  [1 large onion, chopped, 6 garlic cloves, peel...   \n",
       "2  [12 strips bacon, 1/2 teaspoon ground black pe...   \n",
       "3  [2 tablespoons extra virgin olive oil, 1/2 pou...   \n",
       "4  [3/4 cup packed dark brown sugar (or 1/2 cup i...   \n",
       "\n",
       "                                         entire_card  \\\n",
       "0  ['\\n\\n                    ', '\\n              ...   \n",
       "1  ['\\n\\n                    ', '\\n              ...   \n",
       "2  ['\\n\\n                    ', '\\n              ...   \n",
       "3  ['\\n\\n                    ', '\\n              ...   \n",
       "4  ['\\n\\n                    ', '\\n              ...   \n",
       "\n",
       "                                        recipe_links  \n",
       "0  https://www.simplyrecipes.com/recipes/grilled_...  \n",
       "1  https://www.simplyrecipes.com/recipes/pulled_p...  \n",
       "2  https://www.simplyrecipes.com/recipes/how_to_m...  \n",
       "3  https://www.simplyrecipes.com/recipes/italian_...  \n",
       "4  https://www.simplyrecipes.com/recipes/the_best...  "
      ]
     },
     "execution_count": 4,
     "metadata": {},
     "output_type": "execute_result"
    }
   ],
   "source": [
    "recipe_sr.head()"
   ]
  },
  {
   "cell_type": "markdown",
   "metadata": {},
   "source": [
    "Although our recipes are clean, we are not able to search through this list in any meaningful way in order to figure out what ingredients are in each recipe. We need to figure out how to turn each unstructured ingredient (i.e., '8 slices sourdough bread' to something more structured like quantity: 8, unit: slices, food: sourdough bread). For this task we are going to need natural language processing. "
   ]
  },
  {
   "cell_type": "markdown",
   "metadata": {},
   "source": [
    "## Tagging Ingredients through a CRF Model "
   ]
  },
  {
   "cell_type": "markdown",
   "metadata": {},
   "source": [
    "Through a great deal of research I have found that this issue is often solved through building and deploying a CRF model. The New York Times has some wonderful resources on how to deploy this model, and using parts of their model could be really helpful in figuring out how to tag my data. "
   ]
  },
  {
   "cell_type": "code",
   "execution_count": 5,
   "metadata": {},
   "outputs": [],
   "source": [
    "ingredients_lists = list(recipe_sr.ingredients)"
   ]
  },
  {
   "cell_type": "markdown",
   "metadata": {},
   "source": [
    "Let's tokenize each ingredient and make sure that the punctuation is removed"
   ]
  },
  {
   "cell_type": "code",
   "execution_count": 6,
   "metadata": {},
   "outputs": [],
   "source": [
    "# let's tokenize all the words and get rid of punctuation\n",
    "tokenizer = RegexpTokenizer(r'(\\d\\/\\d |\\w+)')\n",
    "token_sr = []\n",
    "for recipe in ingredients_lists:\n",
    "    sub_list = []\n",
    "    for ingredient in recipe: \n",
    "        sub_list.append(tokenizer.tokenize(ingredient))\n",
    "    token_sr.append(sub_list)"
   ]
  },
  {
   "cell_type": "markdown",
   "metadata": {},
   "source": [
    "### Feature Creation "
   ]
  },
  {
   "cell_type": "markdown",
   "metadata": {},
   "source": [
    "Now that we have tokenized our ingredients we need to put this in a form that our CRF model can handle (this means grouping recipe ingredients into a list and grouping each ingredient sentence into it's own list with tuples). "
   ]
  },
  {
   "cell_type": "code",
   "execution_count": 7,
   "metadata": {},
   "outputs": [],
   "source": [
    "crf_data  = []\n",
    "index = 0\n",
    "for recipe in token_sr:\n",
    "    sub_list = []\n",
    "    for ingredient in recipe:\n",
    "        pos = nltk.pos_tag(ingredient)\n",
    "        sub_list.append((pos))\n",
    "    crf_data.append(sub_list)\n",
    "    index = index + 1"
   ]
  },
  {
   "cell_type": "code",
   "execution_count": 8,
   "metadata": {},
   "outputs": [],
   "source": [
    "# Source: NYT Github Page \n",
    "def singularize(word):\n",
    "    \"\"\"\n",
    "    A poor replacement for the pattern.en singularize function, but ok for now.\n",
    "    \"\"\"\n",
    "\n",
    "    units = {\n",
    "        \"cups\": u\"cup\",\n",
    "        \"tablespoons\": u\"tablespoon\",\n",
    "        \"teaspoons\": u\"teaspoon\",\n",
    "        \"pounds\": u\"pound\",\n",
    "        \"ounces\": u\"ounce\",\n",
    "        \"cloves\": u\"clove\",\n",
    "        \"sprigs\": u\"sprig\",\n",
    "        \"pinches\": u\"pinch\",\n",
    "        \"bunches\": u\"bunch\",\n",
    "        \"slices\": u\"slice\",\n",
    "        \"grams\": u\"gram\",\n",
    "        \"heads\": u\"head\",\n",
    "        \"quarts\": u\"quart\",\n",
    "        \"stalks\": u\"stalk\",\n",
    "        \"pints\": u\"pint\",\n",
    "        \"pieces\": u\"piece\",\n",
    "        \"sticks\": u\"stick\",\n",
    "        \"dashes\": u\"dash\",\n",
    "        \"fillets\": u\"fillet\",\n",
    "        \"cans\": u\"can\",\n",
    "        \"ears\": u\"ear\",\n",
    "        \"packages\": u\"package\",\n",
    "        \"strips\": u\"strip\",\n",
    "        \"bulbs\": u\"bulb\",\n",
    "        \"bottles\": u\"bottle\"\n",
    "    }\n",
    "\n",
    "    if word in units.keys():\n",
    "        return units[word]\n",
    "    else:\n",
    "        return word"
   ]
  },
  {
   "cell_type": "code",
   "execution_count": 9,
   "metadata": {},
   "outputs": [],
   "source": [
    "def word2features(doc, i):\n",
    "    word = singularize(doc[i][0])\n",
    "    postag = doc[i][1]\n",
    "\n",
    "    # Common features for all words\n",
    "    features = [\n",
    "        'bias',\n",
    "        'word.lower=' + word.lower(),\n",
    "        'word[-3:]=' + word[-3:],\n",
    "        'word[-2:]=' + word[-2:],\n",
    "        'postag=' + postag,\n",
    "    ]\n",
    "    if i > 0:\n",
    "        word1 = doc[i-1][0]\n",
    "        postag1 = doc[i-1][1]\n",
    "        features.extend([\n",
    "            '-1:word.lower=' + word1.lower(),\n",
    "            '-1:postag=' + postag1\n",
    "        ])\n",
    "    else:\n",
    "        # Indicate that it is the 'beginning of a document'\n",
    "        features.append('BOS')\n",
    "    # Features for words that are not\n",
    "    # at the end of a document\n",
    "    if i < len(doc)-1:\n",
    "        word1 = doc[i+1][0]\n",
    "        postag1 = doc[i+1][1]\n",
    "        features.extend([\n",
    "            '+1:word.lower=' + word1.lower(),\n",
    "            '+1:postag=' + postag1\n",
    "        ])\n",
    "    else:\n",
    "        # Indicate that it is the 'end of a document'\n",
    "        features.append('EOS')\n",
    "\n",
    "    return features"
   ]
  },
  {
   "cell_type": "code",
   "execution_count": 10,
   "metadata": {},
   "outputs": [],
   "source": [
    "# A function for extracting features in documents\n",
    "def extract_features(doc):\n",
    "    return [word2features(doc, i) for i in range(len(doc))]\n",
    "\n",
    "# A function fo generating the list of labels for each document\n",
    "def get_labels(doc):\n",
    "    return [label for (token, postag, label) in doc]"
   ]
  },
  {
   "cell_type": "code",
   "execution_count": 11,
   "metadata": {},
   "outputs": [],
   "source": [
    "crf_data_final = []\n",
    "for recipe in crf_data:\n",
    "    X = [extract_features(doc) for doc in recipe]\n",
    "    crf_data_final.append(X)"
   ]
  },
  {
   "cell_type": "markdown",
   "metadata": {},
   "source": [
    "Import our tagger"
   ]
  },
  {
   "cell_type": "code",
   "execution_count": 12,
   "metadata": {},
   "outputs": [
    {
     "data": {
      "text/plain": [
       "<contextlib.closing at 0x1a21ca9748>"
      ]
     },
     "execution_count": 12,
     "metadata": {},
     "output_type": "execute_result"
    }
   ],
   "source": [
    "tagger = pycrfsuite.Tagger()\n",
    "tagger.open('../../data/04_models/crf_ing_final.model')"
   ]
  },
  {
   "cell_type": "markdown",
   "metadata": {},
   "source": [
    "Let's tag the simply recipes dataset"
   ]
  },
  {
   "cell_type": "code",
   "execution_count": 13,
   "metadata": {},
   "outputs": [],
   "source": [
    "sr_labels = []\n",
    "for recipe in crf_data_final:\n",
    "    y_pred = [tagger.tag(xseq) for xseq in recipe]\n",
    "    sr_labels.append(y_pred)"
   ]
  },
  {
   "cell_type": "code",
   "execution_count": 64,
   "metadata": {},
   "outputs": [],
   "source": [
    "recipe_titles = list(recipe_sr.title)"
   ]
  },
  {
   "cell_type": "code",
   "execution_count": 66,
   "metadata": {},
   "outputs": [
    {
     "data": {
      "text/plain": [
       "1763"
      ]
     },
     "execution_count": 66,
     "metadata": {},
     "output_type": "execute_result"
    }
   ],
   "source": [
    "len(recipe_titles)"
   ]
  },
  {
   "cell_type": "code",
   "execution_count": 67,
   "metadata": {},
   "outputs": [
    {
     "data": {
      "text/plain": [
       "1763"
      ]
     },
     "execution_count": 67,
     "metadata": {},
     "output_type": "execute_result"
    }
   ],
   "source": [
    "len(token_sr)"
   ]
  },
  {
   "cell_type": "code",
   "execution_count": 68,
   "metadata": {},
   "outputs": [
    {
     "data": {
      "text/plain": [
       "1763"
      ]
     },
     "execution_count": 68,
     "metadata": {},
     "output_type": "execute_result"
    }
   ],
   "source": [
    "len(sr_labels)"
   ]
  },
  {
   "cell_type": "markdown",
   "metadata": {},
   "source": [
    "### Let's match up the tokens with their tags"
   ]
  },
  {
   "cell_type": "markdown",
   "metadata": {},
   "source": [
    "One idea is to create each recipe as a nested dictionary"
   ]
  },
  {
   "cell_type": "code",
   "execution_count": 111,
   "metadata": {},
   "outputs": [],
   "source": [
    "def ingredient_tagger(ingredient_sentence, ingredient_label_sentence):\n",
    "    qty = []\n",
    "    unit = []\n",
    "    name = []\n",
    "    comment = []\n",
    "\n",
    "    for word, label in zip(ingredient_sentence, ingredient_label_sentence):\n",
    "        if label == 'qty':\n",
    "            qty.append(word)\n",
    "        if label == 'unit':\n",
    "            unit.append(word)\n",
    "        if label == 'name':\n",
    "            name.append(word)\n",
    "        if label == 'comment':\n",
    "            comment.append(word)\n",
    "    return {'qty': \" \".join(qty), 'unit': \" \".join(unit), 'name': \" \".join(name), 'comment': \" \".join(comment)}"
   ]
  },
  {
   "cell_type": "code",
   "execution_count": 123,
   "metadata": {},
   "outputs": [],
   "source": [
    "def recipe_tagger(single_recipe, matching_recipe_labels):\n",
    "    ret = []\n",
    "    for ingredient, ingredient_label in zip(single_recipe, matching_recipe_labels):\n",
    "        ret.append(ingredient_tagger(ingredient, ingredient_label))\n",
    "    return ret"
   ]
  },
  {
   "cell_type": "code",
   "execution_count": 148,
   "metadata": {},
   "outputs": [],
   "source": [
    "def token_labels_to_dict(tokens, labels, recipe_titles):\n",
    "    final_dict = {}\n",
    "    for recipe, label, title in zip(token_sr, sr_labels, recipe_titles):\n",
    "        ing = recipe_tagger(recipe, label)\n",
    "        final_dict[str(title).lower()] = ing\n",
    "    return final_dict"
   ]
  },
  {
   "cell_type": "code",
   "execution_count": 147,
   "metadata": {},
   "outputs": [
    {
     "data": {
      "text/plain": [
       "[{'qty': '2',\n",
       "  'unit': 'tablespoons',\n",
       "  'name': 'old fashioned rolled oats',\n",
       "  'comment': 'gluten free if needed'},\n",
       " {'qty': '1', 'unit': 'tablespoon', 'name': 'chia seeds', 'comment': ''},\n",
       " {'qty': '1/3 ',\n",
       "  'unit': 'cup',\n",
       "  'name': 'milk',\n",
       "  'comment': 'any kind including non dairy'},\n",
       " {'qty': '1/3 ',\n",
       "  'unit': 'cup',\n",
       "  'name': 'plain or vanilla yogurt',\n",
       "  'comment': 'any kind including non dairy'},\n",
       " {'qty': '1',\n",
       "  'unit': 'teaspoon',\n",
       "  'name': 'honey',\n",
       "  'comment': 'maple syrup or sweetener of your choice to taste optional'},\n",
       " {'qty': '1/4 ',\n",
       "  'unit': 'cup',\n",
       "  'name': 'blueberries',\n",
       "  'comment': 'sliced strawberries raspberries or other chopped fruit of your choice'},\n",
       " {'qty': '1',\n",
       "  'unit': 'tablespoon',\n",
       "  'name': 'raisins',\n",
       "  'comment': 'or other dried fruit'},\n",
       " {'qty': '1',\n",
       "  'unit': 'tablespoons',\n",
       "  'name': 'chopped or sliced almonds cashews walnuts',\n",
       "  'comment': 'or other nut of your choice'}]"
      ]
     },
     "execution_count": 147,
     "metadata": {},
     "output_type": "execute_result"
    }
   ],
   "source": [
    "final_dict['grab-and-go oatmeal chia cups']"
   ]
  },
  {
   "cell_type": "markdown",
   "metadata": {},
   "source": [
    "Can create a metric of user to purchased item like in movie recommendation system.\n",
    "implicit feedback recommendation system. (don't have stars or anything. All we have is the fact that they bought this thing onece). We are saying that they bought it so I have some confidence that they like it. "
   ]
  },
  {
   "cell_type": "markdown",
   "metadata": {},
   "source": [
    "als recommendations with the carts "
   ]
  },
  {
   "cell_type": "markdown",
   "metadata": {},
   "source": [
    "The sticking point is how we get around the recommendation part? don't have actual ratings for things in a cart, all we have is bought or not bought (there is no scale). There could be a million different reasons why you buy something that you don't like. There are algorithms for this (extension of the ALS models. Could start with implicit feedback recommendations using ALS). Look for package that is doing this very quickly /. this one building a model to make predictions. \n",
    "\n",
    "Other approaches: don't use the supervised side of things. we just find similarities between carts. Now you can find maybe the top three carts that are most similair to your \"new cart\". We are assuming that these people have similair tastes to you. And then all of these things might be a good suggestion to me as well. this one we are using huristics tyo try and figure out what is similair. Maybe could even ignore the carts if I go this route. \n",
    "\n",
    "**content based recommendations**\n",
    "**implicit feedback recommendations using ALS**\n",
    "\n",
    "1. the user says they l ike tomatoes, don't like eggplant, like this. \n",
    "1. take that \n",
    "---\n",
    "actually matching things that a person likes to a recipe will be incredibly challenging in and of itself. Deciding on the rules of doing the matching will take time to think about and code it. Example, lety's say I like eggplant and garlic. There are so many recipies with eggplant and garlic."
   ]
  }
 ],
 "metadata": {
  "kernelspec": {
   "display_name": "Python 3",
   "language": "python",
   "name": "python3"
  },
  "language_info": {
   "codemirror_mode": {
    "name": "ipython",
    "version": 3
   },
   "file_extension": ".py",
   "mimetype": "text/x-python",
   "name": "python",
   "nbconvert_exporter": "python",
   "pygments_lexer": "ipython3",
   "version": "3.7.1"
  },
  "toc": {
   "base_numbering": 1,
   "nav_menu": {},
   "number_sections": true,
   "sideBar": true,
   "skip_h1_title": false,
   "title_cell": "Table of Contents",
   "title_sidebar": "Contents",
   "toc_cell": false,
   "toc_position": {},
   "toc_section_display": true,
   "toc_window_display": false
  }
 },
 "nbformat": 4,
 "nbformat_minor": 2
}
