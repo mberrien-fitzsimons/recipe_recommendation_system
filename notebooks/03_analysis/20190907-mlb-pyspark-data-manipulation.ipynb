{
 "cells": [
  {
   "cell_type": "code",
   "execution_count": 1,
   "metadata": {},
   "outputs": [],
   "source": [
    "import pandas as pd\n",
    "import pyspark\n",
    "import pyspark.sql.types\n",
    "\n",
    "\n",
    "from pyspark.sql import SparkSession, SQLContext\n",
    "from pyspark import SparkConf\n",
    "from pyspark.sql.functions import sum, avg, count, first\n",
    "from pyspark.sql.types import StructType, StructField, StringType, IntegerType"
   ]
  },
  {
   "cell_type": "code",
   "execution_count": 2,
   "metadata": {},
   "outputs": [],
   "source": [
    "baskets = pd.read_csv('../../data/02_intermediate/baskets_spark.csv')"
   ]
  },
  {
   "cell_type": "code",
   "execution_count": 3,
   "metadata": {},
   "outputs": [],
   "source": [
    "baskets.drop(columns=['Unnamed: 0'], inplace=True)"
   ]
  },
  {
   "cell_type": "markdown",
   "metadata": {},
   "source": [
    "Get a sub-sample to test with spark "
   ]
  },
  {
   "cell_type": "code",
   "execution_count": 4,
   "metadata": {},
   "outputs": [],
   "source": [
    "conf = SparkConf().setMaster('local').setAppName('autoencoder_recommender_wide_user_record_maker').set(\"spark.sql.pivotMaxValues\", 99999)"
   ]
  },
  {
   "cell_type": "code",
   "execution_count": 5,
   "metadata": {},
   "outputs": [],
   "source": [
    "sc = pyspark.SparkContext(conf=conf)"
   ]
  },
  {
   "cell_type": "code",
   "execution_count": 6,
   "metadata": {},
   "outputs": [],
   "source": [
    "spark = SparkSession.builder.getOrCreate()"
   ]
  },
  {
   "cell_type": "code",
   "execution_count": 7,
   "metadata": {},
   "outputs": [],
   "source": [
    "sqlContext = SQLContext(sc, spark)"
   ]
  },
  {
   "cell_type": "code",
   "execution_count": 8,
   "metadata": {},
   "outputs": [],
   "source": [
    "spark.conf.set(\"spark.sql.execution.arrow.enabled\", \"true\")"
   ]
  },
  {
   "cell_type": "code",
   "execution_count": 10,
   "metadata": {},
   "outputs": [],
   "source": [
    "df_full = sqlContext.read.format('com.databricks.spark.csv').options(header='true', \n",
    "                                                                inferschema='true').load('../../data/02_intermediate/baskets_spark.csv')"
   ]
  },
  {
   "cell_type": "code",
   "execution_count": 11,
   "metadata": {},
   "outputs": [
    {
     "name": "stdout",
     "output_type": "stream",
     "text": [
      "+---+--------+--------------------+-------+-------------+\n",
      "|_c0|order_id|        product_name|user_id|product_count|\n",
      "+---+--------+--------------------+-------+-------------+\n",
      "|  0|       2|  Organic Egg Whites| 202279|            1|\n",
      "|  1|       2|Michigan Organic ...| 202279|            1|\n",
      "|  2|       2|       Garlic Powder| 202279|            1|\n",
      "|  3|       2|      Coconut Butter| 202279|            1|\n",
      "|  4|       2|   Natural Sweetener| 202279|            1|\n",
      "|  5|       2|             Carrots| 202279|            1|\n",
      "|  6|       2|Original Unflavor...| 202279|            1|\n",
      "|  7|       2|All Natural No St...| 202279|            1|\n",
      "|  8|       2|Classic Blend Col...| 202279|            1|\n",
      "|  9|       3|Total 2% with Str...| 205970|            1|\n",
      "| 10|       3|Unsweetened Almon...| 205970|            1|\n",
      "| 11|       3|              Lemons| 205970|            1|\n",
      "| 12|       3|Organic Baby Spinach| 205970|            1|\n",
      "| 13|       3|Unsweetened Choco...| 205970|            1|\n",
      "| 14|       3| Organic Ginger Root| 205970|            1|\n",
      "| 15|       3|Air Chilled Organ...| 205970|            1|\n",
      "| 16|       3|Organic Ezekiel 4...| 205970|            1|\n",
      "| 17|       4|Plain Pre-Sliced ...| 178520|            1|\n",
      "| 18|       4|Honey/Lemon Cough...| 178520|            1|\n",
      "| 19|       4|Chewy 25% Low Sug...| 178520|            1|\n",
      "+---+--------+--------------------+-------+-------------+\n",
      "only showing top 20 rows\n",
      "\n"
     ]
    }
   ],
   "source": [
    "df_full.show()"
   ]
  },
  {
   "cell_type": "code",
   "execution_count": 12,
   "metadata": {},
   "outputs": [
    {
     "name": "stdout",
     "output_type": "stream",
     "text": [
      "+-------+--------------------+-------------+\n",
      "|user_id|        product_name|product_count|\n",
      "+-------+--------------------+-------------+\n",
      "| 202279|  Organic Egg Whites|            1|\n",
      "| 202279|Michigan Organic ...|            1|\n",
      "| 202279|       Garlic Powder|            1|\n",
      "| 202279|      Coconut Butter|            1|\n",
      "| 202279|   Natural Sweetener|            1|\n",
      "| 202279|             Carrots|            1|\n",
      "| 202279|Original Unflavor...|            1|\n",
      "| 202279|All Natural No St...|            1|\n",
      "| 202279|Classic Blend Col...|            1|\n",
      "| 205970|Total 2% with Str...|            1|\n",
      "| 205970|Unsweetened Almon...|            1|\n",
      "| 205970|              Lemons|            1|\n",
      "| 205970|Organic Baby Spinach|            1|\n",
      "| 205970|Unsweetened Choco...|            1|\n",
      "| 205970| Organic Ginger Root|            1|\n",
      "| 205970|Air Chilled Organ...|            1|\n",
      "| 205970|Organic Ezekiel 4...|            1|\n",
      "| 178520|Plain Pre-Sliced ...|            1|\n",
      "| 178520|Honey/Lemon Cough...|            1|\n",
      "| 178520|Chewy 25% Low Sug...|            1|\n",
      "+-------+--------------------+-------------+\n",
      "only showing top 20 rows\n",
      "\n"
     ]
    }
   ],
   "source": [
    "df_full.select(\"user_id\", \"product_name\", \"product_count\").show()"
   ]
  },
  {
   "cell_type": "code",
   "execution_count": 13,
   "metadata": {},
   "outputs": [
    {
     "name": "stdout",
     "output_type": "stream",
     "text": [
      "+--------------------+-----+\n",
      "|        product_name|count|\n",
      "+--------------------+-----+\n",
      "|G Series Lime Cuc...|  217|\n",
      "|XL Emerald White ...|15740|\n",
      "|Cherry Garcia Ice...| 4283|\n",
      "|Real Aged Cheddar...| 3262|\n",
      "|Light Wisconsin S...|   63|\n",
      "|Organic Cinnamon ...| 8073|\n",
      "|Baby Food Stage 2...| 4460|\n",
      "|Simply Stock Orga...| 2047|\n",
      "|Enlightened Organ...| 7007|\n",
      "|Organic White Win...| 1121|\n",
      "|   Sliced Cooked Ham|  433|\n",
      "|BoomChocoBoom Glu...|  499|\n",
      "|from Concentrate ...|   81|\n",
      "|  Premium Epsom Salt| 4228|\n",
      "|Chocolate Chip Mu...|  532|\n",
      "|Vegan Hickory & S...| 1512|\n",
      "|Warm & Crunchy Ho...|   79|\n",
      "| Organic Heavy Cream|  822|\n",
      "|Grilled Chicken A...|  250|\n",
      "|Chai Latte K-Cup ...|  164|\n",
      "+--------------------+-----+\n",
      "only showing top 20 rows\n",
      "\n"
     ]
    }
   ],
   "source": [
    "df_full.groupBy('product_name').count().show()"
   ]
  },
  {
   "cell_type": "markdown",
   "metadata": {},
   "source": [
    "There are 49,677 unique products in the dataset"
   ]
  },
  {
   "cell_type": "code",
   "execution_count": 16,
   "metadata": {},
   "outputs": [],
   "source": [
    "from pyspark.sql.functions import first"
   ]
  },
  {
   "cell_type": "code",
   "execution_count": null,
   "metadata": {},
   "outputs": [],
   "source": [
    "(df_full\n",
    "    .groupby(df_full.user_id, df_full.product_name)\n",
    "    .pivot(\"product_name\")\n",
    "    .agg(first(\"product_count\"))\n",
    "    .show())"
   ]
  },
  {
   "cell_type": "code",
   "execution_count": null,
   "metadata": {},
   "outputs": [],
   "source": [
    "df_full.select(\"product_name\").distinct().count()"
   ]
  },
  {
   "cell_type": "code",
   "execution_count": 15,
   "metadata": {},
   "outputs": [
    {
     "ename": "AttributeError",
     "evalue": "'DataFrame' object has no attribute 'pivot'",
     "output_type": "error",
     "traceback": [
      "\u001b[0;31m---------------------------------------------------------------------------\u001b[0m",
      "\u001b[0;31mAttributeError\u001b[0m                            Traceback (most recent call last)",
      "\u001b[0;32m<ipython-input-15-1873536dc65c>\u001b[0m in \u001b[0;36m<module>\u001b[0;34m\u001b[0m\n\u001b[0;32m----> 1\u001b[0;31m \u001b[0mdf_full\u001b[0m\u001b[0;34m.\u001b[0m\u001b[0mgroupBy\u001b[0m\u001b[0;34m(\u001b[0m\u001b[0;34m\"user_id\"\u001b[0m\u001b[0;34m,\u001b[0m \u001b[0;34m\"product_name\"\u001b[0m\u001b[0;34m)\u001b[0m\u001b[0;34m.\u001b[0m\u001b[0mcount\u001b[0m\u001b[0;34m(\u001b[0m\u001b[0;34m)\u001b[0m\u001b[0;34m.\u001b[0m\u001b[0mpivot\u001b[0m\u001b[0;34m(\u001b[0m\u001b[0;34m\"product_name\"\u001b[0m\u001b[0;34m)\u001b[0m\u001b[0;34m.\u001b[0m\u001b[0mshow\u001b[0m\u001b[0;34m(\u001b[0m\u001b[0;34m)\u001b[0m\u001b[0;34m\u001b[0m\u001b[0;34m\u001b[0m\u001b[0m\n\u001b[0m",
      "\u001b[0;32m/usr/local/Cellar/apache-spark/2.4.3/libexec/python/pyspark/sql/dataframe.py\u001b[0m in \u001b[0;36m__getattr__\u001b[0;34m(self, name)\u001b[0m\n\u001b[1;32m   1298\u001b[0m         \u001b[0;32mif\u001b[0m \u001b[0mname\u001b[0m \u001b[0;32mnot\u001b[0m \u001b[0;32min\u001b[0m \u001b[0mself\u001b[0m\u001b[0;34m.\u001b[0m\u001b[0mcolumns\u001b[0m\u001b[0;34m:\u001b[0m\u001b[0;34m\u001b[0m\u001b[0;34m\u001b[0m\u001b[0m\n\u001b[1;32m   1299\u001b[0m             raise AttributeError(\n\u001b[0;32m-> 1300\u001b[0;31m                 \"'%s' object has no attribute '%s'\" % (self.__class__.__name__, name))\n\u001b[0m\u001b[1;32m   1301\u001b[0m         \u001b[0mjc\u001b[0m \u001b[0;34m=\u001b[0m \u001b[0mself\u001b[0m\u001b[0;34m.\u001b[0m\u001b[0m_jdf\u001b[0m\u001b[0;34m.\u001b[0m\u001b[0mapply\u001b[0m\u001b[0;34m(\u001b[0m\u001b[0mname\u001b[0m\u001b[0;34m)\u001b[0m\u001b[0;34m\u001b[0m\u001b[0;34m\u001b[0m\u001b[0m\n\u001b[1;32m   1302\u001b[0m         \u001b[0;32mreturn\u001b[0m \u001b[0mColumn\u001b[0m\u001b[0;34m(\u001b[0m\u001b[0mjc\u001b[0m\u001b[0;34m)\u001b[0m\u001b[0;34m\u001b[0m\u001b[0;34m\u001b[0m\u001b[0m\n",
      "\u001b[0;31mAttributeError\u001b[0m: 'DataFrame' object has no attribute 'pivot'"
     ]
    }
   ],
   "source": [
    "df_full.groupBy(\"user_id\", \"product_name\").count().pivot(\"product_name\").show()"
   ]
  },
  {
   "cell_type": "markdown",
   "metadata": {},
   "source": [
    "```python\n",
    "basket_matrix = (baskets.groupby(['user_id', 'product_name'])['product_count']\n",
    "          .sum().unstack().reset_index().fillna(0)\n",
    "          .set_index('order_id'))"
   ]
  },
  {
   "cell_type": "code",
   "execution_count": null,
   "metadata": {},
   "outputs": [],
   "source": []
  }
 ],
 "metadata": {
  "kernelspec": {
   "display_name": "Python 3",
   "language": "python",
   "name": "python3"
  },
  "language_info": {
   "codemirror_mode": {
    "name": "ipython",
    "version": 3
   },
   "file_extension": ".py",
   "mimetype": "text/x-python",
   "name": "python",
   "nbconvert_exporter": "python",
   "pygments_lexer": "ipython3",
   "version": "3.7.1"
  },
  "toc": {
   "base_numbering": 1,
   "nav_menu": {},
   "number_sections": true,
   "sideBar": true,
   "skip_h1_title": false,
   "title_cell": "Table of Contents",
   "title_sidebar": "Contents",
   "toc_cell": false,
   "toc_position": {},
   "toc_section_display": true,
   "toc_window_display": false
  }
 },
 "nbformat": 4,
 "nbformat_minor": 2
}
