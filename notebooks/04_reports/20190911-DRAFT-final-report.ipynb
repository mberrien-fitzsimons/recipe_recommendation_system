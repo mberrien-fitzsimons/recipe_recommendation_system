{
 "cells": [
  {
   "cell_type": "markdown",
   "metadata": {},
   "source": [
    "# Finding Meals that Conform to Your Taste Within Budget\n",
    "\n",
    "## Introduction \n",
    "\n",
    "According to a recent [survey](https://www.iol.co.za/lifestyle/food-drink/many-cookbooks-yet-same-old-supper-1824825), although Americans have on average 6 cookbooks in the home, they make the same 9 meals on rotation. Part of this lack of diversity is likely the fear of preparing a new meal that does not conform to your taste profile and goes to waste. \n",
    "\n",
    "### Project Objective\n",
    "\n",
    "In this project, my aim is to help discover new meals that will conform to a users specific tastes within their budget. \n",
    "\n",
    "### Datasets\n",
    "\n",
    "1. **Instacart Market Basket Analysis Datasets**\n",
    "    - order\n",
    "    - ailes: 132 unique store ailes\n",
    "    - departments: 24 unique departments\n",
    "    - products: 49.7k unique products. \n",
    "    \n",
    "    \n",
    "2. **Mariano's Grocery Prices**: \n",
    "\n",
    "\n",
    "3. **Simply Recipes recipe database**\n",
    "\n",
    "### Summery of Results\n",
    "\n",
    "blah blah blah blah "
   ]
  },
  {
   "cell_type": "markdown",
   "metadata": {},
   "source": [
    "## Data Collection and Exploratory Analysis\n",
    "\n",
    "In order to start our project we will need a number of diverse datasets. First, we will need a dataset filled with different users food preferences. Because food rating data is difficult to come by, we can instead use point of purchase grocery store data for users and utilize implicit feedback (i.e., assume that customers that bought an item liked the item). \n",
    "\n",
    "Second, we need a repository of diverse recipes. Although a number of recipe datasets are available online, no dataset that I found has all the required attributes. Because of the lack of appropriate available data, this data will need to be collected from a website via webscraping. \n",
    "\n",
    "Third, we will need a database of grocery prices for pricing our recipes. Because datasets with prices are vew and far between, and quickly outdated, we will need to manually collect grocery pricing data from a store website. "
   ]
  },
  {
   "cell_type": "markdown",
   "metadata": {},
   "source": [
    "### Instacart Market Basket Analysis Datasets"
   ]
  },
  {
   "cell_type": "markdown",
   "metadata": {},
   "source": [
    "Since we have the Instacart Market Basket Analysis Datasets from Kaggle, let's take a look at it to better understand what other data we will need to collect in order to complete this project. "
   ]
  },
  {
   "cell_type": "code",
   "execution_count": 5,
   "metadata": {},
   "outputs": [
    {
     "name": "stdout",
     "output_type": "stream",
     "text": [
      "The autoreload extension is already loaded. To reload it, use:\n",
      "  %reload_ext autoreload\n"
     ]
    }
   ],
   "source": [
    "%load_ext autoreload\n",
    "%autoreload 2\n",
    "\n",
    "import matplotlib.pyplot as plt\n",
    "import numpy as np\n",
    "import os\n",
    "import pandas as pd\n",
    "import sys\n",
    "\n",
    "import warnings\n",
    "warnings.filterwarnings('ignore')\n",
    "\n",
    "src_dir = os.path.join(os.getcwd(), '..', '..', 'src')\n",
    "sys.path.append(src_dir)\n",
    "\n",
    "from d00_utils import utils\n",
    "from d01_data import clean_data\n",
    "from d01_data.web_scraping import sr_scraping"
   ]
  },
  {
   "cell_type": "code",
   "execution_count": 2,
   "metadata": {},
   "outputs": [],
   "source": [
    "aisles = pd.read_csv('../../data/01_raw/instacart_2017_05_01/aisles.csv')\n",
    "departments = pd.read_csv('../../data/01_raw/instacart_2017_05_01/departments.csv')\n",
    "order = pd.read_csv('../../data/01_raw/instacart_2017_05_01/orders.csv')\n",
    "order_products__prior = pd.read_csv('../../data/01_raw/instacart_2017_05_01/order_products__prior.csv')\n",
    "products = pd.read_csv('../../data/01_raw/instacart_2017_05_01/products.csv')"
   ]
  },
  {
   "cell_type": "markdown",
   "metadata": {},
   "source": [
    "Let's combine our instacart kaggle dataset in a way that allows us to see what is in each users basket"
   ]
  },
  {
   "cell_type": "code",
   "execution_count": 6,
   "metadata": {},
   "outputs": [],
   "source": [
    "instacart_baskets = clean_data.combine_instacart_kaggle_datasets(aisles, departments, order, order_products__prior, products)"
   ]
  },
  {
   "cell_type": "code",
   "execution_count": 7,
   "metadata": {},
   "outputs": [
    {
     "data": {
      "text/html": [
       "<div>\n",
       "<style scoped>\n",
       "    .dataframe tbody tr th:only-of-type {\n",
       "        vertical-align: middle;\n",
       "    }\n",
       "\n",
       "    .dataframe tbody tr th {\n",
       "        vertical-align: top;\n",
       "    }\n",
       "\n",
       "    .dataframe thead th {\n",
       "        text-align: right;\n",
       "    }\n",
       "</style>\n",
       "<table border=\"1\" class=\"dataframe\">\n",
       "  <thead>\n",
       "    <tr style=\"text-align: right;\">\n",
       "      <th></th>\n",
       "      <th>order_id</th>\n",
       "      <th>product_id</th>\n",
       "      <th>add_to_cart_order</th>\n",
       "      <th>reordered</th>\n",
       "      <th>user_id</th>\n",
       "      <th>eval_set</th>\n",
       "      <th>order_number</th>\n",
       "      <th>order_dow</th>\n",
       "      <th>order_hour_of_day</th>\n",
       "      <th>days_since_prior_order</th>\n",
       "      <th>product_name</th>\n",
       "      <th>aisle_id</th>\n",
       "      <th>department_id</th>\n",
       "      <th>aisle</th>\n",
       "      <th>department</th>\n",
       "    </tr>\n",
       "  </thead>\n",
       "  <tbody>\n",
       "    <tr>\n",
       "      <th>0</th>\n",
       "      <td>2</td>\n",
       "      <td>33120</td>\n",
       "      <td>1</td>\n",
       "      <td>1</td>\n",
       "      <td>202279</td>\n",
       "      <td>prior</td>\n",
       "      <td>3</td>\n",
       "      <td>5</td>\n",
       "      <td>9</td>\n",
       "      <td>8.0</td>\n",
       "      <td>Organic Egg Whites</td>\n",
       "      <td>86</td>\n",
       "      <td>16</td>\n",
       "      <td>eggs</td>\n",
       "      <td>dairy eggs</td>\n",
       "    </tr>\n",
       "    <tr>\n",
       "      <th>1</th>\n",
       "      <td>2</td>\n",
       "      <td>28985</td>\n",
       "      <td>2</td>\n",
       "      <td>1</td>\n",
       "      <td>202279</td>\n",
       "      <td>prior</td>\n",
       "      <td>3</td>\n",
       "      <td>5</td>\n",
       "      <td>9</td>\n",
       "      <td>8.0</td>\n",
       "      <td>Michigan Organic Kale</td>\n",
       "      <td>83</td>\n",
       "      <td>4</td>\n",
       "      <td>fresh vegetables</td>\n",
       "      <td>produce</td>\n",
       "    </tr>\n",
       "    <tr>\n",
       "      <th>2</th>\n",
       "      <td>2</td>\n",
       "      <td>9327</td>\n",
       "      <td>3</td>\n",
       "      <td>0</td>\n",
       "      <td>202279</td>\n",
       "      <td>prior</td>\n",
       "      <td>3</td>\n",
       "      <td>5</td>\n",
       "      <td>9</td>\n",
       "      <td>8.0</td>\n",
       "      <td>Garlic Powder</td>\n",
       "      <td>104</td>\n",
       "      <td>13</td>\n",
       "      <td>spices seasonings</td>\n",
       "      <td>pantry</td>\n",
       "    </tr>\n",
       "    <tr>\n",
       "      <th>3</th>\n",
       "      <td>2</td>\n",
       "      <td>45918</td>\n",
       "      <td>4</td>\n",
       "      <td>1</td>\n",
       "      <td>202279</td>\n",
       "      <td>prior</td>\n",
       "      <td>3</td>\n",
       "      <td>5</td>\n",
       "      <td>9</td>\n",
       "      <td>8.0</td>\n",
       "      <td>Coconut Butter</td>\n",
       "      <td>19</td>\n",
       "      <td>13</td>\n",
       "      <td>oils vinegars</td>\n",
       "      <td>pantry</td>\n",
       "    </tr>\n",
       "    <tr>\n",
       "      <th>4</th>\n",
       "      <td>2</td>\n",
       "      <td>30035</td>\n",
       "      <td>5</td>\n",
       "      <td>0</td>\n",
       "      <td>202279</td>\n",
       "      <td>prior</td>\n",
       "      <td>3</td>\n",
       "      <td>5</td>\n",
       "      <td>9</td>\n",
       "      <td>8.0</td>\n",
       "      <td>Natural Sweetener</td>\n",
       "      <td>17</td>\n",
       "      <td>13</td>\n",
       "      <td>baking ingredients</td>\n",
       "      <td>pantry</td>\n",
       "    </tr>\n",
       "  </tbody>\n",
       "</table>\n",
       "</div>"
      ],
      "text/plain": [
       "   order_id  product_id  add_to_cart_order  reordered  user_id eval_set  \\\n",
       "0         2       33120                  1          1   202279    prior   \n",
       "1         2       28985                  2          1   202279    prior   \n",
       "2         2        9327                  3          0   202279    prior   \n",
       "3         2       45918                  4          1   202279    prior   \n",
       "4         2       30035                  5          0   202279    prior   \n",
       "\n",
       "   order_number  order_dow  order_hour_of_day  days_since_prior_order  \\\n",
       "0             3          5                  9                     8.0   \n",
       "1             3          5                  9                     8.0   \n",
       "2             3          5                  9                     8.0   \n",
       "3             3          5                  9                     8.0   \n",
       "4             3          5                  9                     8.0   \n",
       "\n",
       "            product_name  aisle_id  department_id               aisle  \\\n",
       "0     Organic Egg Whites        86             16                eggs   \n",
       "1  Michigan Organic Kale        83              4    fresh vegetables   \n",
       "2          Garlic Powder       104             13   spices seasonings   \n",
       "3         Coconut Butter        19             13       oils vinegars   \n",
       "4      Natural Sweetener        17             13  baking ingredients   \n",
       "\n",
       "   department  \n",
       "0  dairy eggs  \n",
       "1     produce  \n",
       "2      pantry  \n",
       "3      pantry  \n",
       "4      pantry  "
      ]
     },
     "execution_count": 7,
     "metadata": {},
     "output_type": "execute_result"
    }
   ],
   "source": [
    "instacart_baskets.head()"
   ]
  },
  {
   "cell_type": "code",
   "execution_count": 8,
   "metadata": {},
   "outputs": [
    {
     "name": "stdout",
     "output_type": "stream",
     "text": [
      "<class 'pandas.core.frame.DataFrame'>\n",
      "Int64Index: 32434489 entries, 0 to 32434488\n",
      "Data columns (total 15 columns):\n",
      "order_id                  int64\n",
      "product_id                int64\n",
      "add_to_cart_order         int64\n",
      "reordered                 int64\n",
      "user_id                   int64\n",
      "eval_set                  object\n",
      "order_number              int64\n",
      "order_dow                 int64\n",
      "order_hour_of_day         int64\n",
      "days_since_prior_order    float64\n",
      "product_name              object\n",
      "aisle_id                  int64\n",
      "department_id             int64\n",
      "aisle                     object\n",
      "department                object\n",
      "dtypes: float64(1), int64(10), object(4)\n",
      "memory usage: 3.9+ GB\n"
     ]
    }
   ],
   "source": [
    "instacart_baskets.info()"
   ]
  },
  {
   "cell_type": "markdown",
   "metadata": {},
   "source": [
    "The highest number of baskets by customer is 99 (this means 99 different orders for each of the 5 customers below). "
   ]
  },
  {
   "cell_type": "code",
   "execution_count": 9,
   "metadata": {},
   "outputs": [
    {
     "data": {
      "text/html": [
       "<div>\n",
       "<style scoped>\n",
       "    .dataframe tbody tr th:only-of-type {\n",
       "        vertical-align: middle;\n",
       "    }\n",
       "\n",
       "    .dataframe tbody tr th {\n",
       "        vertical-align: top;\n",
       "    }\n",
       "\n",
       "    .dataframe thead th {\n",
       "        text-align: right;\n",
       "    }\n",
       "</style>\n",
       "<table border=\"1\" class=\"dataframe\">\n",
       "  <thead>\n",
       "    <tr style=\"text-align: right;\">\n",
       "      <th></th>\n",
       "      <th>order_id</th>\n",
       "    </tr>\n",
       "    <tr>\n",
       "      <th>user_id</th>\n",
       "      <th></th>\n",
       "    </tr>\n",
       "  </thead>\n",
       "  <tbody>\n",
       "    <tr>\n",
       "      <th>152340</th>\n",
       "      <td>99</td>\n",
       "    </tr>\n",
       "    <tr>\n",
       "      <th>185641</th>\n",
       "      <td>99</td>\n",
       "    </tr>\n",
       "    <tr>\n",
       "      <th>185524</th>\n",
       "      <td>99</td>\n",
       "    </tr>\n",
       "    <tr>\n",
       "      <th>81678</th>\n",
       "      <td>99</td>\n",
       "    </tr>\n",
       "    <tr>\n",
       "      <th>70922</th>\n",
       "      <td>99</td>\n",
       "    </tr>\n",
       "  </tbody>\n",
       "</table>\n",
       "</div>"
      ],
      "text/plain": [
       "         order_id\n",
       "user_id          \n",
       "152340         99\n",
       "185641         99\n",
       "185524         99\n",
       "81678          99\n",
       "70922          99"
      ]
     },
     "execution_count": 9,
     "metadata": {},
     "output_type": "execute_result"
    }
   ],
   "source": [
    "pd.DataFrame(instacart_baskets.groupby('user_id')['order_id']\\\n",
    "             .nunique()).sort_values('order_id', ascending=False)\\\n",
    "             .head(5)"
   ]
  },
  {
   "cell_type": "markdown",
   "metadata": {},
   "source": [
    "Now that we have our baskets, let's move onto collecting our recipe dataset. "
   ]
  },
  {
   "cell_type": "markdown",
   "metadata": {},
   "source": [
    "### Recipe Web Scraping - Simply Recipes"
   ]
  },
  {
   "cell_type": "markdown",
   "metadata": {},
   "source": [
    "After conducting research on a number of sites, I chose simplyrecipes.com to scrape for a number of reasons. \n",
    "\n",
    "* The website contained diverse recipes that could appeal to a number of different pallets\n",
    "* Each recipe came pre-tagged with meal and dietary preferences\n",
    "\n",
    "If you would like to scrape the website yourself please run ```sr_scraping()``` in a cell within this notebook. The full script takes around 1.5 hours to run and all files are saved to the ```data/01_raw/simply_recipes``` folder. I'm reading in the scraped and concatenated dataset for convenience. "
   ]
  },
  {
   "cell_type": "code",
   "execution_count": 10,
   "metadata": {},
   "outputs": [],
   "source": [
    "recipes_sr_orig = utils.read_multiple_csv_and_concat('../../data/01_raw/simply_recipes/simply_recipes*')\n",
    "recipes_sr_orig.drop(columns='Unnamed: 0', inplace=True)"
   ]
  },
  {
   "cell_type": "code",
   "execution_count": 18,
   "metadata": {},
   "outputs": [],
   "source": [
    "recipes_sr_inter = clean_data.intermediate_clean_recipes_sr(recipes_sr_orig)"
   ]
  },
  {
   "cell_type": "markdown",
   "metadata": {},
   "source": [
    "At the moment we have 1752 different recipe entries. From a quick glance, some of the things marked as recipes are actually how-to guides. These will need to come out because they don't provide ingredients to base our model off of. "
   ]
  },
  {
   "cell_type": "code",
   "execution_count": 20,
   "metadata": {},
   "outputs": [
    {
     "name": "stdout",
     "output_type": "stream",
     "text": [
      "<class 'pandas.core.frame.DataFrame'>\n",
      "RangeIndex: 1752 entries, 0 to 1751\n",
      "Data columns (total 8 columns):\n",
      "title           1738 non-null object\n",
      "prep_time       1583 non-null object\n",
      "cook_time       1408 non-null object\n",
      "tags            1752 non-null object\n",
      "ingredients     1752 non-null object\n",
      "recipe_yield    1242 non-null object\n",
      "byline          1752 non-null object\n",
      "link_food       1752 non-null object\n",
      "dtypes: object(8)\n",
      "memory usage: 109.6+ KB\n"
     ]
    }
   ],
   "source": [
    "recipes_sr_inter.info()"
   ]
  },
  {
   "cell_type": "code",
   "execution_count": 21,
   "metadata": {},
   "outputs": [
    {
     "data": {
      "text/html": [
       "<div>\n",
       "<style scoped>\n",
       "    .dataframe tbody tr th:only-of-type {\n",
       "        vertical-align: middle;\n",
       "    }\n",
       "\n",
       "    .dataframe tbody tr th {\n",
       "        vertical-align: top;\n",
       "    }\n",
       "\n",
       "    .dataframe thead th {\n",
       "        text-align: right;\n",
       "    }\n",
       "</style>\n",
       "<table border=\"1\" class=\"dataframe\">\n",
       "  <thead>\n",
       "    <tr style=\"text-align: right;\">\n",
       "      <th></th>\n",
       "      <th>title</th>\n",
       "      <th>prep_time</th>\n",
       "      <th>cook_time</th>\n",
       "      <th>tags</th>\n",
       "      <th>ingredients</th>\n",
       "      <th>recipe_yield</th>\n",
       "      <th>byline</th>\n",
       "      <th>link_food</th>\n",
       "    </tr>\n",
       "  </thead>\n",
       "  <tbody>\n",
       "    <tr>\n",
       "      <th>0</th>\n",
       "      <td>Grilled Cheese BLT</td>\n",
       "      <td>10 minutes</td>\n",
       "      <td>10 minutes</td>\n",
       "      <td>['Dinner', 'Lunch', 'Sandwich', 'Favorite Summ...</td>\n",
       "      <td>[8 slices sourdough bread, 4 tablespoon unsalt...</td>\n",
       "      <td>4 sandwiches</td>\n",
       "      <td>Aaron Hutcherson</td>\n",
       "      <td>https://www.simplyrecipes.com/recipes/grilled_...</td>\n",
       "    </tr>\n",
       "    <tr>\n",
       "      <th>1</th>\n",
       "      <td>Pulled Pork Sandwich</td>\n",
       "      <td>10 minutes</td>\n",
       "      <td>2 hours, 45 minutes</td>\n",
       "      <td>['Dinner', 'Sandwich', 'Budget', 'Comfort Food...</td>\n",
       "      <td>[For the sauce:, 1 large onion, chopped, 6 gar...</td>\n",
       "      <td>Serves 6 to 8</td>\n",
       "      <td>Elise Bauer</td>\n",
       "      <td>https://www.simplyrecipes.com/recipes/pulled_p...</td>\n",
       "    </tr>\n",
       "    <tr>\n",
       "      <th>2</th>\n",
       "      <td>How to Make Bacon in the Oven</td>\n",
       "      <td>5 minutes</td>\n",
       "      <td>20 minutes</td>\n",
       "      <td>['Tips', 'Breakfast and Brunch', 'Baking', 'Ho...</td>\n",
       "      <td>[12 strips bacon, 1/2 teaspoon ground black pe...</td>\n",
       "      <td>12 strips</td>\n",
       "      <td>Nick Evans</td>\n",
       "      <td>https://www.simplyrecipes.com/recipes/how_to_m...</td>\n",
       "    </tr>\n",
       "    <tr>\n",
       "      <th>3</th>\n",
       "      <td>Sausage Stuffed Zucchini</td>\n",
       "      <td>15 minutes</td>\n",
       "      <td>1 hour</td>\n",
       "      <td>['Dinner', 'Favorite Summer', 'Make-ahead', 'I...</td>\n",
       "      <td>[2 tablespoons extra virgin olive oil, 1/2 pou...</td>\n",
       "      <td>Serves 4</td>\n",
       "      <td>Elise Bauer</td>\n",
       "      <td>https://www.simplyrecipes.com/recipes/italian_...</td>\n",
       "    </tr>\n",
       "    <tr>\n",
       "      <th>4</th>\n",
       "      <td>The Best Dry Rub for Ribs</td>\n",
       "      <td>5 minutes</td>\n",
       "      <td>NaN</td>\n",
       "      <td>['Favorite Fall', 'Favorite Summer', 'Game Day...</td>\n",
       "      <td>[3/4 cup packed dark brown sugar (or 1/2 cup i...</td>\n",
       "      <td>NaN</td>\n",
       "      <td>Irvin Lin</td>\n",
       "      <td>https://www.simplyrecipes.com/recipes/the_best...</td>\n",
       "    </tr>\n",
       "  </tbody>\n",
       "</table>\n",
       "</div>"
      ],
      "text/plain": [
       "                           title   prep_time            cook_time  \\\n",
       "0             Grilled Cheese BLT  10 minutes           10 minutes   \n",
       "1           Pulled Pork Sandwich  10 minutes  2 hours, 45 minutes   \n",
       "2  How to Make Bacon in the Oven   5 minutes           20 minutes   \n",
       "3       Sausage Stuffed Zucchini  15 minutes               1 hour   \n",
       "4      The Best Dry Rub for Ribs   5 minutes                  NaN   \n",
       "\n",
       "                                                tags  \\\n",
       "0  ['Dinner', 'Lunch', 'Sandwich', 'Favorite Summ...   \n",
       "1  ['Dinner', 'Sandwich', 'Budget', 'Comfort Food...   \n",
       "2  ['Tips', 'Breakfast and Brunch', 'Baking', 'Ho...   \n",
       "3  ['Dinner', 'Favorite Summer', 'Make-ahead', 'I...   \n",
       "4  ['Favorite Fall', 'Favorite Summer', 'Game Day...   \n",
       "\n",
       "                                         ingredients   recipe_yield  \\\n",
       "0  [8 slices sourdough bread, 4 tablespoon unsalt...   4 sandwiches   \n",
       "1  [For the sauce:, 1 large onion, chopped, 6 gar...  Serves 6 to 8   \n",
       "2  [12 strips bacon, 1/2 teaspoon ground black pe...      12 strips   \n",
       "3  [2 tablespoons extra virgin olive oil, 1/2 pou...       Serves 4   \n",
       "4  [3/4 cup packed dark brown sugar (or 1/2 cup i...            NaN   \n",
       "\n",
       "             byline                                          link_food  \n",
       "0  Aaron Hutcherson  https://www.simplyrecipes.com/recipes/grilled_...  \n",
       "1       Elise Bauer  https://www.simplyrecipes.com/recipes/pulled_p...  \n",
       "2        Nick Evans  https://www.simplyrecipes.com/recipes/how_to_m...  \n",
       "3       Elise Bauer  https://www.simplyrecipes.com/recipes/italian_...  \n",
       "4         Irvin Lin  https://www.simplyrecipes.com/recipes/the_best...  "
      ]
     },
     "execution_count": 21,
     "metadata": {},
     "output_type": "execute_result"
    }
   ],
   "source": [
    "recipes_sr_inter.head()"
   ]
  },
  {
   "cell_type": "code",
   "execution_count": null,
   "metadata": {},
   "outputs": [],
   "source": []
  }
 ],
 "metadata": {
  "kernelspec": {
   "display_name": "Python 3",
   "language": "python",
   "name": "python3"
  },
  "language_info": {
   "codemirror_mode": {
    "name": "ipython",
    "version": 3
   },
   "file_extension": ".py",
   "mimetype": "text/x-python",
   "name": "python",
   "nbconvert_exporter": "python",
   "pygments_lexer": "ipython3",
   "version": "3.7.1"
  },
  "toc": {
   "base_numbering": 1,
   "nav_menu": {},
   "number_sections": true,
   "sideBar": true,
   "skip_h1_title": true,
   "title_cell": "Table of Contents",
   "title_sidebar": "Contents",
   "toc_cell": false,
   "toc_position": {},
   "toc_section_display": true,
   "toc_window_display": true
  }
 },
 "nbformat": 4,
 "nbformat_minor": 2
}
