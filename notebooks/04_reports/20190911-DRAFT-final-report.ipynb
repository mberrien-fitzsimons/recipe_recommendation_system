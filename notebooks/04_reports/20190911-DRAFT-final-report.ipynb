{
 "cells": [
  {
   "cell_type": "markdown",
   "metadata": {},
   "source": [
    "# Finding Meals that Conform to Your Taste Within Budget\n",
    "\n",
    "## Introduction \n",
    "\n",
    "According to a recent [survey](https://www.iol.co.za/lifestyle/food-drink/many-cookbooks-yet-same-old-supper-1824825), although Americans have on average 6 cookbooks in the home, they make the same 9 meals on rotation. Part of this lack of diversity is likely the fear of preparing a new meal that does not conform to your taste profile and goes to waste. \n",
    "\n",
    "### Project Objective\n",
    "\n",
    "In this project, my aim is to help discover new meals that will conform to a users specific tastes within their budget. \n",
    "\n",
    "### Datasets\n",
    "\n",
    "1. **Instacart Market Basket Analysis Datasets**\n",
    "    - order\n",
    "    - ailes: 132 unique store ailes\n",
    "    - departments: 24 unique departments\n",
    "    - products: 49.7k unique products. \n",
    "    \n",
    "    \n",
    "2. **Mariano's Grocery Prices**: \n",
    "\n",
    "\n",
    "3. **Simply Recipes recipe database**\n",
    "\n",
    "### Summery of Results\n",
    "\n",
    "blah blah blah blah "
   ]
  },
  {
   "cell_type": "markdown",
   "metadata": {},
   "source": [
    "## Data Collection - Web Crawling\n",
    "\n",
    "In order to start our project we will need to collect three different types of data: \n",
    "* First, we will need a dataset filled with different users food preferences. Because food rating data is difficult to come by, we can instead use point of purchase grocery store data for users and utilize implicit feedback (i.e., assume that customers that bought an item liked the item). \n",
    "\n",
    "* Second, we need a repository of diverse recipes. Although a number of recipe datasets are available online, no dataset that I found has all the required attributes. Because of the lack of appropriate available data, this data will need to be collected from a website via webscraping. \n",
    "\n",
    "* Third, we will need a database of grocery prices for pricing our recipes. Because datasets with prices are and far between, and quickly outdated, we will need to manually collect grocery pricing data from a store website. "
   ]
  },
  {
   "cell_type": "code",
   "execution_count": 35,
   "metadata": {},
   "outputs": [
    {
     "name": "stdout",
     "output_type": "stream",
     "text": [
      "The autoreload extension is already loaded. To reload it, use:\n",
      "  %reload_ext autoreload\n"
     ]
    }
   ],
   "source": [
    "%load_ext autoreload\n",
    "%autoreload 2\n",
    "\n",
    "import matplotlib.pyplot as plt\n",
    "import numpy as np\n",
    "import os\n",
    "import pandas as pd\n",
    "import sys\n",
    "import warnings\n",
    "warnings.filterwarnings('ignore')\n",
    "\n",
    "from selenium import webdriver\n",
    "\n",
    "src_dir = os.path.join(os.getcwd(), '..', '..', 'src')\n",
    "sys.path.append(src_dir)\n",
    "\n",
    "from d00_utils import utils\n",
    "from d01_data import clean_data\n",
    "from d01_data.web_scraping import sr_scraping, marianos_insta_scraping"
   ]
  },
  {
   "cell_type": "markdown",
   "metadata": {},
   "source": [
    "### Recipe Web Scraping - simplyrecipes.com"
   ]
  },
  {
   "cell_type": "markdown",
   "metadata": {},
   "source": [
    "After conducting research on a number of sites, I chose simplyrecipes.com to scrape for a number of reasons. \n",
    "\n",
    "* The website contained diverse recipes that could appeal to a number of different pallets\n",
    "* Each recipe came pre-tagged with meal and dietary preferences\n",
    "\n",
    "If you would like to scrape the website yourself please run ```sr_scraping()``` in a cell within this notebook. The full script takes around 1.5 hours to run and all files are saved to the ```data/01_raw/simply_recipes``` folder. I'm reading in the scraped and concatenated dataset for convenience. "
   ]
  },
  {
   "cell_type": "code",
   "execution_count": 10,
   "metadata": {},
   "outputs": [],
   "source": [
    "recipes_sr_orig = utils.read_multiple_csv_and_concat('../../data/01_raw/simply_recipes/simply_recipes*')\n",
    "recipes_sr_orig.drop(columns='Unnamed: 0', inplace=True)"
   ]
  },
  {
   "cell_type": "code",
   "execution_count": 18,
   "metadata": {},
   "outputs": [],
   "source": [
    "recipes_sr_inter = clean_data.intermediate_clean_recipes_sr(recipes_sr_orig)"
   ]
  },
  {
   "cell_type": "markdown",
   "metadata": {},
   "source": [
    "At the moment we have 1752 different recipe entries. From a quick glance, some of the things marked as recipes are actually how-to guides. These will need to come out because they don't provide ingredients to base our model off of. "
   ]
  },
  {
   "cell_type": "code",
   "execution_count": 22,
   "metadata": {},
   "outputs": [
    {
     "data": {
      "text/html": [
       "<div>\n",
       "<style scoped>\n",
       "    .dataframe tbody tr th:only-of-type {\n",
       "        vertical-align: middle;\n",
       "    }\n",
       "\n",
       "    .dataframe tbody tr th {\n",
       "        vertical-align: top;\n",
       "    }\n",
       "\n",
       "    .dataframe thead th {\n",
       "        text-align: right;\n",
       "    }\n",
       "</style>\n",
       "<table border=\"1\" class=\"dataframe\">\n",
       "  <thead>\n",
       "    <tr style=\"text-align: right;\">\n",
       "      <th></th>\n",
       "      <th>title</th>\n",
       "      <th>prep_time</th>\n",
       "      <th>cook_time</th>\n",
       "      <th>tags</th>\n",
       "      <th>ingredients</th>\n",
       "      <th>recipe_yield</th>\n",
       "      <th>byline</th>\n",
       "      <th>link_food</th>\n",
       "    </tr>\n",
       "  </thead>\n",
       "  <tbody>\n",
       "    <tr>\n",
       "      <th>0</th>\n",
       "      <td>Grilled Cheese BLT</td>\n",
       "      <td>10 minutes</td>\n",
       "      <td>10 minutes</td>\n",
       "      <td>['Dinner', 'Lunch', 'Sandwich', 'Favorite Summ...</td>\n",
       "      <td>[8 slices sourdough bread, 4 tablespoon unsalt...</td>\n",
       "      <td>4 sandwiches</td>\n",
       "      <td>Aaron Hutcherson</td>\n",
       "      <td>https://www.simplyrecipes.com/recipes/grilled_...</td>\n",
       "    </tr>\n",
       "    <tr>\n",
       "      <th>1</th>\n",
       "      <td>Pulled Pork Sandwich</td>\n",
       "      <td>10 minutes</td>\n",
       "      <td>2 hours, 45 minutes</td>\n",
       "      <td>['Dinner', 'Sandwich', 'Budget', 'Comfort Food...</td>\n",
       "      <td>[For the sauce:, 1 large onion, chopped, 6 gar...</td>\n",
       "      <td>Serves 6 to 8</td>\n",
       "      <td>Elise Bauer</td>\n",
       "      <td>https://www.simplyrecipes.com/recipes/pulled_p...</td>\n",
       "    </tr>\n",
       "    <tr>\n",
       "      <th>2</th>\n",
       "      <td>How to Make Bacon in the Oven</td>\n",
       "      <td>5 minutes</td>\n",
       "      <td>20 minutes</td>\n",
       "      <td>['Tips', 'Breakfast and Brunch', 'Baking', 'Ho...</td>\n",
       "      <td>[12 strips bacon, 1/2 teaspoon ground black pe...</td>\n",
       "      <td>12 strips</td>\n",
       "      <td>Nick Evans</td>\n",
       "      <td>https://www.simplyrecipes.com/recipes/how_to_m...</td>\n",
       "    </tr>\n",
       "  </tbody>\n",
       "</table>\n",
       "</div>"
      ],
      "text/plain": [
       "                           title   prep_time            cook_time  \\\n",
       "0             Grilled Cheese BLT  10 minutes           10 minutes   \n",
       "1           Pulled Pork Sandwich  10 minutes  2 hours, 45 minutes   \n",
       "2  How to Make Bacon in the Oven   5 minutes           20 minutes   \n",
       "\n",
       "                                                tags  \\\n",
       "0  ['Dinner', 'Lunch', 'Sandwich', 'Favorite Summ...   \n",
       "1  ['Dinner', 'Sandwich', 'Budget', 'Comfort Food...   \n",
       "2  ['Tips', 'Breakfast and Brunch', 'Baking', 'Ho...   \n",
       "\n",
       "                                         ingredients   recipe_yield  \\\n",
       "0  [8 slices sourdough bread, 4 tablespoon unsalt...   4 sandwiches   \n",
       "1  [For the sauce:, 1 large onion, chopped, 6 gar...  Serves 6 to 8   \n",
       "2  [12 strips bacon, 1/2 teaspoon ground black pe...      12 strips   \n",
       "\n",
       "             byline                                          link_food  \n",
       "0  Aaron Hutcherson  https://www.simplyrecipes.com/recipes/grilled_...  \n",
       "1       Elise Bauer  https://www.simplyrecipes.com/recipes/pulled_p...  \n",
       "2        Nick Evans  https://www.simplyrecipes.com/recipes/how_to_m...  "
      ]
     },
     "execution_count": 22,
     "metadata": {},
     "output_type": "execute_result"
    }
   ],
   "source": [
    "recipes_sr_inter.head(3)"
   ]
  },
  {
   "cell_type": "markdown",
   "metadata": {},
   "source": [
    "### Grocery Price Web Scraping - Chicago's Marianos"
   ]
  },
  {
   "cell_type": "markdown",
   "metadata": {},
   "source": [
    "If you would like to scrape the website yourself please run ```marianos_insta_scraping()``` in a cell within this notebook. The full script takes around 5 hours to run and all files are saved to the ```data/01_raw folder``` as ```prod_aile_*```. Once you run the script selenium will open and you'll need to sign into instacart wit your username and password. After 80 seconds the script will began scraping the site on it's own. \n",
    "\n",
    "Let's go ahead and read in the concatenated files from marianos. "
   ]
  },
  {
   "cell_type": "code",
   "execution_count": 38,
   "metadata": {},
   "outputs": [],
   "source": [
    "grocery_prices_orig = utils.read_multiple_csv_and_concat('../../data/01_raw/grocery_prices_marianos/prod_aile*')"
   ]
  },
  {
   "cell_type": "code",
   "execution_count": 39,
   "metadata": {},
   "outputs": [
    {
     "data": {
      "text/html": [
       "<div>\n",
       "<style scoped>\n",
       "    .dataframe tbody tr th:only-of-type {\n",
       "        vertical-align: middle;\n",
       "    }\n",
       "\n",
       "    .dataframe tbody tr th {\n",
       "        vertical-align: top;\n",
       "    }\n",
       "\n",
       "    .dataframe thead th {\n",
       "        text-align: right;\n",
       "    }\n",
       "</style>\n",
       "<table border=\"1\" class=\"dataframe\">\n",
       "  <thead>\n",
       "    <tr style=\"text-align: right;\">\n",
       "      <th></th>\n",
       "      <th>product</th>\n",
       "      <th>unit_price</th>\n",
       "      <th>item_size</th>\n",
       "      <th>prod_aile</th>\n",
       "    </tr>\n",
       "  </thead>\n",
       "  <tbody>\n",
       "    <tr>\n",
       "      <th>0</th>\n",
       "      <td>Halls Defense Dietary Supplement Drops, Assort...</td>\n",
       "      <td>$1.79</td>\n",
       "      <td>&lt;li class=\"item-card\" data-radium=\"true\"&gt;&lt;div ...</td>\n",
       "      <td>Cold, Flu &amp; Allergy</td>\n",
       "    </tr>\n",
       "    <tr>\n",
       "      <th>1</th>\n",
       "      <td>Halls Suppressant/Oral Anesthetic Halls Relief...</td>\n",
       "      <td>$1.79</td>\n",
       "      <td>&lt;li class=\"item-card\" data-radium=\"true\"&gt;&lt;div ...</td>\n",
       "      <td>Cold, Flu &amp; Allergy</td>\n",
       "    </tr>\n",
       "    <tr>\n",
       "      <th>2</th>\n",
       "      <td>Kroger Co. Mucus Relief Expectorant &amp; Cough Su...</td>\n",
       "      <td>$9.29</td>\n",
       "      <td>&lt;li class=\"item-card\" data-radium=\"true\"&gt;&lt;div ...</td>\n",
       "      <td>Cold, Flu &amp; Allergy</td>\n",
       "    </tr>\n",
       "    <tr>\n",
       "      <th>3</th>\n",
       "      <td>Ricola Sugar Free Lemon Mint Herb Throat Drops</td>\n",
       "      <td>$2.29</td>\n",
       "      <td>&lt;li class=\"item-card\" data-radium=\"true\"&gt;&lt;div ...</td>\n",
       "      <td>Cold, Flu &amp; Allergy</td>\n",
       "    </tr>\n",
       "    <tr>\n",
       "      <th>4</th>\n",
       "      <td>Benadryl Allergy Ultratabs Tablets</td>\n",
       "      <td>$4.99</td>\n",
       "      <td>&lt;li class=\"item-card\" data-radium=\"true\"&gt;&lt;div ...</td>\n",
       "      <td>Cold, Flu &amp; Allergy</td>\n",
       "    </tr>\n",
       "  </tbody>\n",
       "</table>\n",
       "</div>"
      ],
      "text/plain": [
       "                                             product unit_price  \\\n",
       "0  Halls Defense Dietary Supplement Drops, Assort...      $1.79   \n",
       "1  Halls Suppressant/Oral Anesthetic Halls Relief...      $1.79   \n",
       "2  Kroger Co. Mucus Relief Expectorant & Cough Su...      $9.29   \n",
       "3     Ricola Sugar Free Lemon Mint Herb Throat Drops      $2.29   \n",
       "4                 Benadryl Allergy Ultratabs Tablets      $4.99   \n",
       "\n",
       "                                           item_size            prod_aile  \n",
       "0  <li class=\"item-card\" data-radium=\"true\"><div ...  Cold, Flu & Allergy  \n",
       "1  <li class=\"item-card\" data-radium=\"true\"><div ...  Cold, Flu & Allergy  \n",
       "2  <li class=\"item-card\" data-radium=\"true\"><div ...  Cold, Flu & Allergy  \n",
       "3  <li class=\"item-card\" data-radium=\"true\"><div ...  Cold, Flu & Allergy  \n",
       "4  <li class=\"item-card\" data-radium=\"true\"><div ...  Cold, Flu & Allergy  "
      ]
     },
     "execution_count": 39,
     "metadata": {},
     "output_type": "execute_result"
    }
   ],
   "source": [
    "grocery_prices_orig.head()"
   ]
  },
  {
   "cell_type": "code",
   "execution_count": 40,
   "metadata": {},
   "outputs": [],
   "source": [
    "grocery_prices_inter = clean_data.intermediate_clean_marianos_prices(grocery_prices_orig)"
   ]
  },
  {
   "cell_type": "code",
   "execution_count": 42,
   "metadata": {},
   "outputs": [
    {
     "data": {
      "text/html": [
       "<div>\n",
       "<style scoped>\n",
       "    .dataframe tbody tr th:only-of-type {\n",
       "        vertical-align: middle;\n",
       "    }\n",
       "\n",
       "    .dataframe tbody tr th {\n",
       "        vertical-align: top;\n",
       "    }\n",
       "\n",
       "    .dataframe thead th {\n",
       "        text-align: right;\n",
       "    }\n",
       "</style>\n",
       "<table border=\"1\" class=\"dataframe\">\n",
       "  <thead>\n",
       "    <tr style=\"text-align: right;\">\n",
       "      <th></th>\n",
       "      <th>product</th>\n",
       "      <th>main_price</th>\n",
       "      <th>prod_aile</th>\n",
       "      <th>price_per_lb</th>\n",
       "      <th>measure_words_main_price</th>\n",
       "      <th>item_weight_count_vol</th>\n",
       "      <th>date_collected</th>\n",
       "      <th>store</th>\n",
       "      <th>location</th>\n",
       "    </tr>\n",
       "  </thead>\n",
       "  <tbody>\n",
       "    <tr>\n",
       "      <th>0</th>\n",
       "      <td>Halls Defense Dietary Supplement Drops, Assort...</td>\n",
       "      <td>$1.79</td>\n",
       "      <td>Cold, Flu &amp; Allergy</td>\n",
       "      <td>NaN</td>\n",
       "      <td>NaN</td>\n",
       "      <td>30 count</td>\n",
       "      <td>2019-08-28</td>\n",
       "      <td>Marianos</td>\n",
       "      <td>60615</td>\n",
       "    </tr>\n",
       "    <tr>\n",
       "      <th>1</th>\n",
       "      <td>Halls Suppressant/Oral Anesthetic Halls Relief...</td>\n",
       "      <td>$1.79</td>\n",
       "      <td>Cold, Flu &amp; Allergy</td>\n",
       "      <td>NaN</td>\n",
       "      <td>NaN</td>\n",
       "      <td>30 count</td>\n",
       "      <td>2019-08-28</td>\n",
       "      <td>Marianos</td>\n",
       "      <td>60615</td>\n",
       "    </tr>\n",
       "    <tr>\n",
       "      <th>2</th>\n",
       "      <td>Kroger Co. Mucus Relief Expectorant &amp; Cough Su...</td>\n",
       "      <td>$9.29</td>\n",
       "      <td>Cold, Flu &amp; Allergy</td>\n",
       "      <td>NaN</td>\n",
       "      <td>NaN</td>\n",
       "      <td>14 count</td>\n",
       "      <td>2019-08-28</td>\n",
       "      <td>Marianos</td>\n",
       "      <td>60615</td>\n",
       "    </tr>\n",
       "  </tbody>\n",
       "</table>\n",
       "</div>"
      ],
      "text/plain": [
       "                                             product main_price  \\\n",
       "0  Halls Defense Dietary Supplement Drops, Assort...      $1.79   \n",
       "1  Halls Suppressant/Oral Anesthetic Halls Relief...      $1.79   \n",
       "2  Kroger Co. Mucus Relief Expectorant & Cough Su...      $9.29   \n",
       "\n",
       "             prod_aile price_per_lb measure_words_main_price  \\\n",
       "0  Cold, Flu & Allergy          NaN                      NaN   \n",
       "1  Cold, Flu & Allergy          NaN                      NaN   \n",
       "2  Cold, Flu & Allergy          NaN                      NaN   \n",
       "\n",
       "  item_weight_count_vol date_collected     store location  \n",
       "0              30 count     2019-08-28  Marianos    60615  \n",
       "1              30 count     2019-08-28  Marianos    60615  \n",
       "2              14 count     2019-08-28  Marianos    60615  "
      ]
     },
     "execution_count": 42,
     "metadata": {},
     "output_type": "execute_result"
    }
   ],
   "source": [
    "grocery_prices_inter.head(3)"
   ]
  },
  {
   "cell_type": "markdown",
   "metadata": {},
   "source": [
    "## Exploratory Data Analysis"
   ]
  },
  {
   "cell_type": "code",
   "execution_count": 2,
   "metadata": {},
   "outputs": [],
   "source": [
    "aisles = pd.read_csv('../../data/01_raw/instacart_2017_05_01/aisles.csv')\n",
    "departments = pd.read_csv('../../data/01_raw/instacart_2017_05_01/departments.csv')\n",
    "order = pd.read_csv('../../data/01_raw/instacart_2017_05_01/orders.csv')\n",
    "order_products__prior = pd.read_csv('../../data/01_raw/instacart_2017_05_01/order_products__prior.csv')\n",
    "products = pd.read_csv('../../data/01_raw/instacart_2017_05_01/products.csv')"
   ]
  },
  {
   "cell_type": "markdown",
   "metadata": {},
   "source": [
    "Let's combine our instacart kaggle dataset in a way that allows us to see what is in each users basket"
   ]
  },
  {
   "cell_type": "code",
   "execution_count": 6,
   "metadata": {},
   "outputs": [],
   "source": [
    "instacart_baskets = clean_data.combine_instacart_kaggle_datasets(aisles, \n",
    "                                                                 departments, \n",
    "                                                                 order, \n",
    "                                                                 order_products__prior, \n",
    "                                                                 products)\n",
    "instacart_baskets.head()"
   ]
  },
  {
   "cell_type": "code",
   "execution_count": 8,
   "metadata": {},
   "outputs": [
    {
     "name": "stdout",
     "output_type": "stream",
     "text": [
      "<class 'pandas.core.frame.DataFrame'>\n",
      "Int64Index: 32434489 entries, 0 to 32434488\n",
      "Data columns (total 15 columns):\n",
      "order_id                  int64\n",
      "product_id                int64\n",
      "add_to_cart_order         int64\n",
      "reordered                 int64\n",
      "user_id                   int64\n",
      "eval_set                  object\n",
      "order_number              int64\n",
      "order_dow                 int64\n",
      "order_hour_of_day         int64\n",
      "days_since_prior_order    float64\n",
      "product_name              object\n",
      "aisle_id                  int64\n",
      "department_id             int64\n",
      "aisle                     object\n",
      "department                object\n",
      "dtypes: float64(1), int64(10), object(4)\n",
      "memory usage: 3.9+ GB\n"
     ]
    }
   ],
   "source": [
    "instacart_baskets.info()"
   ]
  },
  {
   "cell_type": "markdown",
   "metadata": {},
   "source": [
    "The highest number of baskets by customer is 99 (this means 99 different orders for each of the 5 customers below). "
   ]
  },
  {
   "cell_type": "code",
   "execution_count": 9,
   "metadata": {},
   "outputs": [
    {
     "data": {
      "text/html": [
       "<div>\n",
       "<style scoped>\n",
       "    .dataframe tbody tr th:only-of-type {\n",
       "        vertical-align: middle;\n",
       "    }\n",
       "\n",
       "    .dataframe tbody tr th {\n",
       "        vertical-align: top;\n",
       "    }\n",
       "\n",
       "    .dataframe thead th {\n",
       "        text-align: right;\n",
       "    }\n",
       "</style>\n",
       "<table border=\"1\" class=\"dataframe\">\n",
       "  <thead>\n",
       "    <tr style=\"text-align: right;\">\n",
       "      <th></th>\n",
       "      <th>order_id</th>\n",
       "    </tr>\n",
       "    <tr>\n",
       "      <th>user_id</th>\n",
       "      <th></th>\n",
       "    </tr>\n",
       "  </thead>\n",
       "  <tbody>\n",
       "    <tr>\n",
       "      <th>152340</th>\n",
       "      <td>99</td>\n",
       "    </tr>\n",
       "    <tr>\n",
       "      <th>185641</th>\n",
       "      <td>99</td>\n",
       "    </tr>\n",
       "    <tr>\n",
       "      <th>185524</th>\n",
       "      <td>99</td>\n",
       "    </tr>\n",
       "    <tr>\n",
       "      <th>81678</th>\n",
       "      <td>99</td>\n",
       "    </tr>\n",
       "    <tr>\n",
       "      <th>70922</th>\n",
       "      <td>99</td>\n",
       "    </tr>\n",
       "  </tbody>\n",
       "</table>\n",
       "</div>"
      ],
      "text/plain": [
       "         order_id\n",
       "user_id          \n",
       "152340         99\n",
       "185641         99\n",
       "185524         99\n",
       "81678          99\n",
       "70922          99"
      ]
     },
     "execution_count": 9,
     "metadata": {},
     "output_type": "execute_result"
    }
   ],
   "source": [
    "pd.DataFrame(instacart_baskets.groupby('user_id')['order_id']\\\n",
    "             .nunique()).sort_values('order_id', ascending=False)\\\n",
    "             .head(5)"
   ]
  }
 ],
 "metadata": {
  "kernelspec": {
   "display_name": "Python 3",
   "language": "python",
   "name": "python3"
  },
  "language_info": {
   "codemirror_mode": {
    "name": "ipython",
    "version": 3
   },
   "file_extension": ".py",
   "mimetype": "text/x-python",
   "name": "python",
   "nbconvert_exporter": "python",
   "pygments_lexer": "ipython3",
   "version": "3.7.1"
  },
  "toc": {
   "base_numbering": 1,
   "nav_menu": {},
   "number_sections": true,
   "sideBar": true,
   "skip_h1_title": true,
   "title_cell": "Table of Contents",
   "title_sidebar": "Contents",
   "toc_cell": false,
   "toc_position": {},
   "toc_section_display": true,
   "toc_window_display": false
  }
 },
 "nbformat": 4,
 "nbformat_minor": 2
}
