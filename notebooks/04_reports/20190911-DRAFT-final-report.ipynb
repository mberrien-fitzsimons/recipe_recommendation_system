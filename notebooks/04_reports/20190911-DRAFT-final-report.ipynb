{
 "cells": [
  {
   "cell_type": "markdown",
   "metadata": {},
   "source": [
    "# Finding Meals that Conform to Your Taste \n",
    "\n",
    "## Introduction \n",
    "\n",
    "According to a recent [survey](https://www.iol.co.za/lifestyle/food-drink/many-cookbooks-yet-same-old-supper-1824825), the average Briton has a rotation of nine different recipes. Part of this lack of diversity is likely the fear of preparing a meal that doesn't conform to your tastes and being forced to throw it out. \n",
    "\n",
    "### Project Objective\n",
    "\n",
    "For this project, we will create a recipe recommendation engine based on your tastes and customize your weekly menu within seconds. \n",
    "\n",
    "Our aim is to diversify your menu by helping you discover new meals that incorporate flavors that you already love, using items you already buy. \n",
    "\n",
    "### Datasets\n",
    "\n",
    "1. **Instacart Market Basket Analysis Datasets**\n",
    "    - order\n",
    "    - ailes: 132 unique store ailes\n",
    "    - departments: 24 unique departments\n",
    "    - products: 49.7k unique products. \n",
    "    \n",
    "    \n",
    "2. **Mariano's Grocery Prices**: \n",
    "\n",
    "3. **Simply Recipes recipe database**\n",
    "\n",
    "4. **Model Training Datasets**: \n",
    "    - nyt-ingredients-snapshot-2015\n",
    "    - marianos_product_train_complete\n",
    "    - instacart_product_train\n",
    "\n",
    "### Summery of Results\n",
    "\n",
    "blah blah blah blah "
   ]
  },
  {
   "cell_type": "markdown",
   "metadata": {},
   "source": [
    "## Data Collection - Web Crawling\n",
    "\n",
    "In order to start our project we will need to collect three different types of data: \n",
    "* First, we will need a dataset filled with different users food preferences. Because food rating data is difficult to come by, we can instead use point of purchase grocery store data for users and utilize implicit feedback (i.e., assume that customers that bought an item liked the item). \n",
    "\n",
    "* Second, we need a repository of diverse recipes. Although a number of recipe datasets are available online, no dataset that I found has all the required attributes. Because of the lack of appropriate available data, this data will need to be collected from a website via webscraping. \n",
    "\n",
    "* Third, we will need a database of grocery prices for pricing our recipes. Because datasets with prices are and far between, and quickly outdated, we will need to manually collect grocery pricing data from a store website. "
   ]
  },
  {
   "cell_type": "code",
   "execution_count": 60,
   "metadata": {},
   "outputs": [
    {
     "name": "stdout",
     "output_type": "stream",
     "text": [
      "The autoreload extension is already loaded. To reload it, use:\n",
      "  %reload_ext autoreload\n"
     ]
    },
    {
     "name": "stderr",
     "output_type": "stream",
     "text": [
      "[nltk_data] Downloading package averaged_perceptron_tagger to\n",
      "[nltk_data]     /Users/markishab/nltk_data...\n",
      "[nltk_data]   Package averaged_perceptron_tagger is already up-to-\n",
      "[nltk_data]       date!\n"
     ]
    }
   ],
   "source": [
    "%load_ext autoreload\n",
    "%autoreload 2\n",
    "\n",
    "import argparse\n",
    "import matplotlib.pyplot as plt\n",
    "import nltk\n",
    "import numpy as np\n",
    "import os\n",
    "import pandas as pd\n",
    "import pycrfsuite\n",
    "import re\n",
    "import sys\n",
    "import warnings\n",
    "nltk.download('averaged_perceptron_tagger')\n",
    "warnings.filterwarnings('ignore')\n",
    "\n",
    "from selenium import webdriver\n",
    "from sklearn.model_selection import train_test_split\n",
    "from sklearn.metrics import classification_report\n",
    "from sklearn.preprocessing import MultiLabelBinarizer\n",
    "\n",
    "src_dir = os.path.join(os.getcwd(), '..', '..', 'src')\n",
    "sys.path.append(src_dir)\n",
    "\n",
    "from d00_utils import utils\n",
    "from d01_data import clean_data\n",
    "from d01_data.web_scraping import sr_scraping, marianos_insta_scraping\n",
    "from d02_features.feature_creation import nyt_ingredients_crf_feature_creation"
   ]
  },
  {
   "cell_type": "markdown",
   "metadata": {},
   "source": [
    "### Recipe Web Scraping - simplyrecipes.com"
   ]
  },
  {
   "cell_type": "markdown",
   "metadata": {},
   "source": [
    "After conducting research on a number of sites, I chose simplyrecipes.com to scrape for a number of reasons. \n",
    "\n",
    "* The website contained diverse recipes that could appeal to a number of different pallets\n",
    "* Each recipe came pre-tagged with meal and dietary preferences\n",
    "\n",
    "If you would like to scrape the website yourself please run ```sr_scraping()``` in a cell within this notebook. The full script takes around 1.5 hours to run and all files are saved to the ```data/01_raw/simply_recipes``` folder. I'm reading in the scraped and concatenated dataset for convenience. "
   ]
  },
  {
   "cell_type": "code",
   "execution_count": 10,
   "metadata": {},
   "outputs": [],
   "source": [
    "recipes_sr_orig = utils.read_multiple_csv_and_concat('../../data/01_raw/simply_recipes/simply_recipes*')\n",
    "recipes_sr_orig.drop(columns='Unnamed: 0', inplace=True)"
   ]
  },
  {
   "cell_type": "code",
   "execution_count": 18,
   "metadata": {},
   "outputs": [],
   "source": [
    "recipes_sr_inter = clean_data.intermediate_clean_recipes_sr(recipes_sr_orig)"
   ]
  },
  {
   "cell_type": "markdown",
   "metadata": {},
   "source": [
    "At the moment we have 1752 different recipe entries. From a quick glance, some of the things marked as recipes are actually how-to guides. These will need to come out because they don't provide ingredients to base our model off of. "
   ]
  },
  {
   "cell_type": "code",
   "execution_count": 44,
   "metadata": {},
   "outputs": [
    {
     "data": {
      "text/html": [
       "<div>\n",
       "<style scoped>\n",
       "    .dataframe tbody tr th:only-of-type {\n",
       "        vertical-align: middle;\n",
       "    }\n",
       "\n",
       "    .dataframe tbody tr th {\n",
       "        vertical-align: top;\n",
       "    }\n",
       "\n",
       "    .dataframe thead th {\n",
       "        text-align: right;\n",
       "    }\n",
       "</style>\n",
       "<table border=\"1\" class=\"dataframe\">\n",
       "  <thead>\n",
       "    <tr style=\"text-align: right;\">\n",
       "      <th></th>\n",
       "      <th>title</th>\n",
       "      <th>prep_time</th>\n",
       "      <th>cook_time</th>\n",
       "      <th>tags</th>\n",
       "      <th>ingredients</th>\n",
       "      <th>recipe_yield</th>\n",
       "      <th>byline</th>\n",
       "      <th>link_food</th>\n",
       "    </tr>\n",
       "  </thead>\n",
       "  <tbody>\n",
       "    <tr>\n",
       "      <th>0</th>\n",
       "      <td>Grilled Cheese BLT</td>\n",
       "      <td>10 minutes</td>\n",
       "      <td>10 minutes</td>\n",
       "      <td>['Dinner', 'Lunch', 'Sandwich', 'Favorite Summ...</td>\n",
       "      <td>[8 slices sourdough bread, 4 tablespoon unsalt...</td>\n",
       "      <td>4 sandwiches</td>\n",
       "      <td>Aaron Hutcherson</td>\n",
       "      <td>https://www.simplyrecipes.com/recipes/grilled_...</td>\n",
       "    </tr>\n",
       "    <tr>\n",
       "      <th>1</th>\n",
       "      <td>Pulled Pork Sandwich</td>\n",
       "      <td>10 minutes</td>\n",
       "      <td>2 hours, 45 minutes</td>\n",
       "      <td>['Dinner', 'Sandwich', 'Budget', 'Comfort Food...</td>\n",
       "      <td>[For the sauce:, 1 large onion, chopped, 6 gar...</td>\n",
       "      <td>Serves 6 to 8</td>\n",
       "      <td>Elise Bauer</td>\n",
       "      <td>https://www.simplyrecipes.com/recipes/pulled_p...</td>\n",
       "    </tr>\n",
       "  </tbody>\n",
       "</table>\n",
       "</div>"
      ],
      "text/plain": [
       "                  title   prep_time            cook_time  \\\n",
       "0    Grilled Cheese BLT  10 minutes           10 minutes   \n",
       "1  Pulled Pork Sandwich  10 minutes  2 hours, 45 minutes   \n",
       "\n",
       "                                                tags  \\\n",
       "0  ['Dinner', 'Lunch', 'Sandwich', 'Favorite Summ...   \n",
       "1  ['Dinner', 'Sandwich', 'Budget', 'Comfort Food...   \n",
       "\n",
       "                                         ingredients   recipe_yield  \\\n",
       "0  [8 slices sourdough bread, 4 tablespoon unsalt...   4 sandwiches   \n",
       "1  [For the sauce:, 1 large onion, chopped, 6 gar...  Serves 6 to 8   \n",
       "\n",
       "             byline                                          link_food  \n",
       "0  Aaron Hutcherson  https://www.simplyrecipes.com/recipes/grilled_...  \n",
       "1       Elise Bauer  https://www.simplyrecipes.com/recipes/pulled_p...  "
      ]
     },
     "execution_count": 44,
     "metadata": {},
     "output_type": "execute_result"
    }
   ],
   "source": [
    "recipes_sr_inter.head(2)"
   ]
  },
  {
   "cell_type": "markdown",
   "metadata": {},
   "source": [
    "### Grocery Price Web Scraping - Chicago's Marianos"
   ]
  },
  {
   "cell_type": "markdown",
   "metadata": {},
   "source": [
    "If you would like to scrape the website yourself please run ```marianos_insta_scraping()``` in a cell within this notebook. The full script takes around 5 hours to run and all files are saved to the ```data/01_raw folder``` as ```prod_aile_*```. Once you run the script selenium will open and you'll need to sign into instacart wit your username and password. After 80 seconds the script will began scraping the site on it's own. \n",
    "\n",
    "Let's go ahead and read in the concatenated files from marianos. "
   ]
  },
  {
   "cell_type": "code",
   "execution_count": 38,
   "metadata": {},
   "outputs": [],
   "source": [
    "grocery_prices_orig = utils.read_multiple_csv_and_concat('../../data/01_raw/grocery_prices_marianos/prod_aile*')"
   ]
  },
  {
   "cell_type": "code",
   "execution_count": 45,
   "metadata": {},
   "outputs": [
    {
     "data": {
      "text/html": [
       "<div>\n",
       "<style scoped>\n",
       "    .dataframe tbody tr th:only-of-type {\n",
       "        vertical-align: middle;\n",
       "    }\n",
       "\n",
       "    .dataframe tbody tr th {\n",
       "        vertical-align: top;\n",
       "    }\n",
       "\n",
       "    .dataframe thead th {\n",
       "        text-align: right;\n",
       "    }\n",
       "</style>\n",
       "<table border=\"1\" class=\"dataframe\">\n",
       "  <thead>\n",
       "    <tr style=\"text-align: right;\">\n",
       "      <th></th>\n",
       "      <th>product</th>\n",
       "      <th>main_price</th>\n",
       "      <th>prod_aile</th>\n",
       "      <th>price_per_lb</th>\n",
       "      <th>measure_words_main_price</th>\n",
       "      <th>item_weight_count_vol</th>\n",
       "      <th>date_collected</th>\n",
       "      <th>store</th>\n",
       "      <th>location</th>\n",
       "    </tr>\n",
       "  </thead>\n",
       "  <tbody>\n",
       "    <tr>\n",
       "      <th>0</th>\n",
       "      <td>Halls Defense Dietary Supplement Drops, Assort...</td>\n",
       "      <td>$1.79</td>\n",
       "      <td>Cold, Flu &amp; Allergy</td>\n",
       "      <td>NaN</td>\n",
       "      <td>NaN</td>\n",
       "      <td>30 count</td>\n",
       "      <td>2019-08-28</td>\n",
       "      <td>Marianos</td>\n",
       "      <td>60615</td>\n",
       "    </tr>\n",
       "    <tr>\n",
       "      <th>1</th>\n",
       "      <td>Halls Suppressant/Oral Anesthetic Halls Relief...</td>\n",
       "      <td>$1.79</td>\n",
       "      <td>Cold, Flu &amp; Allergy</td>\n",
       "      <td>NaN</td>\n",
       "      <td>NaN</td>\n",
       "      <td>30 count</td>\n",
       "      <td>2019-08-28</td>\n",
       "      <td>Marianos</td>\n",
       "      <td>60615</td>\n",
       "    </tr>\n",
       "  </tbody>\n",
       "</table>\n",
       "</div>"
      ],
      "text/plain": [
       "                                             product main_price  \\\n",
       "0  Halls Defense Dietary Supplement Drops, Assort...      $1.79   \n",
       "1  Halls Suppressant/Oral Anesthetic Halls Relief...      $1.79   \n",
       "\n",
       "             prod_aile price_per_lb measure_words_main_price  \\\n",
       "0  Cold, Flu & Allergy          NaN                      NaN   \n",
       "1  Cold, Flu & Allergy          NaN                      NaN   \n",
       "\n",
       "  item_weight_count_vol date_collected     store location  \n",
       "0              30 count     2019-08-28  Marianos    60615  \n",
       "1              30 count     2019-08-28  Marianos    60615  "
      ]
     },
     "execution_count": 45,
     "metadata": {},
     "output_type": "execute_result"
    }
   ],
   "source": [
    "grocery_prices_orig.head(2)"
   ]
  },
  {
   "cell_type": "code",
   "execution_count": 40,
   "metadata": {},
   "outputs": [],
   "source": [
    "grocery_prices_inter = clean_data.intermediate_clean_marianos_prices(grocery_prices_orig)"
   ]
  },
  {
   "cell_type": "code",
   "execution_count": 46,
   "metadata": {},
   "outputs": [
    {
     "data": {
      "text/html": [
       "<div>\n",
       "<style scoped>\n",
       "    .dataframe tbody tr th:only-of-type {\n",
       "        vertical-align: middle;\n",
       "    }\n",
       "\n",
       "    .dataframe tbody tr th {\n",
       "        vertical-align: top;\n",
       "    }\n",
       "\n",
       "    .dataframe thead th {\n",
       "        text-align: right;\n",
       "    }\n",
       "</style>\n",
       "<table border=\"1\" class=\"dataframe\">\n",
       "  <thead>\n",
       "    <tr style=\"text-align: right;\">\n",
       "      <th></th>\n",
       "      <th>product</th>\n",
       "      <th>main_price</th>\n",
       "      <th>prod_aile</th>\n",
       "      <th>price_per_lb</th>\n",
       "      <th>measure_words_main_price</th>\n",
       "      <th>item_weight_count_vol</th>\n",
       "      <th>date_collected</th>\n",
       "      <th>store</th>\n",
       "      <th>location</th>\n",
       "    </tr>\n",
       "  </thead>\n",
       "  <tbody>\n",
       "    <tr>\n",
       "      <th>0</th>\n",
       "      <td>Halls Defense Dietary Supplement Drops, Assort...</td>\n",
       "      <td>$1.79</td>\n",
       "      <td>Cold, Flu &amp; Allergy</td>\n",
       "      <td>NaN</td>\n",
       "      <td>NaN</td>\n",
       "      <td>30 count</td>\n",
       "      <td>2019-08-28</td>\n",
       "      <td>Marianos</td>\n",
       "      <td>60615</td>\n",
       "    </tr>\n",
       "    <tr>\n",
       "      <th>1</th>\n",
       "      <td>Halls Suppressant/Oral Anesthetic Halls Relief...</td>\n",
       "      <td>$1.79</td>\n",
       "      <td>Cold, Flu &amp; Allergy</td>\n",
       "      <td>NaN</td>\n",
       "      <td>NaN</td>\n",
       "      <td>30 count</td>\n",
       "      <td>2019-08-28</td>\n",
       "      <td>Marianos</td>\n",
       "      <td>60615</td>\n",
       "    </tr>\n",
       "  </tbody>\n",
       "</table>\n",
       "</div>"
      ],
      "text/plain": [
       "                                             product main_price  \\\n",
       "0  Halls Defense Dietary Supplement Drops, Assort...      $1.79   \n",
       "1  Halls Suppressant/Oral Anesthetic Halls Relief...      $1.79   \n",
       "\n",
       "             prod_aile price_per_lb measure_words_main_price  \\\n",
       "0  Cold, Flu & Allergy          NaN                      NaN   \n",
       "1  Cold, Flu & Allergy          NaN                      NaN   \n",
       "\n",
       "  item_weight_count_vol date_collected     store location  \n",
       "0              30 count     2019-08-28  Marianos    60615  \n",
       "1              30 count     2019-08-28  Marianos    60615  "
      ]
     },
     "execution_count": 46,
     "metadata": {},
     "output_type": "execute_result"
    }
   ],
   "source": [
    "grocery_prices_inter.head(2)"
   ]
  },
  {
   "cell_type": "markdown",
   "metadata": {},
   "source": [
    "## Exploratory Data Analysis"
   ]
  },
  {
   "cell_type": "markdown",
   "metadata": {},
   "source": [
    "### Instacart Market Basket Analysis Datasets"
   ]
  },
  {
   "cell_type": "markdown",
   "metadata": {},
   "source": [
    "Let's read in our datasets and merge them so that we can see what each user purchased. "
   ]
  },
  {
   "cell_type": "code",
   "execution_count": 2,
   "metadata": {},
   "outputs": [],
   "source": [
    "aisles = pd.read_csv('../../data/01_raw/instacart_2017_05_01/aisles.csv')\n",
    "departments = pd.read_csv('../../data/01_raw/instacart_2017_05_01/departments.csv')\n",
    "order = pd.read_csv('../../data/01_raw/instacart_2017_05_01/orders.csv')\n",
    "order_products__prior = pd.read_csv('../../data/01_raw/instacart_2017_05_01/order_products__prior.csv')\n",
    "products = pd.read_csv('../../data/01_raw/instacart_2017_05_01/products.csv')"
   ]
  },
  {
   "cell_type": "code",
   "execution_count": 6,
   "metadata": {},
   "outputs": [],
   "source": [
    "instacart_baskets = clean_data.combine_instacart_kaggle_datasets(aisles, departments, order, \n",
    "                                                                 order_products__prior, products)\n",
    "instacart_baskets.head()"
   ]
  },
  {
   "cell_type": "code",
   "execution_count": 8,
   "metadata": {},
   "outputs": [
    {
     "name": "stdout",
     "output_type": "stream",
     "text": [
      "<class 'pandas.core.frame.DataFrame'>\n",
      "Int64Index: 32434489 entries, 0 to 32434488\n",
      "Data columns (total 15 columns):\n",
      "order_id                  int64\n",
      "product_id                int64\n",
      "add_to_cart_order         int64\n",
      "reordered                 int64\n",
      "user_id                   int64\n",
      "eval_set                  object\n",
      "order_number              int64\n",
      "order_dow                 int64\n",
      "order_hour_of_day         int64\n",
      "days_since_prior_order    float64\n",
      "product_name              object\n",
      "aisle_id                  int64\n",
      "department_id             int64\n",
      "aisle                     object\n",
      "department                object\n",
      "dtypes: float64(1), int64(10), object(4)\n",
      "memory usage: 3.9+ GB\n"
     ]
    }
   ],
   "source": [
    "instacart_baskets.info()"
   ]
  },
  {
   "cell_type": "markdown",
   "metadata": {},
   "source": [
    "The highest number of baskets by customer is 99 (this means 99 different orders for each of the 5 customers below). "
   ]
  },
  {
   "cell_type": "code",
   "execution_count": 9,
   "metadata": {
    "scrolled": false
   },
   "outputs": [
    {
     "data": {
      "text/html": [
       "<div>\n",
       "<style scoped>\n",
       "    .dataframe tbody tr th:only-of-type {\n",
       "        vertical-align: middle;\n",
       "    }\n",
       "\n",
       "    .dataframe tbody tr th {\n",
       "        vertical-align: top;\n",
       "    }\n",
       "\n",
       "    .dataframe thead th {\n",
       "        text-align: right;\n",
       "    }\n",
       "</style>\n",
       "<table border=\"1\" class=\"dataframe\">\n",
       "  <thead>\n",
       "    <tr style=\"text-align: right;\">\n",
       "      <th></th>\n",
       "      <th>order_id</th>\n",
       "    </tr>\n",
       "    <tr>\n",
       "      <th>user_id</th>\n",
       "      <th></th>\n",
       "    </tr>\n",
       "  </thead>\n",
       "  <tbody>\n",
       "    <tr>\n",
       "      <th>152340</th>\n",
       "      <td>99</td>\n",
       "    </tr>\n",
       "    <tr>\n",
       "      <th>185641</th>\n",
       "      <td>99</td>\n",
       "    </tr>\n",
       "    <tr>\n",
       "      <th>185524</th>\n",
       "      <td>99</td>\n",
       "    </tr>\n",
       "    <tr>\n",
       "      <th>81678</th>\n",
       "      <td>99</td>\n",
       "    </tr>\n",
       "    <tr>\n",
       "      <th>70922</th>\n",
       "      <td>99</td>\n",
       "    </tr>\n",
       "  </tbody>\n",
       "</table>\n",
       "</div>"
      ],
      "text/plain": [
       "         order_id\n",
       "user_id          \n",
       "152340         99\n",
       "185641         99\n",
       "185524         99\n",
       "81678          99\n",
       "70922          99"
      ]
     },
     "execution_count": 9,
     "metadata": {},
     "output_type": "execute_result"
    }
   ],
   "source": [
    "pd.DataFrame(instacart_baskets.groupby('user_id')['order_id']\\\n",
    "             .nunique()).sort_values('order_id', ascending=False)\\\n",
    "             .head(5)"
   ]
  },
  {
   "cell_type": "markdown",
   "metadata": {},
   "source": [
    "### Simply Recipes' Recipe Dataset"
   ]
  },
  {
   "cell_type": "code",
   "execution_count": 54,
   "metadata": {},
   "outputs": [
    {
     "data": {
      "text/html": [
       "<div>\n",
       "<style scoped>\n",
       "    .dataframe tbody tr th:only-of-type {\n",
       "        vertical-align: middle;\n",
       "    }\n",
       "\n",
       "    .dataframe tbody tr th {\n",
       "        vertical-align: top;\n",
       "    }\n",
       "\n",
       "    .dataframe thead th {\n",
       "        text-align: right;\n",
       "    }\n",
       "</style>\n",
       "<table border=\"1\" class=\"dataframe\">\n",
       "  <thead>\n",
       "    <tr style=\"text-align: right;\">\n",
       "      <th></th>\n",
       "      <th>title</th>\n",
       "      <th>prep_time</th>\n",
       "      <th>cook_time</th>\n",
       "      <th>tags</th>\n",
       "      <th>ingredients</th>\n",
       "      <th>recipe_yield</th>\n",
       "      <th>byline</th>\n",
       "      <th>link_food</th>\n",
       "    </tr>\n",
       "  </thead>\n",
       "  <tbody>\n",
       "    <tr>\n",
       "      <th>0</th>\n",
       "      <td>Grilled Cheese BLT</td>\n",
       "      <td>10 minutes</td>\n",
       "      <td>10 minutes</td>\n",
       "      <td>['Dinner', 'Lunch', 'Sandwich', 'Favorite Summ...</td>\n",
       "      <td>[8 slices sourdough bread, 4 tablespoon unsalt...</td>\n",
       "      <td>4 sandwiches</td>\n",
       "      <td>Aaron Hutcherson</td>\n",
       "      <td>https://www.simplyrecipes.com/recipes/grilled_...</td>\n",
       "    </tr>\n",
       "    <tr>\n",
       "      <th>1</th>\n",
       "      <td>Pulled Pork Sandwich</td>\n",
       "      <td>10 minutes</td>\n",
       "      <td>2 hours, 45 minutes</td>\n",
       "      <td>['Dinner', 'Sandwich', 'Budget', 'Comfort Food...</td>\n",
       "      <td>[For the sauce:, 1 large onion, chopped, 6 gar...</td>\n",
       "      <td>Serves 6 to 8</td>\n",
       "      <td>Elise Bauer</td>\n",
       "      <td>https://www.simplyrecipes.com/recipes/pulled_p...</td>\n",
       "    </tr>\n",
       "  </tbody>\n",
       "</table>\n",
       "</div>"
      ],
      "text/plain": [
       "                  title   prep_time            cook_time  \\\n",
       "0    Grilled Cheese BLT  10 minutes           10 minutes   \n",
       "1  Pulled Pork Sandwich  10 minutes  2 hours, 45 minutes   \n",
       "\n",
       "                                                tags  \\\n",
       "0  ['Dinner', 'Lunch', 'Sandwich', 'Favorite Summ...   \n",
       "1  ['Dinner', 'Sandwich', 'Budget', 'Comfort Food...   \n",
       "\n",
       "                                         ingredients   recipe_yield  \\\n",
       "0  [8 slices sourdough bread, 4 tablespoon unsalt...   4 sandwiches   \n",
       "1  [For the sauce:, 1 large onion, chopped, 6 gar...  Serves 6 to 8   \n",
       "\n",
       "             byline                                          link_food  \n",
       "0  Aaron Hutcherson  https://www.simplyrecipes.com/recipes/grilled_...  \n",
       "1       Elise Bauer  https://www.simplyrecipes.com/recipes/pulled_p...  "
      ]
     },
     "execution_count": 54,
     "metadata": {},
     "output_type": "execute_result"
    }
   ],
   "source": [
    "recipes_sr_inter.head(2)"
   ]
  },
  {
   "cell_type": "code",
   "execution_count": 48,
   "metadata": {},
   "outputs": [
    {
     "name": "stdout",
     "output_type": "stream",
     "text": [
      "<class 'pandas.core.frame.DataFrame'>\n",
      "RangeIndex: 1752 entries, 0 to 1751\n",
      "Data columns (total 8 columns):\n",
      "title           1738 non-null object\n",
      "prep_time       1583 non-null object\n",
      "cook_time       1408 non-null object\n",
      "tags            1752 non-null object\n",
      "ingredients     1752 non-null object\n",
      "recipe_yield    1242 non-null object\n",
      "byline          1752 non-null object\n",
      "link_food       1752 non-null object\n",
      "dtypes: object(8)\n",
      "memory usage: 109.6+ KB\n"
     ]
    }
   ],
   "source": [
    "recipes_sr_inter.info()"
   ]
  },
  {
   "cell_type": "code",
   "execution_count": 49,
   "metadata": {},
   "outputs": [
    {
     "name": "stdout",
     "output_type": "stream",
     "text": [
      "Number of unique recipes:  1752\n"
     ]
    }
   ],
   "source": [
    "print('Number of unique recipes: ', len(recipes_sr_inter))"
   ]
  },
  {
   "cell_type": "markdown",
   "metadata": {},
   "source": [
    "### Mariano's Grocery Prices Dataset"
   ]
  },
  {
   "cell_type": "code",
   "execution_count": null,
   "metadata": {},
   "outputs": [],
   "source": []
  },
  {
   "cell_type": "markdown",
   "metadata": {},
   "source": [
    "## Model Exploration & Feature Construction"
   ]
  },
  {
   "cell_type": "markdown",
   "metadata": {},
   "source": [
    "### Simply Recipes"
   ]
  },
  {
   "cell_type": "markdown",
   "metadata": {},
   "source": [
    "In order to sort recipes by ingredient (and ultimately price recipes) we will need to first mark each recipe by their list of ingredients. In most recipes ingredients are listed within full sentences (i.e., a recipe will call for \"8 slices sourdough bread\" and not just \"sourdough bread\". Because of this difficulty, we will need to build a model that can identify the quantity (8), unit (slices), item (sourdough bread), and any additional comments.\n",
    "\n",
    "After conducting research on a number of natural language processing models, I have settled on constructing a conditional random field model (crf model). These models are deployed for pattern recognition and are used in situations that call for structured predictions. Because recipe ingredients often have the same elements, this will be a good match for our purposes. "
   ]
  },
  {
   "cell_type": "markdown",
   "metadata": {},
   "source": [
    "#### Step 1: Construct Training Data\n",
    "\n",
    "In an article from the New York Times titled \"[Extracting Structured Data From Recipes Using Conditional Random Fields](https://open.blogs.nytimes.com/2015/04/09/extracting-structured-data-from-recipes-using-conditional-random-fields/)\", the author details the process they used to classify their recipies for their recipe website. The Times generously shared their code and training dataset on their github page, so I had access to both a training set and was able to see a clear example of how the code works. "
   ]
  },
  {
   "cell_type": "markdown",
   "metadata": {},
   "source": [
    "#### Step 2: Feature Creation "
   ]
  },
  {
   "cell_type": "code",
   "execution_count": 52,
   "metadata": {},
   "outputs": [
    {
     "name": "stdout",
     "output_type": "stream",
     "text": [
      "Number of Handlabeled Ingredients:  179207\n"
     ]
    },
    {
     "data": {
      "text/html": [
       "<div>\n",
       "<style scoped>\n",
       "    .dataframe tbody tr th:only-of-type {\n",
       "        vertical-align: middle;\n",
       "    }\n",
       "\n",
       "    .dataframe tbody tr th {\n",
       "        vertical-align: top;\n",
       "    }\n",
       "\n",
       "    .dataframe thead th {\n",
       "        text-align: right;\n",
       "    }\n",
       "</style>\n",
       "<table border=\"1\" class=\"dataframe\">\n",
       "  <thead>\n",
       "    <tr style=\"text-align: right;\">\n",
       "      <th></th>\n",
       "      <th>input</th>\n",
       "      <th>name</th>\n",
       "      <th>qty</th>\n",
       "      <th>range_end</th>\n",
       "      <th>unit</th>\n",
       "      <th>comment</th>\n",
       "    </tr>\n",
       "  </thead>\n",
       "  <tbody>\n",
       "    <tr>\n",
       "      <th>0</th>\n",
       "      <td>1 1/4 cups cooked and pureed fresh butternut s...</td>\n",
       "      <td>butternut squash</td>\n",
       "      <td>1.25</td>\n",
       "      <td>0.0</td>\n",
       "      <td>cup</td>\n",
       "      <td>cooked and pureed fresh, or 1 10-ounce package...</td>\n",
       "    </tr>\n",
       "    <tr>\n",
       "      <th>1</th>\n",
       "      <td>1 cup peeled and cooked fresh chestnuts (about...</td>\n",
       "      <td>chestnuts</td>\n",
       "      <td>1.00</td>\n",
       "      <td>0.0</td>\n",
       "      <td>cup</td>\n",
       "      <td>peeled and cooked fresh (about 20), or 1 cup c...</td>\n",
       "    </tr>\n",
       "    <tr>\n",
       "      <th>2</th>\n",
       "      <td>1 medium-size onion, peeled and chopped</td>\n",
       "      <td>onion</td>\n",
       "      <td>1.00</td>\n",
       "      <td>0.0</td>\n",
       "      <td>NaN</td>\n",
       "      <td>medium-size, peeled and chopped</td>\n",
       "    </tr>\n",
       "    <tr>\n",
       "      <th>3</th>\n",
       "      <td>2 stalks celery, chopped coarse</td>\n",
       "      <td>celery</td>\n",
       "      <td>2.00</td>\n",
       "      <td>0.0</td>\n",
       "      <td>stalk</td>\n",
       "      <td>chopped coarse</td>\n",
       "    </tr>\n",
       "    <tr>\n",
       "      <th>4</th>\n",
       "      <td>1 1/2 tablespoons vegetable oil</td>\n",
       "      <td>vegetable oil</td>\n",
       "      <td>1.50</td>\n",
       "      <td>0.0</td>\n",
       "      <td>tablespoon</td>\n",
       "      <td>NaN</td>\n",
       "    </tr>\n",
       "  </tbody>\n",
       "</table>\n",
       "</div>"
      ],
      "text/plain": [
       "                                               input              name   qty  \\\n",
       "0  1 1/4 cups cooked and pureed fresh butternut s...  butternut squash  1.25   \n",
       "1  1 cup peeled and cooked fresh chestnuts (about...         chestnuts  1.00   \n",
       "2            1 medium-size onion, peeled and chopped             onion  1.00   \n",
       "3                    2 stalks celery, chopped coarse            celery  2.00   \n",
       "4                    1 1/2 tablespoons vegetable oil     vegetable oil  1.50   \n",
       "\n",
       "   range_end        unit                                            comment  \n",
       "0        0.0         cup  cooked and pureed fresh, or 1 10-ounce package...  \n",
       "1        0.0         cup  peeled and cooked fresh (about 20), or 1 cup c...  \n",
       "2        0.0         NaN                    medium-size, peeled and chopped  \n",
       "3        0.0       stalk                                     chopped coarse  \n",
       "4        0.0  tablespoon                                                NaN  "
      ]
     },
     "execution_count": 52,
     "metadata": {},
     "output_type": "execute_result"
    }
   ],
   "source": [
    "nyt_ing = pd.read_csv('../../data/01_raw/nyt-ingredients-snapshot-2015.csv')\n",
    "nyt_ing.drop(columns=['index'], inplace=True)\n",
    "print('Number of Handlabeled Ingredients: ', len(nyt_ing))\n",
    "nyt_ing.head()"
   ]
  },
  {
   "cell_type": "markdown",
   "metadata": {},
   "source": [
    "The NYT training dataset contains over 170K handlabled ingredients. Let's put the dataset in the correct format for feeding into the model. "
   ]
  },
  {
   "cell_type": "code",
   "execution_count": 62,
   "metadata": {},
   "outputs": [],
   "source": [
    "nyt_ing.fillna(\"missing\", inplace=True)"
   ]
  },
  {
   "cell_type": "code",
   "execution_count": 63,
   "metadata": {},
   "outputs": [],
   "source": [
    "X, y = nyt_ingredients_crf_feature_creation(nyt_ing)"
   ]
  },
  {
   "cell_type": "code",
   "execution_count": 66,
   "metadata": {},
   "outputs": [],
   "source": [
    "X_train, X_test, y_train, y_test = train_test_split(X, y, test_size=0.2)"
   ]
  },
  {
   "cell_type": "markdown",
   "metadata": {},
   "source": [
    "#### Model Building & Testing"
   ]
  },
  {
   "cell_type": "code",
   "execution_count": null,
   "metadata": {},
   "outputs": [],
   "source": [
    "trainer = pycrfsuite.Trainer(verbose=True)\n",
    "\n",
    "# Submit training data to the trainer\n",
    "for xseq, yseq in zip(X_train, y_train):\n",
    "    trainer.append(xseq, yseq)\n",
    "\n",
    "# Set the parameters of the model\n",
    "trainer.set_params({\n",
    "    # coefficient for L1 penalty\n",
    "    'c1': 0.1,\n",
    "\n",
    "    # coefficient for L2 penalty\n",
    "    'c2': 0.01,  \n",
    "\n",
    "    # maximum number of iterations\n",
    "    'max_iterations': 200,\n",
    "\n",
    "    # whether to include transitions that\n",
    "    # are possible, but not observed\n",
    "    'feature.possible_transitions': True\n",
    "})\n",
    "\n",
    "# Provide a file name as a parameter to the train function, such that\n",
    "# the model will be saved to the file when training is finished\n",
    "trainer.train('../../data/04_models/crf_nyt_initial_model.model')\n",
    "# let's read back in our model \n",
    "tagger = pycrfsuite.Tagger()\n",
    "tagger.open('../../data/04_models/crf_nyt_initial_model.model')"
   ]
  },
  {
   "cell_type": "markdown",
   "metadata": {},
   "source": [
    "Let's test our model. "
   ]
  },
  {
   "cell_type": "code",
   "execution_count": null,
   "metadata": {},
   "outputs": [],
   "source": [
    "tagger = pycrfsuite.Tagger()\n",
    "y_pred = [tagger.tag(xseq) for xseq in X_test]"
   ]
  },
  {
   "cell_type": "code",
   "execution_count": null,
   "metadata": {},
   "outputs": [],
   "source": [
    "mlb = MultiLabelBinarizer()\n",
    "print(classification_report(y_pred=mlb.fit_transform(y_pred), y_true=mlb.fit_transform(y_test)))"
   ]
  },
  {
   "cell_type": "markdown",
   "metadata": {},
   "source": [
    "Our model is almost 100% accurate. That's good enough. Let's train all of our data on the model and move onto using it for our ingredients."
   ]
  },
  {
   "cell_type": "code",
   "execution_count": null,
   "metadata": {},
   "outputs": [],
   "source": [
    "trainer = pycrfsuite.Trainer(verbose=True)\n",
    "\n",
    "# Submit training data to the trainer\n",
    "for xseq, yseq in zip(X, y):\n",
    "    trainer.append(xseq, yseq)\n",
    "\n",
    "# Set the parameters of the model\n",
    "trainer.set_params({\n",
    "    # coefficient for L1 penalty\n",
    "    'c1': 0.1,\n",
    "\n",
    "    # coefficient for L2 penalty\n",
    "    'c2': 0.01,  \n",
    "\n",
    "    # maximum number of iterations\n",
    "    'max_iterations': 200,\n",
    "\n",
    "    # whether to include transitions that\n",
    "    # are possible, but not observed\n",
    "    'feature.possible_transitions': True\n",
    "})\n",
    "\n",
    "# Provide a file name as a parameter to the train function, such that\n",
    "# the model will be saved to the file when training is finished\n",
    "trainer.train('../../data/04_models/crf_ing_final.model')"
   ]
  },
  {
   "cell_type": "markdown",
   "metadata": {},
   "source": [
    "### Let's use our model to tag our simply recipies dataset "
   ]
  },
  {
   "cell_type": "code",
   "execution_count": null,
   "metadata": {},
   "outputs": [],
   "source": []
  },
  {
   "cell_type": "markdown",
   "metadata": {},
   "source": [
    "### Instacart Products"
   ]
  },
  {
   "cell_type": "code",
   "execution_count": null,
   "metadata": {},
   "outputs": [],
   "source": []
  },
  {
   "cell_type": "markdown",
   "metadata": {},
   "source": [
    "## Application Testing "
   ]
  },
  {
   "cell_type": "code",
   "execution_count": null,
   "metadata": {},
   "outputs": [],
   "source": []
  },
  {
   "cell_type": "markdown",
   "metadata": {},
   "source": [
    "## Conclusion & Next Steps"
   ]
  },
  {
   "cell_type": "code",
   "execution_count": null,
   "metadata": {},
   "outputs": [],
   "source": []
  }
 ],
 "metadata": {
  "kernelspec": {
   "display_name": "Python 3",
   "language": "python",
   "name": "python3"
  },
  "language_info": {
   "codemirror_mode": {
    "name": "ipython",
    "version": 3
   },
   "file_extension": ".py",
   "mimetype": "text/x-python",
   "name": "python",
   "nbconvert_exporter": "python",
   "pygments_lexer": "ipython3",
   "version": "3.7.1"
  },
  "toc": {
   "base_numbering": 1,
   "nav_menu": {},
   "number_sections": true,
   "sideBar": true,
   "skip_h1_title": true,
   "title_cell": "Table of Contents",
   "title_sidebar": "Contents",
   "toc_cell": false,
   "toc_position": {},
   "toc_section_display": true,
   "toc_window_display": true
  }
 },
 "nbformat": 4,
 "nbformat_minor": 2
}
