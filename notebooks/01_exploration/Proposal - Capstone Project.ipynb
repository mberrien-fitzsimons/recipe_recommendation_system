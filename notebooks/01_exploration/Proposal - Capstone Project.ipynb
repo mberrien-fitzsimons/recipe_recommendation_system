{
 "cells": [
  {
   "cell_type": "markdown",
   "metadata": {},
   "source": [
    "# Capstone Project Proposal - What's in your basket"
   ]
  },
  {
   "cell_type": "markdown",
   "metadata": {},
   "source": [
    "## Introduction"
   ]
  },
  {
   "cell_type": "markdown",
   "metadata": {},
   "source": [
    "### End Product\n",
    "\n",
    "I would like to create a webapp where you can put in a few key things about yourself and the output will be a list of recipes within the budget that you specified. \n",
    "\n",
    "### Method (inputs & outputs):\n",
    "\n",
    "**User Inputs**\n",
    "1. Number of people\n",
    "1. Number of meals \n",
    "1. List of things you like [From a drop-down menu] \n",
    "1. Your 7-day food budget\n",
    "\n",
    "**App Outputs**\n",
    "1. List of recipes for the week with the total price of the basket\n",
    "\n",
    "**Assumptions**\n",
    "1. Spices & oils will not be included \n",
    "1. Serving sizes are based off of the recipe\n",
    "\n",
    "## Datasets: \n",
    "\n",
    "1. Instacart Grocery Carts\n",
    "1. Grocery Prices Mariano's\n",
    "1. Grocery Prices Gordon's\n",
    "1. Grocery Prices HMART\n",
    "1. Recipes Simply Recipes \n",
    "\n",
    "## Steps\n",
    "\n",
    "### Collect Datasets:\n",
    "1. Collect recipes [completed]\n",
    "1. Collect grocery store prices [completed]\n",
    "1. <font color='red'>Collect nutrition dataset (maybe)</font> \n",
    "\n",
    "### Clean Datasets:\n",
    "1. recipes [completed]\n",
    "1. Gordon grocery prices [completed]\n",
    "1. Mariano's grocery prices [completed]\n",
    "1. HMart <font color='red'>[In Progress]</font>\n",
    "\n",
    "### Organize Data into Correct Format\n",
    "1. Pick a way to organize data \n",
    "\n",
    "### Learn how to make recommendation system \n",
    "1. Go over learnco materials \n",
    "\n",
    "### Create a \"skateboard\" \n",
    "1. match all ingredients to prices\n",
    "1. create a simple recommender system that takes inputs of things you like and outputs things you think you'll like. "
   ]
  },
  {
   "cell_type": "markdown",
   "metadata": {},
   "source": [
    "# Notes - Meeting w. Omer"
   ]
  },
  {
   "cell_type": "markdown",
   "metadata": {},
   "source": [
    "Can create a metric of user to purchased item like in movie recommendation system. implicit feedback recommendation system. (don't have stars or anything. All we have is the fact that they bought this thing onece). We are saying that they bought it so I have some confidence that they like it.\n",
    "\n",
    "als recommendations with the carts\n",
    "\n",
    "The sticking point is how we get around the recommendation part? don't have actual ratings for things in a cart, all we have is bought or not bought (there is no scale). There could be a million different reasons why you buy something that you don't like. There are algorithms for this (extension of the ALS models. Could start with implicit feedback recommendations using ALS). Look for package that is doing this very quickly /. this one building a model to make predictions.\n",
    "\n",
    "Other approaches: don't use the supervised side of things. we just find similarities between carts. Now you can find maybe the top three carts that are most similair to your \"new cart\". We are assuming that these people have similair tastes to you. And then all of these things might be a good suggestion to me as well. this one we are using huristics tyo try and figure out what is similair. Maybe could even ignore the carts if I go this route.\n",
    "\n",
    "**content based recommendations** \n",
    "\n",
    "**implicit feedback recommendations using ALS**\n",
    "\n",
    "the user says they l ike tomatoes, don't like eggplant, like this.\n",
    "take that\n",
    "actually matching things that a person likes to a recipe will be incredibly challenging in and of itself. Deciding on the rules of doing the matching will take time to think about and code it. Example, lety's say I like eggplant and garlic. There are so many recipies with eggplant and garlic."
   ]
  },
  {
   "cell_type": "markdown",
   "metadata": {},
   "source": [
    "## Recommendor System Book Notes"
   ]
  },
  {
   "cell_type": "markdown",
   "metadata": {},
   "source": [
    "user-based collaborative filtering. \n",
    "\n",
    "* “Thus, the basic idea is to determine users, who are similar to the target user A, and recommend ratings for the unobserved ratings of A by computing weighted averages of the ratings of this peer group. Therefore, if Alice and Bob have rated movies in a similar way in the past, then one can use Alice’s observed ratings on the movie Terminator to predict Bob’s unobserved ratings on this movie. In general, the k most similar users to Bob can be used to make rating predictions for Bob. Similarity functions are computed between the rows of the ratings matrix to discover similar users.”\n",
    "\n",
    "Excerpt From: Charu C. Aggarwal. “Recommender Systems.” Apple Books. "
   ]
  },
  {
   "cell_type": "markdown",
   "metadata": {},
   "source": [
    "* “A special case of ratings is that of unary ratings, in which there is a mechanism for a user to specify a liking for an item but no mechanism to specify a dislike. Unary ratings are particularly common, especially in the case of implicit feedback data sets [259, 260, 457]. In these cases, customer preferences are derived from their activities rather than their explicitly specified ratings. For example, the buying behavior of a customer can be converted to unary ratings. When a customer buys an item, it can be viewed as a preference for the item. However, the act of not buying an item from a large universe of possibilities does not always indicate a dislike. Similarly, many social networks, such as Facebook, use “like” buttons, which provide the ability to express liking for an item. However, there is no mechanism to specify dislike for an item. The implicit feedback setting can be viewed as the matrix completion analog of the positive-unlabeled (PU) learning problem in data classification [259].”\n",
    "\n",
    "Excerpt From: Charu C. Aggarwal. “Recommender Systems.” Apple Books. "
   ]
  },
  {
   "cell_type": "markdown",
   "metadata": {},
   "source": [
    "* ““The implicit feedback setting can be viewed as the matrix completion analog of the positive-unlabeled (PU) learning problem in data classification [259].”\n",
    "\n",
    "Excerpt From: Charu C. Aggarwal. “Recommender Systems.” Apple Books.  "
   ]
  },
  {
   "cell_type": "markdown",
   "metadata": {},
   "source": [
    "* “An example of a unary ratings matrix is illustrated in Figure 1.3(b). For cases in which the ratings are unary, the matrix is referred to as a positive preference utility matrix because it allows only the specification of positive preferences. The two matrices in Figure 1.3 have the same set of observed entries, but they provide very different insights. For example, the users U 1 and U 3 are very different in Figure 1.3(a) because they have very different ratings for their mutually specified entries. On the other hand, these users would be considered very similar in Figure 1.3(b) because these users have expressed a positive preference for the same items. The ratings-based utility provides a way for users to express negative preferences for items. For example, user U 1 does not like the movie Gladiator in Figure 1.3(a). There is no mechanism to specify this in the positive-preference utility matrix of Figure 1.3(b) beyond a relatively ambiguous missing entry. In other words, the matrix in Figure 1.3(b) is less expressive. While Figure 1.3(b) provides an example of a binary matrix, it is possible for the nonzero entries to be arbitrary positive values. For example, they could correspond to the quantities of items bought by the different users. In general, unary matrices are created by user actions such as buying an item, and are therefore also referred to as implicit feedback matrices.”\n",
    "\n",
    "Excerpt From: Charu C. Aggarwal. “Recommender Systems.” Apple Books. "
   ]
  },
  {
   "cell_type": "markdown",
   "metadata": {},
   "source": [
    "* “Context-based or context-aware recommender systems take various types of contextual information into account, while making recommendations. Such contextual information could include time, location, or social data. For example, the types of clothes recommended by a retailer might depend both on the season and the location of the customer. Another example is the case in which a particular type of festival or holiday affects the underlying customer activity.\n",
    "It has generally been observed that the use of such contextual information can greatly improve the effectiveness of the recommendation process. Context-based recommender systems are incredibly powerful because the underlying ideas are relevant to a wide variety of domain-specific settings. In fact, a recurring theme throughout the later chapters of the book, will be the use of a multidimensional model [7] for context-specific recommendations in different domain-specific settings. Context-aware recommender systems will be discussed in Chapter 8 in a general sense. However, individual aspects of the context, such as time, location, and social information, are studied in detail in other chapters. A general review of these different aspects is provided below.”\n",
    "\n",
    "Excerpt From: Charu C. Aggarwal. “Recommender Systems.” Apple Books.  "
   ]
  },
  {
   "cell_type": "markdown",
   "metadata": {},
   "source": [
    "### Neighborhood Based Collaborative Filtering (memory based algorithms) "
   ]
  },
  {
   "cell_type": "markdown",
   "metadata": {},
   "source": [
    "Two primary types of neighborhood based algorithms: \n",
    "1. “User-based collaborative filtering”\n",
    "1. “Item-based collaborative filtering”\n",
    "\n",
    "\n",
    "* problem of presenting the top-k items\n"
   ]
  },
  {
   "cell_type": "markdown",
   "metadata": {},
   "source": [
    "* “One measure that captures the similarity Sim(u, v) between the rating vectors of two users u and v is the Pearson correlation coefficient. ”\n",
    "\n",
    "Excerpt From: Charu C. Aggarwal. “Recommender Systems.” Apple Books. "
   ]
  },
  {
   "cell_type": "markdown",
   "metadata": {},
   "source": [
    "### Things to look into \n",
    "* pearson coefficient for similarity ratings between two users\n",
    "* need to pear down the number of items to just ones that are relevant to my problem then each row is a user and columns are specific items. the specific square will have a 1 if the item was purchased (or some type of weighted thing if we are calculating how often the item was purcahsed) and the rest of the squares could be filled with zeroes to help fight bias in. "
   ]
  },
  {
   "cell_type": "markdown",
   "metadata": {},
   "source": [
    "* consider knn or k means square neighborhoo association collaborative filtering where the number of times purchased turns int o a score and it is item-item or user items using pearson's coefficient. \n",
    "* RULE BASED COLLABORATIVE FILTERING: association rules/ collaborative filtering and supermarket data (often used for unary data) (pg. 212). **SUPPORT & CONFIDENCE**\n",
    " - Support and confidence quantifys the relationship between sets of items. "
   ]
  },
  {
   "cell_type": "code",
   "execution_count": null,
   "metadata": {},
   "outputs": [],
   "source": []
  }
 ],
 "metadata": {
  "kernelspec": {
   "display_name": "Python 3",
   "language": "python",
   "name": "python3"
  },
  "language_info": {
   "codemirror_mode": {
    "name": "ipython",
    "version": 3
   },
   "file_extension": ".py",
   "mimetype": "text/x-python",
   "name": "python",
   "nbconvert_exporter": "python",
   "pygments_lexer": "ipython3",
   "version": "3.7.1"
  },
  "toc": {
   "base_numbering": 1,
   "nav_menu": {},
   "number_sections": true,
   "sideBar": true,
   "skip_h1_title": true,
   "title_cell": "Table of Contents",
   "title_sidebar": "Contents",
   "toc_cell": false,
   "toc_position": {
    "height": "calc(100% - 180px)",
    "left": "10px",
    "top": "150px",
    "width": "200.6px"
   },
   "toc_section_display": true,
   "toc_window_display": true
  }
 },
 "nbformat": 4,
 "nbformat_minor": 2
}
