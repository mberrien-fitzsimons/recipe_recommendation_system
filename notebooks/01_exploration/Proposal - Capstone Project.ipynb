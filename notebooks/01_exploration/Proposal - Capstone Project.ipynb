{
 "cells": [
  {
   "cell_type": "markdown",
   "metadata": {},
   "source": [
    "# Capstone Project Proposal - What's in your basket"
   ]
  },
  {
   "cell_type": "markdown",
   "metadata": {},
   "source": [
    "## Introduction"
   ]
  },
  {
   "cell_type": "markdown",
   "metadata": {},
   "source": [
    "### End Product\n",
    "\n",
    "I would like to create a webapp where you can put in a few key things about yourself and the output will be a list of recipes within the budget that you specified. \n",
    "\n",
    "### Method (inputs & outputs):\n",
    "\n",
    "**User Inputs**\n",
    "1. Number of people\n",
    "1. Number of meals \n",
    "1. List of things you like [From a drop-down menu] \n",
    "1. Your 7-day food budget\n",
    "\n",
    "**App Outputs**\n",
    "1. List of recipes for the week with the total price of the basket\n",
    "\n",
    "**Assumptions**\n",
    "1. Spices & oils will not be included \n",
    "1. Serving sizes are based off of the recipe\n",
    "\n",
    "## Datasets: \n",
    "\n",
    "1. Instacart Grocery Carts\n",
    "1. Grocery Prices Mariano's\n",
    "1. Grocery Prices Gordon's\n",
    "1. Grocery Prices HMART\n",
    "1. Recipes Simply Recipes \n",
    "\n",
    "## Steps\n",
    "\n",
    "### Collect Datasets:\n",
    "1. Collect recipes [completed]\n",
    "1. Collect grocery store prices [completed]\n",
    "1. <font color='red'>Collect nutrition dataset (maybe)</font> \n",
    "\n",
    "### Clean Datasets:\n",
    "1. recipes [completed]\n",
    "1. Gordon grocery prices [completed]\n",
    "1. Mariano's grocery prices [completed]\n",
    "1. HMart <font color='red'>[In Progress]</font>\n",
    "\n",
    "### Organize Data into Correct Format\n",
    "1. Pick a way to organize data \n",
    "\n",
    "### Learn how to make recommendation system \n",
    "1. Go over learnco materials \n",
    "\n",
    "### Create a \"skateboard\" \n",
    "1. match all ingredients to prices\n",
    "1. create a simple recommender system that takes inputs of things you like and outputs things you think you'll like. "
   ]
  },
  {
   "cell_type": "markdown",
   "metadata": {},
   "source": [
    "# Notes - Meeting w. Omer"
   ]
  },
  {
   "cell_type": "markdown",
   "metadata": {},
   "source": [
    "Can create a metric of user to purchased item like in movie recommendation system. implicit feedback recommendation system. (don't have stars or anything. All we have is the fact that they bought this thing onece). We are saying that they bought it so I have some confidence that they like it.\n",
    "\n",
    "als recommendations with the carts\n",
    "\n",
    "The sticking point is how we get around the recommendation part? don't have actual ratings for things in a cart, all we have is bought or not bought (there is no scale). There could be a million different reasons why you buy something that you don't like. There are algorithms for this (extension of the ALS models. Could start with implicit feedback recommendations using ALS). Look for package that is doing this very quickly /. this one building a model to make predictions.\n",
    "\n",
    "Other approaches: don't use the supervised side of things. we just find similarities between carts. Now you can find maybe the top three carts that are most similair to your \"new cart\". We are assuming that these people have similair tastes to you. And then all of these things might be a good suggestion to me as well. this one we are using huristics tyo try and figure out what is similair. Maybe could even ignore the carts if I go this route.\n",
    "\n",
    "**content based recommendations** \n",
    "\n",
    "**implicit feedback recommendations using ALS**\n",
    "\n",
    "the user says they l ike tomatoes, don't like eggplant, like this.\n",
    "take that\n",
    "actually matching things that a person likes to a recipe will be incredibly challenging in and of itself. Deciding on the rules of doing the matching will take time to think about and code it. Example, lety's say I like eggplant and garlic. There are so many recipies with eggplant and garlic."
   ]
  },
  {
   "cell_type": "code",
   "execution_count": null,
   "metadata": {},
   "outputs": [],
   "source": []
  }
 ],
 "metadata": {
  "kernelspec": {
   "display_name": "Python 3",
   "language": "python",
   "name": "python3"
  },
  "language_info": {
   "codemirror_mode": {
    "name": "ipython",
    "version": 3
   },
   "file_extension": ".py",
   "mimetype": "text/x-python",
   "name": "python",
   "nbconvert_exporter": "python",
   "pygments_lexer": "ipython3",
   "version": "3.7.1"
  },
  "toc": {
   "base_numbering": 1,
   "nav_menu": {},
   "number_sections": true,
   "sideBar": true,
   "skip_h1_title": true,
   "title_cell": "Table of Contents",
   "title_sidebar": "Contents",
   "toc_cell": false,
   "toc_position": {
    "height": "calc(100% - 180px)",
    "left": "10px",
    "top": "150px",
    "width": "200.6px"
   },
   "toc_section_display": true,
   "toc_window_display": true
  }
 },
 "nbformat": 4,
 "nbformat_minor": 2
}
