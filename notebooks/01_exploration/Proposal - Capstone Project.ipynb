{
 "cells": [
  {
   "cell_type": "markdown",
   "metadata": {},
   "source": [
    "# Capstone Project Proposal - What is in your basket"
   ]
  },
  {
   "cell_type": "markdown",
   "metadata": {},
   "source": [
    "## Datasets: \n",
    "\n",
    "### I. Instacart: \n",
    "* orders (3.4m rows, 206k users):\n",
    "* products (50k rows):\n",
    "* aisles (134 rows):\n",
    "* department (21 rows):\n",
    "* order_products__SET (30m+ rows):\n",
    "---\n",
    "**Columns across all datasets**\n",
    "1. order_id: order identifier\n",
    "1. user_id: customer identifier\n",
    "1. order_number: the order sequence number for this user (1 = first, n = nth)\n",
    "1. order_dow: the day of the week the order was placed on\n",
    "1. order_hour_of_day: the hour of the day the order was placed on\n",
    "1. days_since_prior: days since the last order, capped at 30 (with NAs for order_number = 1)\n",
    "1. product_id: product identifier\n",
    "1. product_name: name of the product\n",
    "1. aisle_id: foreign key\n",
    "1. department_id: foreign key\n",
    "1. aisle: the name of the aisle\n",
    "1. department_id: department identifier\n",
    "1. department: the name of the department\n",
    "1. add_to_cart_order: order in which each product was added to cart\n",
    "1. reordered: 1 if this product has been ordered by this user in the past, 0 otherwise\n",
    "\n",
    "### II. Open Grocery Database\n",
    "* Grocery_Brands_Database \n",
    "* Grocery_UPC_Database \n",
    "---\n",
    "**columns across both datasets**\n",
    "1. grp_id\n",
    "1. upc14\n",
    "1. upc12\n",
    "1. brand\n",
    "1. name\n",
    "1. No_of_items\n",
    "1. Manufacturer\n",
    "1. Address\n",
    "1. Website"
   ]
  },
  {
   "cell_type": "markdown",
   "metadata": {},
   "source": [
    "## STEPS\n",
    "\n",
    "1. narrow down the different people and their baskets\n",
    "1. scrape names and prices of items from instacart website (maybe need upc)\n",
    "1. find a way to figure out how many people are in each household for the instacart data by the number of items in their baskets\n",
    "1. make a \"recommendor\" system that can understand what items go together in a basket.\n",
    "1. guess the monthly food bill for a houshold that buys a few of these items (that means that it will take the number of people in the household and auto-fill in the amount it thinks everyone else should eat).\n",
    "1. build a webapp that allows people to input their information quickly and get out 1. additional food they are probably eating and 2. a guess of how much their monthly bill is\n",
    "1. make everything pretty (this means I need a dataset with the number of peopel in a houshold and all the food they eat in a month. I beleive this dataset is available through the USDA)\n",
    "1. understand instacarts userbase"
   ]
  },
  {
   "cell_type": "code",
   "execution_count": null,
   "metadata": {},
   "outputs": [],
   "source": []
  }
 ],
 "metadata": {
  "kernelspec": {
   "display_name": "Python 3",
   "language": "python",
   "name": "python3"
  },
  "language_info": {
   "codemirror_mode": {
    "name": "ipython",
    "version": 3
   },
   "file_extension": ".py",
   "mimetype": "text/x-python",
   "name": "python",
   "nbconvert_exporter": "python",
   "pygments_lexer": "ipython3",
   "version": "3.7.1"
  },
  "toc": {
   "base_numbering": 1,
   "nav_menu": {},
   "number_sections": false,
   "sideBar": true,
   "skip_h1_title": true,
   "title_cell": "Table of Contents",
   "title_sidebar": "Contents",
   "toc_cell": false,
   "toc_position": {
    "height": "calc(100% - 180px)",
    "left": "10px",
    "top": "150px",
    "width": "200.6px"
   },
   "toc_section_display": true,
   "toc_window_display": true
  }
 },
 "nbformat": 4,
 "nbformat_minor": 2
}
