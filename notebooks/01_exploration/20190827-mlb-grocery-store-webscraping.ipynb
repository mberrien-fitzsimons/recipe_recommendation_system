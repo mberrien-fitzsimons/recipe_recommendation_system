{
 "cells": [
  {
   "cell_type": "code",
   "execution_count": 67,
   "metadata": {},
   "outputs": [],
   "source": [
    "import pandas as pd"
   ]
  },
  {
   "cell_type": "code",
   "execution_count": 36,
   "metadata": {},
   "outputs": [],
   "source": [
    "from bs4 import BeautifulSoup\n",
    "from selenium import webdriver\n",
    "from selenium.webdriver.common.keys import Keys\n",
    "import time\n",
    "from scrapy import Selector"
   ]
  },
  {
   "cell_type": "markdown",
   "metadata": {},
   "source": [
    "# Sign in page"
   ]
  },
  {
   "cell_type": "code",
   "execution_count": 166,
   "metadata": {},
   "outputs": [],
   "source": [
    "url = \"https://www.peapod.com/shop/auth/login?gateway=1&redirectTo=%2F\"\n",
    "\n",
    "browser = webdriver.Chrome('/usr/local/bin/chromedriver')\n",
    "browser.implicitly_wait(30)\n",
    "browser.get(url) #navigate to the page"
   ]
  },
  {
   "cell_type": "code",
   "execution_count": 3,
   "metadata": {},
   "outputs": [],
   "source": [
    "# username = browser.find_element_by_id(\"username\") #username form field\n",
    "# password = browser.find_element_by_id(\"password\") #password form field\n",
    "\n",
    "# username.send_keys(\"mishab.git@gmail.com\")\n",
    "# password.send_keys(\"Mishaisgreat2@\")\n",
    "\n",
    "# submitButton = browser.find_element_by_xpath('/html/body/div[2]/div/div/div/div/div/div/div/div/div/form/div[4]/button[2]')\n",
    "# submitButton.click()"
   ]
  },
  {
   "cell_type": "code",
   "execution_count": 167,
   "metadata": {},
   "outputs": [],
   "source": [
    "browser.get(\"https://www.peapod.com/specials/all-specials/category/2098\") #navigate to page behind login"
   ]
  },
  {
   "cell_type": "markdown",
   "metadata": {},
   "source": [
    "```python\n",
    "# browser.find_element_by_class_name(\"zone-block_link\").click()\n",
    "lastElement = browser.find_elements_by_class_name(\"button button--second\")[-1]\n",
    "lastElement.send_keys(Keys.NULL)\n",
    "```"
   ]
  },
  {
   "cell_type": "markdown",
   "metadata": {},
   "source": [
    "## BEAUTIFUL SOUP"
   ]
  },
  {
   "cell_type": "markdown",
   "metadata": {},
   "source": [
    "```python\n",
    "soup1 = BeautifulSoup(browser.page_source, 'lxml')\n",
    "soup1.findAll(\"div\", {\"class\":\"product-tile_name\"})\n",
    "soup1.findAll(\"span\", {\"class\": \"product-grid-cell_main-price\"})\n",
    "soup1.findAll(\"div\", {\"class\": \"product-grid-cell_price-tag\"})\n",
    "```"
   ]
  },
  {
   "cell_type": "markdown",
   "metadata": {},
   "source": [
    "## SCRAPY"
   ]
  },
  {
   "cell_type": "code",
   "execution_count": 168,
   "metadata": {},
   "outputs": [],
   "source": [
    "sel = Selector(text = browser.page_source)"
   ]
  },
  {
   "cell_type": "code",
   "execution_count": 169,
   "metadata": {
    "scrolled": false
   },
   "outputs": [],
   "source": [
    "produce = sel.xpath('//h3[@data-v-0fb465fb]/text()').extract()"
   ]
  },
  {
   "cell_type": "code",
   "execution_count": 170,
   "metadata": {},
   "outputs": [],
   "source": [
    "unit_price = sel.xpath('//span[@class=\"product-grid-cell_unit\"]/text()').extract()"
   ]
  },
  {
   "cell_type": "code",
   "execution_count": 171,
   "metadata": {
    "scrolled": false
   },
   "outputs": [],
   "source": [
    "prices = sel.xpath('//span[@class=\"product-grid-cell_main-price\"]/text()').extract()"
   ]
  },
  {
   "cell_type": "markdown",
   "metadata": {},
   "source": [
    "# TO CSV"
   ]
  },
  {
   "cell_type": "code",
   "execution_count": 181,
   "metadata": {},
   "outputs": [],
   "source": [
    "product_new = []\n",
    "for item in produce:\n",
    "    product_new.append(' '.join(item.split()))"
   ]
  },
  {
   "cell_type": "code",
   "execution_count": 183,
   "metadata": {},
   "outputs": [],
   "source": [
    "unit_price_new = []\n",
    "for item in unit_price:\n",
    "    unit_price_new.append(' '.join(item.split()))"
   ]
  },
  {
   "cell_type": "code",
   "execution_count": 79,
   "metadata": {},
   "outputs": [],
   "source": [
    "produce_df = pd.DataFrame(columns=['product', 'price', 'unit_price'])"
   ]
  },
  {
   "cell_type": "code",
   "execution_count": 80,
   "metadata": {},
   "outputs": [],
   "source": [
    "produce_df['product'] = produce_new"
   ]
  },
  {
   "cell_type": "code",
   "execution_count": 81,
   "metadata": {},
   "outputs": [],
   "source": [
    "produce_df['unit_price'] = unit_price_new"
   ]
  },
  {
   "cell_type": "markdown",
   "metadata": {},
   "source": [
    "# LET'S BRING IT ALL TOGETHER"
   ]
  },
  {
   "cell_type": "code",
   "execution_count": 115,
   "metadata": {},
   "outputs": [
    {
     "ename": "SyntaxError",
     "evalue": "invalid syntax (<ipython-input-115-2de40bba1f5b>, line 1)",
     "output_type": "error",
     "traceback": [
      "\u001b[0;36m  File \u001b[0;32m\"<ipython-input-115-2de40bba1f5b>\"\u001b[0;36m, line \u001b[0;32m1\u001b[0m\n\u001b[0;31m    df{}.format(count) = pd.DataFrame(data=[product_new, unit_price_new], columns=['product', 'unit_price'])\u001b[0m\n\u001b[0m      ^\u001b[0m\n\u001b[0;31mSyntaxError\u001b[0m\u001b[0;31m:\u001b[0m invalid syntax\n"
     ]
    }
   ],
   "source": [
    "df{}.format(count) = pd.DataFrame(data=[product_new, unit_price_new], columns=['product', 'unit_price'])"
   ]
  },
  {
   "cell_type": "code",
   "execution_count": 185,
   "metadata": {},
   "outputs": [],
   "source": [
    "import pandas as pd\n",
    "import scrapy\n",
    "from selenium import webdriver\n",
    "from selenium.webdriver.common.keys import Keys\n",
    "import time\n",
    "from scrapy import Selector\n",
    "\n",
    "url = \"https://www.peapod.com/shop/auth/login?gateway=1&redirectTo=%2F\"\n",
    "\n",
    "browser = webdriver.Chrome('/usr/local/bin/chromedriver')\n",
    "browser.implicitly_wait(30)\n",
    "browser.get(url) #navigate to the page"
   ]
  },
  {
   "cell_type": "code",
   "execution_count": 186,
   "metadata": {},
   "outputs": [],
   "source": [
    "ailes = [1563]\n",
    "count = 0\n",
    "for aile in ailes: \n",
    "    browser.get(\"https://www.peapod.com/specials/all-specials/category/{}\".format(aile))\n",
    "    \n",
    "    time.sleep(5)\n",
    "    \n",
    "    sel = Selector(text = browser.page_source)\n",
    "    \n",
    "    time.sleep(5)\n",
    "\n",
    "    product = sel.xpath('//h3[@data-v-0fb465fb]/text()').extract()\n",
    "    unit_price = sel.xpath('//span[@class=\"product-grid-cell_unit\"]/text()').extract()\n",
    "    # prices = sel.xpath('//span[@class=\"product-grid-cell_main-price\"]/text()').extract()\n",
    "\n",
    "    product_new = []\n",
    "    for item in product:\n",
    "        product_new.append(' '.join(item.split()))\n",
    "\n",
    "    unit_price_new = []\n",
    "    for item in unit_price:\n",
    "        unit_price_new.append(' '.join(item.split()))\n",
    "\n",
    "    count += 1\n",
    "    \n",
    "    exec(\"dict{} = dict(zip(product_new, unit_price_new))\".format(count))\n",
    "    \n",
    "    exec(\"df{} = pd.DataFrame.from_dict(dict{}, orient='index')\".format(count, count))"
   ]
  },
  {
   "cell_type": "code",
   "execution_count": null,
   "metadata": {},
   "outputs": [],
   "source": []
  }
 ],
 "metadata": {
  "kernelspec": {
   "display_name": "Python 3",
   "language": "python",
   "name": "python3"
  },
  "language_info": {
   "codemirror_mode": {
    "name": "ipython",
    "version": 3
   },
   "file_extension": ".py",
   "mimetype": "text/x-python",
   "name": "python",
   "nbconvert_exporter": "python",
   "pygments_lexer": "ipython3",
   "version": "3.7.1"
  },
  "toc": {
   "base_numbering": 1,
   "nav_menu": {},
   "number_sections": true,
   "sideBar": true,
   "skip_h1_title": false,
   "title_cell": "Table of Contents",
   "title_sidebar": "Contents",
   "toc_cell": false,
   "toc_position": {},
   "toc_section_display": true,
   "toc_window_display": false
  }
 },
 "nbformat": 4,
 "nbformat_minor": 2
}
