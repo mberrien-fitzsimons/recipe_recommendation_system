{
 "cells": [
  {
   "cell_type": "code",
   "execution_count": 67,
   "metadata": {},
   "outputs": [],
   "source": [
    "import pandas as pd"
   ]
  },
  {
   "cell_type": "code",
   "execution_count": 36,
   "metadata": {},
   "outputs": [],
   "source": [
    "from bs4 import BeautifulSoup\n",
    "from selenium import webdriver\n",
    "from selenium.webdriver.common.keys import Keys\n",
    "import time\n",
    "from scrapy import Selector"
   ]
  },
  {
   "cell_type": "markdown",
   "metadata": {},
   "source": [
    "# Sign in page"
   ]
  },
  {
   "cell_type": "code",
   "execution_count": 48,
   "metadata": {},
   "outputs": [],
   "source": [
    "url = \"https://www.peapod.com/shop/auth/login?gateway=1&redirectTo=%2F\"\n",
    "\n",
    "browser = webdriver.Chrome('/usr/local/bin/chromedriver')\n",
    "browser.implicitly_wait(30)\n",
    "browser.get(url) #navigate to the page"
   ]
  },
  {
   "cell_type": "code",
   "execution_count": 3,
   "metadata": {},
   "outputs": [],
   "source": [
    "# username = browser.find_element_by_id(\"username\") #username form field\n",
    "# password = browser.find_element_by_id(\"password\") #password form field\n",
    "\n",
    "# username.send_keys(\"username\")\n",
    "# password.send_keys(\"password\")\n",
    "\n",
    "# submitButton = browser.find_element_by_xpath('/html/body/div[2]/div/div/div/div/div/div/div/div/div/form/div[4]/button[2]')\n",
    "# submitButton.click()"
   ]
  },
  {
   "cell_type": "code",
   "execution_count": 167,
   "metadata": {},
   "outputs": [],
   "source": [
    "browser.get(\"https://www.peapod.com/specials/all-specials/category/2098\") #navigate to page behind login"
   ]
  },
  {
   "cell_type": "markdown",
   "metadata": {},
   "source": [
    "```python\n",
    "# browser.find_element_by_class_name(\"zone-block_link\").click()\n",
    "lastElement = browser.find_elements_by_class_name(\"button button--second\")[-1]\n",
    "lastElement.send_keys(Keys.NULL)\n",
    "```"
   ]
  },
  {
   "cell_type": "markdown",
   "metadata": {},
   "source": [
    "## BEAUTIFUL SOUP"
   ]
  },
  {
   "cell_type": "markdown",
   "metadata": {},
   "source": [
    "```python\n",
    "soup1 = BeautifulSoup(browser.page_source, 'lxml')\n",
    "soup1.findAll(\"div\", {\"class\":\"product-tile_name\"})\n",
    "soup1.findAll(\"span\", {\"class\": \"product-grid-cell_main-price\"})\n",
    "soup1.findAll(\"div\", {\"class\": \"product-grid-cell_price-tag\"})\n",
    "```"
   ]
  },
  {
   "cell_type": "markdown",
   "metadata": {},
   "source": [
    "## SCRAPY"
   ]
  },
  {
   "cell_type": "code",
   "execution_count": 168,
   "metadata": {},
   "outputs": [],
   "source": [
    "sel = Selector(text = browser.page_source)"
   ]
  },
  {
   "cell_type": "code",
   "execution_count": 169,
   "metadata": {
    "scrolled": false
   },
   "outputs": [],
   "source": [
    "produce = sel.xpath('//h3[@data-v-0fb465fb]/text()').extract()"
   ]
  },
  {
   "cell_type": "code",
   "execution_count": 170,
   "metadata": {},
   "outputs": [],
   "source": [
    "unit_price = sel.xpath('//span[@class=\"product-grid-cell_unit\"]/text()').extract()"
   ]
  },
  {
   "cell_type": "code",
   "execution_count": 171,
   "metadata": {
    "scrolled": false
   },
   "outputs": [],
   "source": [
    "prices = sel.xpath('//span[@class=\"product-grid-cell_main-price\"]/text()').extract()"
   ]
  },
  {
   "cell_type": "markdown",
   "metadata": {},
   "source": [
    "# SCRAPE PEAPOD"
   ]
  },
  {
   "cell_type": "code",
   "execution_count": 1,
   "metadata": {},
   "outputs": [],
   "source": [
    "import pandas as pd\n",
    "import scrapy\n",
    "from selenium import webdriver\n",
    "from selenium.webdriver.common.keys import Keys\n",
    "import time\n",
    "from scrapy import Selector\n",
    "\n",
    "url = \"https://www.peapod.com/shop/auth/login?gateway=1&redirectTo=%2F\"\n",
    "\n",
    "browser = webdriver.Chrome('/usr/local/bin/chromedriver')\n",
    "browser.implicitly_wait(30)\n",
    "browser.get(url) #navigate to the page"
   ]
  },
  {
   "cell_type": "code",
   "execution_count": 28,
   "metadata": {},
   "outputs": [
    {
     "ename": "SyntaxError",
     "evalue": "keyword can't be an expression (<string>, line 1)",
     "output_type": "error",
     "traceback": [
      "Traceback \u001b[0;36m(most recent call last)\u001b[0m:\n",
      "  File \u001b[1;32m\"/anaconda3/lib/python3.7/site-packages/IPython/core/interactiveshell.py\"\u001b[0m, line \u001b[1;32m3267\u001b[0m, in \u001b[1;35mrun_code\u001b[0m\n    exec(code_obj, self.user_global_ns, self.user_ns)\n",
      "\u001b[0;36m  File \u001b[0;32m\"<ipython-input-28-b0a0591fd833>\"\u001b[0;36m, line \u001b[0;32m52\u001b[0;36m, in \u001b[0;35m<module>\u001b[0;36m\u001b[0m\n\u001b[0;31m    exec(\"dict{} = dict({} = [main_price_new, unit_price_new])\".format(count, product_new))\u001b[0m\n",
      "\u001b[0;36m  File \u001b[0;32m\"<string>\"\u001b[0;36m, line \u001b[0;32m1\u001b[0m\n\u001b[0;31mSyntaxError\u001b[0m\u001b[0;31m:\u001b[0m keyword can't be an expression\n"
     ]
    }
   ],
   "source": [
    "# ailes = [\"2155-fresh-fruit\", \n",
    "#          \"2334-fresh-vegetables\", \n",
    "#          \"2106-fresh-herbs\", \n",
    "#          \"3525-fresh-juice-juice-blends\", \n",
    "#          \"3695-fresh-cut-fruit-vegetables\", \n",
    "#          \"2275-packaged-produce-salads\", \n",
    "#          \"3655-dried-fruit-nuts-trail-mix\", \n",
    "#          \"4245-meatfree-options-alternatives\"]\n",
    "\n",
    "ailes = [\"1087-couscous\",\n",
    "         \"1088-dried-beans-peas\", \n",
    "         \"1103-noodles\", \n",
    "         \"1080-packaged-meals-sides\", \n",
    "         \"1116-pasta\", \n",
    "         \"1168-polenta\", \n",
    "         \"1169-potato-mixes\", \n",
    "         \"1177-rice-grains\", \n",
    "         \"5652-stuffing-mix\", \n",
    "         \"3282-pitas-tortillas-taco-shells-wraps\"]\n",
    "\n",
    "count = 0\n",
    "for aile in ailes: \n",
    "    browser.get(\"https://www.peapod.com/browse-aisles/categories/1/categories/2098/categories/{}\".format(aile))\n",
    "    \n",
    "    time.sleep(5)\n",
    "    \n",
    "    sel = Selector(text = browser.page_source)\n",
    "    \n",
    "    time.sleep(5)\n",
    "\n",
    "    product = sel.xpath('//h3[@data-v-0fb465fb]/text()').extract()\n",
    "    unit_price = sel.xpath('//span[@class=\"product-grid-cell_unit\"]/text()').extract()\n",
    "    main_prices = sel.xpath('//span[@class=\"product-grid-cell_main-price\"]/text()').extract()\n",
    "    # prices = sel.xpath('//span[@class=\"product-grid-cell_main-price\"]/text()').extract()\n",
    "\n",
    "    product_new = []\n",
    "    for item in product:\n",
    "        product_new.append(' '.join(item.split()))\n",
    "\n",
    "    unit_price_new = []\n",
    "    for item in unit_price:\n",
    "        unit_price_new.append(' '.join(item.split()))\n",
    "    \n",
    "    main_price_new = []\n",
    "    for item in main_prices:\n",
    "        main_price_new.append(' '.join(item.split()))\n",
    "\n",
    "    count += 1\n",
    "    \n",
    "#     exec(\"dict{} = dict(zip(product_new, unit_price_new))\".format(count))\n",
    "    exec(\"dict{} = dict(zip(product_new,  main_price_new))\".format(count))    \n",
    "    exec(\"df{} = pd.DataFrame.from_dict(dict{}, orient='index')\".format(count, count))"
   ]
  },
  {
   "cell_type": "code",
   "execution_count": 224,
   "metadata": {},
   "outputs": [],
   "source": [
    "grains = pd.concat([df1, df2, df3, df4, df5, df6, df7, df8, df9, df10])\n",
    "grains.reset_index(inplace=True)"
   ]
  },
  {
   "cell_type": "code",
   "execution_count": 226,
   "metadata": {},
   "outputs": [],
   "source": [
    "grains.rename(columns={'index':'product', 0:'main_price_chi_2019'}, inplace=True)\n",
    "grains.to_csv(\"../../data/01_raw/grains.csv\", index=False)"
   ]
  },
  {
   "cell_type": "markdown",
   "metadata": {},
   "source": [
    "# SCRAPE MARIANOS "
   ]
  },
  {
   "cell_type": "code",
   "execution_count": 8,
   "metadata": {},
   "outputs": [],
   "source": [
    "url = \"https://www.google.com/\"\n",
    "browser = webdriver.Chrome('/usr/local/bin/chromedriver')\n",
    "browser.get(url) #navigate to the page"
   ]
  },
  {
   "cell_type": "markdown",
   "metadata": {},
   "source": [
    "infinit scroe problem"
   ]
  },
  {
   "cell_type": "markdown",
   "metadata": {},
   "source": [
    "### All the Departments I have with aile numbers for Instacart-marianos"
   ]
  },
  {
   "cell_type": "code",
   "execution_count": 16,
   "metadata": {},
   "outputs": [],
   "source": [
    "instacart_ailes = {'produce': [1370, 1365, 1367, 1368, 1373, 1366], \n",
    "        'frozen': [1473, 1472, 1478, 1476, 4302, 1474, 1489, 2997, 1475, 3799, 1477], \n",
    "         'bakery': [1443, 1442, 1479, 1441, 1444], \n",
    "         'alcohol': [1445, 1446, 1450, 1449, 1448, 1447, 2708], \n",
    "         'international': [1408, 1409, 1483, 1410, 1411],\n",
    "         'beverages': [1455, 1453, 1451, 1452, 1456, 1491, 1454, 2780], \n",
    "         'pets': [1378, 1379, 1380], \n",
    "         'dry goods pasta': [1429, 3798, 1482, 1431, 1430, 2745, 3600, 2746], \n",
    "         'bulk': [3657, 3662, 3664, 6374, 6378, 3658, 3661, 3663, 3659, 6377, 3665], \n",
    "         'personal care': [3793, 1384, 2720, 1395, 1392, 3794, 3795, 1387, 3796, 1388, 3651, 6458, 1390, 3792, 1393, 1382, 1383, 3412, 3011, 3012, 6492],\n",
    "         'meat seafood': [1464, 1470, 1465, 1488, 2768, 1487, 1471], \n",
    "         'pantry': [1419, 1420, 1428, 1421, 1426, 1423, 1422, 3747, 1496, 1496, 1424, 1425, 3605], \n",
    "         'breakfast': [1413, 1481, 1480, 1412], \n",
    "         'canned goods': [1414, 1415, 1416, 1417, 1418],\n",
    "         'dairy eggs': [1459, 1462, 1461, 1457, 1460, 1458, 4251, 1463, 1498], \n",
    "         'household': [1402, 1403, 1398, 1405, 1404, 1399, 1400, 1401, 1407, 1406, 6493], \n",
    "         'babies': [1437, 1438, 1440, 1439, 3642], \n",
    "         'snacks': [1435, 1432, 1433, 1434, 1497, 1485, 1486, 1436, 2709, 3014, 1484], \n",
    "         'deli': [1375, 1374, 1494, 3603, 1377, 6664]}"
   ]
  },
  {
   "cell_type": "code",
   "execution_count": 34,
   "metadata": {},
   "outputs": [],
   "source": [
    "aile_numbers = []\n",
    "for list in instacart_ailes.values():\n",
    "    for val in list: \n",
    "        aile_numbers.append(val)\n",
    "aile_numbers.sort()"
   ]
  },
  {
   "cell_type": "markdown",
   "metadata": {},
   "source": [
    "```python\n",
    "browser.get(\"https://www.marianos.com/pl/all/00\")\n",
    "\n",
    "time.sleep(5)\n",
    "\n",
    "sel = Selector(text = browser.page_source)\n",
    "\n",
    "time.sleep(5)\n",
    "\n",
    "product = sel.xpath('//h3[@data-v-0fb465fb]/text()').extract()\n",
    "unit_price = sel.xpath('//span[@class=\"product-grid-cell_unit\"]/text()').extract()\n",
    "main_prices = sel.xpath('//span[@class=\"product-grid-cell_main-price\"]/text()').extract()\n",
    "# prices = sel.xpath('//span[@class=\"product-grid-cell_main-price\"]/text()').extract()\n",
    "\n",
    "product_new = []\n",
    "for item in product:\n",
    "    product_new.append(' '.join(item.split()))\n",
    "\n",
    "unit_price_new = []\n",
    "for item in unit_price:\n",
    "    unit_price_new.append(' '.join(item.split()))\n",
    "\n",
    "main_price_new = []\n",
    "for item in main_prices:\n",
    "    main_price_new.append(' '.join(item.split()))\n",
    "\n",
    "count += 1\n",
    "\n",
    "exec(\"dict{} = dict(zip(product_new,  main_price_new))\".format(count))    \n",
    "# exec(\"df{} = pd.DataFrame.from_dict(dict{}, orient='index')\".format(count, count))\n",
    "\n",
    "browser.find_element_by_xpath(\"//li[@class='Pagination-item Pagination-next']/a[@class='Pagination-link']\")\n",
    "```"
   ]
  },
  {
   "cell_type": "markdown",
   "metadata": {},
   "source": [
    "### Marianos - Chicago (60615)"
   ]
  },
  {
   "cell_type": "code",
   "execution_count": 48,
   "metadata": {},
   "outputs": [],
   "source": [
    "from selenium import webdriver    #open webdriver for specific browser\n",
    "from selenium.webdriver.common.keys import Keys   # for necessary browser action\n",
    "from selenium.webdriver.common.by import By    # For selecting html code\n",
    "import time   "
   ]
  },
  {
   "cell_type": "code",
   "execution_count": 217,
   "metadata": {},
   "outputs": [],
   "source": [
    "url = \"https://www.google.com/\"\n",
    "browser = webdriver.Chrome('/usr/local/bin/chromedriver')\n",
    "browser.get(url) #navigate to the page"
   ]
  },
  {
   "cell_type": "code",
   "execution_count": 218,
   "metadata": {},
   "outputs": [
    {
     "name": "stdout",
     "output_type": "stream",
     "text": [
      "1440 is 1 out of 156\n",
      "1441 is 1 out of 156\n",
      "1442 is 1 out of 156\n",
      "1443 is 1 out of 156\n",
      "1444 is 1 out of 156\n",
      "1445 is 1 out of 156\n",
      "1446 is 1 out of 156\n",
      "1447 is 1 out of 156\n",
      "1448 is 1 out of 156\n",
      "1449 is 1 out of 156\n",
      "1450 is 1 out of 156\n",
      "1451 is 1 out of 156\n",
      "1452 is 1 out of 156\n",
      "1453 is 1 out of 156\n",
      "1454 is 1 out of 156\n",
      "1455 is 1 out of 156\n",
      "1456 is 1 out of 156\n",
      "1457 is 1 out of 156\n",
      "1458 is 1 out of 156\n",
      "1459 is 1 out of 156\n",
      "1460 is 1 out of 156\n",
      "1461 is 1 out of 156\n",
      "1462 is 1 out of 156\n",
      "1463 is 1 out of 156\n",
      "1464 is 1 out of 156\n",
      "1465 is 1 out of 156\n",
      "1470 is 1 out of 156\n",
      "1471 is 1 out of 156\n",
      "1472 is 1 out of 156\n",
      "1473 is 1 out of 156\n",
      "1474 is 1 out of 156\n",
      "1475 is 1 out of 156\n",
      "1476 is 1 out of 156\n",
      "1477 is 1 out of 156\n",
      "1478 is 1 out of 156\n",
      "1479 is 1 out of 156\n",
      "1480 is 1 out of 156\n",
      "1481 is 1 out of 156\n",
      "1482 is 1 out of 156\n",
      "1483 is 1 out of 156\n",
      "1484 is 1 out of 156\n",
      "1485 is 1 out of 156\n",
      "1486 is 1 out of 156\n",
      "1487 is 1 out of 156\n",
      "1488 is 1 out of 156\n",
      "1489 is 1 out of 156\n",
      "1491 is 1 out of 156\n",
      "1494 is 1 out of 156\n",
      "1496 is 1 out of 156\n",
      "1496 is 1 out of 156\n",
      "1497 is 1 out of 156\n",
      "1498 is 1 out of 156\n",
      "2708 is 1 out of 156\n",
      "2709 is 1 out of 156\n",
      "2720 is 1 out of 156\n",
      "2745 is 1 out of 156\n",
      "2746 is 1 out of 156\n",
      "2768 is 1 out of 156\n",
      "2780 is 1 out of 156\n",
      "2997 is 1 out of 156\n",
      "3011 is 1 out of 156\n",
      "3012 is 1 out of 156\n",
      "3014 is 1 out of 156\n",
      "3412 is 1 out of 156\n",
      "3600 is 1 out of 156\n",
      "3603 is 1 out of 156\n",
      "3605 is 1 out of 156\n",
      "3642 is 1 out of 156\n",
      "3651 is 1 out of 156\n",
      "3657 is 1 out of 156\n",
      "3658 is 1 out of 156\n",
      "3659 is 1 out of 156\n",
      "3661 is 1 out of 156\n",
      "3662 is 1 out of 156\n",
      "3663 is 1 out of 156\n",
      "3664 is 1 out of 156\n",
      "3665 is 1 out of 156\n",
      "3747 is 1 out of 156\n",
      "3792 is 1 out of 156\n",
      "3793 is 1 out of 156\n",
      "3794 is 1 out of 156\n",
      "3795 is 1 out of 156\n",
      "3796 is 1 out of 156\n",
      "3798 is 1 out of 156\n",
      "3799 is 1 out of 156\n",
      "4251 is 1 out of 156\n",
      "4302 is 1 out of 156\n",
      "6374 is 1 out of 156\n",
      "6377 is 1 out of 156\n",
      "6378 is 1 out of 156\n",
      "6458 is 1 out of 156\n",
      "6492 is 1 out of 156\n",
      "6493 is 1 out of 156\n",
      "6664 is 1 out of 156\n"
     ]
    }
   ],
   "source": [
    "aile_numbers\n",
    "total_num_ailes = len(aile_numbers)\n",
    "count = 1\n",
    "\n",
    "for aile in aile_numbers[62:]: \n",
    "    \n",
    "    print(str(aile) + ' is ' + str(1) + ' out of ' + str(total_num_ailes))\n",
    "    browser.get(\"https://www.instacart.com/store/marianos/departments/199/aisles/{}\".format(aile))\n",
    "    \n",
    "    time.sleep(3)\n",
    "    \n",
    "    for i in range(0,40):\n",
    "        browser.execute_script(\"window.scrollTo(0, document.body.scrollHeight);\")\n",
    "        time.sleep(3)\n",
    "    \n",
    "    sel = Selector(text = browser.page_source)\n",
    "    \n",
    "    time.sleep(5)\n",
    "    count = count + 1\n",
    "\n",
    "\n",
    "    product = sel.xpath(\"//span[@class='full-item-name']/text()\").extract()\n",
    "    unit_price = sel.xpath('//div[@class=\"item-price\"]/span/span[1]/text()').extract()\n",
    "#     item_size = sel.xpath(\"//span[@class='item-size muted']//text()\").extract()\n",
    "    item_size = sel.xpath('//*[@class=\"item-card\"]').extract()\n",
    "    product_aile = sel.xpath(\"//h1[@data-radium]//text()\").extract()\n",
    "    prod_aile_count = (product_aile * len(product))\n",
    "    \n",
    "    exec(\"df{} = pd.DataFrame(zip(product, unit_price, item_size, prod_aile_count), columns =['product', 'unit_price', 'item_size', 'prod_aile'])\".format(aile))\n",
    "\n",
    "    exec(\"df{}.to_csv('../../data/01_raw/prod_aile_{}.csv', index=False)\".format(aile, aile))\n",
    "    "
   ]
  },
  {
   "cell_type": "markdown",
   "metadata": {},
   "source": [
    "## Gordons Food Service - Chicago"
   ]
  },
  {
   "cell_type": "code",
   "execution_count": 219,
   "metadata": {},
   "outputs": [],
   "source": [
    "ailes_gordons = [100491, 100490, 100493, 100495, 100489, 100492, 100497, 100487, 100494, 100496,\n",
    "100488, 100438, 100442, 100437, 100439, 100444, 100441, 100440, 100445, 100436, 100435, 100443,\n",
    "100466, 100463, 100469, 100468, 100465, 100470, 100467, 100464,\n",
    "100354, 100353, 100355, 100352, 100350, 100486, 100485, 100482, 100483, 100481, 100480, 100484,\n",
    "100426, 100424, 100421, 100418, 100420, 100425, 100423, 100416, 100422, 100419, 100415,\n",
    "100477, 100474, 100472, 100476, 100473, 100479, 100471, 100478, 100475, 100455, 100453, 100451, 100452, 100454,\n",
    "100358, 100357, 100360, 100356, 100359, 100517, 100516, 100514, 100513, 100518, 100507, 100506, 100511, 100512, 100515, 100510,\n",
    "100413, 100410, 100411, 100412, 100414, 100431, 100434, 100432, 100433, 100429, 100430, 100427, 100428, 100402, 100403, 100401,\n",
    "100408, 100406, 100407, 100409\n",
    "]"
   ]
  },
  {
   "cell_type": "code",
   "execution_count": null,
   "metadata": {},
   "outputs": [],
   "source": [
    "url = \"https://www.google.com/\"\n",
    "browser = webdriver.Chrome('/usr/local/bin/chromedriver')\n",
    "browser.get(url) #navigate to the page"
   ]
  },
  {
   "cell_type": "code",
   "execution_count": null,
   "metadata": {},
   "outputs": [],
   "source": [
    "ailes_gordons\n",
    "count = 1\n",
    "\n",
    "for aile in aile_numbers[62:]: \n",
    "    \n",
    "    print(str(count) + ' out of ' + str(len(ailes_gordons)))\n",
    "    browser.get(\"https://www.instacart.com/store/gfs/departments/18980/aisles/{}\".format(aile))\n",
    "    \n",
    "    time.sleep(3)\n",
    "    \n",
    "    for i in range(0,40):\n",
    "        browser.execute_script(\"window.scrollTo(0, document.body.scrollHeight);\")\n",
    "        time.sleep(3)\n",
    "    \n",
    "    sel = Selector(text = browser.page_source)\n",
    "    \n",
    "    count = count + 1\n",
    "\n",
    "    product = sel.xpath(\"//span[@class='full-item-name']/text()\").extract()\n",
    "    main_price = sel.xpath('//div[@class=\"item-price\"]/span/span[1]/text()').extract()\n",
    "    full_item_desc = sel.xpath('//*[@class=\"item-card\"]').extract()\n",
    "    product_aile = sel.xpath(\"//h1[@data-radium]//text()\").extract()\n",
    "    prod_aile_count = (product_aile * len(product))\n",
    "    \n",
    "    exec(\"d{}={'product':product,'main_price':main_price, 'full_item_desc':full_item_desc, 'product_aile':product_aile, 'prod_aile_count':prod_aile_count}\".format(count))\n",
    "    exec(\"df{}=pd.DataFrame(d)\".format(count))\n",
    "    exec(\"df{}.to_csv('../../data/01_raw/gordons_prices_{}.csv')\".format(count, aile))\n"
   ]
  }
 ],
 "metadata": {
  "kernelspec": {
   "display_name": "Python 3",
   "language": "python",
   "name": "python3"
  },
  "language_info": {
   "codemirror_mode": {
    "name": "ipython",
    "version": 3
   },
   "file_extension": ".py",
   "mimetype": "text/x-python",
   "name": "python",
   "nbconvert_exporter": "python",
   "pygments_lexer": "ipython3",
   "version": "3.7.1"
  },
  "toc": {
   "base_numbering": 1,
   "nav_menu": {},
   "number_sections": true,
   "sideBar": true,
   "skip_h1_title": false,
   "title_cell": "Table of Contents",
   "title_sidebar": "Contents",
   "toc_cell": false,
   "toc_position": {},
   "toc_section_display": true,
   "toc_window_display": false
  }
 },
 "nbformat": 4,
 "nbformat_minor": 2
}
