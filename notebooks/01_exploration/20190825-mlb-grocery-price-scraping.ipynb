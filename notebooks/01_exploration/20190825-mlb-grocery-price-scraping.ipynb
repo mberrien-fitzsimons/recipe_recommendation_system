{
 "cells": [
  {
   "cell_type": "code",
   "execution_count": 44,
   "metadata": {},
   "outputs": [],
   "source": [
    "import scrapy\n",
    "import requests\n",
    "from bs4 import BeautifulSoup"
   ]
  },
  {
   "cell_type": "code",
   "execution_count": 45,
   "metadata": {},
   "outputs": [
    {
     "name": "stdout",
     "output_type": "stream",
     "text": [
      "<bound method Tag.get_text of <table class=\"table table-striped\">\n",
      "<tr>\n",
      "<th>ACCEPT</th>\n",
      "<td>*/*</td>\n",
      "</tr>\n",
      "<tr>\n",
      "<th>ACCEPT_ENCODING</th>\n",
      "<td>gzip, deflate</td>\n",
      "</tr>\n",
      "<tr>\n",
      "<th>ACCEPT_LANGUAGE</th>\n",
      "<td>en-US,en;q=0.9</td>\n",
      "</tr>\n",
      "<tr>\n",
      "<th>CONNECTION</th>\n",
      "<td>keep-alive</td>\n",
      "</tr>\n",
      "<tr>\n",
      "<th>HOST</th>\n",
      "<td>www.whatismybrowser.com</td>\n",
      "</tr>\n",
      "<tr>\n",
      "<th>USER_AGENT</th>\n",
      "<td>Mozilla/5.0 (Macintosh; Intel Mac OS X 10_14_6) AppleWebKit/537.36 (KHTML, like Gecko) Chrome/76.0.3809.100 Safari/537.36</td>\n",
      "</tr>\n",
      "</table>>\n"
     ]
    }
   ],
   "source": [
    "session = requests.Session()\n",
    "user_agent = 'Mozilla/5.0 (Macintosh; Intel Mac OS X 10_14_6) AppleWebKit/537.36 (KHTML, like Gecko) Chrome/76.0.3809.100 Safari/537.36'\n",
    "accept_language = 'en-US,en;q=0.9'\n",
    "# accept = 'text/html,application/xhtml+xml,application/xml;'\n",
    "#          'q=0.9,image/webp,*/*;q=0.8'\n",
    "headers = {'User-Agent':user_agent,\n",
    "           'Accept-Language': accept_language}\n",
    "\n",
    "url = 'https://www.whatismybrowser.com/'\\\n",
    "    'developers/what-http-headers-is-my-browser-sending'\n",
    "\n",
    "req = session.get(url, headers=headers)\n",
    "bs = BeautifulSoup(req.text, 'html.parser') \n",
    "print(bs.find('table', {'class':'table-striped'}).get_text)"
   ]
  },
  {
   "cell_type": "code",
   "execution_count": 49,
   "metadata": {},
   "outputs": [
    {
     "name": "stdout",
     "output_type": "stream",
     "text": [
      "Here is some important text you want to retrieve!\n",
      "A button to click!\n"
     ]
    }
   ],
   "source": [
    "from selenium import webdriver \n",
    "import time\n",
    "\n",
    "driver = webdriver.PhantomJS(executable_path='/usr/local/bin/phantomjs') \n",
    "driver.get('http://pythonscraping.com/pages/javascript/ajaxDemo.html') \n",
    "time.sleep(3)\n",
    "print(driver.find_element_by_id('content').text)\n",
    "driver.close()"
   ]
  },
  {
   "cell_type": "code",
   "execution_count": 47,
   "metadata": {},
   "outputs": [
    {
     "name": "stdout",
     "output_type": "stream",
     "text": [
      "Timing out after 10 seconds and returning\n",
      "<html><head>\n",
      "<title>The Destination Page!</title>\n",
      "\n",
      "</head>\n",
      "<body>\n",
      "This is the page you are looking for!\n",
      "\n",
      "</body></html>\n"
     ]
    }
   ],
   "source": [
    "from selenium import webdriver\n",
    "import time\n",
    "from selenium.webdriver.remote.webelement import WebElement\n",
    "from selenium.common.exceptions import StaleElementReferenceException\n",
    "\n",
    "def waitForLoad(driver):\n",
    "    elem = driver.find_element_by_tag_name(\"html\") \n",
    "    count = 0\n",
    "    while True:\n",
    "        count += 1\n",
    "        if count > 20:\n",
    "            print('Timing out after 10 seconds and returning')\n",
    "            return\n",
    "        time.sleep(.5) \n",
    "        try:\n",
    "            elem == driver.find_element_by_tag_name('html') \n",
    "        except StaleElementReferenceException:\n",
    "            return\n",
    "\n",
    "driver = webdriver.PhantomJS(executable_path='/usr/local/bin/phantomjs') \n",
    "driver.get('http://pythonscraping.com/pages/javascript/redirectDemo1.html') \n",
    "waitForLoad(driver)\n",
    "print(driver.page_source)"
   ]
  },
  {
   "cell_type": "markdown",
   "metadata": {},
   "source": [
    "## Attempt at Scraping Reactive Instacart Website"
   ]
  },
  {
   "cell_type": "markdown",
   "metadata": {},
   "source": [
    "```python\n",
    "import scrapy\n",
    "import csv\n",
    "from selenium import webdriver\n",
    "from scrapy.crawler import CrawlerProcess\n",
    "```"
   ]
  },
  {
   "cell_type": "markdown",
   "metadata": {},
   "source": [
    "```python\n",
    "from selenium import webdriver \n",
    "import time\n",
    "driver = driver = webdriver.Chrome('/usr/local/bin/chromedriver')\n",
    "driver.get('https://www.instacart.com/store/marianos/departments/207') \n",
    "time.sleep(3)\n",
    "print(driver.find_element_by_id('content').text)\n",
    "driver.close()\n",
    "```"
   ]
  },
  {
   "cell_type": "markdown",
   "metadata": {},
   "source": [
    "```python\n",
    "import requests\n",
    "params = {'zipEntry': '60615', 'customerType': 'C'}\n",
    "r = requests.post(\"https://www.peapod.com/\", data=params) \n",
    "print(r.text)\n",
    "```"
   ]
  },
  {
   "cell_type": "code",
   "execution_count": null,
   "metadata": {},
   "outputs": [],
   "source": []
  }
 ],
 "metadata": {
  "kernelspec": {
   "display_name": "Python 3",
   "language": "python",
   "name": "python3"
  },
  "language_info": {
   "codemirror_mode": {
    "name": "ipython",
    "version": 3
   },
   "file_extension": ".py",
   "mimetype": "text/x-python",
   "name": "python",
   "nbconvert_exporter": "python",
   "pygments_lexer": "ipython3",
   "version": "3.7.1"
  },
  "toc": {
   "base_numbering": 1,
   "nav_menu": {},
   "number_sections": true,
   "sideBar": true,
   "skip_h1_title": false,
   "title_cell": "Table of Contents",
   "title_sidebar": "Contents",
   "toc_cell": false,
   "toc_position": {},
   "toc_section_display": true,
   "toc_window_display": false
  }
 },
 "nbformat": 4,
 "nbformat_minor": 2
}
