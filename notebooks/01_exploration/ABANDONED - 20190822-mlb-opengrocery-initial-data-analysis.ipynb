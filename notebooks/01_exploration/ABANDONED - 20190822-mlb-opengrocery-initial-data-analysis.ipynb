{
 "cells": [
  {
   "cell_type": "markdown",
   "metadata": {},
   "source": [
    "http://www.grocery.com/open-grocery-database-project/"
   ]
  },
  {
   "cell_type": "code",
   "execution_count": 1,
   "metadata": {},
   "outputs": [],
   "source": [
    "import pandas as pd"
   ]
  },
  {
   "cell_type": "code",
   "execution_count": 2,
   "metadata": {},
   "outputs": [],
   "source": [
    "grocery_upc = pd.read_excel('../../data/01_raw/Grocery_UPC_Database.xlsx')"
   ]
  },
  {
   "cell_type": "code",
   "execution_count": 3,
   "metadata": {},
   "outputs": [],
   "source": [
    "grocery_brands = pd.read_excel('../../data/01_raw/Grocery_Brands_Database.xlsx')"
   ]
  },
  {
   "cell_type": "code",
   "execution_count": 4,
   "metadata": {},
   "outputs": [
    {
     "data": {
      "text/html": [
       "<div>\n",
       "<style scoped>\n",
       "    .dataframe tbody tr th:only-of-type {\n",
       "        vertical-align: middle;\n",
       "    }\n",
       "\n",
       "    .dataframe tbody tr th {\n",
       "        vertical-align: top;\n",
       "    }\n",
       "\n",
       "    .dataframe thead th {\n",
       "        text-align: right;\n",
       "    }\n",
       "</style>\n",
       "<table border=\"1\" class=\"dataframe\">\n",
       "  <thead>\n",
       "    <tr style=\"text-align: right;\">\n",
       "      <th></th>\n",
       "      <th>grp_id</th>\n",
       "      <th>upc14</th>\n",
       "      <th>upc12</th>\n",
       "      <th>brand</th>\n",
       "      <th>name</th>\n",
       "    </tr>\n",
       "  </thead>\n",
       "  <tbody>\n",
       "    <tr>\n",
       "      <th>0</th>\n",
       "      <td>1</td>\n",
       "      <td>35200264013</td>\n",
       "      <td>35200264013</td>\n",
       "      <td>Riceland</td>\n",
       "      <td>Riceland American Jazmine Rice</td>\n",
       "    </tr>\n",
       "    <tr>\n",
       "      <th>1</th>\n",
       "      <td>2</td>\n",
       "      <td>11111065925</td>\n",
       "      <td>11111065925</td>\n",
       "      <td>Caress</td>\n",
       "      <td>Caress Velvet Bliss Ultra Silkening Beauty Bar...</td>\n",
       "    </tr>\n",
       "    <tr>\n",
       "      <th>2</th>\n",
       "      <td>3</td>\n",
       "      <td>23923330139</td>\n",
       "      <td>23923330139</td>\n",
       "      <td>Earth's Best</td>\n",
       "      <td>Earth's Best Organic Fruit Yogurt Smoothie Mix...</td>\n",
       "    </tr>\n",
       "    <tr>\n",
       "      <th>3</th>\n",
       "      <td>4</td>\n",
       "      <td>208528800007</td>\n",
       "      <td>208528800007</td>\n",
       "      <td>Boar's Head</td>\n",
       "      <td>Boar's Head Sliced White American Cheese - 120 Ct</td>\n",
       "    </tr>\n",
       "    <tr>\n",
       "      <th>4</th>\n",
       "      <td>5</td>\n",
       "      <td>759283100036</td>\n",
       "      <td>759283100036</td>\n",
       "      <td>Back To Nature</td>\n",
       "      <td>Back To Nature Gluten Free White Cheddar Rice ...</td>\n",
       "    </tr>\n",
       "  </tbody>\n",
       "</table>\n",
       "</div>"
      ],
      "text/plain": [
       "   grp_id         upc14         upc12           brand  \\\n",
       "0       1   35200264013   35200264013        Riceland   \n",
       "1       2   11111065925   11111065925          Caress   \n",
       "2       3   23923330139   23923330139    Earth's Best   \n",
       "3       4  208528800007  208528800007     Boar's Head   \n",
       "4       5  759283100036  759283100036  Back To Nature   \n",
       "\n",
       "                                                name  \n",
       "0                     Riceland American Jazmine Rice  \n",
       "1  Caress Velvet Bliss Ultra Silkening Beauty Bar...  \n",
       "2  Earth's Best Organic Fruit Yogurt Smoothie Mix...  \n",
       "3  Boar's Head Sliced White American Cheese - 120 Ct  \n",
       "4  Back To Nature Gluten Free White Cheddar Rice ...  "
      ]
     },
     "execution_count": 4,
     "metadata": {},
     "output_type": "execute_result"
    }
   ],
   "source": [
    "grocery_upc.head()"
   ]
  },
  {
   "cell_type": "code",
   "execution_count": 5,
   "metadata": {},
   "outputs": [
    {
     "data": {
      "text/plain": [
       "Index(['grp_id', 'upc14', 'upc12', 'brand', 'name'], dtype='object')"
      ]
     },
     "execution_count": 5,
     "metadata": {},
     "output_type": "execute_result"
    }
   ],
   "source": [
    "grocery_upc.columns"
   ]
  },
  {
   "cell_type": "code",
   "execution_count": 15,
   "metadata": {},
   "outputs": [
    {
     "data": {
      "text/plain": [
       "35200264013"
      ]
     },
     "execution_count": 15,
     "metadata": {},
     "output_type": "execute_result"
    }
   ],
   "source": [
    "grocery_upc.upc14[0]"
   ]
  },
  {
   "cell_type": "code",
   "execution_count": 6,
   "metadata": {},
   "outputs": [
    {
     "data": {
      "text/plain": [
       "Index(['grb_id', 'Brand', 'No_of_items', 'Manufacturer', 'Address', 'Website'], dtype='object')"
      ]
     },
     "execution_count": 6,
     "metadata": {},
     "output_type": "execute_result"
    }
   ],
   "source": [
    "grocery_brands.columns"
   ]
  },
  {
   "cell_type": "code",
   "execution_count": 6,
   "metadata": {},
   "outputs": [
    {
     "data": {
      "text/html": [
       "<div>\n",
       "<style scoped>\n",
       "    .dataframe tbody tr th:only-of-type {\n",
       "        vertical-align: middle;\n",
       "    }\n",
       "\n",
       "    .dataframe tbody tr th {\n",
       "        vertical-align: top;\n",
       "    }\n",
       "\n",
       "    .dataframe thead th {\n",
       "        text-align: right;\n",
       "    }\n",
       "</style>\n",
       "<table border=\"1\" class=\"dataframe\">\n",
       "  <thead>\n",
       "    <tr style=\"text-align: right;\">\n",
       "      <th></th>\n",
       "      <th>grb_id</th>\n",
       "      <th>Brand</th>\n",
       "      <th>No_of_items</th>\n",
       "      <th>Manufacturer</th>\n",
       "      <th>Address</th>\n",
       "      <th>Website</th>\n",
       "    </tr>\n",
       "  </thead>\n",
       "  <tbody>\n",
       "    <tr>\n",
       "      <th>0</th>\n",
       "      <td>1</td>\n",
       "      <td>Ahold</td>\n",
       "      <td>3562</td>\n",
       "      <td>Ahold USA, Inc.</td>\n",
       "      <td>NaN</td>\n",
       "      <td>NaN</td>\n",
       "    </tr>\n",
       "    <tr>\n",
       "      <th>1</th>\n",
       "      <td>2</td>\n",
       "      <td>Careone</td>\n",
       "      <td>1154</td>\n",
       "      <td>Ahold USA, Inc.</td>\n",
       "      <td>NaN</td>\n",
       "      <td>NaN</td>\n",
       "    </tr>\n",
       "    <tr>\n",
       "      <th>2</th>\n",
       "      <td>3</td>\n",
       "      <td>Roland</td>\n",
       "      <td>688</td>\n",
       "      <td>American Roland Food Corp.</td>\n",
       "      <td>New York, NY 10010</td>\n",
       "      <td>www.rolandfood.com</td>\n",
       "    </tr>\n",
       "    <tr>\n",
       "      <th>3</th>\n",
       "      <td>4</td>\n",
       "      <td>Nature's Promise</td>\n",
       "      <td>487</td>\n",
       "      <td>Ahold USA, Inc.</td>\n",
       "      <td>NaN</td>\n",
       "      <td>NaN</td>\n",
       "    </tr>\n",
       "    <tr>\n",
       "      <th>4</th>\n",
       "      <td>5</td>\n",
       "      <td>Mccormick</td>\n",
       "      <td>463</td>\n",
       "      <td>McCormick &amp; Co., Inc.</td>\n",
       "      <td>Hunt Valley, MD 21031-1100</td>\n",
       "      <td>www.mccormickgourmet.com</td>\n",
       "    </tr>\n",
       "  </tbody>\n",
       "</table>\n",
       "</div>"
      ],
      "text/plain": [
       "   grb_id             Brand  No_of_items                Manufacturer  \\\n",
       "0       1             Ahold         3562             Ahold USA, Inc.   \n",
       "1       2           Careone         1154             Ahold USA, Inc.   \n",
       "2       3            Roland          688  American Roland Food Corp.   \n",
       "3       4  Nature's Promise          487             Ahold USA, Inc.   \n",
       "4       5         Mccormick          463       McCormick & Co., Inc.   \n",
       "\n",
       "                      Address                   Website  \n",
       "0                         NaN                       NaN  \n",
       "1                         NaN                       NaN  \n",
       "2          New York, NY 10010        www.rolandfood.com  \n",
       "3                         NaN                       NaN  \n",
       "4  Hunt Valley, MD 21031-1100  www.mccormickgourmet.com  "
      ]
     },
     "execution_count": 6,
     "metadata": {},
     "output_type": "execute_result"
    }
   ],
   "source": [
    "grocery_brands.head()"
   ]
  },
  {
   "cell_type": "code",
   "execution_count": 7,
   "metadata": {},
   "outputs": [
    {
     "name": "stdout",
     "output_type": "stream",
     "text": [
      "<class 'pandas.core.frame.DataFrame'>\n",
      "RangeIndex: 110436 entries, 0 to 110435\n",
      "Data columns (total 5 columns):\n",
      "grp_id    110436 non-null int64\n",
      "upc14     110436 non-null int64\n",
      "upc12     110436 non-null int64\n",
      "brand     110436 non-null object\n",
      "name      110436 non-null object\n",
      "dtypes: int64(3), object(2)\n",
      "memory usage: 4.2+ MB\n"
     ]
    }
   ],
   "source": [
    "grocery_upc.info()"
   ]
  },
  {
   "cell_type": "code",
   "execution_count": 8,
   "metadata": {},
   "outputs": [
    {
     "name": "stdout",
     "output_type": "stream",
     "text": [
      "<class 'pandas.core.frame.DataFrame'>\n",
      "RangeIndex: 9084 entries, 0 to 9083\n",
      "Data columns (total 6 columns):\n",
      "grb_id          9084 non-null int64\n",
      "Brand           9084 non-null object\n",
      "No_of_items     9084 non-null int64\n",
      "Manufacturer    5621 non-null object\n",
      "Address         3384 non-null object\n",
      "Website         2745 non-null object\n",
      "dtypes: int64(2), object(4)\n",
      "memory usage: 425.9+ KB\n"
     ]
    }
   ],
   "source": [
    "grocery_brands.info()"
   ]
  },
  {
   "cell_type": "code",
   "execution_count": null,
   "metadata": {},
   "outputs": [],
   "source": []
  }
 ],
 "metadata": {
  "kernelspec": {
   "display_name": "Python 3",
   "language": "python",
   "name": "python3"
  },
  "language_info": {
   "codemirror_mode": {
    "name": "ipython",
    "version": 3
   },
   "file_extension": ".py",
   "mimetype": "text/x-python",
   "name": "python",
   "nbconvert_exporter": "python",
   "pygments_lexer": "ipython3",
   "version": "3.7.1"
  },
  "toc": {
   "base_numbering": 1,
   "nav_menu": {},
   "number_sections": true,
   "sideBar": true,
   "skip_h1_title": false,
   "title_cell": "Table of Contents",
   "title_sidebar": "Contents",
   "toc_cell": false,
   "toc_position": {},
   "toc_section_display": true,
   "toc_window_display": false
  }
 },
 "nbformat": 4,
 "nbformat_minor": 2
}
