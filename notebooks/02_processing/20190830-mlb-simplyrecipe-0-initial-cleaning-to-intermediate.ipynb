{
 "cells": [
  {
   "cell_type": "markdown",
   "metadata": {},
   "source": [
    "## Intermediate Cleaning - Simply Recipes"
   ]
  },
  {
   "cell_type": "code",
   "execution_count": 1,
   "metadata": {},
   "outputs": [],
   "source": [
    "# read in kickstarter intermediate data \n",
    "import numpy as np\n",
    "import os\n",
    "import pandas as pd \n",
    "import seaborn as sns\n",
    "import sys\n",
    "import re\n",
    "# import warnings\n",
    "# warnings.filterwarnings('ignore')\n",
    "\n",
    "# src_dir = os.path.join(os.getcwd(), '..', '..', 'src')\n",
    "# sys.path.append(src_dir)\n",
    "\n",
    "# from d01_data.utils import read_multiple_csv_and_concat"
   ]
  },
  {
   "cell_type": "code",
   "execution_count": 2,
   "metadata": {},
   "outputs": [],
   "source": [
    "recipes_sr1 = pd.read_csv('../../data/01_raw/simply_recipes/simply_recipes_1.csv')\n",
    "recipes_sr2 = pd.read_csv('../../data/01_raw/simply_recipes/simply_recipes_2.csv')\n",
    "recipes_sr3 = pd.read_csv('../../data/01_raw/simply_recipes/simply_recipes_3.csv')"
   ]
  },
  {
   "cell_type": "markdown",
   "metadata": {},
   "source": [
    "## Drop Useless Columns & Concat"
   ]
  },
  {
   "cell_type": "markdown",
   "metadata": {},
   "source": [
    "Looks like both Datasets have unnamed columns. Let's drop these"
   ]
  },
  {
   "cell_type": "code",
   "execution_count": 3,
   "metadata": {},
   "outputs": [
    {
     "data": {
      "text/plain": [
       "Index(['Unnamed: 0', 'title', 'prep_time', 'cook_time', 'recipe_yield', 'tags',\n",
       "       'ingredients', 'entire_card', 'byline', 'link_food'],\n",
       "      dtype='object')"
      ]
     },
     "execution_count": 3,
     "metadata": {},
     "output_type": "execute_result"
    }
   ],
   "source": [
    "recipes_sr1.columns"
   ]
  },
  {
   "cell_type": "code",
   "execution_count": 4,
   "metadata": {},
   "outputs": [
    {
     "data": {
      "text/plain": [
       "Index(['Unnamed: 0', 'title', 'prep_time', 'cook_time', 'recipe_yield', 'tags',\n",
       "       'ingredients', 'entire_card', 'byline', 'link_food'],\n",
       "      dtype='object')"
      ]
     },
     "execution_count": 4,
     "metadata": {},
     "output_type": "execute_result"
    }
   ],
   "source": [
    "recipes_sr2.columns"
   ]
  },
  {
   "cell_type": "code",
   "execution_count": 5,
   "metadata": {},
   "outputs": [
    {
     "data": {
      "text/plain": [
       "Index(['Unnamed: 0', 'title', 'prep_time', 'cook_time', 'recipe_yield', 'tags',\n",
       "       'ingredients', 'entire_card', 'byline', 'link_food'],\n",
       "      dtype='object')"
      ]
     },
     "execution_count": 5,
     "metadata": {},
     "output_type": "execute_result"
    }
   ],
   "source": [
    "recipes_sr3.columns"
   ]
  },
  {
   "cell_type": "code",
   "execution_count": 6,
   "metadata": {},
   "outputs": [],
   "source": [
    "recipes_sr1.drop(columns=['Unnamed: 0'], inplace=True)\n",
    "recipes_sr2.drop(columns=['Unnamed: 0'], inplace=True)\n",
    "recipes_sr3.drop(columns=['Unnamed: 0'], inplace=True)"
   ]
  },
  {
   "cell_type": "code",
   "execution_count": 7,
   "metadata": {},
   "outputs": [
    {
     "name": "stdout",
     "output_type": "stream",
     "text": [
      "Index(['title', 'prep_time', 'cook_time', 'recipe_yield', 'tags',\n",
      "       'ingredients', 'entire_card', 'byline', 'link_food'],\n",
      "      dtype='object')\n",
      "Index(['title', 'prep_time', 'cook_time', 'recipe_yield', 'tags',\n",
      "       'ingredients', 'entire_card', 'byline', 'link_food'],\n",
      "      dtype='object')\n",
      "Index(['title', 'prep_time', 'cook_time', 'recipe_yield', 'tags',\n",
      "       'ingredients', 'entire_card', 'byline', 'link_food'],\n",
      "      dtype='object')\n"
     ]
    }
   ],
   "source": [
    "print(recipes_sr1.columns)\n",
    "print(recipes_sr2.columns)\n",
    "print(recipes_sr3.columns)"
   ]
  },
  {
   "cell_type": "markdown",
   "metadata": {},
   "source": [
    "### Concat"
   ]
  },
  {
   "cell_type": "code",
   "execution_count": 8,
   "metadata": {},
   "outputs": [],
   "source": [
    "recipes_sr_full = pd.concat([recipes_sr1, recipes_sr2, recipes_sr3], axis=0)\n",
    "recipes_sr_full.reset_index(inplace=True, drop=True)"
   ]
  },
  {
   "cell_type": "code",
   "execution_count": 9,
   "metadata": {},
   "outputs": [
    {
     "data": {
      "text/html": [
       "<div>\n",
       "<style scoped>\n",
       "    .dataframe tbody tr th:only-of-type {\n",
       "        vertical-align: middle;\n",
       "    }\n",
       "\n",
       "    .dataframe tbody tr th {\n",
       "        vertical-align: top;\n",
       "    }\n",
       "\n",
       "    .dataframe thead th {\n",
       "        text-align: right;\n",
       "    }\n",
       "</style>\n",
       "<table border=\"1\" class=\"dataframe\">\n",
       "  <thead>\n",
       "    <tr style=\"text-align: right;\">\n",
       "      <th></th>\n",
       "      <th>title</th>\n",
       "      <th>prep_time</th>\n",
       "      <th>cook_time</th>\n",
       "      <th>recipe_yield</th>\n",
       "      <th>tags</th>\n",
       "      <th>ingredients</th>\n",
       "      <th>entire_card</th>\n",
       "      <th>byline</th>\n",
       "      <th>link_food</th>\n",
       "    </tr>\n",
       "  </thead>\n",
       "  <tbody>\n",
       "    <tr>\n",
       "      <th>0</th>\n",
       "      <td>['Grilled Cheese BLT']</td>\n",
       "      <td>['Prep time:', ' ', '10 minutes']</td>\n",
       "      <td>['Cook time:', ' ', '10 minutes']</td>\n",
       "      <td>['Yield:', ' ', '4 sandwiches']</td>\n",
       "      <td>['Filed under:', ' ', 'Dinner', 'Lunch', 'Sand...</td>\n",
       "      <td>['\\n                        ', 'Ingredients', ...</td>\n",
       "      <td>['\\n\\n                    ', '\\n              ...</td>\n",
       "      <td>['by   ', '   ', 'Aaron Hutcherson', 'August 2...</td>\n",
       "      <td>['&lt;link rel=\"canonical\" href=\"https://www.simp...</td>\n",
       "    </tr>\n",
       "    <tr>\n",
       "      <th>1</th>\n",
       "      <td>['Pulled Pork Sandwich']</td>\n",
       "      <td>['Prep time:', ' ', '10 minutes']</td>\n",
       "      <td>['Cook time:', ' ', '2 hours, 45 minutes']</td>\n",
       "      <td>['Yield:', ' ', 'Serves 6 to 8']</td>\n",
       "      <td>['Filed under:', ' ', 'Dinner', 'Sandwich', 'B...</td>\n",
       "      <td>['\\n                        ', 'Ingredients', ...</td>\n",
       "      <td>['\\n\\n                    ', '\\n              ...</td>\n",
       "      <td>['by   ', '   ', 'Elise Bauer', 'Updated Augus...</td>\n",
       "      <td>['&lt;link rel=\"canonical\" href=\"https://www.simp...</td>\n",
       "    </tr>\n",
       "    <tr>\n",
       "      <th>2</th>\n",
       "      <td>['How to Make Bacon in the Oven']</td>\n",
       "      <td>['Prep time:', ' ', '5 minutes']</td>\n",
       "      <td>['Cook time:', ' ', '20 minutes']</td>\n",
       "      <td>['Yield:', ' ', '12 strips']</td>\n",
       "      <td>['Filed under:', ' ', 'Tips', 'Breakfast and B...</td>\n",
       "      <td>['\\n                        ', 'Ingredients', ...</td>\n",
       "      <td>['\\n\\n                    ', '\\n              ...</td>\n",
       "      <td>['by   ', '   ', 'Nick Evans', 'August 25, 2019']</td>\n",
       "      <td>['&lt;link rel=\"canonical\" href=\"https://www.simp...</td>\n",
       "    </tr>\n",
       "    <tr>\n",
       "      <th>3</th>\n",
       "      <td>['Sausage Stuffed Zucchini']</td>\n",
       "      <td>['Prep time:', ' ', '15 minutes']</td>\n",
       "      <td>['Cook time:', ' ', '1 hour']</td>\n",
       "      <td>['Yield:', ' ', 'Serves 4']</td>\n",
       "      <td>['Filed under:', ' ', 'Dinner', 'Favorite Summ...</td>\n",
       "      <td>['\\n                        ', 'Ingredients', ...</td>\n",
       "      <td>['\\n\\n                    ', '\\n              ...</td>\n",
       "      <td>['by   ', '   ', 'Elise Bauer', 'Updated Augus...</td>\n",
       "      <td>['&lt;link rel=\"canonical\" href=\"https://www.simp...</td>\n",
       "    </tr>\n",
       "    <tr>\n",
       "      <th>4</th>\n",
       "      <td>['The Best Dry Rub for Ribs']</td>\n",
       "      <td>['Prep time:', ' ', '5 minutes']</td>\n",
       "      <td>['Yield:', ' ', '1 1/2 cups']</td>\n",
       "      <td>[]</td>\n",
       "      <td>['Filed under:', ' ', 'Favorite Fall', 'Favori...</td>\n",
       "      <td>['\\n                        ', 'Ingredients', ...</td>\n",
       "      <td>['\\n\\n                    ', '\\n              ...</td>\n",
       "      <td>['by   ', '   ', 'Irvin Lin', 'July 28, 2019']</td>\n",
       "      <td>['&lt;link rel=\"canonical\" href=\"https://www.simp...</td>\n",
       "    </tr>\n",
       "  </tbody>\n",
       "</table>\n",
       "</div>"
      ],
      "text/plain": [
       "                               title                          prep_time  \\\n",
       "0             ['Grilled Cheese BLT']  ['Prep time:', ' ', '10 minutes']   \n",
       "1           ['Pulled Pork Sandwich']  ['Prep time:', ' ', '10 minutes']   \n",
       "2  ['How to Make Bacon in the Oven']   ['Prep time:', ' ', '5 minutes']   \n",
       "3       ['Sausage Stuffed Zucchini']  ['Prep time:', ' ', '15 minutes']   \n",
       "4      ['The Best Dry Rub for Ribs']   ['Prep time:', ' ', '5 minutes']   \n",
       "\n",
       "                                    cook_time  \\\n",
       "0           ['Cook time:', ' ', '10 minutes']   \n",
       "1  ['Cook time:', ' ', '2 hours, 45 minutes']   \n",
       "2           ['Cook time:', ' ', '20 minutes']   \n",
       "3               ['Cook time:', ' ', '1 hour']   \n",
       "4               ['Yield:', ' ', '1 1/2 cups']   \n",
       "\n",
       "                       recipe_yield  \\\n",
       "0   ['Yield:', ' ', '4 sandwiches']   \n",
       "1  ['Yield:', ' ', 'Serves 6 to 8']   \n",
       "2      ['Yield:', ' ', '12 strips']   \n",
       "3       ['Yield:', ' ', 'Serves 4']   \n",
       "4                                []   \n",
       "\n",
       "                                                tags  \\\n",
       "0  ['Filed under:', ' ', 'Dinner', 'Lunch', 'Sand...   \n",
       "1  ['Filed under:', ' ', 'Dinner', 'Sandwich', 'B...   \n",
       "2  ['Filed under:', ' ', 'Tips', 'Breakfast and B...   \n",
       "3  ['Filed under:', ' ', 'Dinner', 'Favorite Summ...   \n",
       "4  ['Filed under:', ' ', 'Favorite Fall', 'Favori...   \n",
       "\n",
       "                                         ingredients  \\\n",
       "0  ['\\n                        ', 'Ingredients', ...   \n",
       "1  ['\\n                        ', 'Ingredients', ...   \n",
       "2  ['\\n                        ', 'Ingredients', ...   \n",
       "3  ['\\n                        ', 'Ingredients', ...   \n",
       "4  ['\\n                        ', 'Ingredients', ...   \n",
       "\n",
       "                                         entire_card  \\\n",
       "0  ['\\n\\n                    ', '\\n              ...   \n",
       "1  ['\\n\\n                    ', '\\n              ...   \n",
       "2  ['\\n\\n                    ', '\\n              ...   \n",
       "3  ['\\n\\n                    ', '\\n              ...   \n",
       "4  ['\\n\\n                    ', '\\n              ...   \n",
       "\n",
       "                                              byline  \\\n",
       "0  ['by   ', '   ', 'Aaron Hutcherson', 'August 2...   \n",
       "1  ['by   ', '   ', 'Elise Bauer', 'Updated Augus...   \n",
       "2  ['by   ', '   ', 'Nick Evans', 'August 25, 2019']   \n",
       "3  ['by   ', '   ', 'Elise Bauer', 'Updated Augus...   \n",
       "4     ['by   ', '   ', 'Irvin Lin', 'July 28, 2019']   \n",
       "\n",
       "                                           link_food  \n",
       "0  ['<link rel=\"canonical\" href=\"https://www.simp...  \n",
       "1  ['<link rel=\"canonical\" href=\"https://www.simp...  \n",
       "2  ['<link rel=\"canonical\" href=\"https://www.simp...  \n",
       "3  ['<link rel=\"canonical\" href=\"https://www.simp...  \n",
       "4  ['<link rel=\"canonical\" href=\"https://www.simp...  "
      ]
     },
     "execution_count": 9,
     "metadata": {},
     "output_type": "execute_result"
    }
   ],
   "source": [
    "recipes_sr_full.head()"
   ]
  },
  {
   "cell_type": "markdown",
   "metadata": {},
   "source": [
    "## EDA - Let's see what we have"
   ]
  },
  {
   "cell_type": "markdown",
   "metadata": {},
   "source": [
    "**TO-DO LIST**\n",
    "1. title - take title out of brackets\n",
    "1. prep_time - take cook time down to time\n",
    "1. cook_time - split into 2 columns (one with number and other with measure word) \n",
    "1. tags - make tags just a simple list\n",
    "1. ingredients - make simple list\n"
   ]
  },
  {
   "cell_type": "code",
   "execution_count": 10,
   "metadata": {},
   "outputs": [],
   "source": [
    "recipes_sr_full.drop_duplicates(inplace=True)"
   ]
  },
  {
   "cell_type": "code",
   "execution_count": 11,
   "metadata": {},
   "outputs": [
    {
     "data": {
      "text/plain": [
       "(1748, 9)"
      ]
     },
     "execution_count": 11,
     "metadata": {},
     "output_type": "execute_result"
    }
   ],
   "source": [
    "recipes_sr_full.shape"
   ]
  },
  {
   "cell_type": "code",
   "execution_count": 12,
   "metadata": {},
   "outputs": [
    {
     "name": "stdout",
     "output_type": "stream",
     "text": [
      "<class 'pandas.core.frame.DataFrame'>\n",
      "Int64Index: 1748 entries, 0 to 1751\n",
      "Data columns (total 9 columns):\n",
      "title           1748 non-null object\n",
      "prep_time       1748 non-null object\n",
      "cook_time       1748 non-null object\n",
      "recipe_yield    1748 non-null object\n",
      "tags            1748 non-null object\n",
      "ingredients     1748 non-null object\n",
      "entire_card     1748 non-null object\n",
      "byline          1748 non-null object\n",
      "link_food       1748 non-null object\n",
      "dtypes: object(9)\n",
      "memory usage: 136.6+ KB\n"
     ]
    }
   ],
   "source": [
    "recipes_sr_full.info()"
   ]
  },
  {
   "cell_type": "markdown",
   "metadata": {},
   "source": [
    "### Title"
   ]
  },
  {
   "cell_type": "code",
   "execution_count": 13,
   "metadata": {},
   "outputs": [],
   "source": [
    "titles = recipes_sr_full.title"
   ]
  },
  {
   "cell_type": "code",
   "execution_count": 14,
   "metadata": {},
   "outputs": [],
   "source": [
    "title_new = []\n",
    "for title in titles:\n",
    "    try:\n",
    "        title_new.append(re.search(\"'(.*)\\'\", title).group(1))\n",
    "    except:\n",
    "        title_new.append(np.nan)"
   ]
  },
  {
   "cell_type": "markdown",
   "metadata": {},
   "source": [
    "### Prep Time"
   ]
  },
  {
   "cell_type": "code",
   "execution_count": 15,
   "metadata": {},
   "outputs": [],
   "source": [
    "prep_time = recipes_sr_full.prep_time"
   ]
  },
  {
   "cell_type": "code",
   "execution_count": 16,
   "metadata": {},
   "outputs": [],
   "source": [
    "prep_time_new = []\n",
    "for time in prep_time:\n",
    "    try:\n",
    "        prep_time_new.append(re.search(\"\\'Prep time:\\', \\' \\',\\ \\'(.*)\\'\", time).group(1))\n",
    "    except:\n",
    "        prep_time_new.append(np.nan)"
   ]
  },
  {
   "cell_type": "markdown",
   "metadata": {},
   "source": [
    "### cook_time"
   ]
  },
  {
   "cell_type": "code",
   "execution_count": 17,
   "metadata": {},
   "outputs": [],
   "source": [
    "cook_times = recipes_sr_full.cook_time"
   ]
  },
  {
   "cell_type": "code",
   "execution_count": 18,
   "metadata": {},
   "outputs": [],
   "source": [
    "cook_time_new = []\n",
    "for time in cook_times:\n",
    "    try:\n",
    "        cook_time_new.append(re.search(\"\\'Cook time:\\', \\' \\',\\ \\'(.*)\\'\", time).group(1))\n",
    "    except:\n",
    "        cook_time_new.append(np.nan)"
   ]
  },
  {
   "cell_type": "markdown",
   "metadata": {},
   "source": [
    "### recipe_yield"
   ]
  },
  {
   "cell_type": "code",
   "execution_count": 19,
   "metadata": {},
   "outputs": [],
   "source": [
    "recipe_yield = recipes_sr_full.recipe_yield\n",
    "\n",
    "# clean the recipe yield\n",
    "recipe_yield_new = []\n",
    "for element in recipe_yield:\n",
    "    try:\n",
    "        recipe_yield_new.append(re.search(\"\\'Yield:\\', \\' \\', \\'(.*)\\']\", element).group(1))\n",
    "    except:\n",
    "        recipe_yield_new.append(np.nan)"
   ]
  },
  {
   "cell_type": "markdown",
   "metadata": {},
   "source": [
    "### Tags"
   ]
  },
  {
   "cell_type": "code",
   "execution_count": 20,
   "metadata": {},
   "outputs": [],
   "source": [
    "tags = recipes_sr_full.tags"
   ]
  },
  {
   "cell_type": "code",
   "execution_count": 21,
   "metadata": {},
   "outputs": [],
   "source": [
    "tags_new = []\n",
    "for tag in tags:\n",
    "    sub_list = []\n",
    "    try:\n",
    "        sub_list.append(re.search(\"\\'Filed under:\\', \\' \\',\\ (.*)\\]\", tag).group(1))\n",
    "    except:\n",
    "        sub_list.append(np.nan)\n",
    "    tags_new.append(sub_list)"
   ]
  },
  {
   "cell_type": "markdown",
   "metadata": {},
   "source": [
    "### Ingredients"
   ]
  },
  {
   "cell_type": "code",
   "execution_count": 22,
   "metadata": {},
   "outputs": [],
   "source": [
    "ingredient_lists = recipes_sr_full.ingredients"
   ]
  },
  {
   "cell_type": "code",
   "execution_count": 23,
   "metadata": {},
   "outputs": [],
   "source": [
    "ingredients_new = []\n",
    "for ingredient_list in ingredient_lists:\n",
    "    try:\n",
    "        ingredients_new.append(re.findall(\"\\'(.*?)\\'\", ingredient_list))\n",
    "    except:\n",
    "        ingredients_new.append(np.nan)"
   ]
  },
  {
   "cell_type": "code",
   "execution_count": 24,
   "metadata": {},
   "outputs": [],
   "source": [
    "# Note, this line needs to be run three times. Fix this later.\n",
    "count = 0\n",
    "while count <= 3:\n",
    "    for sub_list in ingredients_new:\n",
    "        for idx, element in enumerate(sub_list):\n",
    "            if \"\\\\n\" in element:\n",
    "                sub_list.pop(idx)\n",
    "    count = count + 1"
   ]
  },
  {
   "cell_type": "code",
   "execution_count": 25,
   "metadata": {},
   "outputs": [],
   "source": [
    "l = []\n",
    "for element in ingredients_new:\n",
    "    l.append(str(element).split('\\\\\\\\n'))\n",
    "    "
   ]
  },
  {
   "cell_type": "code",
   "execution_count": 26,
   "metadata": {},
   "outputs": [],
   "source": [
    "new_list = []\n",
    "for i in l:\n",
    "    sub_list = []\n",
    "    for ele in i:\n",
    "        sub_list.append(ele)\n",
    "    new_list.append(sub_list)\n",
    "        \n",
    "#         print(ele)\n",
    "#         print('\\n')"
   ]
  },
  {
   "cell_type": "code",
   "execution_count": 27,
   "metadata": {},
   "outputs": [],
   "source": [
    "nl = []\n",
    "for i in new_list:\n",
    "    sl = []\n",
    "    for ele in i:\n",
    "        sl.append(ele.strip('.][\\,'))\n",
    "    nl.append(sl)"
   ]
  },
  {
   "cell_type": "code",
   "execution_count": 28,
   "metadata": {},
   "outputs": [],
   "source": [
    "count = 0\n",
    "while count <= 3:\n",
    "    count = count + 1\n",
    "    for sub_list in nl:\n",
    "        for idx, element in enumerate(sub_list):\n",
    "            try:\n",
    "                if element == \"                        ', 'Ingredients', '\":\n",
    "                    sub_list.pop(idx)\n",
    "                if element == \"'\":\n",
    "                    sub_list.pop(idx)\n",
    "                if element == \"\":\n",
    "                    sub_list.pop(idx)\n",
    "                if element == \"                        ', '\":\n",
    "                    sub_list.pop(idx)\n",
    "                if element == \"                        ', 'For the sauce:', '\":\n",
    "                    sub_list.pop(idx)\n",
    "                if element == \"                                                  ', ' Special equipment:', '\":\n",
    "                    sub_list.pop(idx)\n",
    "                if '\\\\\\\\t' in element:\n",
    "                    sub_list.pop(idx)\n",
    "                if element == \"                                              '\":\n",
    "                    sub_list.pop(idx)\n",
    "                if element == '':\n",
    "                    sub_list.pop(idx)\n",
    "#                 if \"                        ', '\" in element:\n",
    "#                     sub_list.pop(idx)\n",
    "#                 if element == \"', '\":\n",
    "#                     sub_list.pop(idx)\n",
    "            except:\n",
    "                pass"
   ]
  },
  {
   "cell_type": "code",
   "execution_count": 29,
   "metadata": {},
   "outputs": [],
   "source": [
    "data_sr = []\n",
    "for i in nl:\n",
    "    sl = []\n",
    "    for ele in i:\n",
    "        sl.append(ele.strip(\"').,('\"))\n",
    "    data_sr.append(sl)"
   ]
  },
  {
   "cell_type": "code",
   "execution_count": 30,
   "metadata": {},
   "outputs": [],
   "source": [
    "data_sr_fin = []\n",
    "for recipe in data_sr:\n",
    "    sub_list = []\n",
    "    for ingredient in recipe:\n",
    "        try:\n",
    "            sub_list.append(re.search(\"\\ \\'(.*)\\', \", ingredient).group(1))\n",
    "        except:\n",
    "            sub_list.append(ingredient)\n",
    "    data_sr_fin.append(sub_list)"
   ]
  },
  {
   "cell_type": "code",
   "execution_count": 31,
   "metadata": {},
   "outputs": [
    {
     "data": {
      "text/plain": [
       "[\"8 slices sourdough bread', '4 tablespoon unsalted butter, at room temperature', '8 ounces (2 cups) shredded cheddar cheese', '2 slicing tomatoes (such as beefsteak, Brandywine, or Cherokee purple), sliced 1/4-inch thick', '8 to 12 slices ', 'cooked bacon', '12 leaves butterhead or other crispy lettuce\"]"
      ]
     },
     "execution_count": 31,
     "metadata": {},
     "output_type": "execute_result"
    }
   ],
   "source": [
    "data_sr_fin[0]"
   ]
  },
  {
   "cell_type": "markdown",
   "metadata": {},
   "source": [
    "### byline'"
   ]
  },
  {
   "cell_type": "code",
   "execution_count": 32,
   "metadata": {},
   "outputs": [],
   "source": [
    "bylines = list(recipes_sr_full.byline)"
   ]
  },
  {
   "cell_type": "code",
   "execution_count": 33,
   "metadata": {},
   "outputs": [
    {
     "data": {
      "text/plain": [
       "1748"
      ]
     },
     "execution_count": 33,
     "metadata": {},
     "output_type": "execute_result"
    }
   ],
   "source": [
    "len(bylines)"
   ]
  },
  {
   "cell_type": "code",
   "execution_count": 34,
   "metadata": {},
   "outputs": [],
   "source": [
    "byline_new = []\n",
    "for byline in bylines:\n",
    "    try:\n",
    "        byline_new.append(re.search(\"\\[\\'by   \\', \\'   \\', \\'(.*)\\', \\'\", byline).group(1))\n",
    "    except: \n",
    "        byline_new.append(byline)"
   ]
  },
  {
   "cell_type": "code",
   "execution_count": 35,
   "metadata": {},
   "outputs": [
    {
     "data": {
      "text/plain": [
       "1748"
      ]
     },
     "execution_count": 35,
     "metadata": {},
     "output_type": "execute_result"
    }
   ],
   "source": [
    "len(byline_new)"
   ]
  },
  {
   "cell_type": "code",
   "execution_count": 36,
   "metadata": {},
   "outputs": [],
   "source": [
    "byline_new_2 = []\n",
    "for byline in byline_new:\n",
    "    try:\n",
    "        byline_new_2.append(re.search(\"\\[\\'by   \\', \\'   \\', \\'(.*)\\'\\]\", byline).group(1))\n",
    "    except: \n",
    "        byline_new_2.append(byline)"
   ]
  },
  {
   "cell_type": "code",
   "execution_count": 37,
   "metadata": {},
   "outputs": [
    {
     "data": {
      "text/plain": [
       "1748"
      ]
     },
     "execution_count": 37,
     "metadata": {},
     "output_type": "execute_result"
    }
   ],
   "source": [
    "len(byline_new_2)"
   ]
  },
  {
   "cell_type": "code",
   "execution_count": 38,
   "metadata": {},
   "outputs": [],
   "source": [
    "byline_new_3 = []\n",
    "for byline in byline_new_2:\n",
    "    try:\n",
    "        byline_new_3.append(re.search(\"\\[\\'   \\', \\'   \\', (.*)\\'\\]\", byline).group(1))\n",
    "    except: \n",
    "        byline_new_3.append(byline)"
   ]
  },
  {
   "cell_type": "code",
   "execution_count": 39,
   "metadata": {},
   "outputs": [
    {
     "data": {
      "text/plain": [
       "1748"
      ]
     },
     "execution_count": 39,
     "metadata": {},
     "output_type": "execute_result"
    }
   ],
   "source": [
    "len(byline_new_3)"
   ]
  },
  {
   "cell_type": "markdown",
   "metadata": {},
   "source": [
    "### link_food"
   ]
  },
  {
   "cell_type": "code",
   "execution_count": 40,
   "metadata": {},
   "outputs": [],
   "source": [
    "link_food = list(recipes_sr_full.link_food)"
   ]
  },
  {
   "cell_type": "code",
   "execution_count": 41,
   "metadata": {},
   "outputs": [],
   "source": [
    "link_food_new = []\n",
    "for link in link_food:\n",
    "    try:\n",
    "        link_food_new.append(re.search(\"\\\\\\'<link rel=\\\"canonical\\\" href=\\\"(.*)\\\"\\>\\\\\\'\\]\", link).group(1))\n",
    "    except: \n",
    "        link_food_new.append(link)"
   ]
  },
  {
   "cell_type": "code",
   "execution_count": 42,
   "metadata": {},
   "outputs": [
    {
     "name": "stdout",
     "output_type": "stream",
     "text": [
      "Title Count:  1748\n",
      "Prep Time Count:  1748\n",
      "Cook Time Count:  1748\n",
      "Tag Count 1748\n",
      "Ingredients Count:  1748\n",
      "Recipe Yield Count:  1748\n",
      "Byline Count:  1748\n",
      "Link Count:  1748\n"
     ]
    }
   ],
   "source": [
    "print('Title Count: ',len(title_new))\n",
    "print('Prep Time Count: ', len(prep_time_new))\n",
    "print('Cook Time Count: ',len(cook_time_new))\n",
    "print('Tag Count',len(tags_new))\n",
    "print('Ingredients Count: ',len(data_sr_fin))\n",
    "print('Recipe Yield Count: ',len(recipe_yield_new))\n",
    "print('Byline Count: ',len(byline_new_3))\n",
    "print('Link Count: ', len(link_food_new))"
   ]
  },
  {
   "cell_type": "code",
   "execution_count": 43,
   "metadata": {},
   "outputs": [],
   "source": [
    "recipes_sr_full['title'] = title_new\n",
    "recipes_sr_full['prep_time'] = prep_time_new\n",
    "recipes_sr_full['cook_time'] = cook_time_new\n",
    "recipes_sr_full['tags'] = tags_new\n",
    "recipes_sr_full['ingredients'] = data_sr_fin\n",
    "recipes_sr_full['recipe_yield'] = recipe_yield_new\n",
    "recipes_sr_full['byline'] = byline_new_3\n",
    "recipes_sr_full['link_food'] = link_food_new"
   ]
  },
  {
   "cell_type": "code",
   "execution_count": 44,
   "metadata": {},
   "outputs": [],
   "source": [
    "recipes_sr_full.drop(columns=['entire_card'], inplace=True)"
   ]
  },
  {
   "cell_type": "code",
   "execution_count": 45,
   "metadata": {},
   "outputs": [],
   "source": [
    "recipes_sr_full.to_csv('../../data/02_intermediate/recipies_sr_inter.csv')"
   ]
  },
  {
   "cell_type": "code",
   "execution_count": 46,
   "metadata": {},
   "outputs": [],
   "source": [
    "recipes_sr_full.to_pickle(\"../../data/02_intermediate/recipies_sr_inter.pkl\")"
   ]
  },
  {
   "cell_type": "code",
   "execution_count": null,
   "metadata": {},
   "outputs": [],
   "source": []
  }
 ],
 "metadata": {
  "kernelspec": {
   "display_name": "Python 3",
   "language": "python",
   "name": "python3"
  },
  "language_info": {
   "codemirror_mode": {
    "name": "ipython",
    "version": 3
   },
   "file_extension": ".py",
   "mimetype": "text/x-python",
   "name": "python",
   "nbconvert_exporter": "python",
   "pygments_lexer": "ipython3",
   "version": "3.7.1"
  },
  "toc": {
   "base_numbering": 1,
   "nav_menu": {},
   "number_sections": true,
   "sideBar": true,
   "skip_h1_title": false,
   "title_cell": "Table of Contents",
   "title_sidebar": "Contents",
   "toc_cell": false,
   "toc_position": {},
   "toc_section_display": true,
   "toc_window_display": false
  }
 },
 "nbformat": 4,
 "nbformat_minor": 2
}
