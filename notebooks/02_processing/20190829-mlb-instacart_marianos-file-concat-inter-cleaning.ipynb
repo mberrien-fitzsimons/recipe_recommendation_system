{
 "cells": [
  {
   "cell_type": "markdown",
   "metadata": {},
   "source": [
    "# Instacart (Marianos) Prices: File Concatenation & Initial processing (to intermediate)"
   ]
  },
  {
   "cell_type": "code",
   "execution_count": 194,
   "metadata": {},
   "outputs": [],
   "source": [
    "# read in kickstarter intermediate data \n",
    "import numpy as np\n",
    "import os\n",
    "import pandas as pd \n",
    "import seaborn as sns\n",
    "import sys\n",
    "import re\n",
    "# import warnings\n",
    "# warnings.filterwarnings('ignore')\n",
    "\n",
    "src_dir = os.path.join(os.getcwd(), '..', '..', 'src')\n",
    "sys.path.append(src_dir)\n",
    "\n",
    "from d01_data.utils import read_multiple_csv_and_concat"
   ]
  },
  {
   "cell_type": "code",
   "execution_count": 195,
   "metadata": {},
   "outputs": [],
   "source": [
    "pd.set_option('display.max_columns', 500)"
   ]
  },
  {
   "cell_type": "markdown",
   "metadata": {},
   "source": [
    "## Concatenation\n",
    "\n",
    "Use a personal function to read in all the marianos data and concatenate it (153 files) "
   ]
  },
  {
   "cell_type": "code",
   "execution_count": 196,
   "metadata": {},
   "outputs": [],
   "source": [
    "groceries = read_multiple_csv_and_concat('../../data/01_raw/grocery_data_insta/prod_aile*')"
   ]
  },
  {
   "cell_type": "code",
   "execution_count": 197,
   "metadata": {},
   "outputs": [
    {
     "data": {
      "text/html": [
       "<div>\n",
       "<style scoped>\n",
       "    .dataframe tbody tr th:only-of-type {\n",
       "        vertical-align: middle;\n",
       "    }\n",
       "\n",
       "    .dataframe tbody tr th {\n",
       "        vertical-align: top;\n",
       "    }\n",
       "\n",
       "    .dataframe thead th {\n",
       "        text-align: right;\n",
       "    }\n",
       "</style>\n",
       "<table border=\"1\" class=\"dataframe\">\n",
       "  <thead>\n",
       "    <tr style=\"text-align: right;\">\n",
       "      <th></th>\n",
       "      <th>product</th>\n",
       "      <th>unit_price</th>\n",
       "      <th>item_size</th>\n",
       "      <th>prod_aile</th>\n",
       "    </tr>\n",
       "  </thead>\n",
       "  <tbody>\n",
       "    <tr>\n",
       "      <th>0</th>\n",
       "      <td>Halls Defense Dietary Supplement Drops, Assort...</td>\n",
       "      <td>$1.79</td>\n",
       "      <td>&lt;li class=\"item-card\" data-radium=\"true\"&gt;&lt;div ...</td>\n",
       "      <td>Cold, Flu &amp; Allergy</td>\n",
       "    </tr>\n",
       "    <tr>\n",
       "      <th>1</th>\n",
       "      <td>Halls Suppressant/Oral Anesthetic Halls Relief...</td>\n",
       "      <td>$1.79</td>\n",
       "      <td>&lt;li class=\"item-card\" data-radium=\"true\"&gt;&lt;div ...</td>\n",
       "      <td>Cold, Flu &amp; Allergy</td>\n",
       "    </tr>\n",
       "    <tr>\n",
       "      <th>2</th>\n",
       "      <td>Kroger Co. Mucus Relief Expectorant &amp; Cough Su...</td>\n",
       "      <td>$9.29</td>\n",
       "      <td>&lt;li class=\"item-card\" data-radium=\"true\"&gt;&lt;div ...</td>\n",
       "      <td>Cold, Flu &amp; Allergy</td>\n",
       "    </tr>\n",
       "    <tr>\n",
       "      <th>3</th>\n",
       "      <td>Ricola Sugar Free Lemon Mint Herb Throat Drops</td>\n",
       "      <td>$2.29</td>\n",
       "      <td>&lt;li class=\"item-card\" data-radium=\"true\"&gt;&lt;div ...</td>\n",
       "      <td>Cold, Flu &amp; Allergy</td>\n",
       "    </tr>\n",
       "    <tr>\n",
       "      <th>4</th>\n",
       "      <td>Benadryl Allergy Ultratabs Tablets</td>\n",
       "      <td>$4.99</td>\n",
       "      <td>&lt;li class=\"item-card\" data-radium=\"true\"&gt;&lt;div ...</td>\n",
       "      <td>Cold, Flu &amp; Allergy</td>\n",
       "    </tr>\n",
       "  </tbody>\n",
       "</table>\n",
       "</div>"
      ],
      "text/plain": [
       "                                             product unit_price  \\\n",
       "0  Halls Defense Dietary Supplement Drops, Assort...      $1.79   \n",
       "1  Halls Suppressant/Oral Anesthetic Halls Relief...      $1.79   \n",
       "2  Kroger Co. Mucus Relief Expectorant & Cough Su...      $9.29   \n",
       "3     Ricola Sugar Free Lemon Mint Herb Throat Drops      $2.29   \n",
       "4                 Benadryl Allergy Ultratabs Tablets      $4.99   \n",
       "\n",
       "                                           item_size            prod_aile  \n",
       "0  <li class=\"item-card\" data-radium=\"true\"><div ...  Cold, Flu & Allergy  \n",
       "1  <li class=\"item-card\" data-radium=\"true\"><div ...  Cold, Flu & Allergy  \n",
       "2  <li class=\"item-card\" data-radium=\"true\"><div ...  Cold, Flu & Allergy  \n",
       "3  <li class=\"item-card\" data-radium=\"true\"><div ...  Cold, Flu & Allergy  \n",
       "4  <li class=\"item-card\" data-radium=\"true\"><div ...  Cold, Flu & Allergy  "
      ]
     },
     "execution_count": 197,
     "metadata": {},
     "output_type": "execute_result"
    }
   ],
   "source": [
    "groceries.head()"
   ]
  },
  {
   "cell_type": "markdown",
   "metadata": {},
   "source": [
    "## Split up the item column "
   ]
  },
  {
   "cell_type": "markdown",
   "metadata": {},
   "source": [
    "### Price Per LB"
   ]
  },
  {
   "cell_type": "code",
   "execution_count": 198,
   "metadata": {},
   "outputs": [],
   "source": [
    "item_size = groceries['item_size']"
   ]
  },
  {
   "cell_type": "code",
   "execution_count": 199,
   "metadata": {},
   "outputs": [],
   "source": [
    "per_lb_final = []\n",
    "per_lb_pattern = r'\\d*\\.[0-9]{2}\\/lb'\n",
    "for item in item_size:\n",
    "    try:\n",
    "        per_lb_final.append(re.search(per_lb_pattern, item).group())\n",
    "    except:\n",
    "        per_lb_final.append(np.nan)"
   ]
  },
  {
   "cell_type": "code",
   "execution_count": 200,
   "metadata": {},
   "outputs": [],
   "source": [
    "groceries['price_per_lb'] = per_lb_final"
   ]
  },
  {
   "cell_type": "markdown",
   "metadata": {},
   "source": [
    "### Measure Words"
   ]
  },
  {
   "cell_type": "code",
   "execution_count": 204,
   "metadata": {},
   "outputs": [],
   "source": [
    "measure_word_pattern = 'each'\n",
    "measure_word_list = []\n",
    "for item in item_size:\n",
    "    try:\n",
    "        measure_word_list.append(re.search(measure_word_pattern, item).group())\n",
    "    except:\n",
    "        measure_word_list.append(np.nan)"
   ]
  },
  {
   "cell_type": "code",
   "execution_count": 205,
   "metadata": {},
   "outputs": [],
   "source": [
    "groceries['measure_words_main_price'] = measure_word_list"
   ]
  },
  {
   "cell_type": "code",
   "execution_count": 206,
   "metadata": {
    "scrolled": true
   },
   "outputs": [],
   "source": [
    "groceries.rename(columns={'unit_price':'main_price'}, inplace=True)"
   ]
  },
  {
   "cell_type": "markdown",
   "metadata": {},
   "source": [
    "### Item Weight/ Count/ Vol"
   ]
  },
  {
   "cell_type": "code",
   "execution_count": 207,
   "metadata": {},
   "outputs": [],
   "source": [
    "item_weight_count_vol = []\n",
    "for item in item_size:\n",
    "    try:\n",
    "        item_weight_count_vol.append(re.search('aria-label=\\\"\\.(.*)\\\">\\d+', item).group(1))\n",
    "    except:\n",
    "        item_weight_count_vol.append(np.nan)"
   ]
  },
  {
   "cell_type": "code",
   "execution_count": 208,
   "metadata": {},
   "outputs": [],
   "source": [
    "groceries['item_weight_count_vol'] = item_weight_count_vol"
   ]
  },
  {
   "cell_type": "code",
   "execution_count": 211,
   "metadata": {},
   "outputs": [
    {
     "data": {
      "text/html": [
       "<div>\n",
       "<style scoped>\n",
       "    .dataframe tbody tr th:only-of-type {\n",
       "        vertical-align: middle;\n",
       "    }\n",
       "\n",
       "    .dataframe tbody tr th {\n",
       "        vertical-align: top;\n",
       "    }\n",
       "\n",
       "    .dataframe thead th {\n",
       "        text-align: right;\n",
       "    }\n",
       "</style>\n",
       "<table border=\"1\" class=\"dataframe\">\n",
       "  <thead>\n",
       "    <tr style=\"text-align: right;\">\n",
       "      <th></th>\n",
       "      <th>product</th>\n",
       "      <th>main_price</th>\n",
       "      <th>item_size</th>\n",
       "      <th>prod_aile</th>\n",
       "      <th>price_per_lb</th>\n",
       "      <th>item_weight_count_vol</th>\n",
       "      <th>measure_words_main_price</th>\n",
       "    </tr>\n",
       "  </thead>\n",
       "  <tbody>\n",
       "    <tr>\n",
       "      <th>0</th>\n",
       "      <td>Halls Defense Dietary Supplement Drops, Assort...</td>\n",
       "      <td>$1.79</td>\n",
       "      <td>&lt;li class=\"item-card\" data-radium=\"true\"&gt;&lt;div ...</td>\n",
       "      <td>Cold, Flu &amp; Allergy</td>\n",
       "      <td>NaN</td>\n",
       "      <td>30 count</td>\n",
       "      <td>NaN</td>\n",
       "    </tr>\n",
       "    <tr>\n",
       "      <th>1</th>\n",
       "      <td>Halls Suppressant/Oral Anesthetic Halls Relief...</td>\n",
       "      <td>$1.79</td>\n",
       "      <td>&lt;li class=\"item-card\" data-radium=\"true\"&gt;&lt;div ...</td>\n",
       "      <td>Cold, Flu &amp; Allergy</td>\n",
       "      <td>NaN</td>\n",
       "      <td>30 count</td>\n",
       "      <td>NaN</td>\n",
       "    </tr>\n",
       "    <tr>\n",
       "      <th>2</th>\n",
       "      <td>Kroger Co. Mucus Relief Expectorant &amp; Cough Su...</td>\n",
       "      <td>$9.29</td>\n",
       "      <td>&lt;li class=\"item-card\" data-radium=\"true\"&gt;&lt;div ...</td>\n",
       "      <td>Cold, Flu &amp; Allergy</td>\n",
       "      <td>NaN</td>\n",
       "      <td>14 count</td>\n",
       "      <td>NaN</td>\n",
       "    </tr>\n",
       "    <tr>\n",
       "      <th>3</th>\n",
       "      <td>Ricola Sugar Free Lemon Mint Herb Throat Drops</td>\n",
       "      <td>$2.29</td>\n",
       "      <td>&lt;li class=\"item-card\" data-radium=\"true\"&gt;&lt;div ...</td>\n",
       "      <td>Cold, Flu &amp; Allergy</td>\n",
       "      <td>NaN</td>\n",
       "      <td>19 count</td>\n",
       "      <td>NaN</td>\n",
       "    </tr>\n",
       "    <tr>\n",
       "      <th>4</th>\n",
       "      <td>Benadryl Allergy Ultratabs Tablets</td>\n",
       "      <td>$4.99</td>\n",
       "      <td>&lt;li class=\"item-card\" data-radium=\"true\"&gt;&lt;div ...</td>\n",
       "      <td>Cold, Flu &amp; Allergy</td>\n",
       "      <td>NaN</td>\n",
       "      <td>24 count</td>\n",
       "      <td>NaN</td>\n",
       "    </tr>\n",
       "  </tbody>\n",
       "</table>\n",
       "</div>"
      ],
      "text/plain": [
       "                                             product main_price  \\\n",
       "0  Halls Defense Dietary Supplement Drops, Assort...      $1.79   \n",
       "1  Halls Suppressant/Oral Anesthetic Halls Relief...      $1.79   \n",
       "2  Kroger Co. Mucus Relief Expectorant & Cough Su...      $9.29   \n",
       "3     Ricola Sugar Free Lemon Mint Herb Throat Drops      $2.29   \n",
       "4                 Benadryl Allergy Ultratabs Tablets      $4.99   \n",
       "\n",
       "                                           item_size            prod_aile  \\\n",
       "0  <li class=\"item-card\" data-radium=\"true\"><div ...  Cold, Flu & Allergy   \n",
       "1  <li class=\"item-card\" data-radium=\"true\"><div ...  Cold, Flu & Allergy   \n",
       "2  <li class=\"item-card\" data-radium=\"true\"><div ...  Cold, Flu & Allergy   \n",
       "3  <li class=\"item-card\" data-radium=\"true\"><div ...  Cold, Flu & Allergy   \n",
       "4  <li class=\"item-card\" data-radium=\"true\"><div ...  Cold, Flu & Allergy   \n",
       "\n",
       "  price_per_lb item_weight_count_vol measure_words_main_price  \n",
       "0          NaN              30 count                      NaN  \n",
       "1          NaN              30 count                      NaN  \n",
       "2          NaN              14 count                      NaN  \n",
       "3          NaN              19 count                      NaN  \n",
       "4          NaN              24 count                      NaN  "
      ]
     },
     "execution_count": 211,
     "metadata": {},
     "output_type": "execute_result"
    }
   ],
   "source": [
    "groceries.head()"
   ]
  },
  {
   "cell_type": "markdown",
   "metadata": {},
   "source": [
    "## Let's continue to Look at the item size column "
   ]
  },
  {
   "cell_type": "code",
   "execution_count": 212,
   "metadata": {},
   "outputs": [
    {
     "data": {
      "text/plain": [
       "'<li class=\"item-card\" data-radium=\"true\"><div style=\"position: relative;\"><a href=\"/store/items/item_230364003?context=low_stock_item\" data-bypass=\"true\" tabindex=\"0\" data-radium=\"true\" style=\"cursor: pointer; text-decoration: none; color: inherit;\"><div class=\"item-card-contents\" data-radium=\"true\"><div class=\"media\"><div class=\"item-card-image-wrapper\"><img class=\"no-aliasing-image item-image\" src=\"https://d2d8wwwkmhfcva.cloudfront.net/310x/filters:fill(FFF,true):format(jpg)/d2lnr5mha7bycj.cloudfront.net/product-image/file/large_49e539cd-49b0-4daf-983e-55d0fa0c701e.png\" alt=\"\"></div></div><div id=\"itemInfo-item_230364003\" class=\"item-info\" data-radium=\"true\"><div class=\"item-name item-row\" data-radium=\"true\"><div><div style=\"display: flex;\"><div class=\"item-price\" style=\"flex: 1 1 0%;\"><span class=\"\"><span>$5.99</span></span></div></div></div><span class=\"full-item-name\" data-radium=\"true\" style=\"display: -webkit-box; -webkit-line-clamp: 2; -webkit-box-orient: vertical; max-height: 40px; line-height: 1.5em;\">Kroger Mixed Berry Multi-Symptom Cold &amp; Flu Relief NiteTime Liquid</span><span class=\"item-size muted\"><span aria-label=\". 12 fl ounce\">12 fl oz</span></span><div style=\"color: rgb(245, 130, 32);\"><span><svg width=\"18px\" height=\"18px\" viewbox=\"0 0 24 24\" aria-hidden=\"true\" fill=\"currentColor\" style=\"top: 2px; height: 14px; position: relative;\"><path d=\"M10.287 14.107l-2.233 7.327c-.448 1.47.741 2.154 1.743.944l8.907-10.751c.643-.777.18-1.732-.824-1.732h-4.167l2.233-7.33c.448-1.469-.741-2.153-1.743-.943L5.296 12.373c-.643.777-.18 1.732.824 1.732l4.167.002z\"></path></svg></span><span style=\"line-height: 18px; font-weight: bold; text-transform: uppercase;\">Free Delivery</span></div></div></div><div data-radium=\"true\" style=\"font-size: 10px; font-weight: 700; position: absolute; left: 0px; right: 0px; bottom: 22px; margin-bottom: 10px; text-align: center; padding: 0px 20px; color: rgb(67, 176, 42);\"></div></div></a><div><span><span data-radium=\"true\"><button type=\"button\" aria-label=\"Add 1 unit of Kroger Mixed Berry Multi-Symptom Cold &amp; Flu Relief NiteTime Liquid\" data-radium=\"true\" style=\"touch-action: manipulation; cursor: pointer; border: 1px solid rgb(67, 176, 42); border-radius: 12px; font-weight: 600; white-space: nowrap; user-select: none; -webkit-font-smoothing: antialiased; background-image: none; display: inline-flex; align-items: center; padding: 0px; font-size: 12px; height: 24px; background-color: white; color: rgb(67, 176, 42); min-width: 24px; position: absolute; top: 8px; right: 8px; justify-content: center;\"><svg width=\"18px\" height=\"18px\" viewbox=\"0 0 24 24\" aria-hidden=\"true\" fill=\"currentColor\"><path d=\"M13 5.007C13 4.45 12.552 4 12 4c-.556 0-1 .451-1 1.007V11H5.007C4.45 11 4 11.448 4 12c0 .556.451 1 1.007 1H11v5.993c0 .557.448 1.007 1 1.007.556 0 1-.451 1-1.007V13h5.993C19.55 13 20 12.552 20 12c0-.556-.451-1-1.007-1H13V5.007z\"></path></svg><div data-radium=\"true\" style=\"position: absolute; top: -4px; right: -4px; bottom: -4px; left: -4px;\"></div></button></span></span></div></div></li>'"
      ]
     },
     "execution_count": 212,
     "metadata": {},
     "output_type": "execute_result"
    }
   ],
   "source": [
    "groceries.item_size[10]"
   ]
  },
  {
   "cell_type": "markdown",
   "metadata": {},
   "source": [
    "It looks like we have pulled all the information we can from this column. Let's drop it for now. "
   ]
  },
  {
   "cell_type": "code",
   "execution_count": 213,
   "metadata": {},
   "outputs": [],
   "source": [
    "groceries.drop(columns=['item_size'], inplace=True)"
   ]
  },
  {
   "cell_type": "code",
   "execution_count": 216,
   "metadata": {},
   "outputs": [],
   "source": [
    "groceries['date_collected'] = '2019-08-28'\n",
    "groceries['store'] = 'Marianos'\n",
    "groceries['location'] = '60615'"
   ]
  },
  {
   "cell_type": "code",
   "execution_count": 218,
   "metadata": {},
   "outputs": [
    {
     "data": {
      "text/html": [
       "<div>\n",
       "<style scoped>\n",
       "    .dataframe tbody tr th:only-of-type {\n",
       "        vertical-align: middle;\n",
       "    }\n",
       "\n",
       "    .dataframe tbody tr th {\n",
       "        vertical-align: top;\n",
       "    }\n",
       "\n",
       "    .dataframe thead th {\n",
       "        text-align: right;\n",
       "    }\n",
       "</style>\n",
       "<table border=\"1\" class=\"dataframe\">\n",
       "  <thead>\n",
       "    <tr style=\"text-align: right;\">\n",
       "      <th></th>\n",
       "      <th>product</th>\n",
       "      <th>main_price</th>\n",
       "      <th>prod_aile</th>\n",
       "      <th>price_per_lb</th>\n",
       "      <th>item_weight_count_vol</th>\n",
       "      <th>measure_words_main_price</th>\n",
       "      <th>date_collected</th>\n",
       "      <th>store</th>\n",
       "      <th>location</th>\n",
       "    </tr>\n",
       "  </thead>\n",
       "  <tbody>\n",
       "    <tr>\n",
       "      <th>0</th>\n",
       "      <td>Halls Defense Dietary Supplement Drops, Assort...</td>\n",
       "      <td>$1.79</td>\n",
       "      <td>Cold, Flu &amp; Allergy</td>\n",
       "      <td>NaN</td>\n",
       "      <td>30 count</td>\n",
       "      <td>NaN</td>\n",
       "      <td>2019-08-28</td>\n",
       "      <td>Marianos</td>\n",
       "      <td>60615</td>\n",
       "    </tr>\n",
       "    <tr>\n",
       "      <th>1</th>\n",
       "      <td>Halls Suppressant/Oral Anesthetic Halls Relief...</td>\n",
       "      <td>$1.79</td>\n",
       "      <td>Cold, Flu &amp; Allergy</td>\n",
       "      <td>NaN</td>\n",
       "      <td>30 count</td>\n",
       "      <td>NaN</td>\n",
       "      <td>2019-08-28</td>\n",
       "      <td>Marianos</td>\n",
       "      <td>60615</td>\n",
       "    </tr>\n",
       "    <tr>\n",
       "      <th>2</th>\n",
       "      <td>Kroger Co. Mucus Relief Expectorant &amp; Cough Su...</td>\n",
       "      <td>$9.29</td>\n",
       "      <td>Cold, Flu &amp; Allergy</td>\n",
       "      <td>NaN</td>\n",
       "      <td>14 count</td>\n",
       "      <td>NaN</td>\n",
       "      <td>2019-08-28</td>\n",
       "      <td>Marianos</td>\n",
       "      <td>60615</td>\n",
       "    </tr>\n",
       "    <tr>\n",
       "      <th>3</th>\n",
       "      <td>Ricola Sugar Free Lemon Mint Herb Throat Drops</td>\n",
       "      <td>$2.29</td>\n",
       "      <td>Cold, Flu &amp; Allergy</td>\n",
       "      <td>NaN</td>\n",
       "      <td>19 count</td>\n",
       "      <td>NaN</td>\n",
       "      <td>2019-08-28</td>\n",
       "      <td>Marianos</td>\n",
       "      <td>60615</td>\n",
       "    </tr>\n",
       "    <tr>\n",
       "      <th>4</th>\n",
       "      <td>Benadryl Allergy Ultratabs Tablets</td>\n",
       "      <td>$4.99</td>\n",
       "      <td>Cold, Flu &amp; Allergy</td>\n",
       "      <td>NaN</td>\n",
       "      <td>24 count</td>\n",
       "      <td>NaN</td>\n",
       "      <td>2019-08-28</td>\n",
       "      <td>Marianos</td>\n",
       "      <td>60615</td>\n",
       "    </tr>\n",
       "  </tbody>\n",
       "</table>\n",
       "</div>"
      ],
      "text/plain": [
       "                                             product main_price  \\\n",
       "0  Halls Defense Dietary Supplement Drops, Assort...      $1.79   \n",
       "1  Halls Suppressant/Oral Anesthetic Halls Relief...      $1.79   \n",
       "2  Kroger Co. Mucus Relief Expectorant & Cough Su...      $9.29   \n",
       "3     Ricola Sugar Free Lemon Mint Herb Throat Drops      $2.29   \n",
       "4                 Benadryl Allergy Ultratabs Tablets      $4.99   \n",
       "\n",
       "             prod_aile price_per_lb item_weight_count_vol  \\\n",
       "0  Cold, Flu & Allergy          NaN              30 count   \n",
       "1  Cold, Flu & Allergy          NaN              30 count   \n",
       "2  Cold, Flu & Allergy          NaN              14 count   \n",
       "3  Cold, Flu & Allergy          NaN              19 count   \n",
       "4  Cold, Flu & Allergy          NaN              24 count   \n",
       "\n",
       "  measure_words_main_price date_collected     store location  \n",
       "0                      NaN     2019-08-28  Marianos    60615  \n",
       "1                      NaN     2019-08-28  Marianos    60615  \n",
       "2                      NaN     2019-08-28  Marianos    60615  \n",
       "3                      NaN     2019-08-28  Marianos    60615  \n",
       "4                      NaN     2019-08-28  Marianos    60615  "
      ]
     },
     "execution_count": 218,
     "metadata": {},
     "output_type": "execute_result"
    }
   ],
   "source": [
    "groceries.head()"
   ]
  },
  {
   "cell_type": "markdown",
   "metadata": {},
   "source": [
    "## Save to Intermediate "
   ]
  },
  {
   "cell_type": "code",
   "execution_count": 219,
   "metadata": {},
   "outputs": [],
   "source": [
    "groceries.to_csv('../../data/02_intermediate/grocery_prices_marianos.csv', index=False)"
   ]
  },
  {
   "cell_type": "code",
   "execution_count": null,
   "metadata": {},
   "outputs": [],
   "source": []
  }
 ],
 "metadata": {
  "kernelspec": {
   "display_name": "Python 3",
   "language": "python",
   "name": "python3"
  },
  "language_info": {
   "codemirror_mode": {
    "name": "ipython",
    "version": 3
   },
   "file_extension": ".py",
   "mimetype": "text/x-python",
   "name": "python",
   "nbconvert_exporter": "python",
   "pygments_lexer": "ipython3",
   "version": "3.7.1"
  },
  "toc": {
   "base_numbering": 1,
   "nav_menu": {},
   "number_sections": true,
   "sideBar": true,
   "skip_h1_title": true,
   "title_cell": "Table of Contents",
   "title_sidebar": "Contents",
   "toc_cell": false,
   "toc_position": {},
   "toc_section_display": true,
   "toc_window_display": false
  }
 },
 "nbformat": 4,
 "nbformat_minor": 2
}
