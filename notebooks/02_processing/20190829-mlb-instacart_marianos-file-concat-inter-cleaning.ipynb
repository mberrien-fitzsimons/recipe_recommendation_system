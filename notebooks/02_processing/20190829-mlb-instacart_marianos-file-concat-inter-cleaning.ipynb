{
 "cells": [
  {
   "cell_type": "markdown",
   "metadata": {},
   "source": [
    "# Instacart (Marianos) Prices: File Concatenation & Initial processing (to intermediate)"
   ]
  },
  {
   "cell_type": "code",
   "execution_count": 1,
   "metadata": {},
   "outputs": [],
   "source": [
    "# read in kickstarter intermediate data \n",
    "import numpy as np\n",
    "import os\n",
    "import pandas as pd \n",
    "import seaborn as sns\n",
    "import sys\n",
    "import re\n",
    "# import warnings\n",
    "# warnings.filterwarnings('ignore')\n",
    "\n",
    "src_dir = os.path.join(os.getcwd(), '..', '..', 'src')\n",
    "sys.path.append(src_dir)\n",
    "\n",
    "from d01_data.utils import read_multiple_csv_and_concat"
   ]
  },
  {
   "cell_type": "code",
   "execution_count": 2,
   "metadata": {},
   "outputs": [],
   "source": [
    "pd.set_option('display.max_columns', 500)"
   ]
  },
  {
   "cell_type": "markdown",
   "metadata": {},
   "source": [
    "## Concatenation\n",
    "\n",
    "Use a personal function to read in all the marianos data and concatenate it (153 files) "
   ]
  },
  {
   "cell_type": "code",
   "execution_count": 3,
   "metadata": {},
   "outputs": [],
   "source": [
    "groceries = read_multiple_csv_and_concat('../../data/01_raw/grocery_prices_marianos/prod_aile*')"
   ]
  },
  {
   "cell_type": "code",
   "execution_count": 4,
   "metadata": {},
   "outputs": [
    {
     "data": {
      "text/html": [
       "<div>\n",
       "<style scoped>\n",
       "    .dataframe tbody tr th:only-of-type {\n",
       "        vertical-align: middle;\n",
       "    }\n",
       "\n",
       "    .dataframe tbody tr th {\n",
       "        vertical-align: top;\n",
       "    }\n",
       "\n",
       "    .dataframe thead th {\n",
       "        text-align: right;\n",
       "    }\n",
       "</style>\n",
       "<table border=\"1\" class=\"dataframe\">\n",
       "  <thead>\n",
       "    <tr style=\"text-align: right;\">\n",
       "      <th></th>\n",
       "      <th>product</th>\n",
       "      <th>unit_price</th>\n",
       "      <th>item_size</th>\n",
       "      <th>prod_aile</th>\n",
       "    </tr>\n",
       "  </thead>\n",
       "  <tbody>\n",
       "    <tr>\n",
       "      <th>0</th>\n",
       "      <td>Halls Defense Dietary Supplement Drops, Assort...</td>\n",
       "      <td>$1.79</td>\n",
       "      <td>&lt;li class=\"item-card\" data-radium=\"true\"&gt;&lt;div ...</td>\n",
       "      <td>Cold, Flu &amp; Allergy</td>\n",
       "    </tr>\n",
       "    <tr>\n",
       "      <th>1</th>\n",
       "      <td>Halls Suppressant/Oral Anesthetic Halls Relief...</td>\n",
       "      <td>$1.79</td>\n",
       "      <td>&lt;li class=\"item-card\" data-radium=\"true\"&gt;&lt;div ...</td>\n",
       "      <td>Cold, Flu &amp; Allergy</td>\n",
       "    </tr>\n",
       "    <tr>\n",
       "      <th>2</th>\n",
       "      <td>Kroger Co. Mucus Relief Expectorant &amp; Cough Su...</td>\n",
       "      <td>$9.29</td>\n",
       "      <td>&lt;li class=\"item-card\" data-radium=\"true\"&gt;&lt;div ...</td>\n",
       "      <td>Cold, Flu &amp; Allergy</td>\n",
       "    </tr>\n",
       "    <tr>\n",
       "      <th>3</th>\n",
       "      <td>Ricola Sugar Free Lemon Mint Herb Throat Drops</td>\n",
       "      <td>$2.29</td>\n",
       "      <td>&lt;li class=\"item-card\" data-radium=\"true\"&gt;&lt;div ...</td>\n",
       "      <td>Cold, Flu &amp; Allergy</td>\n",
       "    </tr>\n",
       "    <tr>\n",
       "      <th>4</th>\n",
       "      <td>Benadryl Allergy Ultratabs Tablets</td>\n",
       "      <td>$4.99</td>\n",
       "      <td>&lt;li class=\"item-card\" data-radium=\"true\"&gt;&lt;div ...</td>\n",
       "      <td>Cold, Flu &amp; Allergy</td>\n",
       "    </tr>\n",
       "  </tbody>\n",
       "</table>\n",
       "</div>"
      ],
      "text/plain": [
       "                                             product unit_price  \\\n",
       "0  Halls Defense Dietary Supplement Drops, Assort...      $1.79   \n",
       "1  Halls Suppressant/Oral Anesthetic Halls Relief...      $1.79   \n",
       "2  Kroger Co. Mucus Relief Expectorant & Cough Su...      $9.29   \n",
       "3     Ricola Sugar Free Lemon Mint Herb Throat Drops      $2.29   \n",
       "4                 Benadryl Allergy Ultratabs Tablets      $4.99   \n",
       "\n",
       "                                           item_size            prod_aile  \n",
       "0  <li class=\"item-card\" data-radium=\"true\"><div ...  Cold, Flu & Allergy  \n",
       "1  <li class=\"item-card\" data-radium=\"true\"><div ...  Cold, Flu & Allergy  \n",
       "2  <li class=\"item-card\" data-radium=\"true\"><div ...  Cold, Flu & Allergy  \n",
       "3  <li class=\"item-card\" data-radium=\"true\"><div ...  Cold, Flu & Allergy  \n",
       "4  <li class=\"item-card\" data-radium=\"true\"><div ...  Cold, Flu & Allergy  "
      ]
     },
     "execution_count": 4,
     "metadata": {},
     "output_type": "execute_result"
    }
   ],
   "source": [
    "groceries.head()"
   ]
  },
  {
   "cell_type": "markdown",
   "metadata": {},
   "source": [
    "## Split up the item column "
   ]
  },
  {
   "cell_type": "markdown",
   "metadata": {},
   "source": [
    "### Price Per LB"
   ]
  },
  {
   "cell_type": "code",
   "execution_count": 5,
   "metadata": {},
   "outputs": [],
   "source": [
    "item_size = groceries['item_size']"
   ]
  },
  {
   "cell_type": "code",
   "execution_count": 6,
   "metadata": {},
   "outputs": [],
   "source": [
    "per_lb_final = []\n",
    "per_lb_pattern = r'\\d*\\.[0-9]{2}\\/lb'\n",
    "for item in item_size:\n",
    "    try:\n",
    "        per_lb_final.append(re.search(per_lb_pattern, item).group())\n",
    "    except:\n",
    "        per_lb_final.append(np.nan)"
   ]
  },
  {
   "cell_type": "code",
   "execution_count": 7,
   "metadata": {},
   "outputs": [],
   "source": [
    "groceries['price_per_lb'] = per_lb_final"
   ]
  },
  {
   "cell_type": "markdown",
   "metadata": {},
   "source": [
    "### Measure Words"
   ]
  },
  {
   "cell_type": "code",
   "execution_count": 8,
   "metadata": {},
   "outputs": [],
   "source": [
    "measure_word_pattern = 'each'\n",
    "measure_word_list = []\n",
    "for item in item_size:\n",
    "    try:\n",
    "        measure_word_list.append(re.search(measure_word_pattern, item).group())\n",
    "    except:\n",
    "        measure_word_list.append(np.nan)"
   ]
  },
  {
   "cell_type": "code",
   "execution_count": 9,
   "metadata": {},
   "outputs": [],
   "source": [
    "groceries['measure_words_main_price'] = measure_word_list"
   ]
  },
  {
   "cell_type": "code",
   "execution_count": 10,
   "metadata": {
    "scrolled": true
   },
   "outputs": [],
   "source": [
    "groceries.rename(columns={'unit_price':'main_price'}, inplace=True)"
   ]
  },
  {
   "cell_type": "markdown",
   "metadata": {},
   "source": [
    "### Item Weight/ Count/ Vol"
   ]
  },
  {
   "cell_type": "code",
   "execution_count": 11,
   "metadata": {},
   "outputs": [],
   "source": [
    "item_weight_count_vol = []\n",
    "for item in item_size:\n",
    "    try:\n",
    "        item_weight_count_vol.append(re.search('aria-label=\\\"\\.(.*)\\\">\\d+', item).group(1))\n",
    "    except:\n",
    "        item_weight_count_vol.append(np.nan)"
   ]
  },
  {
   "cell_type": "code",
   "execution_count": 12,
   "metadata": {},
   "outputs": [],
   "source": [
    "groceries['item_weight_count_vol'] = item_weight_count_vol"
   ]
  },
  {
   "cell_type": "code",
   "execution_count": 13,
   "metadata": {},
   "outputs": [
    {
     "data": {
      "text/html": [
       "<div>\n",
       "<style scoped>\n",
       "    .dataframe tbody tr th:only-of-type {\n",
       "        vertical-align: middle;\n",
       "    }\n",
       "\n",
       "    .dataframe tbody tr th {\n",
       "        vertical-align: top;\n",
       "    }\n",
       "\n",
       "    .dataframe thead th {\n",
       "        text-align: right;\n",
       "    }\n",
       "</style>\n",
       "<table border=\"1\" class=\"dataframe\">\n",
       "  <thead>\n",
       "    <tr style=\"text-align: right;\">\n",
       "      <th></th>\n",
       "      <th>product</th>\n",
       "      <th>main_price</th>\n",
       "      <th>item_size</th>\n",
       "      <th>prod_aile</th>\n",
       "      <th>price_per_lb</th>\n",
       "      <th>measure_words_main_price</th>\n",
       "      <th>item_weight_count_vol</th>\n",
       "    </tr>\n",
       "  </thead>\n",
       "  <tbody>\n",
       "    <tr>\n",
       "      <th>0</th>\n",
       "      <td>Halls Defense Dietary Supplement Drops, Assort...</td>\n",
       "      <td>$1.79</td>\n",
       "      <td>&lt;li class=\"item-card\" data-radium=\"true\"&gt;&lt;div ...</td>\n",
       "      <td>Cold, Flu &amp; Allergy</td>\n",
       "      <td>NaN</td>\n",
       "      <td>NaN</td>\n",
       "      <td>30 count</td>\n",
       "    </tr>\n",
       "    <tr>\n",
       "      <th>1</th>\n",
       "      <td>Halls Suppressant/Oral Anesthetic Halls Relief...</td>\n",
       "      <td>$1.79</td>\n",
       "      <td>&lt;li class=\"item-card\" data-radium=\"true\"&gt;&lt;div ...</td>\n",
       "      <td>Cold, Flu &amp; Allergy</td>\n",
       "      <td>NaN</td>\n",
       "      <td>NaN</td>\n",
       "      <td>30 count</td>\n",
       "    </tr>\n",
       "    <tr>\n",
       "      <th>2</th>\n",
       "      <td>Kroger Co. Mucus Relief Expectorant &amp; Cough Su...</td>\n",
       "      <td>$9.29</td>\n",
       "      <td>&lt;li class=\"item-card\" data-radium=\"true\"&gt;&lt;div ...</td>\n",
       "      <td>Cold, Flu &amp; Allergy</td>\n",
       "      <td>NaN</td>\n",
       "      <td>NaN</td>\n",
       "      <td>14 count</td>\n",
       "    </tr>\n",
       "    <tr>\n",
       "      <th>3</th>\n",
       "      <td>Ricola Sugar Free Lemon Mint Herb Throat Drops</td>\n",
       "      <td>$2.29</td>\n",
       "      <td>&lt;li class=\"item-card\" data-radium=\"true\"&gt;&lt;div ...</td>\n",
       "      <td>Cold, Flu &amp; Allergy</td>\n",
       "      <td>NaN</td>\n",
       "      <td>NaN</td>\n",
       "      <td>19 count</td>\n",
       "    </tr>\n",
       "    <tr>\n",
       "      <th>4</th>\n",
       "      <td>Benadryl Allergy Ultratabs Tablets</td>\n",
       "      <td>$4.99</td>\n",
       "      <td>&lt;li class=\"item-card\" data-radium=\"true\"&gt;&lt;div ...</td>\n",
       "      <td>Cold, Flu &amp; Allergy</td>\n",
       "      <td>NaN</td>\n",
       "      <td>NaN</td>\n",
       "      <td>24 count</td>\n",
       "    </tr>\n",
       "  </tbody>\n",
       "</table>\n",
       "</div>"
      ],
      "text/plain": [
       "                                             product main_price  \\\n",
       "0  Halls Defense Dietary Supplement Drops, Assort...      $1.79   \n",
       "1  Halls Suppressant/Oral Anesthetic Halls Relief...      $1.79   \n",
       "2  Kroger Co. Mucus Relief Expectorant & Cough Su...      $9.29   \n",
       "3     Ricola Sugar Free Lemon Mint Herb Throat Drops      $2.29   \n",
       "4                 Benadryl Allergy Ultratabs Tablets      $4.99   \n",
       "\n",
       "                                           item_size            prod_aile  \\\n",
       "0  <li class=\"item-card\" data-radium=\"true\"><div ...  Cold, Flu & Allergy   \n",
       "1  <li class=\"item-card\" data-radium=\"true\"><div ...  Cold, Flu & Allergy   \n",
       "2  <li class=\"item-card\" data-radium=\"true\"><div ...  Cold, Flu & Allergy   \n",
       "3  <li class=\"item-card\" data-radium=\"true\"><div ...  Cold, Flu & Allergy   \n",
       "4  <li class=\"item-card\" data-radium=\"true\"><div ...  Cold, Flu & Allergy   \n",
       "\n",
       "  price_per_lb measure_words_main_price item_weight_count_vol  \n",
       "0          NaN                      NaN              30 count  \n",
       "1          NaN                      NaN              30 count  \n",
       "2          NaN                      NaN              14 count  \n",
       "3          NaN                      NaN              19 count  \n",
       "4          NaN                      NaN              24 count  "
      ]
     },
     "execution_count": 13,
     "metadata": {},
     "output_type": "execute_result"
    }
   ],
   "source": [
    "groceries.head()"
   ]
  },
  {
   "cell_type": "markdown",
   "metadata": {},
   "source": [
    "## Let's continue to Look at the item size column "
   ]
  },
  {
   "cell_type": "code",
   "execution_count": 14,
   "metadata": {},
   "outputs": [
    {
     "data": {
      "text/plain": [
       "'<li class=\"item-card\" data-radium=\"true\"><div style=\"position: relative;\"><a href=\"/store/items/item_230364003?context=low_stock_item\" data-bypass=\"true\" tabindex=\"0\" data-radium=\"true\" style=\"cursor: pointer; text-decoration: none; color: inherit;\"><div class=\"item-card-contents\" data-radium=\"true\"><div class=\"media\"><div class=\"item-card-image-wrapper\"><img class=\"no-aliasing-image item-image\" src=\"https://d2d8wwwkmhfcva.cloudfront.net/310x/filters:fill(FFF,true):format(jpg)/d2lnr5mha7bycj.cloudfront.net/product-image/file/large_49e539cd-49b0-4daf-983e-55d0fa0c701e.png\" alt=\"\"></div></div><div id=\"itemInfo-item_230364003\" class=\"item-info\" data-radium=\"true\"><div class=\"item-name item-row\" data-radium=\"true\"><div><div style=\"display: flex;\"><div class=\"item-price\" style=\"flex: 1 1 0%;\"><span class=\"\"><span>$5.99</span></span></div></div></div><span class=\"full-item-name\" data-radium=\"true\" style=\"display: -webkit-box; -webkit-line-clamp: 2; -webkit-box-orient: vertical; max-height: 40px; line-height: 1.5em;\">Kroger Mixed Berry Multi-Symptom Cold &amp; Flu Relief NiteTime Liquid</span><span class=\"item-size muted\"><span aria-label=\". 12 fl ounce\">12 fl oz</span></span><div style=\"color: rgb(245, 130, 32);\"><span><svg width=\"18px\" height=\"18px\" viewbox=\"0 0 24 24\" aria-hidden=\"true\" fill=\"currentColor\" style=\"top: 2px; height: 14px; position: relative;\"><path d=\"M10.287 14.107l-2.233 7.327c-.448 1.47.741 2.154 1.743.944l8.907-10.751c.643-.777.18-1.732-.824-1.732h-4.167l2.233-7.33c.448-1.469-.741-2.153-1.743-.943L5.296 12.373c-.643.777-.18 1.732.824 1.732l4.167.002z\"></path></svg></span><span style=\"line-height: 18px; font-weight: bold; text-transform: uppercase;\">Free Delivery</span></div></div></div><div data-radium=\"true\" style=\"font-size: 10px; font-weight: 700; position: absolute; left: 0px; right: 0px; bottom: 22px; margin-bottom: 10px; text-align: center; padding: 0px 20px; color: rgb(67, 176, 42);\"></div></div></a><div><span><span data-radium=\"true\"><button type=\"button\" aria-label=\"Add 1 unit of Kroger Mixed Berry Multi-Symptom Cold &amp; Flu Relief NiteTime Liquid\" data-radium=\"true\" style=\"touch-action: manipulation; cursor: pointer; border: 1px solid rgb(67, 176, 42); border-radius: 12px; font-weight: 600; white-space: nowrap; user-select: none; -webkit-font-smoothing: antialiased; background-image: none; display: inline-flex; align-items: center; padding: 0px; font-size: 12px; height: 24px; background-color: white; color: rgb(67, 176, 42); min-width: 24px; position: absolute; top: 8px; right: 8px; justify-content: center;\"><svg width=\"18px\" height=\"18px\" viewbox=\"0 0 24 24\" aria-hidden=\"true\" fill=\"currentColor\"><path d=\"M13 5.007C13 4.45 12.552 4 12 4c-.556 0-1 .451-1 1.007V11H5.007C4.45 11 4 11.448 4 12c0 .556.451 1 1.007 1H11v5.993c0 .557.448 1.007 1 1.007.556 0 1-.451 1-1.007V13h5.993C19.55 13 20 12.552 20 12c0-.556-.451-1-1.007-1H13V5.007z\"></path></svg><div data-radium=\"true\" style=\"position: absolute; top: -4px; right: -4px; bottom: -4px; left: -4px;\"></div></button></span></span></div></div></li>'"
      ]
     },
     "execution_count": 14,
     "metadata": {},
     "output_type": "execute_result"
    }
   ],
   "source": [
    "groceries.item_size[10]"
   ]
  },
  {
   "cell_type": "markdown",
   "metadata": {},
   "source": [
    "It looks like we have pulled all the information we can from this column. Let's drop it for now. "
   ]
  },
  {
   "cell_type": "code",
   "execution_count": 15,
   "metadata": {},
   "outputs": [],
   "source": [
    "groceries.drop(columns=['item_size'], inplace=True)"
   ]
  },
  {
   "cell_type": "code",
   "execution_count": 16,
   "metadata": {},
   "outputs": [],
   "source": [
    "groceries['date_collected'] = '2019-08-28'\n",
    "groceries['store'] = 'Marianos'\n",
    "groceries['location'] = '60615'"
   ]
  },
  {
   "cell_type": "code",
   "execution_count": 17,
   "metadata": {},
   "outputs": [
    {
     "data": {
      "text/html": [
       "<div>\n",
       "<style scoped>\n",
       "    .dataframe tbody tr th:only-of-type {\n",
       "        vertical-align: middle;\n",
       "    }\n",
       "\n",
       "    .dataframe tbody tr th {\n",
       "        vertical-align: top;\n",
       "    }\n",
       "\n",
       "    .dataframe thead th {\n",
       "        text-align: right;\n",
       "    }\n",
       "</style>\n",
       "<table border=\"1\" class=\"dataframe\">\n",
       "  <thead>\n",
       "    <tr style=\"text-align: right;\">\n",
       "      <th></th>\n",
       "      <th>product</th>\n",
       "      <th>main_price</th>\n",
       "      <th>prod_aile</th>\n",
       "      <th>price_per_lb</th>\n",
       "      <th>measure_words_main_price</th>\n",
       "      <th>item_weight_count_vol</th>\n",
       "      <th>date_collected</th>\n",
       "      <th>store</th>\n",
       "      <th>location</th>\n",
       "    </tr>\n",
       "  </thead>\n",
       "  <tbody>\n",
       "    <tr>\n",
       "      <th>0</th>\n",
       "      <td>Halls Defense Dietary Supplement Drops, Assort...</td>\n",
       "      <td>$1.79</td>\n",
       "      <td>Cold, Flu &amp; Allergy</td>\n",
       "      <td>NaN</td>\n",
       "      <td>NaN</td>\n",
       "      <td>30 count</td>\n",
       "      <td>2019-08-28</td>\n",
       "      <td>Marianos</td>\n",
       "      <td>60615</td>\n",
       "    </tr>\n",
       "    <tr>\n",
       "      <th>1</th>\n",
       "      <td>Halls Suppressant/Oral Anesthetic Halls Relief...</td>\n",
       "      <td>$1.79</td>\n",
       "      <td>Cold, Flu &amp; Allergy</td>\n",
       "      <td>NaN</td>\n",
       "      <td>NaN</td>\n",
       "      <td>30 count</td>\n",
       "      <td>2019-08-28</td>\n",
       "      <td>Marianos</td>\n",
       "      <td>60615</td>\n",
       "    </tr>\n",
       "    <tr>\n",
       "      <th>2</th>\n",
       "      <td>Kroger Co. Mucus Relief Expectorant &amp; Cough Su...</td>\n",
       "      <td>$9.29</td>\n",
       "      <td>Cold, Flu &amp; Allergy</td>\n",
       "      <td>NaN</td>\n",
       "      <td>NaN</td>\n",
       "      <td>14 count</td>\n",
       "      <td>2019-08-28</td>\n",
       "      <td>Marianos</td>\n",
       "      <td>60615</td>\n",
       "    </tr>\n",
       "    <tr>\n",
       "      <th>3</th>\n",
       "      <td>Ricola Sugar Free Lemon Mint Herb Throat Drops</td>\n",
       "      <td>$2.29</td>\n",
       "      <td>Cold, Flu &amp; Allergy</td>\n",
       "      <td>NaN</td>\n",
       "      <td>NaN</td>\n",
       "      <td>19 count</td>\n",
       "      <td>2019-08-28</td>\n",
       "      <td>Marianos</td>\n",
       "      <td>60615</td>\n",
       "    </tr>\n",
       "    <tr>\n",
       "      <th>4</th>\n",
       "      <td>Benadryl Allergy Ultratabs Tablets</td>\n",
       "      <td>$4.99</td>\n",
       "      <td>Cold, Flu &amp; Allergy</td>\n",
       "      <td>NaN</td>\n",
       "      <td>NaN</td>\n",
       "      <td>24 count</td>\n",
       "      <td>2019-08-28</td>\n",
       "      <td>Marianos</td>\n",
       "      <td>60615</td>\n",
       "    </tr>\n",
       "  </tbody>\n",
       "</table>\n",
       "</div>"
      ],
      "text/plain": [
       "                                             product main_price  \\\n",
       "0  Halls Defense Dietary Supplement Drops, Assort...      $1.79   \n",
       "1  Halls Suppressant/Oral Anesthetic Halls Relief...      $1.79   \n",
       "2  Kroger Co. Mucus Relief Expectorant & Cough Su...      $9.29   \n",
       "3     Ricola Sugar Free Lemon Mint Herb Throat Drops      $2.29   \n",
       "4                 Benadryl Allergy Ultratabs Tablets      $4.99   \n",
       "\n",
       "             prod_aile price_per_lb measure_words_main_price  \\\n",
       "0  Cold, Flu & Allergy          NaN                      NaN   \n",
       "1  Cold, Flu & Allergy          NaN                      NaN   \n",
       "2  Cold, Flu & Allergy          NaN                      NaN   \n",
       "3  Cold, Flu & Allergy          NaN                      NaN   \n",
       "4  Cold, Flu & Allergy          NaN                      NaN   \n",
       "\n",
       "  item_weight_count_vol date_collected     store location  \n",
       "0              30 count     2019-08-28  Marianos    60615  \n",
       "1              30 count     2019-08-28  Marianos    60615  \n",
       "2              14 count     2019-08-28  Marianos    60615  \n",
       "3              19 count     2019-08-28  Marianos    60615  \n",
       "4              24 count     2019-08-28  Marianos    60615  "
      ]
     },
     "execution_count": 17,
     "metadata": {},
     "output_type": "execute_result"
    }
   ],
   "source": [
    "groceries.head()"
   ]
  },
  {
   "cell_type": "markdown",
   "metadata": {},
   "source": [
    "## Save to Intermediate "
   ]
  },
  {
   "cell_type": "code",
   "execution_count": 23,
   "metadata": {},
   "outputs": [
    {
     "data": {
      "text/plain": [
       "Index(['product', 'main_price', 'prod_aile', 'price_per_lb',\n",
       "       'measure_words_main_price', 'item_weight_count_vol', 'date_collected',\n",
       "       'store', 'location'],\n",
       "      dtype='object')"
      ]
     },
     "execution_count": 23,
     "metadata": {},
     "output_type": "execute_result"
    }
   ],
   "source": [
    "groceries.columns"
   ]
  },
  {
   "cell_type": "code",
   "execution_count": 21,
   "metadata": {},
   "outputs": [],
   "source": [
    "product_ailes = list(groceries.prod_aile.unique())"
   ]
  },
  {
   "cell_type": "code",
   "execution_count": 22,
   "metadata": {},
   "outputs": [
    {
     "data": {
      "text/plain": [
       "['Cold, Flu & Allergy',\n",
       " 'Oils & Vinegars',\n",
       " 'Candy & Chocolate',\n",
       " 'Fresh Herbs',\n",
       " 'Beauty',\n",
       " 'Bulk Candies & Chocolates',\n",
       " 'Cookies & Cakes',\n",
       " 'Digestion',\n",
       " 'Small Animal Care',\n",
       " 'Instant Foods',\n",
       " 'Baking Ingredients',\n",
       " 'Condiments',\n",
       " 'Family Planning',\n",
       " 'Eye & Ear Care',\n",
       " 'Soup, Broth & Bouillon',\n",
       " 'Bulk Soup Mix',\n",
       " 'Spices & Seasonings',\n",
       " 'Grains, Rice & Dried Goods',\n",
       " 'Shave Needs',\n",
       " 'Asian Foods',\n",
       " 'Crackers',\n",
       " 'Honeys, Syrups & Nectars',\n",
       " 'Preserved Dips & Spreads',\n",
       " 'Salad Dressing & Toppings',\n",
       " 'Chips & Pretzels',\n",
       " 'Latino Foods',\n",
       " 'Deodorants',\n",
       " 'Hair Care',\n",
       " 'Oral Hygiene',\n",
       " 'Dog Food & Care',\n",
       " 'Pickled Goods & Olives',\n",
       " 'Baby Accessories',\n",
       " 'Facial Care',\n",
       " 'Adult Care',\n",
       " 'Popcorn & Jerky',\n",
       " 'Marinades & Meat Preparation',\n",
       " 'Cat Food & Care',\n",
       " 'Feminine Care',\n",
       " 'Baby First Aid & Vitamins',\n",
       " 'Nuts, Seeds & Dried Fruit',\n",
       " 'Beers & Coolers',\n",
       " 'Hand Care',\n",
       " 'Tea',\n",
       " 'Buns & Rolls',\n",
       " 'Frozen Meals',\n",
       " 'Red Wines',\n",
       " 'Bakery Desserts',\n",
       " 'Packaged Seafood',\n",
       " 'Bulk Grains, Rice & Dried Beans',\n",
       " 'Refrigerated',\n",
       " 'Ice Cream Toppings',\n",
       " 'Juice & Nectars',\n",
       " 'Spirits',\n",
       " 'Tofu & Meat Alternatives',\n",
       " 'Cocktail Mixes',\n",
       " 'Coffee',\n",
       " 'Fruit & Vegetable Snacks',\n",
       " 'Prepared Meals',\n",
       " 'Granola',\n",
       " 'Eggs',\n",
       " 'Bread',\n",
       " 'Tortillas & Flat Bread',\n",
       " 'Energy & Sports Drinks',\n",
       " 'Hot Cereal & Pancake Mixes',\n",
       " 'Foot Care',\n",
       " 'Frozen Breads & Doughs',\n",
       " 'Frozen Vegan & Vegetarian',\n",
       " 'Indian Foods',\n",
       " 'Energy & Granola Bars',\n",
       " 'Baby Food & Formula',\n",
       " 'Soft Drinks',\n",
       " 'Water, Seltzer & Sparkling Water',\n",
       " 'Breakfast Bakery',\n",
       " 'Doughs, Gelatins & Bake Mixes',\n",
       " 'Pasta Sauce',\n",
       " 'Bulk Flours & Powders',\n",
       " 'Cocoa & Drink Mixes',\n",
       " 'Aromatherapy',\n",
       " 'Meat Counter',\n",
       " 'Poultry Counter',\n",
       " 'Butter',\n",
       " 'Packaged Cheese',\n",
       " 'Hot Dogs, Bacon & Sausage',\n",
       " 'Seafood Counter',\n",
       " 'Garden',\n",
       " 'Bulk Tea & Coffee',\n",
       " 'Packaged Poultry',\n",
       " 'Refrigerated Pudding & Desserts',\n",
       " 'Frozen Breakfast',\n",
       " 'Other Creams & Cheeses',\n",
       " 'Frozen Appetizers & Sides',\n",
       " 'Bulk Trail Mix & Snack Mix',\n",
       " 'Bulk Dried Fruits & Vegetables',\n",
       " 'Other Bulk',\n",
       " 'Spices & Seasoning',\n",
       " 'Frozen Meat & Seafood',\n",
       " 'Frozen Pizza',\n",
       " 'Yogurt',\n",
       " 'Soy & Lactose-Free',\n",
       " 'Ice Cream & Ice',\n",
       " 'Packaged Meat',\n",
       " 'Bulk Nuts & Seeds',\n",
       " 'Bulk Spreads Butter, Honey, Syrup',\n",
       " 'Baking Supplies',\n",
       " 'White Wines',\n",
       " 'Milk',\n",
       " 'Frozen Dessert',\n",
       " 'Frozen Produce',\n",
       " 'Cream',\n",
       " 'Specialty Wines & Champagnes',\n",
       " 'Whole & Ground Seeds',\n",
       " 'Rosés',\n",
       " 'Body Lotions & Soap',\n",
       " 'Trash Bags & Liners',\n",
       " 'Cereal',\n",
       " 'Lunch Meat',\n",
       " 'Protein & Meal Replacements',\n",
       " 'Breakfast Bars & Pastries',\n",
       " 'Specialty Cheeses',\n",
       " 'More Household',\n",
       " 'Trail Mix & Snack Mix',\n",
       " 'Prepared Soups & Salads',\n",
       " 'Kosher Foods',\n",
       " 'Plates, Bowls, Cups & Flatware',\n",
       " 'Baby Bath & Body Care',\n",
       " 'Vitamins & Supplements',\n",
       " 'Diapers & Wipes',\n",
       " 'Food Storage',\n",
       " 'Fresh Dips & Tapenades',\n",
       " 'More International Foods',\n",
       " 'First Aid',\n",
       " 'Dish Detergents',\n",
       " 'Dry Pasta',\n",
       " 'Canned & Jarred Vegetables',\n",
       " 'Dips',\n",
       " 'Packaged Vegetables & Fruits',\n",
       " 'Paper Goods',\n",
       " 'Frozen Juice',\n",
       " 'Mint & Gum',\n",
       " 'Fresh Pasta',\n",
       " 'Laundry',\n",
       " 'Canned Fruit & Applesauce',\n",
       " 'Spreads',\n",
       " 'Kitchen Supplies',\n",
       " 'Baking Supplies & Decor',\n",
       " 'Air Fresheners & Candles',\n",
       " 'Fresh Fruits',\n",
       " 'Canned Meals & Beans',\n",
       " 'Bulk Sugar & Sweeteners',\n",
       " 'Canned Meat & Seafood',\n",
       " 'Cleaning Products',\n",
       " 'Fresh Vegetables',\n",
       " 'Stress & Sleep Aids']"
      ]
     },
     "execution_count": 22,
     "metadata": {},
     "output_type": "execute_result"
    }
   ],
   "source": [
    "product_ailes"
   ]
  },
  {
   "cell_type": "code",
   "execution_count": 30,
   "metadata": {},
   "outputs": [],
   "source": [
    "food_list = ['Fresh Herbs',\n",
    " 'Baking Ingredients',\n",
    " 'Condiments',\n",
    " 'Soup, Broth & Bouillon',\n",
    " 'Spices & Seasonings',\n",
    " 'Grains, Rice & Dried Goods',\n",
    " 'Honeys, Syrups & Nectars',\n",
    " 'Preserved Dips & Spreads',\n",
    " 'Salad Dressing & Toppings',\n",
    " 'Pickled Goods & Olives',\n",
    " 'Marinades & Meat Preparation',\n",
    " 'Nuts, Seeds & Dried Fruit',\n",
    " 'Bulk Grains, Rice & Dried Beans',\n",
    " 'Refrigerated',\n",
    " 'Tofu & Meat Alternatives',\n",
    " 'Eggs',\n",
    " 'Bread',\n",
    " 'Tortillas & Flat Bread',\n",
    " 'Doughs, Gelatins & Bake Mixes',\n",
    " 'Pasta Sauce',\n",
    " 'Bulk Flours & Powders',\n",
    " 'Meat Counter',\n",
    " 'Poultry Counter',\n",
    " 'Butter',\n",
    " 'Packaged Cheese',\n",
    " 'Hot Dogs, Bacon & Sausage',\n",
    " 'Seafood Counter',\n",
    " 'Other Creams & Cheeses',\n",
    " 'Spices & Seasoning',\n",
    " 'Soy & Lactose-Free',\n",
    " 'Packaged Meat',\n",
    " 'Bulk Nuts & Seeds',\n",
    " 'Bulk Spreads Butter, Honey, Syrup',\n",
    " 'Baking Supplies',\n",
    " 'Milk',\n",
    " 'Frozen Produce',\n",
    " 'Cream',\n",
    " 'Whole & Ground Seeds',\n",
    " 'Specialty Cheeses',\n",
    " 'Dry Pasta',\n",
    " 'Canned & Jarred Vegetables',\n",
    " 'Fresh Pasta',\n",
    " 'Canned Fruit & Applesauce',\n",
    " 'Spreads',\n",
    " 'Fresh Fruits',\n",
    " 'Canned Meals & Beans',\n",
    " 'Bulk Sugar & Sweeteners',\n",
    " 'Fresh Vegetables']"
   ]
  },
  {
   "cell_type": "code",
   "execution_count": 39,
   "metadata": {},
   "outputs": [],
   "source": [
    "count = 1\n",
    "for aile in food_list:\n",
    "    mask = (groceries['prod_aile']==aile)\n",
    "    exec(\"df{}=groceries[mask]\".format(count))\n",
    "    count = count + 1"
   ]
  },
  {
   "cell_type": "code",
   "execution_count": 61,
   "metadata": {},
   "outputs": [],
   "source": [
    "dataframes = []\n",
    "for i in range(1, 49):\n",
    "    dataframe = \"df{}\".format(i)\n",
    "    dataframes.append(dataframe)"
   ]
  },
  {
   "cell_type": "code",
   "execution_count": 70,
   "metadata": {},
   "outputs": [],
   "source": [
    "grocery_df = pd.concat([df1, df2, df3, df4, df5, df6, df7, df8, df9, df10, df11, df12, \n",
    "           df13, df14, df15, df16, df17, df18, df19, df20, df21, df22, df23, \n",
    "           df24, df25, df26, df27, df28, df29, df30, df31, df32, df33, df34, \n",
    "           df35, df36, df37, df38, df39, df40, df41, df42, df43, df44, df45, \n",
    "           df46, df47, df48], axis=0)"
   ]
  },
  {
   "cell_type": "code",
   "execution_count": 80,
   "metadata": {},
   "outputs": [],
   "source": [
    "grocery_df.to_csv('../../data/02_intermediate/marianos_groceries_only.csv', index=False)"
   ]
  },
  {
   "cell_type": "code",
   "execution_count": 81,
   "metadata": {},
   "outputs": [],
   "source": [
    "products_marianos = pd.DataFrame(list(grocery_df['product']))"
   ]
  },
  {
   "cell_type": "code",
   "execution_count": 82,
   "metadata": {},
   "outputs": [],
   "source": [
    "products_marianos.to_csv('../../data/01_raw/marianos_product_train.csv')"
   ]
  },
  {
   "cell_type": "code",
   "execution_count": 18,
   "metadata": {},
   "outputs": [],
   "source": [
    "# grocery_list.to_csv('../../data/02_intermediate/grocery_prices_marianos.csv', index=False)"
   ]
  },
  {
   "cell_type": "markdown",
   "metadata": {},
   "source": [
    "# LET'S MAKE A FUNCTION"
   ]
  },
  {
   "cell_type": "code",
   "execution_count": null,
   "metadata": {},
   "outputs": [],
   "source": [
    "def intermediate_clean_marianos_prices(groceries):\n",
    "    '''\n",
    "    clean concatenated marianos prices dataframes to intermediate \n",
    "    '''\n",
    "    item_size = groceries['item_size']\n",
    "    per_lb_final = []\n",
    "    per_lb_pattern = r'\\d*\\.[0-9]{2}\\/lb'\n",
    "    for item in item_size:\n",
    "        try:\n",
    "            per_lb_final.append(re.search(per_lb_pattern, item).group())\n",
    "        except:\n",
    "            per_lb_final.append(np.nan)\n",
    "\n",
    "    # MEASURE WORDS\n",
    "    measure_word_pattern = 'each'\n",
    "    measure_word_list = []\n",
    "    for item in item_size:\n",
    "        try:\n",
    "            measure_word_list.append(re.search(measure_word_pattern, item).group())\n",
    "        except:\n",
    "            measure_word_list.append(np.nan)\n",
    "\n",
    "    groceries.rename(columns={'unit_price':'main_price'}, inplace=True)\n",
    "\n",
    "    # ITEM WEIGHT COUNT VOL\n",
    "    item_weight_count_vol = []\n",
    "    for item in item_size:\n",
    "        try:\n",
    "            item_weight_count_vol.append(re.search('aria-label=\\\"\\.(.*)\\\">\\d+', item).group(1))\n",
    "        except:\n",
    "            item_weight_count_vol.append(np.nan)\n",
    "\n",
    "    groceries.drop(columns=['item_size'], inplace=True)\n",
    "\n",
    "    # MAKE NEW DATAFRAME\n",
    "    groceries['price_per_lb'] = per_lb_final\n",
    "    groceries['measure_words_main_price'] = measure_word_list\n",
    "    groceries['item_weight_count_vol'] = item_weight_count_vol\n",
    "    groceries['date_collected'] = '2019-08-28'\n",
    "    groceries['store'] = 'Marianos'\n",
    "    groceries['location'] = '60615'\n",
    "    \n",
    "    return groceries"
   ]
  }
 ],
 "metadata": {
  "kernelspec": {
   "display_name": "Python 3",
   "language": "python",
   "name": "python3"
  },
  "language_info": {
   "codemirror_mode": {
    "name": "ipython",
    "version": 3
   },
   "file_extension": ".py",
   "mimetype": "text/x-python",
   "name": "python",
   "nbconvert_exporter": "python",
   "pygments_lexer": "ipython3",
   "version": "3.7.1"
  },
  "toc": {
   "base_numbering": 1,
   "nav_menu": {},
   "number_sections": true,
   "sideBar": true,
   "skip_h1_title": true,
   "title_cell": "Table of Contents",
   "title_sidebar": "Contents",
   "toc_cell": false,
   "toc_position": {},
   "toc_section_display": true,
   "toc_window_display": false
  }
 },
 "nbformat": 4,
 "nbformat_minor": 2
}
