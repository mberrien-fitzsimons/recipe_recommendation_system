{
 "cells": [
  {
   "cell_type": "markdown",
   "metadata": {},
   "source": [
    "## Intermediate Cleaning - Simply Recipes"
   ]
  },
  {
   "cell_type": "code",
   "execution_count": 3,
   "metadata": {},
   "outputs": [],
   "source": [
    "# read in kickstarter intermediate data \n",
    "import numpy as np\n",
    "import os\n",
    "import pandas as pd \n",
    "import seaborn as sns\n",
    "import sys\n",
    "import re\n",
    "# import warnings\n",
    "# warnings.filterwarnings('ignore')\n",
    "\n",
    "src_dir = os.path.join(os.getcwd(), '..', '..', 'src')\n",
    "sys.path.append(src_dir)\n",
    "\n",
    "from d01_data.utils import read_multiple_csv_and_concat"
   ]
  },
  {
   "cell_type": "code",
   "execution_count": 7,
   "metadata": {},
   "outputs": [],
   "source": [
    "recipes_sr1 = pd.read_csv('../../data/01_raw/simply_recipes/simply_recipes_1.csv')\n",
    "recipes_sr2 = pd.read_csv('../../data/01_raw/simply_recipes/simply_recipes_2.csv')"
   ]
  },
  {
   "cell_type": "code",
   "execution_count": 8,
   "metadata": {},
   "outputs": [
    {
     "data": {
      "text/html": [
       "<div>\n",
       "<style scoped>\n",
       "    .dataframe tbody tr th:only-of-type {\n",
       "        vertical-align: middle;\n",
       "    }\n",
       "\n",
       "    .dataframe tbody tr th {\n",
       "        vertical-align: top;\n",
       "    }\n",
       "\n",
       "    .dataframe thead th {\n",
       "        text-align: right;\n",
       "    }\n",
       "</style>\n",
       "<table border=\"1\" class=\"dataframe\">\n",
       "  <thead>\n",
       "    <tr style=\"text-align: right;\">\n",
       "      <th></th>\n",
       "      <th>Unnamed: 0</th>\n",
       "      <th>Unnamed: 0.1</th>\n",
       "      <th>title</th>\n",
       "      <th>prep_time</th>\n",
       "      <th>cook_time</th>\n",
       "      <th>recipe_yield</th>\n",
       "      <th>tags</th>\n",
       "      <th>ingredients</th>\n",
       "      <th>entire_card</th>\n",
       "      <th>recipe_links</th>\n",
       "    </tr>\n",
       "  </thead>\n",
       "  <tbody>\n",
       "    <tr>\n",
       "      <th>0</th>\n",
       "      <td>0</td>\n",
       "      <td>0</td>\n",
       "      <td>['Grilled Cheese BLT']</td>\n",
       "      <td>['Prep time:', ' ', '10 minutes']</td>\n",
       "      <td>['Cook time:', ' ', '10 minutes']</td>\n",
       "      <td>['Yield:', ' ', '4 sandwiches']</td>\n",
       "      <td>['Filed under:', ' ', 'Dinner', 'Lunch', 'Sand...</td>\n",
       "      <td>['\\n                        ', 'Ingredients', ...</td>\n",
       "      <td>['\\n\\n                    ', '\\n              ...</td>\n",
       "      <td>https://www.simplyrecipes.com/recipes/grilled_...</td>\n",
       "    </tr>\n",
       "    <tr>\n",
       "      <th>1</th>\n",
       "      <td>1</td>\n",
       "      <td>1</td>\n",
       "      <td>['Pulled Pork Sandwich']</td>\n",
       "      <td>['Prep time:', ' ', '10 minutes']</td>\n",
       "      <td>['Cook time:', ' ', '2 hours, 45 minutes']</td>\n",
       "      <td>['Yield:', ' ', 'Serves 6 to 8']</td>\n",
       "      <td>['Filed under:', ' ', 'Dinner', 'Sandwich', 'B...</td>\n",
       "      <td>['\\n                        ', 'Ingredients', ...</td>\n",
       "      <td>['\\n\\n                    ', '\\n              ...</td>\n",
       "      <td>https://www.simplyrecipes.com/recipes/pulled_p...</td>\n",
       "    </tr>\n",
       "    <tr>\n",
       "      <th>2</th>\n",
       "      <td>2</td>\n",
       "      <td>2</td>\n",
       "      <td>['How to Make Bacon in the Oven']</td>\n",
       "      <td>['Prep time:', ' ', '5 minutes']</td>\n",
       "      <td>['Cook time:', ' ', '20 minutes']</td>\n",
       "      <td>['Yield:', ' ', '12 strips']</td>\n",
       "      <td>['Filed under:', ' ', 'Tips', 'Breakfast and B...</td>\n",
       "      <td>['\\n                        ', 'Ingredients', ...</td>\n",
       "      <td>['\\n\\n                    ', '\\n              ...</td>\n",
       "      <td>https://www.simplyrecipes.com/recipes/how_to_m...</td>\n",
       "    </tr>\n",
       "    <tr>\n",
       "      <th>3</th>\n",
       "      <td>3</td>\n",
       "      <td>3</td>\n",
       "      <td>['Sausage Stuffed Zucchini']</td>\n",
       "      <td>['Prep time:', ' ', '15 minutes']</td>\n",
       "      <td>['Cook time:', ' ', '1 hour']</td>\n",
       "      <td>['Yield:', ' ', 'Serves 4']</td>\n",
       "      <td>['Filed under:', ' ', 'Dinner', 'Favorite Summ...</td>\n",
       "      <td>['\\n                        ', 'Ingredients', ...</td>\n",
       "      <td>['\\n\\n                    ', '\\n              ...</td>\n",
       "      <td>https://www.simplyrecipes.com/recipes/italian_...</td>\n",
       "    </tr>\n",
       "    <tr>\n",
       "      <th>4</th>\n",
       "      <td>4</td>\n",
       "      <td>4</td>\n",
       "      <td>['The Best Dry Rub for Ribs']</td>\n",
       "      <td>['Prep time:', ' ', '5 minutes']</td>\n",
       "      <td>['Yield:', ' ', '1 1/2 cups']</td>\n",
       "      <td>[]</td>\n",
       "      <td>['Filed under:', ' ', 'Favorite Fall', 'Favori...</td>\n",
       "      <td>['\\n                        ', 'Ingredients', ...</td>\n",
       "      <td>['\\n\\n                    ', '\\n              ...</td>\n",
       "      <td>https://www.simplyrecipes.com/recipes/the_best...</td>\n",
       "    </tr>\n",
       "  </tbody>\n",
       "</table>\n",
       "</div>"
      ],
      "text/plain": [
       "   Unnamed: 0  Unnamed: 0.1                              title  \\\n",
       "0           0             0             ['Grilled Cheese BLT']   \n",
       "1           1             1           ['Pulled Pork Sandwich']   \n",
       "2           2             2  ['How to Make Bacon in the Oven']   \n",
       "3           3             3       ['Sausage Stuffed Zucchini']   \n",
       "4           4             4      ['The Best Dry Rub for Ribs']   \n",
       "\n",
       "                           prep_time  \\\n",
       "0  ['Prep time:', ' ', '10 minutes']   \n",
       "1  ['Prep time:', ' ', '10 minutes']   \n",
       "2   ['Prep time:', ' ', '5 minutes']   \n",
       "3  ['Prep time:', ' ', '15 minutes']   \n",
       "4   ['Prep time:', ' ', '5 minutes']   \n",
       "\n",
       "                                    cook_time  \\\n",
       "0           ['Cook time:', ' ', '10 minutes']   \n",
       "1  ['Cook time:', ' ', '2 hours, 45 minutes']   \n",
       "2           ['Cook time:', ' ', '20 minutes']   \n",
       "3               ['Cook time:', ' ', '1 hour']   \n",
       "4               ['Yield:', ' ', '1 1/2 cups']   \n",
       "\n",
       "                       recipe_yield  \\\n",
       "0   ['Yield:', ' ', '4 sandwiches']   \n",
       "1  ['Yield:', ' ', 'Serves 6 to 8']   \n",
       "2      ['Yield:', ' ', '12 strips']   \n",
       "3       ['Yield:', ' ', 'Serves 4']   \n",
       "4                                []   \n",
       "\n",
       "                                                tags  \\\n",
       "0  ['Filed under:', ' ', 'Dinner', 'Lunch', 'Sand...   \n",
       "1  ['Filed under:', ' ', 'Dinner', 'Sandwich', 'B...   \n",
       "2  ['Filed under:', ' ', 'Tips', 'Breakfast and B...   \n",
       "3  ['Filed under:', ' ', 'Dinner', 'Favorite Summ...   \n",
       "4  ['Filed under:', ' ', 'Favorite Fall', 'Favori...   \n",
       "\n",
       "                                         ingredients  \\\n",
       "0  ['\\n                        ', 'Ingredients', ...   \n",
       "1  ['\\n                        ', 'Ingredients', ...   \n",
       "2  ['\\n                        ', 'Ingredients', ...   \n",
       "3  ['\\n                        ', 'Ingredients', ...   \n",
       "4  ['\\n                        ', 'Ingredients', ...   \n",
       "\n",
       "                                         entire_card  \\\n",
       "0  ['\\n\\n                    ', '\\n              ...   \n",
       "1  ['\\n\\n                    ', '\\n              ...   \n",
       "2  ['\\n\\n                    ', '\\n              ...   \n",
       "3  ['\\n\\n                    ', '\\n              ...   \n",
       "4  ['\\n\\n                    ', '\\n              ...   \n",
       "\n",
       "                                        recipe_links  \n",
       "0  https://www.simplyrecipes.com/recipes/grilled_...  \n",
       "1  https://www.simplyrecipes.com/recipes/pulled_p...  \n",
       "2  https://www.simplyrecipes.com/recipes/how_to_m...  \n",
       "3  https://www.simplyrecipes.com/recipes/italian_...  \n",
       "4  https://www.simplyrecipes.com/recipes/the_best...  "
      ]
     },
     "execution_count": 8,
     "metadata": {},
     "output_type": "execute_result"
    }
   ],
   "source": [
    "recipes_sr1.head()"
   ]
  },
  {
   "cell_type": "code",
   "execution_count": 9,
   "metadata": {},
   "outputs": [
    {
     "data": {
      "text/html": [
       "<div>\n",
       "<style scoped>\n",
       "    .dataframe tbody tr th:only-of-type {\n",
       "        vertical-align: middle;\n",
       "    }\n",
       "\n",
       "    .dataframe tbody tr th {\n",
       "        vertical-align: top;\n",
       "    }\n",
       "\n",
       "    .dataframe thead th {\n",
       "        text-align: right;\n",
       "    }\n",
       "</style>\n",
       "<table border=\"1\" class=\"dataframe\">\n",
       "  <thead>\n",
       "    <tr style=\"text-align: right;\">\n",
       "      <th></th>\n",
       "      <th>Unnamed: 0</th>\n",
       "      <th>title</th>\n",
       "      <th>prep_time</th>\n",
       "      <th>cook_time</th>\n",
       "      <th>recipe_yield</th>\n",
       "      <th>tags</th>\n",
       "      <th>ingredients</th>\n",
       "      <th>entire_card</th>\n",
       "      <th>recipe_links</th>\n",
       "    </tr>\n",
       "  </thead>\n",
       "  <tbody>\n",
       "    <tr>\n",
       "      <th>0</th>\n",
       "      <td>0</td>\n",
       "      <td>['Shrimp Spring Rolls with Peanut Sauce']</td>\n",
       "      <td>['Prep time:', ' ', '45 minutes']</td>\n",
       "      <td>['Yield:', ' ', '6 to 8 servings']</td>\n",
       "      <td>[]</td>\n",
       "      <td>['Filed under:', ' ', 'Appetizer', 'Side Dish'...</td>\n",
       "      <td>['\\n                        ', 'Ingredients', ...</td>\n",
       "      <td>['\\n\\n                    ', '\\n              ...</td>\n",
       "      <td>https://www.simplyrecipes.com/recipes/shrimp_s...</td>\n",
       "    </tr>\n",
       "    <tr>\n",
       "      <th>1</th>\n",
       "      <td>1</td>\n",
       "      <td>['Fish Chowder']</td>\n",
       "      <td>['Prep time:', ' ', '15 minutes']</td>\n",
       "      <td>['Cook time:', ' ', '40 minutes']</td>\n",
       "      <td>['Yield:', ' ', 'Serves 6']</td>\n",
       "      <td>['Filed under:', ' ', 'Soup', 'Soup and Stew',...</td>\n",
       "      <td>['\\n                        ', 'Ingredients', ...</td>\n",
       "      <td>['\\n\\n                    ', '\\n              ...</td>\n",
       "      <td>https://www.simplyrecipes.com/recipes/fish_cho...</td>\n",
       "    </tr>\n",
       "    <tr>\n",
       "      <th>2</th>\n",
       "      <td>2</td>\n",
       "      <td>['Shrimp Gumbo with Andouille Sausage']</td>\n",
       "      <td>['Prep time:', ' ', '15 minutes']</td>\n",
       "      <td>['Cook time:', ' ', '1 hour, 30 minutes']</td>\n",
       "      <td>['Yield:', ' ', 'Serves 6-8']</td>\n",
       "      <td>['Filed under:', ' ', 'Soup and Stew', 'Mardi ...</td>\n",
       "      <td>['\\n                        ', 'Ingredients', ...</td>\n",
       "      <td>['\\n\\n                    ', '\\n              ...</td>\n",
       "      <td>https://www.simplyrecipes.com/recipes/shrimp_g...</td>\n",
       "    </tr>\n",
       "    <tr>\n",
       "      <th>3</th>\n",
       "      <td>3</td>\n",
       "      <td>['Brazilian Salmon Stew (Moqueca)']</td>\n",
       "      <td>['Prep time:', ' ', '25 minutes']</td>\n",
       "      <td>['Cook time:', ' ', '45 minutes']</td>\n",
       "      <td>['Marinating time:', ' ', '2 hours']</td>\n",
       "      <td>['Filed under:', ' ', 'Video', 'Dinner', 'Soup...</td>\n",
       "      <td>['\\n                        ', 'Ingredients', ...</td>\n",
       "      <td>['\\n\\n                    ', '\\n              ...</td>\n",
       "      <td>https://www.simplyrecipes.com/recipes/salmon_f...</td>\n",
       "    </tr>\n",
       "    <tr>\n",
       "      <th>4</th>\n",
       "      <td>4</td>\n",
       "      <td>['Mini Salmon Quiches']</td>\n",
       "      <td>['Prep time:', ' ', '20 minutes']</td>\n",
       "      <td>['Cook time:', ' ', '30 minutes']</td>\n",
       "      <td>['Yield:', ' ', '12 mini quiches']</td>\n",
       "      <td>['Filed under:', ' ', 'Appetizer', 'Breakfast ...</td>\n",
       "      <td>['\\n                        ', 'Ingredients', ...</td>\n",
       "      <td>['\\n\\n                    ', '\\n              ...</td>\n",
       "      <td>https://www.simplyrecipes.com/recipes/mini_sal...</td>\n",
       "    </tr>\n",
       "  </tbody>\n",
       "</table>\n",
       "</div>"
      ],
      "text/plain": [
       "   Unnamed: 0                                      title  \\\n",
       "0           0  ['Shrimp Spring Rolls with Peanut Sauce']   \n",
       "1           1                           ['Fish Chowder']   \n",
       "2           2    ['Shrimp Gumbo with Andouille Sausage']   \n",
       "3           3        ['Brazilian Salmon Stew (Moqueca)']   \n",
       "4           4                    ['Mini Salmon Quiches']   \n",
       "\n",
       "                           prep_time  \\\n",
       "0  ['Prep time:', ' ', '45 minutes']   \n",
       "1  ['Prep time:', ' ', '15 minutes']   \n",
       "2  ['Prep time:', ' ', '15 minutes']   \n",
       "3  ['Prep time:', ' ', '25 minutes']   \n",
       "4  ['Prep time:', ' ', '20 minutes']   \n",
       "\n",
       "                                   cook_time  \\\n",
       "0         ['Yield:', ' ', '6 to 8 servings']   \n",
       "1          ['Cook time:', ' ', '40 minutes']   \n",
       "2  ['Cook time:', ' ', '1 hour, 30 minutes']   \n",
       "3          ['Cook time:', ' ', '45 minutes']   \n",
       "4          ['Cook time:', ' ', '30 minutes']   \n",
       "\n",
       "                           recipe_yield  \\\n",
       "0                                    []   \n",
       "1           ['Yield:', ' ', 'Serves 6']   \n",
       "2         ['Yield:', ' ', 'Serves 6-8']   \n",
       "3  ['Marinating time:', ' ', '2 hours']   \n",
       "4    ['Yield:', ' ', '12 mini quiches']   \n",
       "\n",
       "                                                tags  \\\n",
       "0  ['Filed under:', ' ', 'Appetizer', 'Side Dish'...   \n",
       "1  ['Filed under:', ' ', 'Soup', 'Soup and Stew',...   \n",
       "2  ['Filed under:', ' ', 'Soup and Stew', 'Mardi ...   \n",
       "3  ['Filed under:', ' ', 'Video', 'Dinner', 'Soup...   \n",
       "4  ['Filed under:', ' ', 'Appetizer', 'Breakfast ...   \n",
       "\n",
       "                                         ingredients  \\\n",
       "0  ['\\n                        ', 'Ingredients', ...   \n",
       "1  ['\\n                        ', 'Ingredients', ...   \n",
       "2  ['\\n                        ', 'Ingredients', ...   \n",
       "3  ['\\n                        ', 'Ingredients', ...   \n",
       "4  ['\\n                        ', 'Ingredients', ...   \n",
       "\n",
       "                                         entire_card  \\\n",
       "0  ['\\n\\n                    ', '\\n              ...   \n",
       "1  ['\\n\\n                    ', '\\n              ...   \n",
       "2  ['\\n\\n                    ', '\\n              ...   \n",
       "3  ['\\n\\n                    ', '\\n              ...   \n",
       "4  ['\\n\\n                    ', '\\n              ...   \n",
       "\n",
       "                                        recipe_links  \n",
       "0  https://www.simplyrecipes.com/recipes/shrimp_s...  \n",
       "1  https://www.simplyrecipes.com/recipes/fish_cho...  \n",
       "2  https://www.simplyrecipes.com/recipes/shrimp_g...  \n",
       "3  https://www.simplyrecipes.com/recipes/salmon_f...  \n",
       "4  https://www.simplyrecipes.com/recipes/mini_sal...  "
      ]
     },
     "execution_count": 9,
     "metadata": {},
     "output_type": "execute_result"
    }
   ],
   "source": [
    "recipes_sr2.head()"
   ]
  },
  {
   "cell_type": "markdown",
   "metadata": {},
   "source": [
    "## Drop Useless Columns & Concat"
   ]
  },
  {
   "cell_type": "markdown",
   "metadata": {},
   "source": [
    "Looks like both Datasets have unnamed columns. Let's drop these"
   ]
  },
  {
   "cell_type": "code",
   "execution_count": 10,
   "metadata": {},
   "outputs": [
    {
     "data": {
      "text/plain": [
       "Index(['Unnamed: 0', 'Unnamed: 0.1', 'title', 'prep_time', 'cook_time',\n",
       "       'recipe_yield', 'tags', 'ingredients', 'entire_card', 'recipe_links'],\n",
       "      dtype='object')"
      ]
     },
     "execution_count": 10,
     "metadata": {},
     "output_type": "execute_result"
    }
   ],
   "source": [
    "recipes_sr1.columns"
   ]
  },
  {
   "cell_type": "code",
   "execution_count": 11,
   "metadata": {},
   "outputs": [
    {
     "data": {
      "text/plain": [
       "Index(['Unnamed: 0', 'title', 'prep_time', 'cook_time', 'recipe_yield', 'tags',\n",
       "       'ingredients', 'entire_card', 'recipe_links'],\n",
       "      dtype='object')"
      ]
     },
     "execution_count": 11,
     "metadata": {},
     "output_type": "execute_result"
    }
   ],
   "source": [
    "recipes_sr2.columns"
   ]
  },
  {
   "cell_type": "code",
   "execution_count": 12,
   "metadata": {},
   "outputs": [],
   "source": [
    "recipes_sr1.drop(columns=['Unnamed: 0', 'Unnamed: 0.1'], inplace=True)\n",
    "recipes_sr2.drop(columns=['Unnamed: 0'], inplace=True)"
   ]
  },
  {
   "cell_type": "code",
   "execution_count": 13,
   "metadata": {},
   "outputs": [
    {
     "name": "stdout",
     "output_type": "stream",
     "text": [
      "Index(['title', 'prep_time', 'cook_time', 'recipe_yield', 'tags',\n",
      "       'ingredients', 'entire_card', 'recipe_links'],\n",
      "      dtype='object')\n",
      "Index(['title', 'prep_time', 'cook_time', 'recipe_yield', 'tags',\n",
      "       'ingredients', 'entire_card', 'recipe_links'],\n",
      "      dtype='object')\n"
     ]
    }
   ],
   "source": [
    "print(recipes_sr1.columns)\n",
    "print(recipes_sr2.columns)"
   ]
  },
  {
   "cell_type": "markdown",
   "metadata": {},
   "source": [
    "### Concatenat"
   ]
  },
  {
   "cell_type": "code",
   "execution_count": 15,
   "metadata": {},
   "outputs": [
    {
     "data": {
      "text/plain": [
       "763"
      ]
     },
     "execution_count": 15,
     "metadata": {},
     "output_type": "execute_result"
    }
   ],
   "source": [
    "len(recipes_sr1)"
   ]
  },
  {
   "cell_type": "code",
   "execution_count": 16,
   "metadata": {},
   "outputs": [
    {
     "data": {
      "text/plain": [
       "1000"
      ]
     },
     "execution_count": 16,
     "metadata": {},
     "output_type": "execute_result"
    }
   ],
   "source": [
    "len(recipes_sr2)"
   ]
  },
  {
   "cell_type": "code",
   "execution_count": 18,
   "metadata": {},
   "outputs": [],
   "source": [
    "recipes_sr_full = pd.concat([recipes_sr1, recipes_sr2], axis=0)"
   ]
  },
  {
   "cell_type": "markdown",
   "metadata": {},
   "source": [
    "## Cleaning up columns"
   ]
  },
  {
   "cell_type": "code",
   "execution_count": null,
   "metadata": {},
   "outputs": [],
   "source": []
  }
 ],
 "metadata": {
  "kernelspec": {
   "display_name": "Python 3",
   "language": "python",
   "name": "python3"
  },
  "language_info": {
   "codemirror_mode": {
    "name": "ipython",
    "version": 3
   },
   "file_extension": ".py",
   "mimetype": "text/x-python",
   "name": "python",
   "nbconvert_exporter": "python",
   "pygments_lexer": "ipython3",
   "version": "3.7.1"
  },
  "toc": {
   "base_numbering": 1,
   "nav_menu": {},
   "number_sections": true,
   "sideBar": true,
   "skip_h1_title": false,
   "title_cell": "Table of Contents",
   "title_sidebar": "Contents",
   "toc_cell": false,
   "toc_position": {},
   "toc_section_display": true,
   "toc_window_display": false
  }
 },
 "nbformat": 4,
 "nbformat_minor": 2
}
