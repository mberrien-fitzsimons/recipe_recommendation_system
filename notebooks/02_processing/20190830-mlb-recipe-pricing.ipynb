{
 "cells": [
  {
   "cell_type": "markdown",
   "metadata": {},
   "source": [
    "# Recipe Pricing"
   ]
  },
  {
   "cell_type": "code",
   "execution_count": 1,
   "metadata": {},
   "outputs": [],
   "source": [
    "James =     ['Alvin Kamara','Alex Collins','Michael Thomas',\n",
    "          'Adam Thielen','Evan Engram','Lamar Miller']\n",
    "\n",
    "Ben =   ['Todd Gurley II','Royce Freeman','Larry Fitzgerald',\n",
    "        'Cooper Kupp','Benjamin Watson','Robby Anderson']\n",
    "\n",
    "Chris =     ['Dion Lewis','Rex Burkhead','Julio Jones',\n",
    "          'Keenan Allen','Zach Ertz','Demaryius Thomas']"
   ]
  },
  {
   "cell_type": "code",
   "execution_count": 2,
   "metadata": {},
   "outputs": [],
   "source": [
    "master_list = [James,Ben,Chris]"
   ]
  },
  {
   "cell_type": "code",
   "execution_count": 3,
   "metadata": {},
   "outputs": [
    {
     "data": {
      "text/plain": [
       "[['Alvin Kamara',\n",
       "  'Alex Collins',\n",
       "  'Michael Thomas',\n",
       "  'Adam Thielen',\n",
       "  'Evan Engram',\n",
       "  'Lamar Miller'],\n",
       " ['Todd Gurley II',\n",
       "  'Royce Freeman',\n",
       "  'Larry Fitzgerald',\n",
       "  'Cooper Kupp',\n",
       "  'Benjamin Watson',\n",
       "  'Robby Anderson'],\n",
       " ['Dion Lewis',\n",
       "  'Rex Burkhead',\n",
       "  'Julio Jones',\n",
       "  'Keenan Allen',\n",
       "  'Zach Ertz',\n",
       "  'Demaryius Thomas']]"
      ]
     },
     "execution_count": 3,
     "metadata": {},
     "output_type": "execute_result"
    }
   ],
   "source": [
    "master_list"
   ]
  },
  {
   "cell_type": "code",
   "execution_count": 4,
   "metadata": {},
   "outputs": [],
   "source": [
    "new_list = []\n",
    "for owner in master_list:\n",
    "    owner = [word.replace('II','') for word in owner]\n",
    "    new_list.append(owner)"
   ]
  },
  {
   "cell_type": "code",
   "execution_count": 5,
   "metadata": {},
   "outputs": [
    {
     "data": {
      "text/plain": [
       "[['Alvin Kamara',\n",
       "  'Alex Collins',\n",
       "  'Michael Thomas',\n",
       "  'Adam Thielen',\n",
       "  'Evan Engram',\n",
       "  'Lamar Miller'],\n",
       " ['Todd Gurley ',\n",
       "  'Royce Freeman',\n",
       "  'Larry Fitzgerald',\n",
       "  'Cooper Kupp',\n",
       "  'Benjamin Watson',\n",
       "  'Robby Anderson'],\n",
       " ['Dion Lewis',\n",
       "  'Rex Burkhead',\n",
       "  'Julio Jones',\n",
       "  'Keenan Allen',\n",
       "  'Zach Ertz',\n",
       "  'Demaryius Thomas']]"
      ]
     },
     "execution_count": 5,
     "metadata": {},
     "output_type": "execute_result"
    }
   ],
   "source": [
    "new_list"
   ]
  },
  {
   "cell_type": "code",
   "execution_count": null,
   "metadata": {},
   "outputs": [],
   "source": []
  },
  {
   "cell_type": "code",
   "execution_count": 6,
   "metadata": {},
   "outputs": [],
   "source": [
    "import pandas as pd\n",
    "import numpy as np\n",
    "import re"
   ]
  },
  {
   "cell_type": "code",
   "execution_count": 7,
   "metadata": {},
   "outputs": [],
   "source": [
    "grocery_prices = pd.read_csv('../../data/02_intermediate/grocery_prices_full.csv')\n",
    "recipes = pd.read_csv('../../data/02_intermediate/recipies_sr_inter.csv')"
   ]
  },
  {
   "cell_type": "code",
   "execution_count": 8,
   "metadata": {},
   "outputs": [],
   "source": [
    "grocery_prices.drop(columns=['Unnamed: 0'], inplace=True)\n",
    "recipes.drop(columns=['Unnamed: 0'], inplace=True)"
   ]
  },
  {
   "cell_type": "markdown",
   "metadata": {},
   "source": [
    "Let's take a look at our two datasets"
   ]
  },
  {
   "cell_type": "code",
   "execution_count": 9,
   "metadata": {},
   "outputs": [
    {
     "data": {
      "text/html": [
       "<div>\n",
       "<style scoped>\n",
       "    .dataframe tbody tr th:only-of-type {\n",
       "        vertical-align: middle;\n",
       "    }\n",
       "\n",
       "    .dataframe tbody tr th {\n",
       "        vertical-align: top;\n",
       "    }\n",
       "\n",
       "    .dataframe thead th {\n",
       "        text-align: right;\n",
       "    }\n",
       "</style>\n",
       "<table border=\"1\" class=\"dataframe\">\n",
       "  <thead>\n",
       "    <tr style=\"text-align: right;\">\n",
       "      <th></th>\n",
       "      <th>date_collected</th>\n",
       "      <th>item_weight_count_vol</th>\n",
       "      <th>location</th>\n",
       "      <th>main_price</th>\n",
       "      <th>measure_words_main_price</th>\n",
       "      <th>price_per_lb</th>\n",
       "      <th>prod_aile</th>\n",
       "      <th>product</th>\n",
       "      <th>store</th>\n",
       "    </tr>\n",
       "  </thead>\n",
       "  <tbody>\n",
       "    <tr>\n",
       "      <th>0</th>\n",
       "      <td>2019-08-29</td>\n",
       "      <td>6 ounce</td>\n",
       "      <td>60043</td>\n",
       "      <td>$5.79</td>\n",
       "      <td>NaN</td>\n",
       "      <td>NaN</td>\n",
       "      <td>Packaged Cheese</td>\n",
       "      <td>Athenos Crumbled Traditional Feta Cheese</td>\n",
       "      <td>Gordons</td>\n",
       "    </tr>\n",
       "    <tr>\n",
       "      <th>1</th>\n",
       "      <td>2019-08-29</td>\n",
       "      <td>5.2 ounce</td>\n",
       "      <td>60043</td>\n",
       "      <td>$5.79</td>\n",
       "      <td>NaN</td>\n",
       "      <td>NaN</td>\n",
       "      <td>Packaged Cheese</td>\n",
       "      <td>Boursin Garlic &amp; Fine Herbs Gournay Cheese</td>\n",
       "      <td>Gordons</td>\n",
       "    </tr>\n",
       "    <tr>\n",
       "      <th>2</th>\n",
       "      <td>2019-08-29</td>\n",
       "      <td>8</td>\n",
       "      <td>60043</td>\n",
       "      <td>$2.39</td>\n",
       "      <td>NaN</td>\n",
       "      <td>NaN</td>\n",
       "      <td>Packaged Cheese</td>\n",
       "      <td>Yoders Cheese, Fancy Shred, Mild Cheddar</td>\n",
       "      <td>Gordons</td>\n",
       "    </tr>\n",
       "    <tr>\n",
       "      <th>3</th>\n",
       "      <td>2019-08-29</td>\n",
       "      <td>8 ounce</td>\n",
       "      <td>60043</td>\n",
       "      <td>$4.79</td>\n",
       "      <td>NaN</td>\n",
       "      <td>NaN</td>\n",
       "      <td>Packaged Cheese</td>\n",
       "      <td>Sartori Cheese, Shredded, Parmesan</td>\n",
       "      <td>Gordons</td>\n",
       "    </tr>\n",
       "    <tr>\n",
       "      <th>4</th>\n",
       "      <td>2019-08-29</td>\n",
       "      <td>8</td>\n",
       "      <td>60043</td>\n",
       "      <td>$2.39</td>\n",
       "      <td>NaN</td>\n",
       "      <td>NaN</td>\n",
       "      <td>Packaged Cheese</td>\n",
       "      <td>Yoders Cheese, Fancy Shred, Low Moisture Part ...</td>\n",
       "      <td>Gordons</td>\n",
       "    </tr>\n",
       "  </tbody>\n",
       "</table>\n",
       "</div>"
      ],
      "text/plain": [
       "  date_collected item_weight_count_vol  location main_price  \\\n",
       "0     2019-08-29               6 ounce     60043      $5.79   \n",
       "1     2019-08-29             5.2 ounce     60043      $5.79   \n",
       "2     2019-08-29                    8      60043      $2.39   \n",
       "3     2019-08-29               8 ounce     60043      $4.79   \n",
       "4     2019-08-29                    8      60043      $2.39   \n",
       "\n",
       "  measure_words_main_price price_per_lb        prod_aile  \\\n",
       "0                      NaN          NaN  Packaged Cheese   \n",
       "1                      NaN          NaN  Packaged Cheese   \n",
       "2                      NaN          NaN  Packaged Cheese   \n",
       "3                      NaN          NaN  Packaged Cheese   \n",
       "4                      NaN          NaN  Packaged Cheese   \n",
       "\n",
       "                                             product    store  \n",
       "0           Athenos Crumbled Traditional Feta Cheese  Gordons  \n",
       "1         Boursin Garlic & Fine Herbs Gournay Cheese  Gordons  \n",
       "2           Yoders Cheese, Fancy Shred, Mild Cheddar  Gordons  \n",
       "3                 Sartori Cheese, Shredded, Parmesan  Gordons  \n",
       "4  Yoders Cheese, Fancy Shred, Low Moisture Part ...  Gordons  "
      ]
     },
     "execution_count": 9,
     "metadata": {},
     "output_type": "execute_result"
    }
   ],
   "source": [
    "grocery_prices.head()"
   ]
  },
  {
   "cell_type": "code",
   "execution_count": 10,
   "metadata": {},
   "outputs": [
    {
     "data": {
      "text/html": [
       "<div>\n",
       "<style scoped>\n",
       "    .dataframe tbody tr th:only-of-type {\n",
       "        vertical-align: middle;\n",
       "    }\n",
       "\n",
       "    .dataframe tbody tr th {\n",
       "        vertical-align: top;\n",
       "    }\n",
       "\n",
       "    .dataframe thead th {\n",
       "        text-align: right;\n",
       "    }\n",
       "</style>\n",
       "<table border=\"1\" class=\"dataframe\">\n",
       "  <thead>\n",
       "    <tr style=\"text-align: right;\">\n",
       "      <th></th>\n",
       "      <th>title</th>\n",
       "      <th>prep_time</th>\n",
       "      <th>cook_time</th>\n",
       "      <th>recipe_yield</th>\n",
       "      <th>tags</th>\n",
       "      <th>ingredients</th>\n",
       "      <th>entire_card</th>\n",
       "      <th>recipe_links</th>\n",
       "    </tr>\n",
       "  </thead>\n",
       "  <tbody>\n",
       "    <tr>\n",
       "      <th>0</th>\n",
       "      <td>Grilled Cheese BLT</td>\n",
       "      <td>10 minutes</td>\n",
       "      <td>10 minutes</td>\n",
       "      <td>4 sandwiches</td>\n",
       "      <td>'Dinner', 'Lunch', 'Sandwich', 'Favorite Summe...</td>\n",
       "      <td>['Ingredients', '8 slices sourdough bread', '4...</td>\n",
       "      <td>['\\n\\n                    ', '\\n              ...</td>\n",
       "      <td>https://www.simplyrecipes.com/recipes/grilled_...</td>\n",
       "    </tr>\n",
       "    <tr>\n",
       "      <th>1</th>\n",
       "      <td>Pulled Pork Sandwich</td>\n",
       "      <td>10 minutes</td>\n",
       "      <td>2 hours, 45 minutes</td>\n",
       "      <td>Serves 6 to 8</td>\n",
       "      <td>'Dinner', 'Sandwich', 'Budget', 'Comfort Food'...</td>\n",
       "      <td>['Ingredients', 'For the sauce:', '1 large oni...</td>\n",
       "      <td>['\\n\\n                    ', '\\n              ...</td>\n",
       "      <td>https://www.simplyrecipes.com/recipes/pulled_p...</td>\n",
       "    </tr>\n",
       "    <tr>\n",
       "      <th>2</th>\n",
       "      <td>How to Make Bacon in the Oven</td>\n",
       "      <td>5 minutes</td>\n",
       "      <td>20 minutes</td>\n",
       "      <td>12 strips</td>\n",
       "      <td>'Tips', 'Breakfast and Brunch', 'Baking', 'How...</td>\n",
       "      <td>['Ingredients', '12 strips bacon', '1/2 teaspo...</td>\n",
       "      <td>['\\n\\n                    ', '\\n              ...</td>\n",
       "      <td>https://www.simplyrecipes.com/recipes/how_to_m...</td>\n",
       "    </tr>\n",
       "    <tr>\n",
       "      <th>3</th>\n",
       "      <td>Sausage Stuffed Zucchini</td>\n",
       "      <td>15 minutes</td>\n",
       "      <td>1 hour</td>\n",
       "      <td>Serves 4</td>\n",
       "      <td>'Dinner', 'Favorite Summer', 'Make-ahead', 'It...</td>\n",
       "      <td>['Ingredients', '2 tablespoons extra virgin ol...</td>\n",
       "      <td>['\\n\\n                    ', '\\n              ...</td>\n",
       "      <td>https://www.simplyrecipes.com/recipes/italian_...</td>\n",
       "    </tr>\n",
       "    <tr>\n",
       "      <th>4</th>\n",
       "      <td>The Best Dry Rub for Ribs</td>\n",
       "      <td>5 minutes</td>\n",
       "      <td>NaN</td>\n",
       "      <td>NaN</td>\n",
       "      <td>'Favorite Fall', 'Favorite Summer', 'Game Day'...</td>\n",
       "      <td>['Ingredients', '3/4 cup packed dark brown sug...</td>\n",
       "      <td>['\\n\\n                    ', '\\n              ...</td>\n",
       "      <td>https://www.simplyrecipes.com/recipes/the_best...</td>\n",
       "    </tr>\n",
       "  </tbody>\n",
       "</table>\n",
       "</div>"
      ],
      "text/plain": [
       "                           title   prep_time            cook_time  \\\n",
       "0             Grilled Cheese BLT  10 minutes           10 minutes   \n",
       "1           Pulled Pork Sandwich  10 minutes  2 hours, 45 minutes   \n",
       "2  How to Make Bacon in the Oven   5 minutes           20 minutes   \n",
       "3       Sausage Stuffed Zucchini  15 minutes               1 hour   \n",
       "4      The Best Dry Rub for Ribs   5 minutes                  NaN   \n",
       "\n",
       "    recipe_yield                                               tags  \\\n",
       "0   4 sandwiches  'Dinner', 'Lunch', 'Sandwich', 'Favorite Summe...   \n",
       "1  Serves 6 to 8  'Dinner', 'Sandwich', 'Budget', 'Comfort Food'...   \n",
       "2      12 strips  'Tips', 'Breakfast and Brunch', 'Baking', 'How...   \n",
       "3       Serves 4  'Dinner', 'Favorite Summer', 'Make-ahead', 'It...   \n",
       "4            NaN  'Favorite Fall', 'Favorite Summer', 'Game Day'...   \n",
       "\n",
       "                                         ingredients  \\\n",
       "0  ['Ingredients', '8 slices sourdough bread', '4...   \n",
       "1  ['Ingredients', 'For the sauce:', '1 large oni...   \n",
       "2  ['Ingredients', '12 strips bacon', '1/2 teaspo...   \n",
       "3  ['Ingredients', '2 tablespoons extra virgin ol...   \n",
       "4  ['Ingredients', '3/4 cup packed dark brown sug...   \n",
       "\n",
       "                                         entire_card  \\\n",
       "0  ['\\n\\n                    ', '\\n              ...   \n",
       "1  ['\\n\\n                    ', '\\n              ...   \n",
       "2  ['\\n\\n                    ', '\\n              ...   \n",
       "3  ['\\n\\n                    ', '\\n              ...   \n",
       "4  ['\\n\\n                    ', '\\n              ...   \n",
       "\n",
       "                                        recipe_links  \n",
       "0  https://www.simplyrecipes.com/recipes/grilled_...  \n",
       "1  https://www.simplyrecipes.com/recipes/pulled_p...  \n",
       "2  https://www.simplyrecipes.com/recipes/how_to_m...  \n",
       "3  https://www.simplyrecipes.com/recipes/italian_...  \n",
       "4  https://www.simplyrecipes.com/recipes/the_best...  "
      ]
     },
     "execution_count": 10,
     "metadata": {},
     "output_type": "execute_result"
    }
   ],
   "source": [
    "recipes.head()"
   ]
  },
  {
   "cell_type": "markdown",
   "metadata": {},
   "source": [
    "## let's make dictionary of recipe and ingredients"
   ]
  },
  {
   "cell_type": "code",
   "execution_count": 11,
   "metadata": {},
   "outputs": [],
   "source": [
    "ingredients_lists = recipes.ingredients"
   ]
  },
  {
   "cell_type": "markdown",
   "metadata": {},
   "source": [
    "Let's isolate the actual ingredients"
   ]
  },
  {
   "cell_type": "code",
   "execution_count": 12,
   "metadata": {},
   "outputs": [],
   "source": [
    "ingredients_lists_new = []\n",
    "for element in ingredients_lists:\n",
    "    try:\n",
    "        ingredients_lists_new.append(re.search(\"\\'Ingredients\\', (.*)]\", element).group(1))\n",
    "    except:\n",
    "        pass\n",
    "        ingredients_lists_new.append(\"none\")"
   ]
  },
  {
   "cell_type": "markdown",
   "metadata": {},
   "source": [
    "Let's just grab the thing within quotes"
   ]
  },
  {
   "cell_type": "code",
   "execution_count": 13,
   "metadata": {},
   "outputs": [],
   "source": [
    "l = []\n",
    "for recipe in ingredients_lists_new:\n",
    "    try:\n",
    "        l.append(re.split(\"\\'(.*?)\\'\", recipe))\n",
    "    except:\n",
    "        pass\n",
    "        l.append(\"none\")"
   ]
  },
  {
   "cell_type": "markdown",
   "metadata": {},
   "source": [
    "Get's rid of quotes with just a comma"
   ]
  },
  {
   "cell_type": "code",
   "execution_count": 14,
   "metadata": {
    "scrolled": true
   },
   "outputs": [],
   "source": [
    "# Note, this line needs to be run three times. Fix this later.\n",
    "count = 0\n",
    "while count <= 3:\n",
    "    count = count + 1\n",
    "    for sub_list in l:\n",
    "        try:\n",
    "            for idx, element in enumerate(sub_list):\n",
    "                if element == \", \":\n",
    "                    sub_list.pop(idx)\n",
    "        except:\n",
    "            pass"
   ]
  },
  {
   "cell_type": "markdown",
   "metadata": {},
   "source": [
    "Gets ridd of quotes with lots of spaces"
   ]
  },
  {
   "cell_type": "code",
   "execution_count": 15,
   "metadata": {},
   "outputs": [],
   "source": [
    "# Note, this line needs to be run three times. Fix this later.\n",
    "count = 0\n",
    "while count <= 3:\n",
    "    count = count + 1\n",
    "    for sub_list in l:\n",
    "        try:\n",
    "            for idx, element in enumerate(sub_list):\n",
    "                if element == \"                                              \":\n",
    "                    sub_list.pop(idx)\n",
    "        except:\n",
    "            pass"
   ]
  },
  {
   "cell_type": "code",
   "execution_count": 16,
   "metadata": {},
   "outputs": [],
   "source": [
    "# Note, this line needs to be run three times. Fix this later.\n",
    "count = 0\n",
    "while count <= 3:\n",
    "    count = count + 1\n",
    "    for sub_list in l:\n",
    "        try:\n",
    "            for idx, element in enumerate(sub_list):\n",
    "                if element == \"\\ \":\n",
    "                    sub_list.pop(idx)\n",
    "        except:\n",
    "            pass"
   ]
  },
  {
   "cell_type": "code",
   "execution_count": 17,
   "metadata": {},
   "outputs": [],
   "source": [
    "for element in l:\n",
    "    try:\n",
    "        while(\"\" in element) : \n",
    "            element.remove(\"\")\n",
    "    except:\n",
    "        pass"
   ]
  },
  {
   "cell_type": "code",
   "execution_count": 18,
   "metadata": {},
   "outputs": [],
   "source": [
    "new_list = []\n",
    "for ingr_list in l:\n",
    "    ingr_list = [word.replace('\\\\\\\\xa0', ' ') for word in ingr_list]\n",
    "    new_list.append(ingr_list)"
   ]
  },
  {
   "cell_type": "code",
   "execution_count": 19,
   "metadata": {},
   "outputs": [],
   "source": [
    "final_list = []\n",
    "for il in new_list:\n",
    "    il = [word.replace('\\\\xa0', ' ') for word in il]\n",
    "    final_list.append(il)"
   ]
  },
  {
   "cell_type": "code",
   "execution_count": 20,
   "metadata": {},
   "outputs": [],
   "source": [
    "food_titles = list(recipes.title)"
   ]
  },
  {
   "cell_type": "code",
   "execution_count": 21,
   "metadata": {},
   "outputs": [],
   "source": [
    "food_titles_new = []\n",
    "new_list = []\n",
    "for title in food_titles:\n",
    "    try:\n",
    "        title = [word.replace('\\\\xa0', ' ') for word in title]\n",
    "        food_titles_new.append(title)\n",
    "    except:\n",
    "        food_titles_new.append('none')"
   ]
  },
  {
   "cell_type": "code",
   "execution_count": 22,
   "metadata": {},
   "outputs": [
    {
     "ename": "TypeError",
     "evalue": "unhashable type: 'list'",
     "output_type": "error",
     "traceback": [
      "\u001b[0;31m---------------------------------------------------------------------------\u001b[0m",
      "\u001b[0;31mTypeError\u001b[0m                                 Traceback (most recent call last)",
      "\u001b[0;32m<ipython-input-22-eed07198601c>\u001b[0m in \u001b[0;36m<module>\u001b[0;34m\u001b[0m\n\u001b[1;32m      1\u001b[0m \u001b[0mrecipe_dict\u001b[0m \u001b[0;34m=\u001b[0m \u001b[0mdict\u001b[0m\u001b[0;34m(\u001b[0m\u001b[0;34m)\u001b[0m\u001b[0;34m\u001b[0m\u001b[0;34m\u001b[0m\u001b[0m\n\u001b[1;32m      2\u001b[0m \u001b[0;32mfor\u001b[0m \u001b[0mtitle\u001b[0m\u001b[0;34m,\u001b[0m \u001b[0mrecipes\u001b[0m \u001b[0;32min\u001b[0m \u001b[0mzip\u001b[0m\u001b[0;34m(\u001b[0m\u001b[0mfood_titles_new\u001b[0m\u001b[0;34m,\u001b[0m \u001b[0mfinal_list\u001b[0m\u001b[0;34m)\u001b[0m\u001b[0;34m:\u001b[0m\u001b[0;34m\u001b[0m\u001b[0;34m\u001b[0m\u001b[0m\n\u001b[0;32m----> 3\u001b[0;31m     \u001b[0mrecipe_dict\u001b[0m\u001b[0;34m[\u001b[0m\u001b[0mtitle\u001b[0m\u001b[0;34m]\u001b[0m \u001b[0;34m=\u001b[0m \u001b[0mrecipes\u001b[0m\u001b[0;34m\u001b[0m\u001b[0;34m\u001b[0m\u001b[0m\n\u001b[0m",
      "\u001b[0;31mTypeError\u001b[0m: unhashable type: 'list'"
     ]
    }
   ],
   "source": [
    "recipe_dict = dict()\n",
    "for title, recipes in zip(food_titles_new, final_list):\n",
    "    recipe_dict[title] = recipes"
   ]
  },
  {
   "cell_type": "code",
   "execution_count": null,
   "metadata": {},
   "outputs": [],
   "source": [
    "recipe_dict"
   ]
  },
  {
   "cell_type": "code",
   "execution_count": null,
   "metadata": {},
   "outputs": [],
   "source": []
  }
 ],
 "metadata": {
  "kernelspec": {
   "display_name": "Python 3",
   "language": "python",
   "name": "python3"
  },
  "language_info": {
   "codemirror_mode": {
    "name": "ipython",
    "version": 3
   },
   "file_extension": ".py",
   "mimetype": "text/x-python",
   "name": "python",
   "nbconvert_exporter": "python",
   "pygments_lexer": "ipython3",
   "version": "3.7.1"
  },
  "toc": {
   "base_numbering": 1,
   "nav_menu": {},
   "number_sections": true,
   "sideBar": true,
   "skip_h1_title": false,
   "title_cell": "Table of Contents",
   "title_sidebar": "Contents",
   "toc_cell": false,
   "toc_position": {},
   "toc_section_display": true,
   "toc_window_display": false
  }
 },
 "nbformat": 4,
 "nbformat_minor": 2
}
